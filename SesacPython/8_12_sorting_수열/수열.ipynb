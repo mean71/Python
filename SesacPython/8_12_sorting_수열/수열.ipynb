{
 "cells": [
  {
   "cell_type": "markdown",
   "metadata": {},
   "source": [
    "수열과 수열의 일반항 구하기\n",
    "- a_n = a_{n-1} + q\n",
    "for i in range(n)\n",
    "- a_n = p*a_{n-1}\n",
    "def f(n):\n",
    "  f(n-1)\n",
    "  g operations?\n",
    "- a_n = p*a_{n-1} + q\n",
    "- a_n = p*a_{n-1} + q*a_{n-2}\n",
    "  a(n)= pa(n-1)+gA(n-2)\n",
    "  a(n)-Aa(n-1)=p(a(n-1)-Aa(n-2))\n",
    "  \n",
    "- a_n = p*a_{n/k} + qn\n"
   ]
  },
  {
   "cell_type": "code",
   "execution_count": 3,
   "metadata": {},
   "outputs": [
    {
     "name": "stdout",
     "output_type": "stream",
     "text": [
      "8\n",
      "[7]\n"
     ]
    }
   ],
   "source": [
    "def fb(n):\n",
    "   if n in [0, 1]: \n",
    "       return 1\n",
    "   else: \n",
    "       return fb(n-1) + fb(n-2)\n",
    "\n",
    "def fib(n):  # 아래가 더 빠르다\n",
    "   res = [1, 1]\n",
    "   if n < 2:\n",
    "       return 1\n",
    "   else:\n",
    "       for i in range(n - 2):\n",
    "           res.append([n - 1 + n - 2]) \n",
    "       return res[-1]\n",
    "print(fb(5))  # 재귀적으로 피보나치 수열 계산 (느림)\n",
    "print(fib(5))  # 반복문을 사용한 피보나치 수열 계산 (빠름)"
   ]
  },
  {
   "cell_type": "code",
   "execution_count": 4,
   "metadata": {},
   "outputs": [
    {
     "name": "stdout",
     "output_type": "stream",
     "text": [
      "1\n",
      "1\n",
      "2\n",
      "3\n",
      "5\n",
      "8\n",
      "13\n",
      "21\n",
      "34\n",
      "55\n",
      "89\n",
      "144\n",
      "233\n",
      "377\n",
      "610\n",
      "987\n",
      "1597\n",
      "2584\n",
      "4181\n",
      "6765\n",
      "10946\n",
      "17711\n",
      "28657\n",
      "46368\n",
      "75025\n",
      "121393\n",
      "196418\n",
      "317811\n",
      "514229\n",
      "832040\n",
      "1346269\n",
      "2178309\n",
      "3524578\n",
      "5702887\n",
      "9227465\n",
      "1 1\n",
      "1 1\n",
      "2 2\n",
      "3 3\n"
     ]
    }
   ],
   "source": [
    "def fib1(n):\n",
    "  if n < 2: return 1\n",
    "  else: return fib1(n-1) + fib1(n-2)\n",
    "\n",
    "def fib2(n):\n",
    "  res = [1,1]\n",
    "\n",
    "  if n < 2:\n",
    "    return 1\n",
    "  else:\n",
    "    for i in range(n-1):\n",
    "      res.append(res[-1] + res[-2])\n",
    "    return res[-1]\n",
    "if __name__ == '__main__':\n",
    "  from time import time\n",
    "\n",
    "  n = 35\n",
    "  begin = time()\n",
    "  for i in range(n):\n",
    "    print(fib1(i))\n",
    "  end = time()\n",
    "\n",
    "  fib1_time = end - begin\n",
    "  for i in range(4):\n",
    "    print(fib1(i),fib2(i))"
   ]
  },
  {
   "cell_type": "markdown",
   "metadata": {},
   "source": [
    "1024= 2^10\n",
    "log(2)1024=10\n",
    "log(10)1000=3"
   ]
  }
 ],
 "metadata": {
  "kernelspec": {
   "display_name": "Python 3",
   "language": "python",
   "name": "python3"
  },
  "language_info": {
   "codemirror_mode": {
    "name": "ipython",
    "version": 3
   },
   "file_extension": ".py",
   "mimetype": "text/x-python",
   "name": "python",
   "nbconvert_exporter": "python",
   "pygments_lexer": "ipython3",
   "version": "3.12.4"
  }
 },
 "nbformat": 4,
 "nbformat_minor": 2
}
