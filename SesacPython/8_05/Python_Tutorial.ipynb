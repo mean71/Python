{
 "cells": [
  {
   "cell_type": "code",
   "execution_count": 24,
   "metadata": {},
   "outputs": [
    {
     "name": "stdout",
     "output_type": "stream",
     "text": [
      "Hello World!\n"
     ]
    }
   ],
   "source": [
    "print('Hello World!')\n",
    "# Implementation(구현)32:"
   ]
  },
  {
   "cell_type": "code",
   "execution_count": 25,
   "metadata": {},
   "outputs": [
    {
     "name": "stdout",
     "output_type": "stream",
     "text": [
      "hello world\n"
     ]
    }
   ],
   "source": [
    "a = 'hello world'\n",
    "print(a)\n",
    "# Implementation(구현)33:"
   ]
  },
  {
   "cell_type": "code",
   "execution_count": 26,
   "metadata": {},
   "outputs": [
    {
     "name": "stdout",
     "output_type": "stream",
     "text": [
      "1\n",
      "[2, 3]\n"
     ]
    }
   ],
   "source": [
    "a = [1,2,3,4]\n",
    "print(a[0])\n",
    "print(a[1:3])\n",
    "# Implementation(구현)34:"
   ]
  },
  {
   "cell_type": "code",
   "execution_count": 27,
   "metadata": {},
   "outputs": [
    {
     "name": "stdout",
     "output_type": "stream",
     "text": [
      "2\n",
      "9\n",
      "1 2\n",
      "3 4\n",
      "4 5\n",
      "5 3\n"
     ]
    }
   ],
   "source": [
    "a = {1:2, 3:4, 4:5}\n",
    "print(a[1])\n",
    "# print(a[1:3])\n",
    "print(a[3] + a[4])\n",
    "a[5] = 3\n",
    "for k,v in a.items():\n",
    "  print(k,v)\n",
    "# Implementation(구현)35:"
   ]
  },
  {
   "cell_type": "code",
   "execution_count": 30,
   "metadata": {},
   "outputs": [
    {
     "ename": "KeyError",
     "evalue": "'1'",
     "output_type": "error",
     "traceback": [
      "\u001b[1;31m---------------------------------------------------------------------------\u001b[0m",
      "\u001b[1;31mKeyError\u001b[0m                                  Traceback (most recent call last)",
      "Cell \u001b[1;32mIn[30], line 18\u001b[0m\n\u001b[0;32m     16\u001b[0m   \u001b[38;5;28;01melse\u001b[39;00m:\n\u001b[0;32m     17\u001b[0m     ans_1 \u001b[38;5;241m+\u001b[39m\u001b[38;5;241m=\u001b[39m c\n\u001b[1;32m---> 18\u001b[0m     ans_2 \u001b[38;5;241m+\u001b[39m\u001b[38;5;241m=\u001b[39m \u001b[43mlower_to_upper\u001b[49m\u001b[43m[\u001b[49m\u001b[43mc\u001b[49m\u001b[43m]\u001b[49m\n\u001b[0;32m     19\u001b[0m \u001b[38;5;66;03m# Implementation(구현)36:\u001b[39;00m\n",
      "\u001b[1;31mKeyError\u001b[0m: '1'"
     ]
    }
   ],
   "source": [
    "all_smallcase_letters = 'abcdefghijklmnopqrstuvwxyz'\n",
    "\n",
    "upper_to_lower, lower_to_upper = {},{}\n",
    "for c in all_smallcase_letters:\n",
    "  upper_to_lower[c.upper()] = c\n",
    "  lower_to_upper[c] = c.upper()\n",
    "\n",
    "a = 'absdf123SAFDSDF'\n",
    "\n",
    "ans_1 = ''\n",
    "ans_2 = ''\n",
    "for c in a:\n",
    "  if c in upper_to_lower:\n",
    "    ans_1 += upper_to_lower[c]\n",
    "    ans_2 += c\n",
    "  else:\n",
    "    ans_1 += c\n",
    "    ans_2 += lower_to_upper[c]\n",
    "# Implementation(구현)36:"
   ]
  },
  {
   "cell_type": "code",
   "execution_count": null,
   "metadata": {},
   "outputs": [],
   "source": [
    "def hello(hello_to):\n",
    "  return 'hello' + hello_to\n",
    "\n",
    "hello('world')\n",
    "print(hello('world'))\n",
    "# Implementation(구현)37:"
   ]
  },
  {
   "cell_type": "code",
   "execution_count": null,
   "metadata": {},
   "outputs": [],
   "source": [
    "def hello(hello_to):\n",
    "  return 'hello' + hello_to\n",
    "\n",
    "hello('world')\n",
    "print(hello('world'))\n",
    "# Implementation(구현)38:"
   ]
  },
  {
   "cell_type": "code",
   "execution_count": null,
   "metadata": {},
   "outputs": [],
   "source": [
    "def fib(n):\n",
    "  if n == 0:\n",
    "    return 1\n",
    "  elif n== 1:\n",
    "    return 1\n",
    "  return fib(n-1) + fib(n-2)\n",
    "\n",
    "fib(4)\n",
    "# Implementation(구현)39:"
   ]
  },
  {
   "cell_type": "code",
   "execution_count": null,
   "metadata": {},
   "outputs": [],
   "source": [
    "def product(a,b):\n",
    "  for i in a:\n",
    "    for j in b:\n",
    "      print(i,j)\n",
    "      if i+j == 10:\n",
    "        return 0\n",
    "\n",
    "print(product([1,2,3], {4:5, 6:7, 8:9}))\n",
    "# Implementation(구현)40:"
   ]
  },
  {
   "cell_type": "code",
   "execution_count": null,
   "metadata": {},
   "outputs": [],
   "source": [
    "def product(a,b):\n",
    "  res = []\n",
    "  for i in a:\n",
    "    for j in b:\n",
    "      res.append((i,j))\n",
    "  \n",
    "  return res\n",
    "# Implementation(구현)41:\n",
    "print(product([1,2,3,4],['a','b','c','d'])) #TestPrint"
   ]
  },
  {
   "cell_type": "code",
   "execution_count": null,
   "metadata": {},
   "outputs": [],
   "source": [
    "import my_itertools\n",
    "\n",
    "lst = my_itertools.product([1,2,3], [4,5,6])\n",
    "print(len(lst))\n",
    "# Implementation(구현)42:"
   ]
  },
  {
   "cell_type": "markdown",
   "metadata": {},
   "source": [
    "# 7/19 쪼개볼 함수"
   ]
  },
  {
   "cell_type": "code",
   "execution_count": 1,
   "metadata": {},
   "outputs": [],
   "source": [
    "def generate_testcases(n, min_length = 10, max_length = 100):\n",
    "    res = []\n",
    "    \n",
    "    for l in range(min_length, max_length + 1):\n",
    "        for _ in range(n):\n",
    "            res.append(generate_text(l))\n",
    "\n",
    "    if not os.path.exists(testcase_dir):\n",
    "        os.makedirs(testcase_dir)\n",
    "    \n",
    "    for idx, elem in enumerate(res):\n",
    "        f = open(f'./{testcase_dir}/testcase{idx}.para', 'w+')\n",
    "        f.write(elem)\n",
    "        f.close()\n",
    "\n",
    "    return res "
   ]
  },
  {
   "cell_type": "code",
   "execution_count": null,
   "metadata": {},
   "outputs": [],
   "source": [
    "def fib(n):\n",
    "    if n == 0:\n",
    "        return 1 \n",
    "    elif n == 1:\n",
    "        return 1 \n",
    "    else:\n",
    "        return fib(n-1) + fib(n-2)\n",
    "\n",
    "fib(4)"
   ]
  }
 ],
 "metadata": {
  "kernelspec": {
   "display_name": "Python 3",
   "language": "python",
   "name": "python3"
  },
  "language_info": {
   "codemirror_mode": {
    "name": "ipython",
    "version": 3
   },
   "file_extension": ".py",
   "mimetype": "text/x-python",
   "name": "python",
   "nbconvert_exporter": "python",
   "pygments_lexer": "ipython3",
   "version": "3.12.4"
  }
 },
 "nbformat": 4,
 "nbformat_minor": 2
}
