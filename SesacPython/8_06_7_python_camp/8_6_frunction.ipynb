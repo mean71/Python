{
 "cells": [
  {
   "cell_type": "markdown",
   "metadata": {},
   "source": [
    "# function_concept"
   ]
  },
  {
   "cell_type": "code",
   "execution_count": 15,
   "metadata": {},
   "outputs": [
    {
     "name": "stdout",
     "output_type": "stream",
     "text": [
      "3.14\n",
      "left_append: [3.141592653589793, 1, 2, 3, 4] , left_extend: [4, 3, 2, 1, 3.141592653589793, 3.141592653589793, 1, 2, 3, 4]\n",
      "0\n",
      "1\n",
      "2\n",
      "3\n",
      "4\n",
      "5\n",
      "6\n",
      "7\n",
      "8\n",
      "9\n"
     ]
    }
   ],
   "source": [
    "import math\n",
    "# --------------------------------------------\n",
    "# 1. 함수의 다양한 입력들 살펴보기 \n",
    "# 1) input이 없는 함수 \n",
    "# 2) input이 여러 개 있는 함수 \n",
    "# 3) input이 정해지지 않은 갯수만큼 있는 함수 \n",
    "# --------------------------------------------\n",
    "def pi():\n",
    "    return f'{math.pi:.2f}'\n",
    "\"\"\"원주율을 소숫점 두 자리까지 반환하는 함수\"\"\"\n",
    "def left_append(lst, elem):\n",
    "    lst.insert(0,elem)\n",
    "    return lst\n",
    "\"\"\"lst의 왼쪽에 elem을 넣고, lst를 반환하는 함수\"\"\"\n",
    "def left_extend(lst, *elem):\n",
    "    [lst.insert(0,x) for x in elem]\n",
    "    return lst\n",
    "\"\"\"lst의 왼쪽에 정해지지 않은 갯수의 elem을 넣고 lst를 반환하는 함수 \"\"\"\n",
    "print(pi())\n",
    "lst=[1,2,3,4]\n",
    "print(f'left_append: {left_append(lst, math.pi)} , left_extend: {left_extend(lst, *lst)}')\n",
    "# --------------------------------------------\n",
    "# 2. 함수의 call stack 알아보기 \n",
    "# 1) 아래 함수 b()를 실행할 때, 실행된 함수의 순서는?\n",
    "# --------------------------------------------\n",
    "def a():\n",
    "    return pi()\n",
    "def b():\n",
    "    return a()\n",
    "'''  b() >> a() >> pi() >> f'{math.pi:.2f}' '''\n",
    "# --------------------------------------------\n",
    "# 2) 아래 함수 c()를 실행할 때, 실행된 함수의 순서와 각 함수의 input은? \n",
    "# --------------------------------------------\n",
    "def c(lst):\n",
    "    print(lst[0])\n",
    "    return c(lst[1:]) \n",
    "try:\n",
    "    print(c([i for i in range(10)]))\n",
    "except:\n",
    "    pass\n",
    "# c(lst) 호출 -> print(lst[0]) -> c(lst[1:]) 호출 -> print(lst[0]) -> c(lst[1:]) 호출 -> try: except: pass"
   ]
  },
  {
   "cell_type": "markdown",
   "metadata": {},
   "source": [
    "# function_practice.py"
   ]
  },
  {
   "cell_type": "code",
   "execution_count": 1,
   "metadata": {},
   "outputs": [
    {
     "name": "stdout",
     "output_type": "stream",
     "text": [
      "[40, 47, 25, 17, 44, 10, 43, 21, 39, 13, 6, 43, 6, 48, 45, 27, 23, 9, 33, 37, 28, 17]\n"
     ]
    }
   ],
   "source": [
    "import random\n",
    "lst=[random.randint(0,50) for a in range(random.randint(20,25))]\n",
    "print(lst)"
   ]
  },
  {
   "cell_type": "code",
   "execution_count": null,
   "metadata": {},
   "outputs": [],
   "source": [
    "# function_practice.py\n",
    "# --------------------------------------------\n",
    "# 1. max / min 구현하기 \n",
    "# cmp라는 함수를 이용한 min/max 구현하기. \n",
    "# cmp는 두 원소 중 더 큰 것을 반환하는 함수. \n",
    "# --------------------------------------------\n",
    "def my_max(lst, cmp = lambda x, y: x if x >= y else y):\n",
    "  lst=list(set(lst))\n",
    "  MAX=lst[0]\n",
    "  for i in range(1,len(lst)):\n",
    "    if i < len(lst)-1:\n",
    "      MAX = cmp(MAX,lst[i])\n",
    "  return MAX\n",
    "def my_min(lst, cmp = lambda x, y: x if x >= y else y):\n",
    "  lst=list(set(lst))\n",
    "  MIN=lst[0]\n",
    "  for i in range(1,len(lst)):\n",
    "      if MIN == cmp(MIN,lst[i]):\n",
    "        MIN = lst[i]\n",
    "  return MIN\n",
    "\n",
    "print(my_max(lst))\n",
    "print(my_min(lst))"
   ]
  },
  {
   "cell_type": "code",
   "execution_count": null,
   "metadata": {},
   "outputs": [],
   "source": [
    "# function_practice.py\n",
    "# --------------------------------------------\n",
    "# 2. sort 구현하기\n",
    "# 1) 그냥 순서대로 오름차순으로 정렬하기\n",
    "# 2) 오름차순, 내림차순으로 정렬하기\n",
    "# 3) 주어진 기준 cmp에 맞춰서 오름차순, 내림차순으로 정렬하기\n",
    "# 4) 주어진 기준 cmp가 큰 element를 출력하거나, 같다는 결과를 출력하게 만들기\n",
    "# 5) cmp상 같은 경우 tie-breaking하는 함수 넣기\n",
    "# --------------------------------------------\n",
    "def sort3(lst, upper_to_lower = True, cmp = lambda x, y: x if x >= y else y):\n",
    "    while True:\n",
    "        good = True\n",
    "        for i in range(1, len(lst)):\n",
    "          if lst[i] != cmp(lst[i], lst[i-1]):\n",
    "            lst[i], lst[i-1] = lst[i-1], lst[i]\n",
    "            good = False\n",
    "        if good:\n",
    "            break\n",
    "    if not upper_to_lower:\n",
    "        for x in range(len(lst)-1,-1,-1):\n",
    "            lst.append(lst.pop(x))\n",
    "    return lst\n",
    "sort3([1,3,4,2,4,5,1,34,456],False)\n",
    "def sort4(lst, upper_to_lower = True, cmp = lambda x, y: x if x >= y else y):\n",
    "  \n",
    "  pass\n",
    "def sort5(lst, upper_to_lower = True, cmp = lambda x, y: x if x >= y else y, tie_breaker = lambda x, y: random.choice([x,y])):\n",
    "\n",
    "  pass\n",
    "\n",
    "print('sort1(lst)',sort1(lst))\n",
    "print('sort2(lst)',sort2(lst))\n",
    "print('sort2(lst, False)',sort2(lst, False))\n",
    "print('sort3(lst, True)',sort3(lst, True))\n",
    "print('sort3(lst, False)',sort3(lst, False))\n",
    "print('sort4(lst, False)',sort4(lst, False))\n",
    "print('sort5(lst, )',sort5(lst, ))"
   ]
  },
  {
   "cell_type": "code",
   "execution_count": null,
   "metadata": {},
   "outputs": [],
   "source": [
    "# --------------------------------------------\n",
    "# os_file_concept.py 해보고 올 것\n",
    "# --------------------------------------------\n",
    "\n",
    "# --------------------------------------------\n",
    "# 3. safe pickle load/dump 만들기\n",
    "# 일반적으로 pickle.load를 하면 무조건 파일을 읽어와야 하고, dump는 써야하는데 반대로 하면 굉장히 피곤해진다.\n",
    "# 이런 부분에서 pickle.load와 pickle.dump를 대체하는 함수 safe_load, safe_dump를 짜 볼 것.\n",
    "# hint. 말만 어렵고 문제 자체는 정말 쉬운 함수임.\n",
    "# --------------------------------------------\n",
    "def safe_load(pickle_path):\n",
    "    pass\n",
    "\n",
    "def safe_dump(pickle_path):\n",
    "    pass\n",
    "# --------------------------------------------\n",
    "# 4. 합성함수 (추후 decorator)\n",
    "# 1) 만약 result.txt 파일이 없다면, 함수의 리턴값을 result.txt 파일에 출력하고, 만약 있다면 파일 내용을 읽어서\n",
    "#    '함수를 실행하지 않고' 리턴하게 하는 함수 cache_to_txt를 만들 것. txt 파일은 pickle_cache 폴더 밑에 만들 것.\n",
    "# 2) 함수의 실행값을 input에 따라 pickle에 저장하고, 있다면 pickle.load를 통해 읽어오고 없다면\n",
    "#    실행 후 pickle.dump를 통해 저장하게 하는 함수 cache_to_pickle을 만들 것. pickle 파일은 pickle_cache 폴더 밑에 만들 것.\n",
    "# 3) 함수의 실행값을 함수의 이름과 input에 따라 pickle에 저장하고, 2)와 비슷하게 진행할 것. pickle 파일은 pickle_cache 폴더 밑에, 각 함수의 이름을 따서 만들 것\n",
    "# --------------------------------------------\n",
    "def cache_to_txt(function):\n",
    "    pass\n",
    "\n",
    "def cache_to_pickle(function):\n",
    "    pass"
   ]
  },
  {
   "cell_type": "code",
   "execution_count": null,
   "metadata": {},
   "outputs": [],
   "source": [
    "a= ['s','d','f','D','S','F','1','2','3','2','4','1','4','1','2','3','1','s','D','F']\n",
    "a.sort()\n",
    "print(a)\n",
    "print(''.join(a))\n",
    "\n",
    "if 'a' < 'B': print('B')\n",
    "elif 'a' > 'B': print('a')\n"
   ]
  },
  {
   "cell_type": "code",
   "execution_count": null,
   "metadata": {},
   "outputs": [],
   "source": [
    "c=['a','b']\n",
    "print(c.sort())\n",
    "d=c.sort()\n",
    "print(d)"
   ]
  },
  {
   "cell_type": "code",
   "execution_count": null,
   "metadata": {},
   "outputs": [],
   "source": [
    "i=0\n",
    "lst.insert(i-1, lst.pop(i)) \n",
    "\n",
    "for i in range(len(lst)-1,0,-1):\t\n",
    "    if lst[i]<lst[i-1]:\n",
    "        lst.insert(i-1, lst.pop(i))"
   ]
  },
  {
   "cell_type": "code",
   "execution_count": null,
   "metadata": {},
   "outputs": [],
   "source": [
    "def sort1(lst):\n",
    "    for i in range(len(lst)):\n",
    "        for j in range(i+1,len(lst)):\n",
    "            if lst[i] >= lst[j]:\n",
    "                lst[i],lst[j] = lst[j],lst[i]\n",
    "    return lst\n",
    "print(sort1([1,3,6,7,9,0,12,55,33,63,87]))"
   ]
  },
  {
   "cell_type": "code",
   "execution_count": null,
   "metadata": {},
   "outputs": [],
   "source": [
    "def my_max(lst, cmp = lambda x, y: x):\n",
    "    val = lst[0]\n",
    "    for i in lst[1:]:\n",
    "        val = cmp(val,i)\n",
    "    return val\n",
    "print(my_max([[1,2],[1,3],[1,4],[2,2],[5,3]],cmp = lambda x, y: x if sum(x)>sum(y) else y))"
   ]
  }
 ],
 "metadata": {
  "kernelspec": {
   "display_name": "Python 3",
   "language": "python",
   "name": "python3"
  },
  "language_info": {
   "codemirror_mode": {
    "name": "ipython",
    "version": 3
   },
   "file_extension": ".py",
   "mimetype": "text/x-python",
   "name": "python",
   "nbconvert_exporter": "python",
   "pygments_lexer": "ipython3",
   "version": "3.11.8"
  }
 },
 "nbformat": 4,
 "nbformat_minor": 2
}
