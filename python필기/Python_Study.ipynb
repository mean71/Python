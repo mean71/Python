{
 "cells": [
  {
   "cell_type": "markdown",
   "metadata": {
    "id": "sedXUcvoHasX"
   },
   "source": [
    "---\n",
    "# + 메모장"
   ]
  },
  {
   "cell_type": "markdown",
   "metadata": {
    "id": "7sPF9MhjiWxE"
   },
   "source": [
    "## 1) 참조"
   ]
  },
  {
   "cell_type": "markdown",
   "metadata": {
    "id": "TM723fIgH7Xm"
   },
   "source": [
    "## 2) 메모"
   ]
  },
  {
   "cell_type": "markdown",
   "metadata": {
    "id": "94TQ3soKITQ0"
   },
   "source": [
    "pdf P64\n",
    "\n",
    "any(), all(), filter(), next(), yield\n",
    "\n",
    "+파이썬IDE(통합개발환경)(pdf P14)\n",
    "\n",
    "포메팅 형식지정자 규칙 :[채움 문자][정렬][기호][#][0][너비][,][.정밀도][타입]  \n",
    "파싱이란?  \n",
    "print(\\  # '\\'는 줄바꿈을 무시하고 코드가 한줄로 작동하도록한다.  \n",
    "  'asdf'  \n",
    ")\n",
    "with open 응용과 인수외우기\n",
    "정규표현식 추출, 전처리와 응용\n",
    "swap  \n",
    "바다코끼리 연산자 :=  \n",
    "for k in[*open(0)][1:]:print(k[0]+k[-2]) #해석과 이해 필요  \n",
    "콜스택 파이썬  \n",
    "인터렉트 파이썬  \n",
    "devops란  \n",
    "백트레이스  \n",
    "셀룰러 오토마타  \n",
    "함수형 패러다임 (mapping, filter, apply, lambda, 클로쳐 등)\n",
    "str.replace('a','b',1).replace('b','a',1) 여러가지의 문자열 반복 치환가능  "
   ]
  },
  {
   "cell_type": "code",
   "execution_count": null,
   "metadata": {
    "id": "syx4y4EUVqTt"
   },
   "outputs": [],
   "source": [
    "print(f'{i}x{j}={i*j}\\n' for i in range(2, 10, 1) for j in range(1, 10 ,1)) # me"
   ]
  },
  {
   "cell_type": "code",
   "execution_count": null,
   "metadata": {
    "id": "HLJjZwOQXe-M"
   },
   "outputs": [],
   "source": [
    "for i in range(2, 10): [print(f'{i}x{j}={i*j}', end='\\n') for j in range(1, 10)] # 뤼튼"
   ]
  },
  {
   "cell_type": "code",
   "execution_count": null,
   "metadata": {
    "id": "88W4urnvZIuU"
   },
   "outputs": [],
   "source": [
    "n=5\n",
    "for i in range(n): [print(' ',end='') for j in range(n - i -1):] [print('*', end='') for j in range(2*i+1):] print()\n",
    "n = 5; [print(' ' * (n - i - 1) + '*' * (2 * i + 1)) for i in range(n)] # 위는 내것 아래는 뤼튼"
   ]
  },
  {
   "cell_type": "code",
   "execution_count": null,
   "metadata": {
    "colab": {
     "base_uri": "https://localhost:8080/",
     "height": 112
    },
    "executionInfo": {
     "elapsed": 348,
     "status": "error",
     "timestamp": 1720956451740,
     "user": {
      "displayName": "감수",
      "userId": "03564591016025165141"
     },
     "user_tz": -540
    },
    "id": "TsjQX12U8ndp",
    "outputId": "41d8b0cf-f706-4b8f-e781-207726deefc9"
   },
   "outputs": [],
   "source": [
    "def print_args(**kargs):\n",
    "  for a,b in kargs.items():\n",
    "    print(f'{a}:{b}')\n",
    "print_args(a=1,b=2,c=3)\n",
    "print_args(same='n',e='ㅋ',f=1.3)"
   ]
  },
  {
   "cell_type": "markdown",
   "metadata": {
    "id": "UEArMSmDHPtE"
   },
   "source": [
    "## 3) 교육일정"
   ]
  },
  {
   "cell_type": "markdown",
   "metadata": {
    "id": "iN7o_XQYv4Za"
   },
   "source": [
    "(박준오 강사님)파이썬 기초  \n",
    "7/1 : 설치,변수(문법)(예제)print/input/int/str/turtle fraphics/IDE  \n",
    "7/2 : 연산자(논리/산술/비교/복합할당)(문법)(예제,심화예제)/colab  \n",
    "7/3 : 제어문(if/else/elif/for/while/break/continue)  \n",
    "7/4 : 함수(로컬/글로벌)(parameter/argument/return/positrional/keyword, lambda) 문법,예제,예제  \n",
    "7/5 : 자료형(list/range/리스트 컴프리헨션/슬라이싱) 문법 예제 심화  \n",
    "7/8 : 자료형2(딕셔너리/튜플/집합/mutable(가변)/immutable(불변)) 동일  \n",
    "7/9 : 정규표현식(str/datetime)(클래스/객체/인스턴스) 문법 예제/VScode  \n",
    "7/10 : Pandas(Series/DataFrame/정렬/추출/병합) 문법 예제 심화  \n",
    "7/11 : 시각화(matplotlib/seaborn) 문법 예제 심화  \n",
    "7/12 : 파일 입출력(with/csv/json)사용빈도 높은 메서드/모듈(enumerate/format/f-string/zip/map/reduce/Numpy모듈) 문법 예제  \n",
    "  \n",
    "(신승우 강사님) 파이썬 <<<심화>>>  \n",
    "7/15월 : 괄호 짝맞추기 테스트코드 해석하고 함수완성시키기(극악)  \n",
    "7/16화 : 틱택토 class Noneclass  \n",
    "7/17수 : finder  \n",
    "7/18목 : with, text  \n",
    "\n",
    "7/19금 : 특강(?)  \n",
    "  \n",
    "(정수아 강사님)  \n",
    "7/22월-7/25?목 : SQL  \n",
    "7/22월 : 자료구조 및 문제풀이  \n",
    "7/26금,7/29월 : GIT  \n",
    "  \n",
    "7/30화 : 인공지능 특강  \n",
    "7/31수 : 취업특강  \n",
    "\n",
    "(신승우 강사님)\n",
    "8/1목-8/6- : 클린코드  \n",
    "8/23 : 알고리즘  \n",
    "8/24 : 알고리즘  \n",
    "8/25 : 알고리즘  \n",
    "\n",
    "8/26월 : 특강  \n",
    "8/27화 : 취업특강  \n",
    "\n",
    "(김남범 교수님) 수학(matplotlib)\n",
    "8/28수 : ()\n",
    "8/29목 : ()\n",
    "8/30금 : ()\n",
    "9/2월 : ()\n",
    "\n",
    "\n",
    "8/30-9-12 10.머닝러신프로젝트  \n",
    "9/5목 : 커리어멘토링 (커리어스파트너)  \n",
    "9/6금-9/12목 : 머신러닝 (김남범강사님)  \n",
    "9/13금-9/20금 : 웹서비스구조파악/크롤링 (신승우강사님)  \n",
    "9/23월,9/24화 : 인공지능 특강  \n",
    "9/25수-10/11금 : 딥러닝 (신승우강사님)  \n",
    "10/14월-10/30수 : 파이토치 (신승우강사님)  \n",
    "10/31목-11/31 : ?  \n",
    "\n",
    "\n",
    "\n",
    "\n",
    "\n",
    "\n",
    "1. Python\n",
    " 소개, 설치\n",
    " 기초, 데이터와 변수\n",
    " 연산자,조건문,반복문12\n",
    " 중급, 함수,모듈, 클래스, 예외처리12 , 텍스트파일12\n",
    "1. 태블로 : 데이터분석 및 시각화 서비스 제공 툴, 직관적이고 빠른 처리속도 엑셀보다 나은 비주얼화, 타 분석툴보다 쉬운 분석과정, 유연한 결과공유\n",
    " 개요,기초, 중급12\n",
    "1. 알고리즘With Python\n",
    " 자료구조, 알고리즘\n",
    "1. EDA&웹크롤링&Python 프로그래밍 : EDA(Exploratory Data Analysis, 탐색적 데이터 분석)\n",
    " 설치및 환경설정, 웹데이터 분석(유가, 시계열, 인구분석)1-4\n",
    " Naver API 1-3\n",
    "1. SQL\n",
    " SQL 문법연습1-6, 심화프로젝트12\n",
    "1. Git\n",
    " Git실무1234\n",
    "1. 통계\n",
    " 통계학과 빅데이터, 데이터의 이해(표와 그래프), 통계이론, 머신러닝 알고리즘과 실제활용소개\n",
    "1. 취업멘토링\n",
    "2. 인공지능기초수학\n",
    " 인공지능을 위한 기초수학&미분, 선형대수학&확률과통계\n",
    "1.  머신러닝프로젝트1-10\n",
    "2.  취업멘토링12\n",
    "3.  TensorFlow / PyTorch\n",
    " 프레임워크1-5\n",
    "1.  딥러닝프로젝트1-8\n",
    "2.  취업멘토링\n",
    "3.  OpenCV\n",
    " CNN1-3, AdvancedCNN1-3, 이미지&영상처리위한 딥러닝프로젝트1-3\n",
    "1.  GPT\n",
    " RNN/LSTM, Seq2Seq/Transformer/BERT 1-2, Chat GPT,  Open AI API/LLM(RAG,랭체인)1,2 , 자연어처리를 위한 딥러닝 프로젝트 1-3\n",
    " GPT/자연어 처리를 위한 딥러닝 프로젝트\n",
    "RNN/LSTM\n",
    "Seq2Seq / Tranformer / BERT\n",
    "GPT(Chat GPT)\n",
    "Open AI API / LLM(RAG-검색증강생성, 랭체인)\n",
    "\n",
    "1.  파이널 프로젝트1-17\n",
    "아키텍처 :\n",
    "딥러닝 CNN 볼루션신경망\n",
    "RNN순환신경망 택스트분류\n",
    "CNN합성곱신경망 이미지식별 및 분류\n"
   ]
  },
  {
   "cell_type": "markdown",
   "metadata": {},
   "source": [
    "---\n",
    "# - 목차\n",
    "---"
   ]
  },
  {
   "cell_type": "markdown",
   "metadata": {},
   "source": [
    "1. 기본 문법  \n",
    "- -- 1: 파이썬의 기초\n",
    "  - --- 1: 파이썬 소개\n",
    "  - --- 2: 설치 및 실행 환경 설정\n",
    "  - --- 3: 기본 문법 요소\n",
    "    1. 들여쓰기\n",
    "    2. 주석\n",
    "    3. 세미콜론\n",
    "- -- 2: 변수와 자료형\n",
    "  - --- 1: 기본 자료형\n",
    "    1. 숫자형\n",
    "    2. 문자열\n",
    "    3. 불리언\n",
    "  - --- 2: 변수와 상수\n",
    "  - --- 3: 자료형 변환\n",
    "\n",
    "++++ 2: 자료형\n",
    "- -- 1: 리스트\n",
    "  - --- 1: 리스트의 정의와 사용법\n",
    "  - --- 2: 리스트 메서드\n",
    "  - --- 3: 리스트 컴프리헨션\n",
    "- -- 2: 튜플\n",
    "  - --- 1: 튜플의 정의와 사용법\n",
    "  - --- 2: 튜플 메서드\n",
    "- -- 3: 세트\n",
    "  - --- 1: 세트의 정의와 사용법\n",
    "  - --- 2: 세트 메서드\n",
    "- -- 4: 딕셔너리\n",
    "  - --- 1: 딕셔너리의 정의와 사용법\n",
    "  - --- 2: 딕셔너리 메서드\n",
    "\n",
    "++++ 3: 제어문\n",
    "- -- 1: 조건문\n",
    "  - --- 1: if 문\n",
    "  - --- 2: else 문\n",
    "  - --- 3: elif 문\n",
    "- -- 2: 반복문\n",
    "  - --- 1: for 문\n",
    "  - --- 2: while 문\n",
    "- -- 3: 반복 제어문\n",
    "  - --- 1: break 문\n",
    "  - --- 2: continue 문\n",
    "  - --- 3: pass 문\n",
    "\n",
    "++++ 4: 함수\n",
    "- -- 1: 함수 정의와 호출\n",
    "  - --- 1: 함수 정의\n",
    "  - --- 2: 함수 호출\n",
    "  - --- 3: 매개변수와 인자\n",
    "- -- 2: 내장 함수\n",
    "  - --- 1: 주요 내장 함수\n",
    "  - --- 2: 사용자 정의 함수\n",
    "\n",
    "++++ 5: 모듈과 패키지\n",
    "- -- 1: 모듈\n",
    "  - --- 1: 모듈의 정의\n",
    "  - --- 2: 모듈 가져오기 (`import`)\n",
    "- -- 2: 패키지\n",
    "  - --- 1: 패키지의 구조\n",
    "  - --- 2: 패키지 설치 및 관리 (`pip`)\n",
    "\n",
    "++++ 6: 객체 지향 프로그래밍 (OOP)\n",
    "- -- 1: 클래스와 객체\n",
    "  - --- 1: 클래스 정의\n",
    "  - --- 2: 객체 생성\n",
    "- -- 2: 클래스 구성 요소\n",
    "  - --- 1: 클래스 변수와 인스턴스 변수\n",
    "  - --- 2: 메서드\n",
    "- -- 3: 상속과 다형성\n",
    "  - --- 1: 상속\n",
    "  - --- 2: 다형성\n",
    "\n",
    "++++ 7: 예외 처리\n",
    "- -- 1: 예외의 개념\n",
    "- -- 2: 예외 처리 구문\n",
    "  - --- 1: try 문\n",
    "  - --- 2: except 문\n",
    "  - --- 3: finally 문\n",
    "\n",
    "++++ 8: 파일 입출력\n",
    "- -- 1: 파일 읽기\n",
    "- -- 2: 파일 쓰기\n",
    "- -- 3: 파일 모드와 파일 객체\n",
    "\n",
    "++++ 9: 고급 주제\n",
    "- -- 1: 데코레이터\n",
    "- -- 2: 제너레이터\n",
    "- -- 3: 컨텍스트 매니저\n",
    "\n",
    "++++ 10: 알고리즘과 자료구조\n",
    "- -- 1: 알고리즘 개요\n",
    "  - --- 1: 알고리즘의 정의\n",
    "  - --- 2: 알고리즘 분석\n",
    "- -- 2: 고급 자료구조\n",
    "  - --- 1: 스택\n",
    "  - --- 2: 큐\n",
    "  - --- 3: 링크드 리스트\n",
    "  - --- 4: 트리\n",
    "  - --- 5: 그래프\n",
    "- -- 3: 정렬 알고리즘\n",
    "  - --- 1: 버블 정렬\n",
    "  - --- 2: 선택 정렬\n",
    "  - --- 3: 삽입 정렬\n",
    "  - --- 4: 퀵 정렬\n",
    "  - --- 5: 병합 정렬\n",
    "- -- 4: 탐색 알고리즘\n",
    "  - --- 1: 순차 탐색\n",
    "  - --- 2: 이진 탐색\n",
    "  - --- 3: 깊이 우선 탐색 (DFS)\n",
    "  - --- 4: 너비 우선 탐색 (BFS)\n",
    "\n",
    "+++ 목차 2: 기능별로 구성\n",
    "++++ 1: 데이터 처리\n",
    "- -- 1: 문자열 처리\n",
    "  - --- 1: 문자열 메서드\n",
    "  - --- 2: 문자열 포맷팅\n",
    "- -- 2: 리스트 처리\n",
    "  - --- 1: 리스트 메서드\n",
    "  - --- 2: 리스트 컴프리헨션\n",
    "\n",
    "++++ 2: 연산자\n",
    "- -- 1: 산술 연산자\n",
    "- -- 2: 비교 연산자\n",
    "- -- 3: 논리 연산자\n",
    "- -- 4: 비트 연산자\n",
    "\n",
    "+++ 목차 3: 라이브러리와 프레임워크\n",
    "++++ 1: 기본 라이브러리\n",
    "- -- 1: 표준 라이브러리\n",
    "  - --- 1: `math`\n",
    "  - --- 2: `datetime`\n",
    "  - --- 3: `os`\n",
    "  - --- 4: `sys`\n",
    "- -- 2: 외부 라이브러리\n",
    "  - --- 1: `numpy`\n",
    "  - --- 2: `pandas`\n",
    "  - --- 3: `matplotlib`\n",
    "  - --- 4: `requests`\n",
    "\n",
    "++++ 2: 웹 개발 프레임워크\n",
    "- -- 1: Django\n",
    "  - --- 1: Django 설치 및 설정\n",
    "  - --- 2: 모델, 뷰, 템플릿\n",
    "- -- 2: Flask\n",
    "  - --- 1: Flask 설치 및 설정\n",
    "  - --- 2: 라우팅과 요청 처리\n",
    "\n",
    "++++ 3: 데이터 과학 및 머신러닝\n",
    "- -- 1: 데이터 분석\n",
    "  - --- 1: `pandas`를 이용한 데이터 처리\n",
    "  - --- 2: 데이터 시각화 (`matplotlib`, `seaborn`)\n",
    "- -- 2: 머신러닝\n",
    "  - --- 1: `scikit-learn` 개요\n",
    "  - --- 2: 기본 알고리즘 (회귀, 분류, 군집화)\n"
   ]
  },
  {
   "cell_type": "markdown",
   "metadata": {
    "id": "bE0OLBfbhU3M"
   },
   "source": [
    "---\n",
    "# - 기본문법\n",
    "---"
   ]
  },
  {
   "cell_type": "markdown",
   "metadata": {
    "id": "1P_AR2ljhdUx"
   },
   "source": [
    "## 줄 구조"
   ]
  },
  {
   "cell_type": "markdown",
   "metadata": {
    "id": "e9JdkesP-uxZ"
   },
   "source": [
    "\\   # 명시적 줄 결합\n",
    "\n",
    "[  \n",
    "    묵시적,  \n",
    "    줄결합  \n",
    "]  \n",
    ";\n",
    "\n",
    "들여쓰기 :tab / ctrl+[  \n",
    "내어쓰기 :tab+shift / ctrl+]  \n",
    "\n",
    "docstring  \n",
    "'''  \n",
    "'''  \n",
    "\"\"\"  \n",
    "\"\"\"  \n",
    "\n",
    "파이썬은 가독성을 위해 반드시 tab으로 들여쓰기를 맞춰주지 않으면  \n",
    "IndentationError: expected an indented block에러 구문을 출력   \n",
    "스페이스, 들여쓰기 프로그램 설정 등을 혼용하지 말 것.  \n",
    "스페이스 한칸 오류나도 오타보다 찾기 힘들고 시스템에 따라 들여쓰기에 스페이스를 혼용할 시 오류가 발생하곤 한다.  \n",
    "- 인코딩선언\n",
    "  - 파이썬 스크립트의 첫 번 째나 두 번째 줄에 있는 주석이 정규식 coding[=:]\\s*([-\\w.]+) 과 매치되면, 이 주석은 인코딩 선언으로 처리 "
   ]
  },
  {
   "cell_type": "code",
   "execution_count": null,
   "metadata": {
    "id": "9mmluqDH-Yxi"
   },
   "outputs": [],
   "source": [
    "#논리적인 줄은 스크립트를 읽어들이고 실행하는 라인 실행순서, 물리적인 줄은 그냥 보이는 줄 # 주석은 그냥 무시된다.\n",
    "# ctrl+/ : 선택한 행 주석처리\n",
    "def 함수명():\n",
    "  # '#' 으로 주석처리\n",
    "  '''docstring\n",
    "  따옴표3쌍으로는 여러줄 주석처리가 가능\n",
    "  # 주석보다 한번에 깔끔하게 주로 이런식으로\n",
    "  코드 문서화를 위한 문자열\n",
    "  코드의 사용법,동작방식,인수,반환값 등 설명에 사용\n",
    "  함수나 클래스의 _doc_속성을 통해 접근가능\n",
    "  문자열스트링이 여러개면 처음문자열만 인식하는 듯하다.\n",
    "  명시적인 줄결합:\n",
    "  물리적인 줄들은 역슬레시 \\\\ 문자로\\\n",
    "  논리적인 줄로 결합가능  \n",
    "  주석바깥에서 (소/중/대)괄호들이 사용되는 표현들은 역슬레시 없어도 여러 물리적인 줄로 하나의 논리적인 줄을 나눠 표현할 수 있다.\n",
    "  '''\n",
    "  '''docstring2'''\n",
    "  return '''docstring\n",
    "  반환가능\n",
    "  '''\n",
    "print(함수명.__doc__,함수명())\n",
    "a = [\n",
    "    1,2,3,4,4\n",
    "    ,6,7,8,8\n",
    "  ]; print(sum(a)) # ;를 이용하면 라인을 마친셈치고 한라인에 두개의 물리적인 줄을 표현 가능하다.\n",
    "#a = [1,2,3,4,4,6,7,8,8]\n",
    "#print(sum(a)) # 위와 아래는 같다\n"
   ]
  },
  {
   "cell_type": "markdown",
   "metadata": {
    "id": "84b3ZzLsdHxz"
   },
   "source": [
    "## 이스케이프 문자"
   ]
  },
  {
   "cell_type": "code",
   "execution_count": null,
   "metadata": {},
   "outputs": [],
   "source": [
    "print(R'\\\\n\\t\\r\\0\\\\\\'\\\"')# 문자열앞에 r\"\" 또는 R\"\" 접두어가 붙지 않는다면 이스케이프 문자는 보이는것과 다르게 해석된다.  \n",
    "print('줄바꿈\\\n",
    "       (개행 무시) ')# \\줄바꿈 (개행무시)\n",
    "print('\\n')# \\n(줄바꿈)  \n",
    "print('\\t')# \\t(탭)  \n",
    "print('\\r')# \\r(리턴-행의 첫번째열)  \n",
    "print('\\0')# \\0(널:null)  \n",
    "print('\\\\')# \\\\  \n",
    "print('\\'')# \\'  \n",
    "print('\\\"')# \\\"(따옴표 표시)  \n",
    "print(\"\\a\\b\\f\\n\\r\\t\\v\\222\\134\")# \"\\a\\b\\f\\n\\r\\t\\v\\222\\134\""
   ]
  },
  {
   "cell_type": "code",
   "execution_count": null,
   "metadata": {},
   "outputs": [],
   "source": [
    "print('Hello','World')\n",
    "print('Hello','World',sep=',')\n",
    "print('Hello','World',sep='\\t')\n",
    "print('Hello',end='\\t')\n",
    "name='홍길동'\n",
    "age=20\n",
    "print(name,'님의 나이는',age,'세입니다.',sep='')"
   ]
  },
  {
   "cell_type": "markdown",
   "metadata": {},
   "source": [
    "## 도움말 함수?"
   ]
  },
  {
   "cell_type": "code",
   "execution_count": null,
   "metadata": {},
   "outputs": [],
   "source": [
    "# help(help)\n",
    "help(dir)\n",
    "# dir(help)\n",
    "dir(dir)"
   ]
  },
  {
   "cell_type": "code",
   "execution_count": null,
   "metadata": {},
   "outputs": [],
   "source": [
    "help([1,2,3]) # 객체의 설명을 출력\n",
    "\n",
    "# 객체 관련 함수\n",
    "dir(list)  # 리스트 객체의 속성과 메서드 목록 출력  \n",
    "dir([1,2,3]) # 객체가 지닌 속성,변수/함수(메서드) 등의 목록을 출력\n",
    "id(0) # 객체의 고유 주솟값(레퍼런스) 리턴\n",
    "print() # 인자의 리턴값 출력, print()함수의 리턴값은 None 없음\n",
    "input() # 입력한 문자열 반환, 입력시 Enter 개행문자'\\n'는 자동으로 .strip()제거\n",
    "# 주의. 악성코드 입력에 취약.\n",
    "eval(\"'hi' + 'a'\") # 문자열로 구성된 표현식을 입력으로 받아 해당 문자열을 실행한 결과값 리턴\n",
    "exec(\"코드\") # 해당 문자열을 코드로서 통짜 실행"
   ]
  },
  {
   "cell_type": "markdown",
   "metadata": {},
   "source": [
    "# - 변수(Variable)"
   ]
  },
  {
   "cell_type": "markdown",
   "metadata": {},
   "source": [
    "- 자료형의 데이터(값)을 저장하는 공간을 할당  \n",
    "- 파이썬에서 가장 많이 사용되는 객체(Object)  \n",
    "\n",
    "- 변수선언 및 초기화:  \n",
    " 객체(데이터)가 메모리에 생성되고 변수는 메모리 주소를 가리킴  \n",
    "- id(변수명): 객체의 주소 출력  \n",
    " 같은 데이터라면 다른 변수라도 가리키는 주소가 동일  \n",
    " 타 언어는 자료형타입지정이 필요  \n",
    "\n",
    "- 변수할당:  \n",
    "변수명 = 변수값  \n",
    "- 동시할당:  \n",
    "a, b = a값, b값  \n",
    "일부프로그래밍언어에서 지원  \n",
    "- 순차할당:  \n",
    "a = b, b = a + b 이전할당결과가 다음할당에 영향  \n",
    "\n",
    "- 변수명 규칙:  \n",
    "  1. 숫자시작불가, '_'이외 특수문자,공백,문장부호 사용불가  \n",
    "  2. 예약어 금지, 내장함수/모듈명 지양  \n",
    "  3. 소문자 사용, 대문자는 상수선언시에만 권장\n",
    "  4. 출처와 용법이 분명한 작명"
   ]
  },
  {
   "cell_type": "markdown",
   "metadata": {},
   "source": [
    "## 1.변수의 입출력"
   ]
  },
  {
   "cell_type": "code",
   "execution_count": null,
   "metadata": {},
   "outputs": [],
   "source": [
    "n = input()\n",
    "print(n)"
   ]
  },
  {
   "cell_type": "code",
   "execution_count": null,
   "metadata": {},
   "outputs": [],
   "source": [
    "def solution(nums):\n",
    "    nums.sort()\n",
    "    prime = set(range(2, (e:= sum(nums[-3::1]) + 1)))\n",
    "    for k in range(2, e):\n",
    "        if k in prime:\n",
    "            n = 2\n",
    "            while (x:= k*n) <= e:\n",
    "                prime.discard(x)\n",
    "                n += 1\n",
    "    print(prime)\n",
    "    \n",
    "solution([1,2,7,6,4])"
   ]
  },
  {
   "cell_type": "markdown",
   "metadata": {},
   "source": [
    "# - 자료형"
   ]
  },
  {
   "cell_type": "markdown",
   "metadata": {},
   "source": [
    "파이썬은 자동 형변환을 지원  "
   ]
  },
  {
   "cell_type": "code",
   "execution_count": null,
   "metadata": {},
   "outputs": [],
   "source": [
    "# 자료형(변수) :수동 형변환 함수 :자료형 지정\n",
    "int()     # 정수\n",
    "float()   # 실수\n",
    "complex() # 복소수\n",
    "str()     # 문자열\n",
    "bool()    # bool\n",
    "list()    # 리스트\n",
    "tuple()   # 튜플\n",
    "dict()    # 딕셔너리\n",
    "set()     # 집합\n",
    "\n",
    "# type() : 데이터(값)의 자료형을 확인하는 기능\n",
    "print(type(10))\n",
    "print(type(10.0))\n",
    "print(type(\"10\"))"
   ]
  },
  {
   "cell_type": "markdown",
   "metadata": {},
   "source": [
    "## 1. 숫자형"
   ]
  },
  {
   "cell_type": "markdown",
   "metadata": {},
   "source": [
    "python은 정수에 오버플로우가 발생하지 않음"
   ]
  },
  {
   "cell_type": "markdown",
   "metadata": {},
   "source": [
    "### 1) int() 정수형"
   ]
  },
  {
   "cell_type": "code",
   "execution_count": null,
   "metadata": {},
   "outputs": [],
   "source": [
    "n = int(input()) #문자열로 입력받는 input입력값을 정수형으로 형변환\n",
    "print(int('100101', 2)) # \"문자열\"을 2진수에서 10진수로 전환\n",
    "print(f'{int(3.123124):04d}') # 0003\n",
    "# 정수 -> 진수 변환 함수\n",
    "print(bin(n), bin(n)[2:]) # 2진수   # bin(10)[2:]==1010 # bin(10)==0b1010\n",
    "print(oct(n), oct(n)[2:]) # 8진수\n",
    "print(hex(n), hex(n)[2:]) # 16진수\n",
    "\n",
    "# f-string (파이썬 3.6 이상)\n",
    "print(f\"{n:d}\")  # 10진수: 42\n",
    "print(f\"{n:x}\")  # 16진수: 2a\n",
    "print(f\"{n:b}\")  # 2진수: 101010\n",
    "print(f\"{n:o}\")  # 8진수: 52\n",
    "# format() 메서드\n",
    "print(\"{:d}\".format(n))  # 10진수: 42\n",
    "print(\"{:x}\".format(n))  # 16진수: 2a\n",
    "print(\"{:b}\".format(n))  # 2진수: 101010\n",
    "print(\"{:o}\".format(n))  # 8진수: 52\n",
    "# 구식 포매팅 (퍼센트 기호 사용)\n",
    "print(\"%d\" % n)  # 10진수: 42\n",
    "print(\"%x\" % n)  # 16진수: 2a\n",
    "print(\"%b\" % n)  # 2진수는 지원하지 않음\n",
    "print(\"%o\" % n)  # 8진수: 52\n",
    "# 자리수 및 정렬\n",
    "print(f\"{n:5}\")  # '   42' (공백으로 채워서 5자리)\n",
    "print(f\"{n:<5}\")  # '42   ' (왼쪽 정렬)\n",
    "print(f\"{n:>5}\")  # '   42' (오른쪽 정렬)\n",
    "print(f\"{n:^5}\")  # ' 42  ' (가운데 정렬)\n",
    "# 제어 문자 사용 : 숫자 앞에 특정 문자로 채워 출력\n",
    "print(f\"{n:0>5}\")  # '00042' (0으로 채움)"
   ]
  },
  {
   "cell_type": "markdown",
   "metadata": {},
   "source": [
    "### 2) float() 실수형"
   ]
  },
  {
   "cell_type": "markdown",
   "metadata": {},
   "source": [
    "소수점18자리까지 출력되며 소수점15~17자리까지만 유효숫자  \n",
    "또한 10진수를 2진수로 변환하여 계산하면서 오차가 발생\n",
    "\n",
    "- round(number, digits) # (반올림할숫자, 반올림할 소수점이하 자리수)"
   ]
  },
  {
   "cell_type": "code",
   "execution_count": null,
   "metadata": {},
   "outputs": [],
   "source": [
    "print(round(3.6))  # 4로 반올림\n",
    "print(round(3.14159, 2))  # 3.14 로 반올림\n",
    "print(round(-2.5))  # -2로 반올림 (Python은 짝수 방향으로 반올림)\n",
    "print(round(2.675, 2))  # 2.67로 반올림 (부동 소수점 정확성 문제로 오차발생)"
   ]
  },
  {
   "cell_type": "code",
   "execution_count": null,
   "metadata": {},
   "outputs": [],
   "source": [
    "fl = 3.14159  # 부동 소수점 값\n",
    "print(fl) # 3.14159\n",
    "print(f'{fl:.2f}')\n",
    "print(int(fl),float(int(fl))) # 정수(실수)형변환, 실수(정수(실수))형변환"
   ]
  },
  {
   "cell_type": "code",
   "execution_count": null,
   "metadata": {},
   "outputs": [],
   "source": [
    "print(0.1+1.1)\n",
    "from decimal import Decimal\n",
    "print(Decimal('0.1')+Decimal('1.1')+1)\n",
    "# Decimal클래스 십진법 소수연산은 소수를 스트링으로 입력"
   ]
  },
  {
   "cell_type": "markdown",
   "metadata": {},
   "source": [
    "### 3) complex() 복소수형"
   ]
  },
  {
   "cell_type": "markdown",
   "metadata": {},
   "source": [
    "형식: a + bj  \n",
    "a는 실수 부분, b는 허수 부분, j는 허수를 나타내는 기호"
   ]
  },
  {
   "cell_type": "code",
   "execution_count": null,
   "metadata": {},
   "outputs": [],
   "source": [
    "z1 = complex(2, 3)  # 2 + 3j\n",
    "z2 = 1 + 2j         # 1 + 2j\n",
    "print(z1.real)  # 출력: 2.0 (실수 부분)\n",
    "print(z1.imag)  # 출력: 3.0 (허수 부분)\n",
    "# 연산\n",
    "z3 = z1 + z2  # (2 + 3j) + (1 + 2j) = 3 + 5j\n",
    "print(z3)  # 출력: (3+5j)\n",
    "z4 = z1 * z2  # (2 + 3j) * (1 + 2j) = -4 + 7j\n",
    "print(z4)  # 출력: (-4+7j)\n",
    "# 켤레 복소수\n",
    "z_conjugate = z1.conjugate()  # 2 - 3j\n",
    "print(z_conjugate)  # 출력: (2-3j)"
   ]
  },
  {
   "cell_type": "markdown",
   "metadata": {},
   "source": [
    "## 2. str() 문자열"
   ]
  },
  {
   "cell_type": "markdown",
   "metadata": {},
   "source": [
    "- 문자열 비교 규칙  \n",
    "사전식 순서(lexicographical order)로 진행.  \n",
    "각 문자들을 ASCII나 유니코드 값에 따라 비교  \n",
    "1. 문자 단위\n",
    "   - 각 문자를 왼쪽부터 순차 비교\n",
    "   - 첫 번째 문자가 다르면 문자의 ASCII 또는 유니코드 값에 따라 결정\n",
    "   - 대문자는 소문자보다 작은 것으로 간주\n",
    "2. 길이\n",
    "   - 공통 접두사가 있는 경우, 더 짧은 문자열이 더 작은 문자열"
   ]
  },
  {
   "cell_type": "code",
   "execution_count": null,
   "metadata": {},
   "outputs": [],
   "source": [
    "# 문자열 비교\n",
    "print(\"apple\" < \"banana\")  # True\n",
    "print(\"apple\" > \"Apple\")    # True (대소문자 구분)\n",
    "print(\"abc\" < \"abcd\")       # True\n",
    "print(\"abc\" == \"abc\")       # True\n",
    "print(\"abc\" < \"ab\")         # False (길이 비교)"
   ]
  },
  {
   "cell_type": "markdown",
   "metadata": {},
   "source": [
    "### 합/곱/인덱싱/슬라이싱 가능"
   ]
  },
  {
   "cell_type": "code",
   "execution_count": null,
   "metadata": {},
   "outputs": [],
   "source": [
    "a,s = '12345678', 'asdf'\n",
    "print(a*2+s*4)\n",
    "print(a[0],a[-8],a[7],a[-1])# 1,1,8,8\n",
    "print(a[0],a[7])            # 0, 7\n",
    "print(a[2:],a[:5],a[2:5])   # [2,3,4,5,6,7], [0,1,2,3,4], [2,3,4]\n",
    "print(a[:],a[::])           # 전체\n",
    "print(a[0:6:2],a[-2:-5:-2]) # [0 ~ 5,+2]  [-2 ~ -4,-2]\n",
    "print(a[::-1])              # 역순\n",
    "# 문자열 비교 규칙\n",
    "# ASCII 값 또는 유니코드 값에 따라 비교하는 방식\n",
    "# 1. 문자 단위 비교:\n",
    "# 문자열의 각 문자를 왼쪽부터 오른쪽으로 순차적으로 비교합니다.\n",
    "# 첫 번째 문자가 다르면 그 문자의 ASCII 또는 유니코드 값에 따라 결정합니다.\n",
    "# 길이 비교:\n",
    "# 두 문자열의 공통 접두사가 있는 경우, 더 짧은 문자열이 더 작습니다.\n",
    "# 예를 들어, \"abc\"와 \"abcd\"를 비교하면, \"abc\"가 더 짧으므로 더 작습니다.\n",
    "# 대소문자 구분:\n",
    "# 대문자는 소문자보다 작은 것으로 간주됩니다. 예를 들어, \"A\"는 \"a\"보다 작습니다."
   ]
  },
  {
   "cell_type": "markdown",
   "metadata": {},
   "source": [
    "### 문자열 내장함수"
   ]
  },
  {
   "cell_type": "markdown",
   "metadata": {},
   "source": [
    "#### 1) 공백 제거\n",
    "- strip([chars]): 문자열의 양쪽 끝에서 지정된 문자를 제거 (기본값 공백)\n",
    "- lstrip([chars]): 문자열의 왼쪽 끝에서 지정된 문자를 제거 (기본값 공백)\n",
    "- rstrip([chars]): 문자열의 오른쪽 끝에서 지정된 문자를 제거 (기본값 공백) "
   ]
  },
  {
   "cell_type": "markdown",
   "metadata": {},
   "source": [
    "#### 2) 문자열 분할 및 결합  \n",
    "- split(separator, maxsplit)\n",
    "  - 특정 구분자 기준으로 나누어 리스트로 반환\n",
    "- rsplit(separator, maxsplit)\n",
    "  - 특정 구분자 기준으로 우측부터 나누어 리스트로 반환\n",
    "- splitlines([keepends])\n",
    "  - 줄 단위로 나누어 리스트로 반환 (줄 바꿈 문자 포함여부 선택가능)\n",
    "- partition(separator)\n",
    "  - 구분자를 기준으로 세 부분으로 나눔 (구분자 앞, 구분자, 구분자 뒤)\n",
    "- rpartition(separator)\n",
    "  - 구분자를 기준으로 세 부분으로 나눔 (구분자 뒤에서부터 검색)\n",
    "- join(iterable)\n",
    "  - 각 요소를 구분자로 연결하여 하나의 문자열로 병합  "
   ]
  },
  {
   "cell_type": "code",
   "execution_count": null,
   "metadata": {},
   "outputs": [],
   "source": [
    "text = \"apple,banana,cherry\"  # 문자열 정의\n",
    "print(text.split(','))  # ['apple', 'banana', 'cherry']  # 문자열을 ','로 나눔\n",
    "print(text.rsplit(',', 1))  # ['apple,banana', 'cherry']  # 우측부터 나눔\n",
    "print(\"line1\\nline2\\nline3\".splitlines())  # ['line1', 'line2', 'line3']  # 줄 단위로 나눔\n",
    "print(text.partition(','))  # ('apple', ',', 'banana,cherry')  # 구분자를 기준으로 세 부분 나눔\n",
    "print(text.rpartition(','))  # ('apple,banana', ',', 'cherry')  # 우측에서 구분자로 나눔\n",
    "print('-'.join(['apple', 'banana', 'cherry']))  # 'apple-banana-cherry'  # iterator의 각 요소를 '-'로 연결"
   ]
  },
  {
   "cell_type": "markdown",
   "metadata": {},
   "source": [
    "#### 3) 문자열 정렬 및 채우기  \n",
    "- zfill(width): 문자열의 길이를 width로 맞추고, 필요한 경우 앞쪽을 0으로 채움\n",
    "- ljust(width[, fillchar]): 문자열을 주어진 길이로 맞추고, 필요한 경우 우측을 지정문자로 채움\n",
    "- rjust(width[, fillchar]): 문자열을 주어진 길이로 맞추고, 필요한 경우 좌측을 지정문자로 채움\n",
    "- center(width[, fillchar]): 문자열을 주어진 길이로 맞추고, 필요한 경우 양쪽을 지정문자로 채워서 가운데 정렬"
   ]
  },
  {
   "cell_type": "markdown",
   "metadata": {},
   "source": [
    "#### 4) 문자열 변환 및 기타 조작\n",
    "- replace(old, new, count): 문자열 내 특정 부분을 다른 문자열로 대체\n",
    "- expandtabs(tabsize=8): 문자열 내의 탭 문자를 지정크기의 공백으로 확장\n",
    "- maketrans(x, y, [z]): 문자열 변환 테이블 생성\n",
    "- translate(table): 변환 테이블을 사용하여 문자열의 문자 변환"
   ]
  },
  {
   "cell_type": "markdown",
   "metadata": {},
   "source": [
    "#### 5)문자열 검색\n",
    "- find(substring) # 특정 문자열이 처음위치반환, 없으면 -1 반환\n",
    "- rfind(substring) # 특정 문자열이 마지막위치 반환, 없으면 -1 반환\n",
    "- index(substring, start, end) # 특정 요소 처음위치반환, 없으면 ValueError 발생\n",
    "- rindex(substring, start, end) # 특정 요소 마지막위치 반환, 없으면 ValueError 발생\n",
    "- startswith(prefix) # 특정 접두사로 시작하는지 여부를 반환\n",
    "- endswith(suffix) # 특정 접미사로 끝나는지 여부를 반환  \n",
    "- count(substring) # 특정 문자열이 등장하는 횟수를 반환"
   ]
  },
  {
   "cell_type": "code",
   "execution_count": null,
   "metadata": {},
   "outputs": [],
   "source": []
  },
  {
   "cell_type": "markdown",
   "metadata": {},
   "source": [
    "#### 6)문자열 구성 형식 검사\n",
    "- isalpha() # 알파벳으로만 구성되어 있는지 확인, True/False 반환\n",
    "- isnumeric() # 숫자(0-9)로만 구성되어 있는지 확인, True/False 반환\n",
    "- isdigit() # 숫자로만 구성되어 있는지 확인, True/False 반환\n",
    "- isalnum() # 알파벳 문자와 숫자로만 구성되어 있는지 확인, True/False 반환\n",
    "- islower() # 모두 소문자인지 확인, True/False 반환\n",
    "- isupper() # 모두 대문자인지 확인, True/False 반환\n",
    "- istitle() # 제목 형식인지 확인 (각 단어의 첫 문자가 대문자), True/False 반환\n",
    "- isspace() # 공백 문자로만 구성되어 있는지 확인, True/False 반환\n",
    "- isprintable() # 출력 가능한 문자로만 구성되어 있는지 확인, True/False 반환\n",
    "- isascii() # ASCII 문자로만 구성되어 있는지 확인, True/False 반환\n",
    "- isdecimal() # 10진수 문자로만 구성되어 있는지 확인, True/False 반환"
   ]
  },
  {
   "cell_type": "code",
   "execution_count": null,
   "metadata": {},
   "outputs": [],
   "source": []
  },
  {
   "cell_type": "markdown",
   "metadata": {},
   "source": [
    "#### 7) 대소문자 변환\n",
    "- upper() # 모두 대문자로 변환  \n",
    "- lower() # 모두 소문자로 변환\n",
    "- swapcase() # 대문자를 소문자로, 소문자를 대문자로 변환\n",
    "- title(): 각 단어의 첫 문자를 대문자로 변환\n",
    "- capitalize(): 문자열의 첫 문자를 대문자로 변환하고 나머지 문자를 소문자로 변환"
   ]
  },
  {
   "cell_type": "code",
   "execution_count": null,
   "metadata": {},
   "outputs": [],
   "source": [
    "text = \"hello\"\n",
    "print(text.upper())  # 출력: HELLO\n",
    "text = \"HELLO\"\n",
    "print(text.lower())  # 출력: hello\n",
    "text = \"  hello  \"\n",
    "print(text.strip())  # 출력: hello\n",
    "text = \"hello world\"\n",
    "print(text.replace(\"world\", \"Python\",1))  # 출력: hello Python\n",
    "text = \"hello world\"\n",
    "print(text.split())  # 출력: ['hello', 'world']\n",
    "words = [\"hello\", \"world\"]\n",
    "print(\" \".join(words))  # 출력: hello world\n",
    "text = \"hello world\"\n",
    "print(text.find(\"world\"))  # 출력: 6\n",
    "text = \"hello world\"\n",
    "print(text.startswith(\"hello\"))  # 출력: True\n",
    "text = \"hello world\"\n",
    "print(text.endswith(\"world\"))  # 출력: True\n",
    "text = \"hello world\"\n",
    "print(text.count(\"o\"))  # 출력: 2"
   ]
  },
  {
   "cell_type": "markdown",
   "metadata": {},
   "source": [
    "#### 8) 유니코드 변환"
   ]
  },
  {
   "cell_type": "markdown",
   "metadata": {},
   "source": [
    "- chr() # 유니코드 숫자 값을 문자로 리턴하는 함수\n",
    "- ord() # 문자의 유니코드 숫자 값을 리턴하는 함수"
   ]
  },
  {
   "cell_type": "markdown",
   "metadata": {},
   "source": [
    "## 3. bool() 자료형"
   ]
  },
  {
   "cell_type": "markdown",
   "metadata": {},
   "source": [
    "참(True), 거짓(False)  \n",
    "파이썬에선 정수의 하위클래스로서, 0과 1로 산술연산이 성립하며 0이나 공백은 False값으로 받음  "
   ]
  },
  {
   "cell_type": "markdown",
   "metadata": {},
   "source": [
    "### 1) bool연산"
   ]
  },
  {
   "cell_type": "code",
   "execution_count": null,
   "metadata": {},
   "outputs": [],
   "source": [
    "print(bool('a'),bool([1]),bool(1),bool(None),bool(0),bool(''),bool())\n",
    "# and 연산자\n",
    "print(True and False)  # False\n",
    "print(True and True)   # True\n",
    "# or 연산자\n",
    "print(True or False)   # True\n",
    "print(False or False)  # False      \n",
    "# not 연산자\n",
    "print(not True)        # False\n",
    "print(not False)       # True\n",
    "# == 연산자\n",
    "print(1 == 1)  # True\n",
    "print(1 == 2)  # False\n",
    "# != 연산자\n",
    "print(1 != 1)  # False\n",
    "print(1 != 2)  # True\n",
    "# >, <, >=, <= 연산자\n",
    "print(3 > 2)   # True\n",
    "print(3 < 2)   # False\n",
    "print(3 >= 3)  # True\n",
    "print(3 <= 2)  # False\n",
    "#is 연산자 : 두 객체가 동일한 객체를 가리키는지 여부를 확인\n",
    "a = [1, 2, 3]\n",
    "b = a\n",
    "c = [1, 2, 3]\n",
    "print(a is b)  # True\n",
    "print(a is c)  # False\n",
    "#in 연산자는 특정 값이 시퀀스(리스트, 튜플, 문자열 등)에 존재하는지 여부를 확인\n",
    "print(1 in [1, 2, 3])    # True\n",
    "print('a' in 'apple')    # True\n",
    "print(4 in [1, 2, 3])    # False\n",
    "print('b' in 'apple')    # False\n",
    "# any() 함수는 시퀀스 내에 하나 이상의 참(True) 값이 있으면 True를 반환합니다.\n",
    "print(any([False, False, True]))  # True\n",
    "print(any([False, False, False])) # False\n",
    "# all()함수는 시퀀스 내의 모든 값이 참(True)일 경우 True를 반환합니다.\n",
    "print(all([True, True, True]))    # True\n",
    "print(all([True, False, True]))   # False\n",
    "# __bool__() 메서드\n",
    "#사용자 정의 클래스에 __bool__() 메서드를 정의하여 객체의 불리언 값을 지정가능\n",
    "class MyClass:\n",
    "    def __bool__(self):\n",
    "        return False\n",
    "\n",
    "obj = MyClass()\n",
    "print(bool(obj))  # False"
   ]
  },
  {
   "cell_type": "markdown",
   "metadata": {},
   "source": [
    "## 4. List(리스트)"
   ]
  },
  {
   "cell_type": "markdown",
   "metadata": {},
   "source": [
    "[]로 여러개 값을 하나의 변수에 저장/관리\n",
    "변수 = [1,2,3,4]\n",
    "변수 = [[[..] , ..], ..] 다차원리스트\n",
    "\n",
    "리스트/튜플은 모두 시퀀스 자료형으로, 여러항목을 저장가능한 자료구조  \n",
    "\n",
    "리스트 VS 튜플\n",
    "1. 데이터 변경가능성(Mutability):  \n",
    "(추가/삭제/수정) 가변 VS 불변\n",
    "2. 사용목적:  \n",
    "데이터변경이 자주 발생 할 경우 적합  VS  \n",
    "읽기전용이나 수정이 필요없는 배열 형태에 적합  \n",
    "3. 메모리사용량:  \n",
    "많이차지 VS 적게차지\n",
    "4. 접근속도:  \n",
    "느림 VS 빠름\n",
    "5. 내장메서드:\n",
    "리스트: append(), extend(), insert(), remove(), pop(), reverse(), sort(),sorted(), 등 여러 메서드 지원  \n",
    "튜플: count(), index()만 지원  \n",
    "생성: 하나의 변수에 여러개의 값이 들어갈때 ,으로만 나눠져있으면 보통 튜플로 인식\n",
    "\n",
    "인덱싱: 둘 다 인덱스를 사용하여 항목에 접근할 수 있습니다.\n",
    "list[0] 또는 tuple[0]형식으로 첫 번째 항목에 접근\n",
    "중첩 가능: 다른 리스트나 튜플을 포함할 수 있습니다.\n",
    "반복 가능: 둘 다 for 루프를 사용하여 항목을 반복할 수 있습니다.\n",
    "슬라이싱: 둘 다 슬라이싱을 사용하여 부분 집합을 얻을 수 있습니다. 예를 들어, list[1:3] 또는 tuple[1:3] 형식으로 사용할 수 있습니다.\n",
    "\n",
    "리스트, 튜플에서 슬라이싱을 통해 부분 시퀀스 추출가능"
   ]
  },
  {
   "cell_type": "code",
   "execution_count": null,
   "metadata": {},
   "outputs": [],
   "source": [
    "a=(1,2,3,4,)\n",
    "a.sorted()"
   ]
  },
  {
   "cell_type": "markdown",
   "metadata": {},
   "source": [
    "### ---슬라이싱과 컴프리헨션(Comprehension)"
   ]
  },
  {
   "cell_type": "markdown",
   "metadata": {},
   "source": [
    "- 중첩슬라이싱: 문법: 리스트[시작:끝:단계][시작:끝:단계]  \n",
    "다차원 배열이나 리스트에서 부분 집합을 추출하는 데 사용  \n",
    "인덱싱 기반으로 작동하며, 원본 데이터 구조의 형태를 유지  \n",
    "주로 numpy 배열이나 다차원 리스트에서 사용  \n",
    "\n",
    "- 리스트 컴프리헨션: 문법:  \n",
    "[표현식 for 항목 in 반복가능객체 if 조건] == [표현식 if 조건 for 항목 in 반복가능객체]  \n",
    "기존 리스트를 기반으로 새로운 리스트 생성  \n",
    "각 요소에 대해 조건을 확인하고 변환을 적용  \n",
    "1차원 리스트 생성에 주로 사용되지만, 중첩하여 다차원 리스트도 생성가능  "
   ]
  },
  {
   "cell_type": "code",
   "execution_count": null,
   "metadata": {},
   "outputs": [],
   "source": [
    "# 범위를 초과하는 인덱스 호출로 배열 반복호출\n",
    "# 0~9의 정수 리스트 생성\n",
    "lst = [i for i in range(10)]\n",
    "for i in range(20): # 0부터 19 까지의 lst인덱스 호출\n",
    "    print(lst[i % len(lst)]) # 인덱스 에러는 방지하지만 다시 처음부터 순회"
   ]
  },
  {
   "cell_type": "markdown",
   "metadata": {},
   "source": [
    "### ---리스트의 내장함수"
   ]
  },
  {
   "cell_type": "markdown",
   "metadata": {},
   "source": [
    "list_=[] : 생성 및 초기화  \n",
    "list_(range(from,to,by)): 연속한 값을 갖는 리스트생성   \n",
    "\n",
    "len(list_) : 전체길이(요소개수)정수로 반환  \n",
    "list_.count(value) : 리스트에서 value의 개수를 반환  \n",
    "min(list_),max(list_) : 최솟값,최댓값  \n",
    "list_.index(value, position=0 : position위치 이후에서 value의 값이 있는 인덱스를 반환  \n",
    "list_[from:to] : from위치부터 to위치까지 추출(to위치항목은 미포함)  \n",
    "\n",
    "list_.append(value) : 리스트끝에value추가  \n",
    "list_.extand(newlist) : list_에 다른리스트요소를 추가  \n",
    "list_.insert(index,value) : list의 index위치에 value값을 삽입  \n",
    "\n",
    "list_.remove(value) : 리스트에서 value값 삭제\n",
    "pop() : 지정인덱스의 요소제거&반환. 미지정시 마지막요소.  \n",
    "del list_[index] : 리스트에서 인덱스로 항목삭제  \n",
    "list_.clear() : 리스트내 모든항목 삭제  \n",
    "덧셈 곱셈? - 리스트를 더하거나 곱만큼 반복  \n",
    "\n",
    "list_.sort(reverse=False) : 리스트의 항목들을 정렬.reverse속성을 True로 하면 내림차순으로 정렬  \n",
    "sorted() : 정렬된 새로운 리스트를 반환\n",
    "\n",
    "copy() : 다른객체에 복사한 리스트를 생성"
   ]
  },
  {
   "cell_type": "code",
   "execution_count": null,
   "metadata": {},
   "outputs": [],
   "source": [
    "list_name=[]\n",
    "list_name=list(range(2,10,2))\n",
    "list_name.append([1,2,3,4,5])  #리스트끝에 요소추가\n",
    "list_name.extend([[1,2,3,4,5],(6,7,8,9),10,11]) #끝에 다른리스트 내부요소 추가\n",
    "print(list_name)\n",
    "print('len메서드 리스트길이:',len(list_name))\n",
    "list_name.clear() #리스트 전 항목삭제\n",
    "print(list_name)\n",
    "list_name=[1,2,3,4,5,6,7,8,9,10,10,10,10,10]\n",
    "a =  min(list_name),max(list_name) # 리스트 최소,최대값\n",
    "print(a)\n",
    "print(list_name[2:8:1]) # 주소2(포함)부터 주소8(미포함)까지 슬라이싱\n",
    "print(list_name.count(10)) # value가 10인 요소 개수를 반환\n",
    "\n",
    "list_name.insert(2,200) # 리스트의 2위치에 200값을 삽입\n",
    "print(list_name)\n",
    "list_name.remove(200) # 리스트에서 200값 삭제\n",
    "print(list_name)\n",
    "\n",
    "print(list_name.index(10, 9)) # 위치9 이후에서 10의 값이 있는 첫위치를 반환\n",
    "\n",
    "# 내림차순 정렬\n",
    "list_name.reverse()\n",
    "# 오름차순정렬\n",
    "list_name.sort()\n",
    "# 오름차순정렬\n",
    "list_name.sort(reverse=False)\n",
    "# 내림차순 정렬:\n",
    "list_name.sort(reverse=True)\n",
    "# 내림차순 정렬된 리스트를 생성해서 반환\n",
    "sorted_list_name = sorted(list_name, reverse=True)\n",
    "# 오름차순 정렬된 리스트를 생성해서 반환\n",
    "sorted_list_name = sorted(list_name)\n",
    "# 지정인덱스의 요소를 제거&반환\n",
    "print('',list_name.pop(3))\n",
    "print(list_name)\n",
    "\n",
    "new_list_name = list_name.copy()\n",
    "print(\"copy():\", new_list_name)"
   ]
  },
  {
   "cell_type": "markdown",
   "metadata": {},
   "source": [
    "## 5.Tuple(튜플)"
   ]
  },
  {
   "cell_type": "markdown",
   "metadata": {},
   "source": [
    "- 튜플은 변경할 수 없기 때문에 리스트와 같은 다른 메서드(예: append, remove 등)는 지원되지 않음.\n",
    "- 하지만 튜플은 해싱 가능하고, 불변성이 보장되므로 딕셔너리의 키로 사용 가능"
   ]
  },
  {
   "cell_type": "markdown",
   "metadata": {},
   "source": [
    "### ---튜플함수"
   ]
  },
  {
   "cell_type": "markdown",
   "metadata": {},
   "source": [
    "tpdata = () : 튜플생성  \n",
    "len(),sum(),min(),max() 등 가능\n",
    "\n",
    "- 튜플 주요함수 2개\n",
    "count(value) : value값 개수 반환  \n",
    "index(value, start, end) : position위치뒤부터 value가 있는 첫위치를 반환"
   ]
  },
  {
   "cell_type": "code",
   "execution_count": null,
   "metadata": {},
   "outputs": [],
   "source": [
    "t = ()\n",
    "t = tuple()\n",
    "t = (1, 2, 3, 2, 2, 4)\n",
    "print(t.count(2))  # 출력: 3\n",
    "print(t.index(3))  # 출력: 2"
   ]
  },
  {
   "cell_type": "markdown",
   "metadata": {},
   "source": [
    "슬라이싱의 차이점\n",
    "슬라이싱 자체는 리스트와 튜플에서 동일하게 동작합니다. 슬라이싱을 통해 부분 시퀀스를 추출가능"
   ]
  },
  {
   "cell_type": "code",
   "execution_count": null,
   "metadata": {},
   "outputs": [],
   "source": [
    "L = [0,1,2,3,4,5,6,7,8,9]\n",
    "print(L[:])       #슬라이싱 결과는 문자열이나 리스트, 튜플이나 동일\n",
    "print(L[::])      #전체\n",
    "print(L[4:])      #위치4 부터 끝까지\n",
    "print(L[:5])      #위치5 이전까지\n",
    "print(L[2:9:1])   #위치2 부터 위치9 이전까지 1간격으로\n",
    "print(L[-2:-6:-2])#위치 -2부터 위치-6 이전까지 -2간격으로\n",
    "S = '0123456789'\n",
    "print(S[:])       #전체\n",
    "print(S[::])      #전체\n",
    "print(S[4:])      #위치4 부터 끝까지\n",
    "print(S[:5])      #위치5 이전까지\n",
    "print(S[2:9:1])   #위치2 부터 위치9 이전까지 1간격으로\n",
    "print(S[-2:-6:-2])#위치 -2부터 위치-6 이전까지 -2간격으로"
   ]
  },
  {
   "cell_type": "markdown",
   "metadata": {},
   "source": [
    "## 6. 딕셔너리{key:value} Dictionary\n",
    "{ }로 딕셔너리 생성, 키(key)와 값(Value)의 쌍으로 구성된 자료구조    \n",
    "키는 유일(unique)해야 하기에 키값에 리스트는 사용불가 튜플은 사용가능, 중복가능, 모든타입 가능  \n",
    "키 목록에 없는 데이터로 참조하면 에러발생, 인덱스를 이용한 참조는 지원 안함  \n",
    "키-값 쌍 구조를 활용하여:  \n",
    "데이터의 효율적인 저장/접근  \n",
    "복잡한데이터구조표현  \n",
    "빠른검색이 필요  \n",
    "관계형 데이터를 다룰 때 특히 유용"
   ]
  },
  {
   "cell_type": "code",
   "execution_count": null,
   "metadata": {},
   "outputs": [],
   "source": [
    "# 딕셔너리 생성\n",
    "dict = dict()\n",
    "dict = {}\n",
    "data_dict = {'name': 'Alice', 'age': 25, 'city': 'Seoul'}\n",
    "print('생성',data_dict,'\\n')\n",
    "# 특정 키로 값 호출\n",
    "key = \"banana\"\n",
    "if key in data_dict:\n",
    "    print(f\"{key}값은 {data_dict[key]}입니다.\")\n",
    "else:\n",
    "    print(f\"{key}는 딕셔너리에 존재하지 않습니다.\")\n",
    "# 값 추가\n",
    "data_dict[\"money\"] = 0\n",
    "print(\"값 'money'를 추가한 딕셔너리:\", data_dict)\n",
    "# 값 수정\n",
    "data_dict[\"money\"] = 100\n",
    "print(\"값 'apple'을 수정한 딕셔너리:\", data_dict)\n",
    "# 값 삭제\n",
    "del data_dict[\"money\"]\n",
    "print(\"값 'money'를 삭제한 딕셔너리:\", data_dict)\n",
    "# 딕셔너리 출력\n",
    "print(\"최종 딕셔너리:\", data_dict)\n",
    "# items() 메서드 사용\n",
    "print(\"Items:\")\n",
    "for key, value in data_dict.items():\n",
    "  print(f\"Key: {key}, Value: {value}\")\n",
    "# keys() 메서드 사용\n",
    "print(\"\\nKeys:\")\n",
    "for key in data_dict.keys():\n",
    "  print(f\"Key: {key}\")\n",
    "# values() 메서드 사용\n",
    "print(\"\\nValues:\")\n",
    "for value in data_dict.values():\n",
    "  print(f\"Value: {value}\")\n",
    "# len() 메서드 사용\n",
    "print('\\n',len(data_dict))"
   ]
  },
  {
   "cell_type": "markdown",
   "metadata": {},
   "source": [
    "- iteam()메서드\n",
    "  - 딕셔너리의 모든 키-값 쌍을 튜플형태로 반환\n",
    "- keys()메서드\n",
    "  - 딕셔너리의 모든 키를 반환\n",
    "- values()메서드\n",
    "  - 딕셔너리의 모든 값을 반환"
   ]
  },
  {
   "cell_type": "code",
   "execution_count": null,
   "metadata": {},
   "outputs": [],
   "source": [
    "#딕셔너리 생성\n",
    "example_dict={'name':'Alice','age':25,'city':'Seoul'}\n",
    "# item()메서드 사용\n",
    "print('Items: ')\n",
    "for key, value in example_dict.items():\n",
    "  print(f'key: {key},Value: {value}')\n",
    "# keys()메서드 사용\n",
    "print('\\nKeys: ')\n",
    "for key in example_dict.keys():\n",
    "  print(f'key: {key}')\n",
    "# values()메서드 사용\n",
    "print('\\nValues: ')\n",
    "for value in example_dict.values():\n",
    "  print(f'Value: {value}')"
   ]
  },
  {
   "cell_type": "markdown",
   "metadata": {},
   "source": [
    "## 7. 집합(set)"
   ]
  },
  {
   "cell_type": "markdown",
   "metadata": {},
   "source": [
    "중복을 허용하지 않는  \n",
    "순서가 없는 데이터구조  \n",
    "수학에서의 집합개념과 유사 : 다양한 집합 연산수행가능"
   ]
  },
  {
   "cell_type": "markdown",
   "metadata": {},
   "source": [
    "### --- 변수 = set() or 변수 = {}"
   ]
  },
  {
   "cell_type": "markdown",
   "metadata": {},
   "source": [
    "중괄호{}를 사용, 값을 포함하는 집합 생성(빈집합은 {}가 아닌set으로 생성)\n",
    "add() 메서드로 집합에 원소 추가 가능 : fruits.add(\"orange\")  \n",
    "원소 제거: remove() 또는 discard() 메서드를 사용하여 집합에서 원소를 제거할 수 있습니다. remove()는 원소가 없을 경우 오류를 발생시키지만, discard()는 그렇지 않습니다.  \n",
    "파이썬 집합 자료형을 사용하면 데이터의 중복을 없애고, 효율적인 집합 연산을 수행가능합니다."
   ]
  },
  {
   "cell_type": "code",
   "execution_count": null,
   "metadata": {},
   "outputs": [],
   "source": [
    "a=set()\n",
    "b=set\n",
    "c={0}\n",
    "a=1,2,3,3,4,5,1,2,3\n",
    "b(1,12,23,23,4)\n",
    "c=1,2,3,4,5,5,2\n",
    "print(a,b,c)"
   ]
  },
  {
   "cell_type": "markdown",
   "metadata": {},
   "source": [
    "### ---집합의 주요 메소드\n",
    "0. **`set(elem)`**: 집합자료형으로 생성/변환\n",
    "1. **`set.update(iterable)`**: 집합에 iterable 요소들을 추가.\n",
    "2. **`add(elem)`**: 집합에 요소 `elem`을 추가합니다. 이미 존재하는 요소는 추가되지 않습니다.\n",
    "3. **`remove(elem)`**: 집합에서 요소 `elem`을 제거합니다. 요소가 존재하지 않으면 `KeyError`가 발생합니다.\n",
    "4. **`discard(elem)`**: 집합에서 요소 `elem`을 제거합니다. 요소가 존재하지 않아도 오류가 발생하지 않습니다.\n",
    "5. **`pop()`**: 집합에서 임의의 요소를 제거하고 그 요소를 반환합니다. 집합이 비어 있으면 `KeyError`가 발생합니다.\n",
    "6. **`clear()`**: 집합의 모든 요소를 제거합니다.\n",
    "7. **`len()`**: 집합의 요소 개수를 반환합니다.\n",
    "8. **`min()`**: 집합의 최소값을 반환합니다. 집합이 비어 있으면 `ValueError`가 발생합니다.\n",
    "9. **`max()`**: 집합의 최대값을 반환합니다. 집합이 비어 있으면 `ValueError`가 발생합니다.\n",
    "10. **`union(other_set)`** 또는 **`|`**: 두 집합의 합집합을 반환합니다.\n",
    "11. **`intersection(other_set)`** 또는 **`&`**: 두 집합의 교집합을 반환합니다.\n",
    "12. **`difference(other_set)`** 또는 **`-`**: 첫 번째 집합에만 있는 요소를 반환합니다.\n",
    "13. **`symmetric_difference(other_set)`** 또는 **`^`**: 두 집합에만 있는 요소를 반환합니다.\n",
    "14. **`issubset(other_set)`**: 현재 집합이 다른 집합의 부분집합인지 확인합니다.\n",
    "15. **`issuperset(other_set)`**: 현재 집합이 다른 집합의 상위 집합인지 확인합니다.\n",
    "16. **`copy()`**: 집합의 얕은 복사본을 반환합니다."
   ]
  },
  {
   "cell_type": "code",
   "execution_count": null,
   "metadata": {},
   "outputs": [],
   "source": [
    "# 집합 생성\n",
    "set_s = set()\n",
    "set_a = {1, 2, 3, 4, 5}\n",
    "set_b = {4, 5, 6, 7, 8}\n",
    "# 요소 추가\n",
    "set_a.add(6)\n",
    "set_b.add(9)\n",
    "print(\"set_a에 6 추가:\", set_a)\n",
    "print(\"set_b에 9 추가:\", set_b)\n",
    "# 요소 제거\n",
    "set_a.remove(2)\n",
    "print(\"set_a에서 2 제거:\", set_a)\n",
    "set_b.discard(9)\n",
    "print(\"set_a에서 9 제거:\", set_b)\n",
    "# 요소 개수\n",
    "print(\"set_a의 요소 개수:\", len(set_a))\n",
    "# 최소값 및 최대값\n",
    "print(\"set_a의 최소값:\", min(set_a))\n",
    "print(\"set_a의 최대값:\", max(set_a))\n",
    "# 합집합 |\n",
    "print(\"set_a와 set_b의 합집합:\", set_a.union(set_b))\n",
    "print(\"set_a와 set_b의 합집합:\", set_a|(set_b))\n",
    "# 교집합 &\n",
    "print(\"set_a와 set_b의 교집합:\", set_a.intersection(set_b))\n",
    "print(\"set_a와 set_b의 교집합:\", set_a&(set_b))\n",
    "# 차집합 -\n",
    "print(\"set_a와 set_b의 차집합:\", set_a.difference(set_b))\n",
    "print(\"set_a와 set_b의 차집합:\", set_a-(set_b))\n",
    "# 대칭 차집합 ^\n",
    "print(\"set_a와 set_b의 대칭 차집합:\", set_a.symmetric_difference(set_b))\n",
    "print(\"set_a와 set_b의 대칭 차집합:\", set_a^(set_b))\n",
    "# 부분집합 확인\n",
    "print(\"set_a가 set_b의 부분집합인지:\", set_a.issubset(set_b))\n",
    "# 상위 집합 확인\n",
    "print(\"set_b가 set_a의 상위 집합인지:\", set_b.issuperset(set_a))\n",
    "# copy()\n",
    "set_c = set_a.copy()\n",
    "print(\"set_a의 복사본 set_c:\", set_c)\n",
    "# 모든 요소 제거\n",
    "set_a.clear()\n",
    "print(\"set_a를 비운 후:\", set_a)"
   ]
  },
  {
   "cell_type": "markdown",
   "metadata": {
    "id": "fjAq74C-VPfi"
   },
   "source": [
    "# - 연산자(Operator)"
   ]
  },
  {
   "cell_type": "markdown",
   "metadata": {
    "id": "Whsf7VPnVPfi"
   },
   "source": [
    "## 1. 연산자의 우선순위(priority)"
   ]
  },
  {
   "cell_type": "markdown",
   "metadata": {
    "id": "MFb92MBdVPfi"
   },
   "source": [
    "코드의 동작 방식을 예측하고 오류를 방지\n",
    "1. 괄호(): 가장높은 우선순위, 괄호안의 표현식을 우선실행\n",
    "2. await x : await표현식\n",
    "3. 지수 **: 지수를 계산\n",
    "4. 단항연산자 +x, -x, ~x: 양수, 음수, 비트 반전\n",
    "5. 곱셈,행렬곱셈,나눗셈,몫,나머지 *, @, /, //, %: 왼쪽에서 오른쪽으로 평가\n",
    "6. +, - : 왼쪽에서 오른쪽으로 평가\n",
    "7. 비트 시프트 <<, >>: 비트 이동 연산\n",
    "8. 비트 &: 비트 단위로 AND 연산을 수행\n",
    "9. 비트 ^: 비트 단위로 XOR 연산을 수행\n",
    "10. 비트 |: 비트 단위로 OR 연산을 수행\n",
    "11. 비교 연산자 <, <=, >, >=, !=, ==: 왼쪽에서 오른쪽으로 평가\n",
    "12. 할당연산자 =, +=, -=, *=, /=, %=, **=, //=, &=, |=, ^=, >>=, <<=: 오른쪽에서 왼쪽으로\n",
    "13. 객체비교 연산자 is, is not: 객체의 동일성을 검사\n",
    "14. 멤버 연산자 in, not in: 시퀀스 내에서의 멤버십을 검사\n",
    "15. 논리 not: 논리 부정 연산\n",
    "16. 논리 and: 논리 곱 연산\n",
    "17. 논리 or: 논리 합 연산\n",
    "18. if else: 조건부 표현식\n",
    "19. lambda: 람다 표현식\n",
    "20. :=  할당표현식(바타코끼리 연산자)"
   ]
  },
  {
   "cell_type": "markdown",
   "metadata": {
    "id": "hbW81CQ4VPfk"
   },
   "source": [
    "## 2. 산술연산자 +,-,*,**,/,//,%(곱/제곱/나누기/몫/나머지)(Arithmetic operator)"
   ]
  },
  {
   "cell_type": "code",
   "execution_count": null,
   "metadata": {},
   "outputs": [],
   "source": [
    "# 나머지 연산에서의 음수결과\n",
    "print(5 % 3)    # 2\n",
    "print(-5 % 3)   # 1\n",
    "\n",
    "# 부동소수점 오차 (Floating Point Error)\n",
    "print(0.1 + 0.2) # 0.30000000000000004\n",
    "\n",
    "from decimal import Decimal\n",
    "print(Decimal('0.1') + Decimal('0.2')) # 0.3\n",
    "\n",
    "# 반올림\n",
    "# 파이썬의 round()는 .5일때 \"가까운 짝수\"로 반올림하는 Bankers' Rounding을 사용\n",
    "# 반복적인 반올림 적용시 통계적으로 양의 오차와 음의 오차가 서로 상쇄되어 평균오차가 0으로 수렴하는 반올림 방식\n",
    "print(round(2.5))\n",
    "\n",
    "# .5에서 올림하는 round-half-up 방식 반올림\n",
    "# 다만 음수는 내림 처리\n",
    "def custom_round1(n):\n",
    "    return int(n + 0.5)\n",
    "print(custom_round1(2.5))\n",
    "\n",
    "# math 모듈을 활용한 정수 반올림 구현\n",
    "import math\n",
    "# math.copysign(x, y) : y의 부호를 abs(x)에 적용한 값을 반환\n",
    "def custom_round(n):\n",
    "    return int(math.copysign(math.floor(abs(n) + 0.5), n))\n",
    "print(custom_round(-2.5))"
   ]
  },
  {
   "cell_type": "markdown",
   "metadata": {
    "id": "O9tC5HQHVPfi"
   },
   "source": [
    "## 3. 비교연산자(Relational operator)"
   ]
  },
  {
   "cell_type": "markdown",
   "metadata": {
    "id": "TF5WhbsZVPfi"
   },
   "source": [
    "*   동등비교(==): 두 값이 같으면 참을 반환\n",
    "*   부등비교(!=): 두 값이 다르면 참을 반환\n",
    "*   크기비교(>, <, >=, <=): 두 값 크기비교\n",
    "*   멤버십 테스트(in): 한 값이 다른 값의 멤버인지 확인 +(not in)\n",
    "*   식별성 테스트(is): 두 객체가 동일한 \"객체\"인지+(is not)"
   ]
  },
  {
   "cell_type": "markdown",
   "metadata": {
    "id": "KTvMWYt4VPfi"
   },
   "source": [
    "## 4. 논리연산자(Logical operator)"
   ]
  },
  {
   "cell_type": "markdown",
   "metadata": {
    "id": "M9morWU_x0B4"
   },
   "source": [
    "a and b: 두 조건이 모두참일때 참을 반환\\\n",
    "x or y: x,y 두 조건중 하나가 참일때 참\\\n",
    "not x: x가 거짓일때 참을 반환"
   ]
  },
  {
   "cell_type": "markdown",
   "metadata": {
    "id": "SLTRsHgCVPfk"
   },
   "source": [
    "## 5. 대입연산자(Assignment operator)"
   ]
  },
  {
   "cell_type": "markdown",
   "metadata": {
    "id": "cL8vfKw0GHQe"
   },
   "source": [
    "y = x : 대입연산자  \n",
    "우측의 연산결과를 좌측에 대입  \n",
    "복합 연산자 +=, -=, *=, **=, /=, //=, %= 산술연산과 대입연산을 합친 연산자  \n",
    "할당표현식(바다코끼리 연산자) \":=\" -> while (n := x*y)==0: -> 표현식내에서 변수에 바로 할당되어 사용가능"
   ]
  },
  {
   "cell_type": "code",
   "execution_count": null,
   "metadata": {
    "id": "5E2tyYhS1ZvN"
   },
   "outputs": [],
   "source": [
    "a = 5 # 0101 b = 3 # 0011 print(a | b) # 7 (0111)\n",
    "while (a:=a-1) > 0: print(a)"
   ]
  },
  {
   "cell_type": "markdown",
   "metadata": {
    "id": "-6g-jt_6VPfk"
   },
   "source": [
    "## 6. 비트연산자(Bitwise operator)"
   ]
  },
  {
   "cell_type": "markdown",
   "metadata": {
    "id": "hBYtBt26lzhL"
   },
   "source": [
    "파이썬에서 비트연산자는 정수형데이터를 비트단위로 조작시 사용  \n",
    "주로 이진수표현을 다룰때 유용\n",
    "메모리사용/성능 최적화가 필요할 때 유용하게 사용\n",
    "1. 비트 AND (&)  \n",
    "두 비트가 모두 1일 때 1을 반환\n",
    "a = 5  # 0101\n",
    "b = 3  # 0011\n",
    "print(a & b)  # 1 (0001)\n",
    "\n",
    "2. 비트 OR (|)  \n",
    "두 비트 중 하나라도 1이면 1을 반환  \n",
    "a = 5  # 0101\n",
    "b = 3  # 0011\n",
    "print(a | b)  # 7 (0111)\n",
    "\n",
    "3. 비트 XOR (^)  \n",
    "\n",
    "두 비트가 서로 다를 때 1을 반환  \n",
    "a = 5  # 0101\n",
    "b = 3  # 0011\n",
    "print(a ^ b)  # 6 (0110)\n",
    "\n",
    "4. 비트 NOT (\\~)  \n",
    "각 비트를 반전(0은 1, 1은 0으로)  \n",
    "a = 5  # 0101\n",
    "print(~a)  # -6 (비트 반전 결과는 부호 비트를 포함한 2의 보수 형태로 나타납니다)\n",
    "\n",
    "5. 비트 왼쪽 시프트 (<<)  \n",
    "비트를 왼쪽으로 지정된 수만큼 이동  \n",
    "오른쪽은 0으로 채워집니다.  \n",
    "a = 5  # 0101\n",
    "print(a << 1)  # 10 (1010)\n",
    "\n",
    "6. 비트 오른쪽 시프트 (>>)  \n",
    "비트를 오른쪽으로 지정된 수만큼 이동  \n",
    "왼쪽은 부호 비트로 채워집니다.  \n",
    "a = 5  # 0101\n",
    "print(a >> 1)  # 2 (0010)\n",
    "\n"
   ]
  },
  {
   "cell_type": "code",
   "execution_count": null,
   "metadata": {},
   "outputs": [],
   "source": [
    "# 비트 연산 (Bitwise Operations)\n",
    "a = 5  # 이진수로 0101\n",
    "b = 3  # 이진수로 0011\n",
    "c = -2 # 이진수로 1110 (2의 보수)\n",
    "c = -3 # 이진수로 1101 (2의 보수)\n",
    "d = -4 # 이진수로 1100 (2의 보수)\n",
    "\n",
    "print(a & b)  # 1 (0101 & 0011 -> 0001) # AND\n",
    "print(a | b)  # 7 (0101 | 0011 -> 0111) # OR\n",
    "print(a ^ b)  # 6 (0101 ^ 0011 -> 0110) # XOR\n",
    "print(~a)      # -6 (~0101 -> 1010, 2의 보수로 -6) # NOT\n",
    "print(a << 1)  # 10 (0101 << 1 -> 1010, 왼쪽으로 한 비트 이동)\n",
    "print(a >> 1)  # 2 (0101 >> 1 -> 0010, 오른쪽으로 한 비트 이동)\n",
    "# 비트연산 활용 리스트\n",
    "# 짝수 판별: n & 1\n",
    "# 2의 배수 판별 : n & (n-1)\n",
    "# 최하위 비트 찾기 : n & -n\n",
    "# 최하위 비트 지우기 : n & (n-1)\n",
    "# 최하위 비트 1로 채우기 : n | (n-1)\n",
    "# 최하위 비트 0으로 채우기 : n & (n+1)\n",
    "# 모든 비트 1로 채우기 : (1 << n) - 1\n",
    "# 모든 비트 0으로 채우기 : ~((1 << n) - 1)\n",
    "# n번째 비트 확인 : n & (1 << n)\n",
    "# n번째 비트 지우기 : n & ~(1 << n)\n",
    "# n번째 비트 1로 채우기 : n | (1 << n)\n",
    "# n번째 비트 0으로 채우기 : n & ~(1 << n)\n",
    "# n번째 비트 바꾸기 : n ^ (1 << n)\n",
    "# 마지막 비트 1로 채우기 : n | (n-1)\n",
    "# 마지막 비트 0으로 채우기 : n & (n+1)\n",
    "# 1의 개수 세기 : bin(n).count('1')\n",
    "# 0의 개수 세기 : bin(n).count('0')\n",
    "# 비트 뒤집기 : ~n\n",
    "# 비트 역순 : int(bin(n)[:1:-1], 2)\n",
    "# 비트 스왑 : ((n & 0xAAAAAAAA) >> 1) | ((n & 0x55555555) << 1)\n",
    "\n",
    "# 비트연산 심화\n",
    "# 1. 1의 개수 세기 : bin(n).count('1')\n",
    "# 2. 0의 개수 세기 : bin(n).count('0')\n",
    "# 3. 비트 뒤집기 : ~n\n",
    "# 4. 비트 역순 : int(bin(n)[:1:-1], 2)\n",
    "# 5. 비트 스왑 : ((n & 0xAAAAAAAA) >> 1) | ((n & 0x55555555) << 1)\n",
    "# 6. 2의 보수 : ~n + 1\n",
    "# 7. 비트를 오른쪽으로 n번 회전 : (n >> x) | (n << (32-x))\n",
    "# 8. 비트를 왼쪽으로 n번 회전 : (n << x) | (n >> (32-x))\n",
    "# 9. 비트를 오른쪽으로 n번 회전 (음수 고려) : (n >> x) | ((n & ((1 << x) - 1)) << (32-x))\n",
    "# 10. 비트를 왼쪽으로 n번 회전 (음수 고려) : ((n << x) & 0xFFFFFFFF) | (n >> (32-x))\n",
    "# 11. 2의 제곱수 판별 : n & (n-1) == 0\n",
    "# 12. 2의 제곱수 중 가장 큰 수 : 1 << (n.bit_length() - 1)\n",
    "# 13. 2의 제곱수 중 가장 작은 수 : 1 << n.bit_length()\n",
    "# 14. 2의 제곱수 중 가장 가까운 수 : 1 << (n-1).bit_length()\n",
    "# 15. 2의 제곱수 중 가장 가까운 수 (음수 포함) : 1 << n.bit_length()\n",
    "# 16. 2의 제곱수 중 가장 가까운 수 (음수 포함) : 1 << (n-1).bit_length()"
   ]
  },
  {
   "cell_type": "markdown",
   "metadata": {},
   "source": [
    "## 7. 수치연산 내장함수"
   ]
  },
  {
   "cell_type": "markdown",
   "metadata": {},
   "source": [
    "- sum(iterable) : 반복가능(iterable) 객체의 합을 반환\n",
    "- abs(x) : 절대값 반환\n",
    "- max(iterable)/min(iterable) : 최댓값/최솟값 반환\n",
    "- round() : 숫자 반올림  "
   ]
  },
  {
   "cell_type": "code",
   "execution_count": null,
   "metadata": {},
   "outputs": [],
   "source": [
    "print(abs(-5))  # 절대값반환\n",
    "print(round(3.14159, 2))  # 숫자반올림 : 출력: 3.14\n",
    "print(divmod(13,5)) # (몫, 나머지) : (13//5, 13%5)\n",
    "print(pow(-1,0.5), pow(10,2,70)) # pow(x,y,z) (x**y)%z # 음수나 비정수지수 처리가능 # 복소수결과처리가능# 빠름\n",
    "print(sum([1, 2, 3]))  # 모든요소의 합\n",
    "print(min(1, 2, 3), max(1, 2, 3))  # 최솟값, 최댓값\n",
    "round(3.14159, 2) # 3.14\n",
    "round(99.95, 0) # 100\n",
    "round(550, -1) # 550\n",
    "round(875, -2) # 900"
   ]
  },
  {
   "cell_type": "markdown",
   "metadata": {
    "id": "KQ8vvhBvEOmf"
   },
   "source": [
    "# - 제어문"
   ]
  },
  {
   "cell_type": "markdown",
   "metadata": {
    "id": "Gm-jvW1H73KW"
   },
   "source": [
    " 프로그램의 구조/흐름을 제어하는 문장. 조건에 따라 코드의 실행경로를 변경하거나 반복실행을 가능하게 한다."
   ]
  },
  {
   "cell_type": "markdown",
   "metadata": {
    "id": "donWgg39ESTe"
   },
   "source": [
    "## 1. 조건문"
   ]
  },
  {
   "cell_type": "markdown",
   "metadata": {
    "id": "bQPhSCPbfhBL"
   },
   "source": [
    "### if와 삼항연산자"
   ]
  },
  {
   "cell_type": "code",
   "execution_count": null,
   "metadata": {},
   "outputs": [],
   "source": [
    "if a==b:\n",
    "  print('a는 b와 같다')\n",
    "elif a>b:\n",
    "  print('a는 b보다 크다')\n",
    "else:\n",
    "  print('a는 b보다 작다')\n",
    "# 삼항연산자\n",
    "'''\n",
    "if 조건문:\n",
    "    참일때\n",
    "else:\n",
    "    거짓일때\n",
    "한줄로 간결하게 나타내는 문법\n",
    "[참일때] if [조건문] else [거짓일때]\n",
    "'''\n",
    "# 삼항연산 중첩\n",
    "('조건1이 True' if '조건1' else ('조건2가 True' if '조건1이 False이면서 조건2'else '조건2가 False'))\n",
    "x = -6\n",
    "a = (x if x>0 else -x if x%2 else x**2) # (x>0 일때 x, else일때 ( x%2==가 혹수일때 -x, 짝수일때 x**2 ) )\n",
    "a"
   ]
  },
  {
   "cell_type": "markdown",
   "metadata": {
    "id": "KlqopFoXfkYC"
   },
   "source": [
    "### ---switch 파이썬에선 다른걸로 대체?"
   ]
  },
  {
   "cell_type": "markdown",
   "metadata": {
    "id": "KbXpUpnufssq"
   },
   "source": [
    "switch ( 변수 자리 ) { case 값 : ...; break; ... default: …; break; }"
   ]
  },
  {
   "cell_type": "markdown",
   "metadata": {
    "id": "tAJWPiNmezU7"
   },
   "source": [
    "## 2. 반복문"
   ]
  },
  {
   "cell_type": "markdown",
   "metadata": {
    "id": "1WdMgurBfwQc"
   },
   "source": [
    "### 2.1) for"
   ]
  },
  {
   "cell_type": "code",
   "execution_count": null,
   "metadata": {
    "colab": {
     "base_uri": "https://localhost:8080/",
     "height": 299
    },
    "executionInfo": {
     "elapsed": 360,
     "status": "error",
     "timestamp": 1720375691145,
     "user": {
      "displayName": "감수",
      "userId": "03564591016025165141"
     },
     "user_tz": -540
    },
    "id": "-lx7337sYKky",
    "outputId": "7db1e407-68fd-42fb-d8ba-e48dd06bbda5"
   },
   "outputs": [],
   "source": [
    "for i in range(5):\n",
    "  print(i)\n",
    "\n",
    "a = [1, 2, 3, 4, 5]\n",
    "for i in range(len(a)):\n",
    "    print(i)\n",
    "\n",
    "for i in a:\n",
    "    print(i)\n",
    "\n",
    "d = {'a': 1, 'b': 2, 'c': 3}\n",
    "for key in d:\n",
    "    print(key, d[key])\n",
    "\n",
    "t = (1, 2, 3, 4, 5)\n",
    "for i in t:\n",
    "    print(i)\n",
    "\n",
    "s = \"hello\"\n",
    "for char in s:\n",
    "    print(char)\n",
    "\n",
    "# enumerate를 사용하여 인덱스와 값을 동시에 얻기:\n",
    "a = [1, 2, 3, 4, 5]\n",
    "for index, value in enumerate(a):\n",
    "    print(index, value)"
   ]
  },
  {
   "cell_type": "markdown",
   "metadata": {},
   "source": [
    "#### 2.1.1 컴프리헨션"
   ]
  },
  {
   "cell_type": "code",
   "execution_count": null,
   "metadata": {},
   "outputs": [],
   "source": [
    "lst1 = [i for i in range(10)] # [0,1,2,3,4,5,6,7,8,9]\n",
    "lst2 = [x for x in range(10) if x%2 == 0] # [0, 2, 4, 6, 8]\n",
    "lst3 = [x**2 for x in range(10)] # [0, 1, 4, 9, 16, 25, 36, 49, 64, 81]\n",
    "lst4 = [(x, y) for x in range(1, 3) for y in range(1, 3)] # [(1, 1), (1, 2), (2, 1), (2, 2)]\n",
    "matrix = [[1, 2], [3, 4], [5, 6]]\n",
    "flat_list = [x for row in matrix for x in row] # [1, 2, 3, 4, 5, 6]\n",
    "# if-else 조건 사용 # 짝수는 그대로, 홀수는 -1로 변환\n",
    "result = [x if x % 2 == 0 else -1 for x in range(10)] # [0, -1, 2, -1, 4, -1, 6, -1, 8, -1]\n",
    "[print(i) for i in range(5)] # print(i)를 5번 실행, [None,None,None,None,None]\n",
    "set1 = {i for i in range(10)} # set 집합 컴프리헨션\n",
    "# 두 개의 리스트로 가능한 조합을 모두 생성 (집합 사용)\n",
    "set2 = {x + y for x in [1, 2, 3] for y in [10, 20, 30]}  # {11, 12, 13, 21, 22, 23, 31, 32, 33}\n",
    "\n",
    "\n",
    "# (반복자)반복가능한객체 생성\n",
    "iterator = (1,2,3,4)\n",
    "(i for i in iterator)"
   ]
  },
  {
   "cell_type": "code",
   "execution_count": null,
   "metadata": {},
   "outputs": [],
   "source": [
    "# 딕셔너리 컴프리헨션\n",
    "dic1 = {key:value for key,value in enumerate(range(10,0,-1))}\n",
    "# 조건 딕셔너리 컴프리헨션\n",
    "even_squares = {x: x**2 for x in range(10) if x % 2 == 0}# 짝수인 값만 딕셔너리에 포함시키기\n",
    "print(even_squares)  # {0: 0, 2: 4, 4: 16, 6: 36, 8: 64}\n",
    "# 리스트의 요소를 딕셔너리 키로, 그 길이를 값으로 설정\n",
    "words = ['apple', 'banana', 'cherry']\n",
    "lengths = {word: len(word) for word in words}\n",
    "print(lengths)  # {'apple': 5, 'banana': 6, 'cherry': 6}\n",
    "# 기존 딕셔너리의 값을 변환하여 새로운 딕셔너리 만들기\n",
    "original_dict = {'a': 1, 'b': 2, 'c': 3}\n",
    "modified_dict = {key: value**2 for key, value in original_dict.items()}\n",
    "print(modified_dict)  # {'a': 1, 'b': 4, 'c': 9}\n",
    "# 값이 2 이상인 항목들만 선택하여 딕셔너리 생성\n",
    "filtered_dict = {key: value for key, value in original_dict.items() if value >= 2}\n",
    "print(filtered_dict)  # {'b': 2, 'c': 3}\n",
    "# 두 리스트를 묶어서 딕셔너리 생성\n",
    "keys = ['name', 'age', 'location']\n",
    "values = ['Alice', 25, 'New York']\n",
    "person = {key: value for key, value in zip(keys, values)}\n",
    "print(person)  # {'name': 'Alice', 'age': 25, 'location': 'New York'}\n",
    "# 딕셔너리 내에서 또 다른 딕셔너리 만들기\n",
    "nested_dict = {x: {y: y**2 for y in range(3)} for x in range(2)}\n",
    "print(nested_dict)  # {0: {0: 0, 1: 1, 2: 4}, 1: {0: 0, 1: 1, 2: 4}}\n",
    "# 딕셔너리에서 키와 값을 서로 바꾸기\n",
    "original_dict = {'a': 1, 'b': 2, 'c': 3}\n",
    "reversed_dict = {value: key for key, value in original_dict.items()}\n",
    "print(reversed_dict)  # {1: 'a', 2: 'b', 3: 'c'}\n",
    "# 문자열에서 각 문자의 등장 횟수를 세는 딕셔너리\n",
    "sentence = 'hello world'\n",
    "char_count = {char: sentence.count(char) for char in set(sentence)}\n",
    "print(char_count)  # {'l': 3, 'r': 1, 'o': 2, 'w': 1, 'h': 1, 'e': 1, ' ': 1, 'd': 1}\n"
   ]
  },
  {
   "cell_type": "markdown",
   "metadata": {},
   "source": [
    "#### 2.1.2 for ~ else"
   ]
  },
  {
   "cell_type": "code",
   "execution_count": null,
   "metadata": {},
   "outputs": [],
   "source": [
    "# for ~ else 반복문이 모두 정상 종료되면 else문이 실행\n",
    "# break 등으로 중단되면 실행되지 않음\n",
    "for i in range(10):\n",
    "    break\n",
    "else:\n",
    "    print('끝')\n",
    "# for else 구문을 이용한 2중 for문 종료\n",
    "# 특정조건에서 break로 반복이 중단\n",
    "# -> else: continue 가 실행되지 않고 break로 넘어가 2중for문 종료\n",
    "for i in range(10):\n",
    "    for j in range(10):\n",
    "        if j+i == 17:\n",
    "            break\n",
    "    else:\n",
    "        continue\n",
    "    break\n",
    "# 조건을 만족하고 도중에 중단되면 계속 반복\n",
    "# -> 조건을 만족하는 경우가 없다면 else:break실행 for문 종료\n",
    "for i in [1,2,3,4,5,6,7,8,9]:\n",
    "    for j in range(10, 20):\n",
    "        if j == i:\n",
    "            print(i*2)\n",
    "            break\n",
    "    else:\n",
    "        break\n"
   ]
  },
  {
   "cell_type": "markdown",
   "metadata": {
    "id": "M3j9RcI_f2t7"
   },
   "source": [
    "### 2.2) while"
   ]
  },
  {
   "cell_type": "code",
   "execution_count": null,
   "metadata": {},
   "outputs": [],
   "source": [
    "uinput = ''\n",
    "while uinput != 'exit':\n",
    "  uinput  = input('exit:')\n",
    "print('탈출')"
   ]
  },
  {
   "cell_type": "markdown",
   "metadata": {
    "id": "gkIZ1HAUw7Y2"
   },
   "source": [
    "### 반복제어문"
   ]
  },
  {
   "cell_type": "markdown",
   "metadata": {
    "id": "7MLQEWAyxGvL"
   },
   "source": [
    "- break\n",
    "  - 반복문을 즉시 종료\n",
    "- continue\n",
    "  - 반복문의 나머지를 스킵하고 다음 반복으로 넘어가 실행\n",
    "- pass\n",
    "  - 아무작업도 수행하지 않고 넘어감. 코드의 구조를 잡을때 사용.  "
   ]
  },
  {
   "cell_type": "markdown",
   "metadata": {
    "id": "G_Aprd_xgLtt"
   },
   "source": [
    "## 3. 예외처리"
   ]
  },
  {
   "cell_type": "markdown",
   "metadata": {
    "id": "ouVFgJ4H8pJV"
   },
   "source": [
    "else: 앞의 조건이 모두 거짓일때 실행  \n",
    "\n",
    "try: 오류가 발생했을때도 멈추지않고 except 블록을 실행  \n",
    "except: try블록에서 오류나 예외가 발생할시 실행  \n",
    "\n",
    "finally: try 실행 후 오류 발생 여부와 상관없이 항상  실행할 코드를 시작하는 키워드  \n",
    "raise 조건: 예외를 발생시키는 키워드  \n",
    "\n",
    "assert 조건, '에러메세지' : 조건이 거짓일 경우 AssertionError 예외발생  \n",
    "주로 디버깅 목적으로 사용되며, 코드가 특정조건을 만족하는지 확인할 때 유용  \n",
    "\n",
    "\n",
    "\n",
    "외에도 ZeroDivisionError, IndexError, TypeError 등 다양한 내장예외클래스들 있다."
   ]
  },
  {
   "cell_type": "code",
   "execution_count": null,
   "metadata": {
    "id": "ho3RFCO2HgCh"
   },
   "outputs": [],
   "source": [
    "try:\n",
    "    result = 10 / 0\n",
    "except ZeroDivisionError as e:\n",
    "    print(\"0으로 나눌 수 없습니다:\", e)\n",
    "else:\n",
    "    print(\"계산 성공:\", result)\n",
    "finally:\n",
    "    print(\"이 메시지는 항상 출력됩니다.\")"
   ]
  },
  {
   "cell_type": "code",
   "execution_count": null,
   "metadata": {
    "id": "PhGyCFv2N3Vo"
   },
   "outputs": [],
   "source": [
    "def check_age(age):\n",
    "    if age < 0:\n",
    "        raise ValueError(\"나이는 음수가 될 수 없습니다.\")\n",
    "    return age\n",
    "\n",
    "try:\n",
    "    check_age(-1)\n",
    "except ValueError as e:\n",
    "    print(e)"
   ]
  },
  {
   "cell_type": "code",
   "execution_count": null,
   "metadata": {
    "id": "l8MCzehVN39T"
   },
   "outputs": [],
   "source": [
    "def divide(a, b):\n",
    "    assert b != 0, \"분모가 0이 될 수 없습니다.\"\n",
    "    return a / b\n",
    "\n",
    "try:\n",
    "    result = divide(10, 0)\n",
    "except AssertionError as e:\n",
    "    print(e)\n"
   ]
  },
  {
   "cell_type": "markdown",
   "metadata": {},
   "source": [
    "## 4. 검증 및 오류 발생"
   ]
  },
  {
   "cell_type": "markdown",
   "metadata": {},
   "source": [
    "1. python ValueError : 부적절한 값을 가진 인자를 받았을 때\n",
    "   - 맞는 값이 없거나 참조값이 없을때\n",
    "2. python IndexError\n",
    "   - 범위를 벗어난 index에 접근하려 할 때\n",
    "3. python SyntaxError\n",
    "   - 문법오류\n",
    "4. python NameError\n",
    "   - 변수 이름을 찾을 수 없는 경우\n",
    "5. python ZeroDivisionError : 0으로 나눗셈을 하는 경우\n",
    "6. python FileNotFoundError : 접근하려는 파일/디렉터리가 없는 경우\n",
    "7. python TypeError : 잘못된 타입이 전달 된 경우\n",
    "8. python AttributeError : dot(.) = 어트리뷰트 참조나 대입시, 잘못 호출하거나 대입한 경우\n",
    "9.  python KeyError : 딕셔너리 자료형에서 접근하려는 키값이 없는 경우\n",
    "10. python OverFlowError : 연산결과가 datatype이 표현 가능한 숫자의 범위를 넘어가는 경우\n",
    "    - python3 에서는 flaot(실수형) OverFlow 발생가능\n",
    "11. 기타등등"
   ]
  },
  {
   "cell_type": "markdown",
   "metadata": {},
   "source": [
    "- isinstance(x, (str, list))\n",
    "  - x객체가 str/list의 인스턴스인지 확인, 타입검증\n",
    "- assert 조건, '문자열'\n",
    "  - 조건이 거짓일 경우 AssertionError를 발생시키며, 주로 디버깅에 사용\n",
    "- raise \n",
    "  - 무조건 예외를 발생새킨다\n",
    "  - raise 기존파이썬에러키워드\n",
    "  - raise Exception('에러 메시지 사용자 지정 가능')"
   ]
  },
  {
   "cell_type": "code",
   "execution_count": null,
   "metadata": {},
   "outputs": [],
   "source": [
    "print(isinstance(10, int)) # True\n",
    "# assert isinstance(10, str), '10은 str의 인스턴스가 아닙니다'\n",
    "# raise KeyError\n",
    "raise Exception('에러 메시지 사용자 지정')"
   ]
  },
  {
   "cell_type": "markdown",
   "metadata": {
    "id": "3lpR0BSQ1bHT"
   },
   "source": [
    "# - 함수"
   ]
  },
  {
   "cell_type": "markdown",
   "metadata": {
    "id": "hOABQVyhYbvz"
   },
   "source": [
    "## --함수정의 & 호출"
   ]
  },
  {
   "cell_type": "markdown",
   "metadata": {
    "id": "fPonEbyV1h8D"
   },
   "source": [
    "반복사용할 코드를 함수로 묶은것\n",
    "1. 매개변수(Parameter Vaiable):  \n",
    "함수를 정의할 때 사용되는 변수  \n",
    "= 메서드 선언의 변수 목록  \n",
    "2. 인수(Argument)\n",
    "함수가 호출될 때 넘기는 변수값   \n",
    "= 메서드 호출시 전달되는 실제값  \n",
    "3. return \"함수의 반환값\"`\n",
    "\n",
    "```\n",
    "def function(매개변수1,parameter2):\n",
    "    sum = 매개변수+parameter\n",
    "    return sum\n",
    "print(function(1,2))\n",
    "출력 : 3\n",
    "#sum대신 print(sum)을 리턴시키고\n",
    "print(함수_function(1,2))\n",
    "#출력:\n",
    "3\n",
    "3\n",
    "```"
   ]
  },
  {
   "cell_type": "code",
   "execution_count": null,
   "metadata": {
    "colab": {
     "base_uri": "https://localhost:8080/"
    },
    "executionInfo": {
     "elapsed": 309,
     "status": "ok",
     "timestamp": 1720077891774,
     "user": {
      "displayName": "감수",
      "userId": "03564591016025165141"
     },
     "user_tz": -540
    },
    "id": "F7kaHZ15nK2N",
    "outputId": "aae2684a-a019-4add-9d55-8f436d5b14ff"
   },
   "outputs": [],
   "source": [
    "def 함수_function(매개변수,parameter):\n",
    "  sum = 매개변수+parameter\n",
    "  # 함수_function에 매개변수,parameter값 을 입력받고 함수코드실행 뒤\n",
    "  return print(sum)          #sum값을 리턴\n",
    "\n",
    "print(함수_function(1,2))"
   ]
  },
  {
   "cell_type": "code",
   "execution_count": null,
   "metadata": {
    "id": "sAfMelLLRjJd"
   },
   "outputs": [],
   "source": [
    "def 함수명(매개변수1,매개변수2,매개변수3='변수3데이터'):\n",
    "  print(f\"{매개변수1}{매개변수2}{매개변수3}의 합 : \")\n",
    "  return 매개변수1+매개변수2+매개변수3\n",
    "\n",
    "def add_all(*입력값을하나의튜플로):\n",
    "  합=0\n",
    "  for i in 입력값을하나의튜플로:\n",
    "    합+=i\n",
    "  return 합\n",
    "print(함수명('hello','world'))\n",
    "print(add_all(1,2,3,4,5))"
   ]
  },
  {
   "cell_type": "markdown",
   "metadata": {
    "id": "SKILMpYY6DCZ"
   },
   "source": [
    "## --기본 매개변수"
   ]
  },
  {
   "cell_type": "code",
   "execution_count": null,
   "metadata": {
    "id": "eZXqU7ONXwvQ"
   },
   "outputs": [],
   "source": [
    "#함수 매개변수에 기본값을 설정하는 방법\n",
    "def greet(name=\"World\"):\n",
    "  print(name)\n",
    "greet()"
   ]
  },
  {
   "cell_type": "code",
   "execution_count": null,
   "metadata": {
    "id": "ECchzegt6Oe7"
   },
   "outputs": [],
   "source": [
    "def 평균(숫자):\n",
    "  return sum(숫자)/len(숫자)\n",
    "nums =[1,2,3,4,5]\n",
    "avg = 평균(nums)\n",
    "print(\"리스트평균:\",avg)"
   ]
  },
  {
   "cell_type": "code",
   "execution_count": null,
   "metadata": {
    "id": "GkpzTSVo6m60"
   },
   "outputs": [],
   "source": [
    "def 제곱(num):\n",
    "  return num**2\n",
    "num =int(input(\"숫자:\"))\n",
    "result=제곱(num)\n",
    "print(\"제곱:\",result)"
   ]
  },
  {
   "cell_type": "code",
   "execution_count": null,
   "metadata": {
    "id": "EsPgN45B7AOr"
   },
   "outputs": [],
   "source": [
    "def string_length(string):\n",
    "  return len(string)\n",
    "length=string_length('hello, World!')\n",
    "print('문자열길이:',length)"
   ]
  },
  {
   "cell_type": "code",
   "execution_count": null,
   "metadata": {
    "id": "2qXGavs67htT"
   },
   "outputs": [],
   "source": [
    "def repeat_string(s,n):\n",
    "  return s*n\n",
    "print(repeat_string('hello',3))"
   ]
  },
  {
   "cell_type": "markdown",
   "metadata": {},
   "source": [
    "## 함수 제어문"
   ]
  },
  {
   "cell_type": "markdown",
   "metadata": {},
   "source": [
    "- return\n",
    "- yield"
   ]
  },
  {
   "cell_type": "markdown",
   "metadata": {
    "id": "TH1rV9VD1-0y"
   },
   "source": [
    "## 전역변수(Global Variable)"
   ]
  },
  {
   "cell_type": "markdown",
   "metadata": {},
   "source": [
    "범위(scope):\n",
    " 함수 내/외부 프로그램 전역에서 접근가능한 변수  \n",
    "생명주기(lifetime):  \n",
    "프로그램이 시작될때 생성, 종료시 소멸\n",
    "\n",
    "* 함수내부에서 수정하려면 global키워드사용  \n",
    "그렇지 않을 시 함수내부에서 전역변수와 동명의 지역변수가 생성됨"
   ]
  },
  {
   "cell_type": "markdown",
   "metadata": {},
   "source": [
    "## 지역변수(Local Variable)"
   ]
  },
  {
   "cell_type": "markdown",
   "metadata": {},
   "source": [
    "범위(scope):  \n",
    "오직 함수 내부에서만 접근가능한 변수\n",
    "생명주기(lifetime):  \n",
    "함수 호출시 생성, 종료시 소멸"
   ]
  },
  {
   "cell_type": "code",
   "execution_count": null,
   "metadata": {},
   "outputs": [],
   "source": [
    "### 전역변수선언\n",
    "global_var='전역변수'\n",
    "### 지역변수선언\n",
    "def example_function():\n",
    "  local_var=\"지역변수\"\n",
    "  pirnt('함수내부에서 전역변수접근:',global_var)\n",
    "  print('함수내부에서 지역변수접근:',local_var)\n",
    "###함수 호출\n",
    "example_function\n",
    "###함수외부에서 전역변수 접근\n",
    "print('함수외부에서 전역변수 접근',global_var)\n",
    "###함수외부에서 지역변수 접근 시도(오류발생)\n",
    "try:\n",
    "  print('함수외부에서 지역변수 접근:',local_var)\n",
    "except NameError as e:\n",
    "  print('오류발생:',e)\n",
    "###전역변수선언\n",
    "counter=0\n",
    "def increment_counter():\n",
    "  global counter #전역변수를 사용하겠다고 명시\n",
    "  counter +=1\n",
    "  pirnt('함수내부에서 전역변수 수정',counter)\n",
    "###함수호출\n",
    "increment_counter()\n",
    "increment_counter()\n",
    "###함수외부에서 전역변수 확인\n",
    "print('함수외부에서 전역변수 확인:',counter)"
   ]
  },
  {
   "cell_type": "code",
   "execution_count": null,
   "metadata": {
    "id": "0iH6jhLcs63a"
   },
   "outputs": [],
   "source": [
    "변수 = '전역변수값'\n",
    "\n",
    "def 함수():\n",
    "  변수 = '동명의지역변수값'\n",
    "  print('동명의 지역변수 생성:',변수)\n",
    "\n",
    "함수()\n",
    "print(변수)"
   ]
  },
  {
   "cell_type": "code",
   "execution_count": null,
   "metadata": {
    "id": "eOmaRDFkrag5"
   },
   "outputs": [],
   "source": [
    "#함수 응용실습)예시활용하여 전역변수를 함수에서 global로 선언, 함수에서 사용한 코드작성 후 공유\n",
    "전역변수 = '전역변수값'\n",
    "\n",
    "def 함수():\n",
    "  global 전역변수\n",
    "  전역변수 = '전역변수값_수정'\n",
    "  print('global행을 지우면 같은이름의 지역변수가 추가됨:',전역변수)\n",
    "함수()\n",
    "print(전역변수)"
   ]
  },
  {
   "cell_type": "code",
   "execution_count": null,
   "metadata": {
    "colab": {
     "base_uri": "https://localhost:8080/"
    },
    "executionInfo": {
     "elapsed": 332,
     "status": "ok",
     "timestamp": 1720158637942,
     "user": {
      "displayName": "감수",
      "userId": "03564591016025165141"
     },
     "user_tz": -540
    },
    "id": "XskLDZ02tkaI",
    "outputId": "84c49018-d8b5-4fa3-c428-c023a6b173ea"
   },
   "outputs": [],
   "source": [
    "변수 = '전역변수값'\n",
    "counter = 0\n",
    "\n",
    "def 함수():\n",
    "  global 변수, counter\n",
    "  변수 = '전역변수값_수정'\n",
    "  counter += 1\n",
    "  print('전역변수:',변수)\n",
    "  print('전역변수counter:',counter)\n",
    "\n",
    "def 함수2():\n",
    "  변수 = '지역변수값'\n",
    "  counter = 0\n",
    "  print('지역변수:',변수)\n",
    "  print('지역변수counter:',counter)\n",
    "\n",
    "함수()\n",
    " #출력: 전역변수: 전역변수값_수정\n",
    " #      전역변수counter:1\n",
    "함수()\n",
    " #출력: 전역변수: 전역변수값_수정\n",
    " #      전역변수counter:2\n",
    "함수2()\n",
    " #출력: 지역변수: 지역변수값\n",
    " #      지역변수counter: 0\n",
    "print(변수,'&',counter) #전역변수값_수정 & 2"
   ]
  },
  {
   "cell_type": "markdown",
   "metadata": {
    "id": "3QGJnaWcSTsS"
   },
   "source": [
    "# 내장함수(Built in funtion) & 내장라이브러리"
   ]
  },
  {
   "cell_type": "markdown",
   "metadata": {
    "id": "kj5jKy1IyE1v"
   },
   "source": [
    "### ---입출력 관련 함수"
   ]
  },
  {
   "cell_type": "markdown",
   "metadata": {},
   "source": [
    "print() : 객체를 문자열로 표시  \n",
    "input() : 사용자입력을 문자열로 반환  \n",
    "help(x) : x에 대한 도움말을 출력  \n",
    "globals() : 전역변수 리스트반환  \n",
    "locals() : 또는 vars() :지역변수의 리스트반환  \n",
    ": 정의된 변수 출력시 __dict__속성을 사용해야 함  \n",
    "del(x) : 혹은 del x : 객체를 변수공간에서 삭제  \n",
    "eval(expr):expr문자열을 파이썬코드로 실행  \n",
    "exec(obj) : 파이썬명령을 실행  \n"
   ]
  },
  {
   "cell_type": "markdown",
   "metadata": {},
   "source": [
    "### ---파일 입출력 함수"
   ]
  },
  {
   "cell_type": "markdown",
   "metadata": {},
   "source": [
    "- open(filename[,mode]) : 파일을 열고 파일 객체를 반환\n",
    "  - mode= 'w'/'r'/'a'/'b' : (쓰기/읽기/추가/바이너리모드)로 파일열기\n",
    "  - b는 wra와 함께 사용하는 바이너리 모드: 'wb'/'rb'/'ab' \n",
    "  - + 는 읽기쓰기가 모두가능\n",
    "    - 'r+' : 읽기쓰기 모두가능\n",
    "    - 'w+' : 텍스트포인터가 맨앞으로 가고 읽기쓰기가능\n",
    "    - 'a+' : 텍스트포인터가 맨뒤로 가고 읽기쓰기 가능\n",
    "    - 'rb+' 텍스트포인터가 맨뒤로가고 바이너리모드로 읽기쓰기 가능"
   ]
  },
  {
   "cell_type": "code",
   "execution_count": null,
   "metadata": {},
   "outputs": [],
   "source": [
    "# 파일생성\n",
    "with open('example.txt', 'w')as f:\n",
    "  print('Hello, file!', file=f)\n",
    "  \n",
    "file = open(\"example.txt\", \"r\")  \n",
    "content = file.read()  \n",
    "file.close()"
   ]
  },
  {
   "cell_type": "markdown",
   "metadata": {
    "id": "Vk54NfabuFMg"
   },
   "source": [
    "### ---기타 유용한 함수?\n"
   ]
  },
  {
   "cell_type": "markdown",
   "metadata": {
    "id": "z1mAbaJUt0vv"
   },
   "source": [
    "len(): 객체의 길이(요소의 개수)를 반환  \n",
    "type(): 객체의 타입을 반환  \n",
    "print(): 객체출력  \n",
    "input(): 사용자로부터 입력을 받습니다  \n",
    "range(): 숫자의 시퀀스를 생성 \n",
    "enumerate(): iterable 개체를 입력으로 받아 (인덱스, 요소) 튜플로 묶어서 반복하는 enumerate객체를 리턴\n",
    "zip(*iterable) : 동일한 개수로 이루어진 data들 하나의 튜플로 묶어서 반복하는 zip객체로 리턴\n",
    "any()/all() : iterable데이터를 입력으로 받아 (요소중 하나라도 참이면/모든 요소가 참이면)True 아니면 False 반환\n",
    "isinstance(z, (int, str)) : z객체가 int/str  클래스의 객체이면 True 아니면 False 리턴\n",
    "\n",
    "```\n",
    "print(len(\"hello\"))  # 길이반환: 5\n",
    "print(len([1, 2, 3]))  # 길이반환: 3\n",
    "\n",
    "print(type(123))  # 타입반환: <class 'int'>\n",
    "print(type(\"abc\"))  # 타입반환: <class 'str'>\n",
    "\n",
    "print(\"Hello, World!\")  # 출력: Hello,\n",
    "name = input(\"Enter your name: \")\n",
    "print(\"Hello, \" + name)\n",
    "print(list(range(5)))  # 출력: [0, 1, 2, 3, 4]\n",
    "print(list(range(1, 10, 2)))  # 출력: [1, 3, 5, 7, 9]\n",
    "```"
   ]
  },
  {
   "cell_type": "code",
   "execution_count": null,
   "metadata": {},
   "outputs": [],
   "source": [
    "any(lambda x:0>x,[-2,5,8,7,-8,-3,0,5,-8,4,6])"
   ]
  },
  {
   "cell_type": "markdown",
   "metadata": {
    "id": "yZZyVUNmSbsC"
   },
   "source": [
    "### ---iter()"
   ]
  },
  {
   "cell_type": "markdown",
   "metadata": {
    "id": "EMZos6CjS_yS"
   },
   "source": [
    "반복가능한 객체에서 반복자 반환\n",
    "next()함수를 사용해 순차적으로 값을 가져오는게 가능"
   ]
  },
  {
   "cell_type": "code",
   "execution_count": null,
   "metadata": {
    "id": "hofVYdHlTLIS"
   },
   "outputs": [],
   "source": [
    "#리스트 반복자 생성\n",
    "my_list=[1,2,3,4]\n",
    "list_iterator=iter(my_list)\n",
    "print(next(list_iterator))\n",
    "print(next(list_iterator))\n",
    "print(next(list_iterator))\n",
    "print(next(list_iterator))\n",
    "# stopiteration 예외를 피하기 위해 반복문 사용\n",
    "for item in iter(my_list):\n",
    "  print(item)"
   ]
  },
  {
   "cell_type": "markdown",
   "metadata": {
    "id": "iGexA4UxS8PJ"
   },
   "source": [
    "### ---len()"
   ]
  },
  {
   "cell_type": "markdown",
   "metadata": {
    "id": "6x98piI2Um5R"
   },
   "source": [
    "객체길이(아이템수)반환\n",
    "문자열,리스트,튜플,딕셔너리 등 다양한 객체에서 사용가능"
   ]
  },
  {
   "cell_type": "markdown",
   "metadata": {},
   "source": [
    "### ---함수형 프로그래밍 지원 함수?"
   ]
  },
  {
   "cell_type": "markdown",
   "metadata": {},
   "source": [
    "map(,)\n",
    "filter(,)\n",
    "any(filter(,))\n",
    "all(filter(,))\n"
   ]
  },
  {
   "cell_type": "markdown",
   "metadata": {},
   "source": [
    "# - 클래스"
   ]
  },
  {
   "cell_type": "markdown",
   "metadata": {},
   "source": [
    "객체 지향 프로그래밍에서 데이터와 그 데이터를 다루는 함수(메서드)들을 묶은 설계도구  \n",
    "객체의 속성(정보)과 메서드(행동)설계도\n",
    "* 메서드 : 클래스의 내부함수\n",
    "* 인스턴스 : 클래스로 생성된 모든 함수,변수 등 객체 : class.으로 호출\n",
    "--- 클래스 설계 원칙\n",
    "- 캡슐화  \n",
    "- 상속\n",
    "- 다형성\n",
    "- 추상화"
   ]
  },
  {
   "cell_type": "code",
   "execution_count": null,
   "metadata": {},
   "outputs": [],
   "source": [
    "class Car:\n",
    "    wheels = 4 # 클래스 변수: 모든 인스턴스가 공유하는 변수\n",
    "    # 생성자 메서드: 인스턴스가 생성될 때 자동으로 호출되는 메서드\n",
    "    def __init__(self, color, max_speed):\n",
    "        # self.인스턴스 변수: 각 인스턴스마다 다른 값을 가지는 변수\n",
    "        self.color = color\n",
    "        self.max_speed = max_speed\n",
    "    # 인스턴스 메서드: 인스턴스 객체에서만 호출 가능한 메서드\n",
    "    # self 매개변수는 인스턴스 자신을 가리킵니다.\n",
    "    def drive(self):\n",
    "        print(f\"{self.color} 차가 시속 {self.max_speed}km로 달립니다.\")\n",
    "    # 클래스 메서드: 클래스 이름으로 직접 호출 가능한 메서드\n",
    "    # cls 매개변수는 클래스 자신을 가리킵니다.\n",
    "    @classmethod\n",
    "    def get_wheels(cls):\n",
    "        return cls.wheels\n",
    "    # 정적 메서드: 클래스나 인스턴스와 관련없이 독립적으로 실행되는 메서드\n",
    "    @staticmethod\n",
    "    def say_hello():\n",
    "        print(\"안녕하세요!\")\n",
    "# 클래스 상속\n",
    "class ElectricCar(Car): # 부모클래스를 받아 상속\n",
    "    def __init__(self, color, max_speed, battery_capacity):\n",
    "        super().__init__(color, max_speed)  # 부모 클래스의 생성자 호출\n",
    "        self.battery_capacity = battery_capacity\n",
    "    def drive(self):\n",
    "        print(f\"{self.color} 전기차가 시속 {self.max_speed}km로 조용히 달립니다.\")\n",
    "# 인스턴스 생성\n",
    "car1 = Car(\"빨강\", 200)\n",
    "car2 = ElectricCar(\"파랑\", 180, 50)\n",
    "# 메서드 호출\n",
    "car1.drive()  # 인스턴스 메서드 호출\n",
    "car2.drive()  # 오버라이딩된 메서드 호출\n",
    "print(Car.get_wheels())  # 클래스 메서드 호출\n",
    "Car.say_hello()  # 정적 메서드 호출\n",
    "\n",
    "\n",
    "\n",
    "\n",
    "class MyClass:\n",
    "    # 인스턴스 메서드\n",
    "    def instance_method(self):\n",
    "        return f'인스턴스 메서드 호출: {self}'\n",
    "    # 클래스 메서드\n",
    "    @classmethod\n",
    "    def class_method(cls):\n",
    "        return f'클래스 메서드 호출: {cls}'\n",
    "    # 정적 메서드\n",
    "    @staticmethod\n",
    "    def static_method():\n",
    "        return '정적 메서드 호출'\n",
    "\n",
    "\n",
    "obj = MyClass()# 인스턴스 생성\n",
    "print(obj.instance_method())# 인스턴스 메서드 호출: <__main__.MyClass object at 0x7f9bc3b0>\n",
    "print(MyClass.class_method())# 클래스 메서드 호출: <class '__main__.MyClass'>\n",
    "print(MyClass.static_method())# 정적 메서드 호출"
   ]
  },
  {
   "cell_type": "markdown",
   "metadata": {},
   "source": [
    "### 1. 클래스 구성 요소"
   ]
  },
  {
   "cell_type": "markdown",
   "metadata": {},
   "source": [
    "#### 1) 속성(Attributes)"
   ]
  },
  {
   "cell_type": "markdown",
   "metadata": {},
   "source": [
    "    - 클래스 또는 인스턴스 변수로, 객체의 상태를 저장"
   ]
  },
  {
   "cell_type": "markdown",
   "metadata": {},
   "source": [
    "- 클래스 변수와 인스턴스 변수의 차이\n",
    "클래스 변수(Class Variable)\n",
    "정의: 클래스 변수는 클래스 자체에 속하는 변수로, 클래스의 모든 인스턴스가 공유합니다.\n",
    "선언 위치: 클래스 블록 내에서 메서드 밖에 선언됩니다.\n",
    "접근 방법: 클래스 이름이나 인스턴스를 통해 접근할 수 있습니다.\n",
    "역할: 클래스 변수는 모든 인스턴스가 공통으로 가져야 할 데이터를 저장할 때 사용됩니다."
   ]
  },
  {
   "cell_type": "markdown",
   "metadata": {},
   "source": [
    "##### 1.1) 인스턴스 변수(Instance Variable)\n",
    "  정의: 인스턴스 변수는 각 객체 인스턴스에 속하는 변수로, 인스턴스마다 별도로 존재합니다.\n",
    "선언 위치: __init__ 메서드 내에서 self 키워드를 사용하여 선언됩니다.\n",
    "접근 방법: 인스턴스를 통해서만 접근할 수 있습니다.\n",
    "역할: 인스턴스 변수는 각 객체가 개별적으로 가져야 할 데이터를 저장할 때 사용됩니다"
   ]
  },
  {
   "cell_type": "code",
   "execution_count": null,
   "metadata": {},
   "outputs": [],
   "source": [
    "class MyClass:\n",
    "    def __init__(self, value):\n",
    "        self.instance_variable = value  # 인스턴스 변수\n",
    "\n",
    "# 각 인스턴스가 별도로 가지는 인스턴스 변수\n",
    "a = MyClass(10)\n",
    "b = MyClass(20)\n",
    "print(a.instance_variable)  # 10\n",
    "print(b.instance_variable)  # 20"
   ]
  },
  {
   "cell_type": "markdown",
   "metadata": {},
   "source": [
    "##### 1.2) 클래스 변수(Class Variable)"
   ]
  },
  {
   "cell_type": "code",
   "execution_count": null,
   "metadata": {},
   "outputs": [],
   "source": [
    "class MyClass:\n",
    "    class_variable = 0  # 클래스 변수\n",
    "    \n",
    "    def __init__(self):\n",
    "        MyClass.class_variable += 1\n",
    "\n",
    "# 모든 인스턴스가 공유하는 클래스 변수\n",
    "print(MyClass.class_variable)  # 0\n",
    "a = MyClass()\n",
    "print(MyClass.class_variable)  # 1\n",
    "b = MyClass()\n",
    "print(MyClass.class_variable)  # 2"
   ]
  },
  {
   "cell_type": "markdown",
   "metadata": {},
   "source": [
    "왜 클래스 변수와 인스턴스 변수를 구분할까?\n",
    "데이터 공유와 독립성:\n",
    "\n",
    "클래스 변수는 모든 인스턴스가 동일한 값을 가져야 할 때 사용.  \n",
    "예로, 모든 인스턴스가 공유하는 설정값이나 카운터를 저장할 때 유용  \n",
    "인스턴스 변수는 각 인스턴스가 독립적으로 가져야 할 데이터를 저장  \n",
    "예로, 각 인스턴스가 각각의 상태나 속성을 가질 때 사용  \n",
    "\n",
    "메모리 효율성:  \n",
    "클래스 변수는 클래스당 하나.\n",
    "인스턴스 변수는 각 인스턴스마다 별도로 존재여, 필요할 때만 메모리 사용\n",
    "\n",
    "객체 지향 프로그래밍의 원칙:  \n",
    "클래스 변수와 인스턴스 변수의 구분은 객체 지향 프로그래밍의 원칙을 따르는 것.  \n",
    "코드의 가독성과 유지보수성을 높이기 위해 중요.  \n",
    "\n",
    "정리  \n",
    "클래스/인스턴스 변수 구분은 객체지향프로그래밍에서 중요개념.  \n",
    "클래스 변수는 모든 인스턴스가 공유하는 데이터를 저장,  \n",
    "인스턴스 변수는 각 인스턴스가 개별적으로 가져야 할 데이터를 저장.  \n",
    "이를 통해 데이터의 공유와 독립성을 명확히 하고, 코드의 가독/유지보수성 확보"
   ]
  },
  {
   "cell_type": "code",
   "execution_count": null,
   "metadata": {},
   "outputs": [],
   "source": [
    "class MyString:\n",
    "    class_name = 'MyString'\n",
    "    maker = 'Schin' \n",
    "    \n",
    "    datum = ''\n",
    "\n",
    "a = MyString # a is a class\n",
    "b = MyString() # b is an instance\n",
    "\n",
    "print(a.class_name) # prints 'MyString'\n",
    "print(b.class_name) # prints 'MyString'\n",
    "a.class_name = 'new MyString'\n",
    "print(a.class_name) # prints 'new MyString'\n",
    "print(b.class_name) # prints 'new MyString'\n",
    "b.class_name = 'MyString again' \n",
    "print(a.class_name) # prints 'new MyString'\n",
    "print(b.class_name) # prints 'MyString again'\n",
    "\n",
    "b.datum = 'hello world!' \n",
    "print(b.datum)"
   ]
  },
  {
   "cell_type": "markdown",
   "metadata": {},
   "source": [
    "### 2. 메서드(Methods)"
   ]
  },
  {
   "cell_type": "markdown",
   "metadata": {},
   "source": [
    ": 클래스 내부에 정의된 함수는 메서드이다, 객체의 동작을 정의  \n",
    "클래스 내부에 정의된 함수의 문법은 객체 뒤에 . 을 붙여 호출한다  \n",
    "그렇지 아니한것은 메서드가 아니다.\n",
    "\n",
    "클래스로 생성된 객체 :  \n",
    "특정객체(a)가 어떤 클래스(Cookie)의 객체인지 관계설명시 사용  \n",
    "'a는 인스턴트보다 객체'라는 표현이 적절  \n",
    "'a는 Cookie의 객체보다 Cookie의 인스턴스’라는 표현이 적절  \n"
   ]
  },
  {
   "cell_type": "markdown",
   "metadata": {},
   "source": [
    "##### 2.1) 인스턴스 메서드(Instance Method)"
   ]
  },
  {
   "cell_type": "markdown",
   "metadata": {},
   "source": [
    "중복을 허용하지 않고 순서가 없는 데이터구조  \n",
    "수학에서의 집합개념과 유사 : 다양한 집합연산을 수행가능  \n",
    "첫번째 인수로 항상 (self)자기자신을 받는다  \n",
    "\n",
    "정의: 객체 인스턴스에서 호출되는 메서드.  \n",
    "특징: 첫 번째 매개변수로 self를 받으며, 인스턴스 변수에 접근하고 수정할 수 있습니다.  "
   ]
  },
  {
   "cell_type": "markdown",
   "metadata": {},
   "source": [
    "##### 2.2) 클래스 메서드(Class Method)"
   ]
  },
  {
   "cell_type": "markdown",
   "metadata": {},
   "source": [
    "@classmethod 데코레이터로 정의, 정의할때는 첫 인자로 반드시 cls명시\n",
    "정의: 클래스 자체에서 호출되는 메서드. 클래스 자체에 대해 동작  \n",
    "특징: \n",
    "- 클래스 자신을 첫 매개변수로 자동전달, 호출시에는 cis를 명시 불필요\n",
    "- (인스턴스 변수)에 접근 불가\n",
    "- (클래스 변수)에 접근 가능"
   ]
  },
  {
   "cell_type": "code",
   "execution_count": null,
   "metadata": {},
   "outputs": [],
   "source": [
    "class MyClass:\n",
    "    @classmethod\n",
    "    def from_string(cls, string):\n",
    "        # 클래스 이름을 이용하여 인스턴스 생성\n",
    "        return cls(string)\n",
    "\n",
    "# MyClass.from_string()을 호출할 때 cls는 자동으로 MyClass가 된다.\n",
    "obj = MyClass.from_string(\"hello\")\n"
   ]
  },
  {
   "cell_type": "markdown",
   "metadata": {},
   "source": [
    "##### 2.3) 정적 메서드(static_method)"
   ]
  },
  {
   "cell_type": "markdown",
   "metadata": {},
   "source": [
    "@staticmethod 데코레이터로 정의  \n",
    "정의: 클래스, 인스턴스와 무관하게 일반함수처럼 독립적으로 호출/동작되는 메서드  \n",
    "특수한 첫째 인자를 필요치 않음, 즉 self/cls로 받을 필요가 없다  \n",
    "  \n",
    "독립적인 기능수행, 다만, 클래스 내에 정의되어 클래스의 네임스페이스 안에 존재\n",
    "- 클래스나 인스턴스의 상태를 변경하지 않습니다.\n",
    "- 클래스나 인스턴스의 속성에 접근할 필요가 없는 유틸리티 함수를 정의할 때 유용합니다.\n",
    "- 인스턴스를 생성하지 않고도 호출할 수 있습니다."
   ]
  },
  {
   "cell_type": "markdown",
   "metadata": {},
   "source": [
    "##### 2.3) 메직 메서드(masic_method)"
   ]
  },
  {
   "cell_type": "markdown",
   "metadata": {},
   "source": [
    "클래스의 매직 메서드는 파이썬 클래스에서 특정 동작을 자동으로 처리하기 위해 제공되는 특별한 메서드들\n",
    "- __init__(self, ...)\n",
    "  - 클래스의 인스턴스가 생성될 때 호출되는 초기화 메서드.\n",
    "- __new__(cls, ...)\n",
    "  - 인스턴스 생성 시 호출되며, 실제로 객체를 생성하는 메서드. __init__보다 먼저 호출됨.\n",
    "- __del__(self)\n",
    "  - 객체가 소멸될 때 호출되는 메서드.\n",
    "- __repr__(self)\n",
    "  - 객체의 공식적 문자열 표현을 반환하는 메서드.\n",
    "- __str__(self)\n",
    "  - 객체의 비공식적(사용자 친화적) 문자열 표현을 반환하는 메서드.\n",
    "- __len__(self)\n",
    "  - len() 호출 시 객체의 길이를 반환하는 메서드.\n",
    "- __getitem__(self, key)\n",
    "  - 인덱싱이나 키로 접근할 때 호출되는 메서드. 예: obj[key]\n",
    "- __setitem__(self, key, value)\n",
    "  - 인덱스나 키로 값을 설정할 때 호출되는 메서드. 예: obj[key] = value\n",
    "- __delitem__(self, key)\n",
    "  - 인덱스나 키로 값을 삭제할 때 호출되는 메서드. 예: del obj[key]\n",
    "- __iter__(self)\n",
    "  - 객체를 반복(iterate) 가능하게 만드는 메서드. 반복자(iterator)를 반환.\n",
    "- __next__(self)\n",
    "  - 반복(iteration)의 다음 요소를 반환하는 메서드. next() 호출 시 사용.\n",
    "- __call__(self, ...)\n",
    "  - 인스턴스를 함수처럼 호출할 수 있게 해주는 메서드. 예: obj()\n",
    "- __enter__(self)\n",
    "  - with 문에서 컨텍스트 진입 시 호출되는 메서드.\n",
    "- __exit__(self, exc_type, exc_val, exc_tb)\n",
    "  - with 문에서 컨텍스트를 벗어날 때 호출되는 메서드.\n",
    "- __add__(self, other)\n",
    "  - + 연산자 동작을 정의하는 메서드.\n",
    "- __sub__(self, other)\n",
    "  - - 연산자 동작을 정의하는 메서드.\n",
    "- __mul__(self, other)\n",
    "  - * 연산자 동작을 정의하는 메서드.\n",
    "- __truediv__(self, other)\n",
    "  - / 연산자 동작을 정의하는 메서드.\n",
    "- __floordiv__(self, other)\n",
    "  - // 연산자 동작을 정의하는 메서드.\n",
    "- __mod__(self, other)\n",
    "  - % 연산자 동작을 정의하는 메서드.\n",
    "- __pow__(self, other)\n",
    "  - ** 연산자 동작을 정의하는 메서드.\n",
    "- __eq__(self, other)\n",
    "  - == 동등 비교를 정의하는 메서드.\n",
    "- __ne__(self, other)\n",
    "  - != 불일치 비교를 정의하는 메서드.\n",
    "- __lt__(self, other)\n",
    "  - < 크기 비교를 정의하는 메서드.\n",
    "- __le__(self, other)\n",
    "  - <= 크기 비교를 정의하는 메서드.\n",
    "- __gt__(self, other)\n",
    "  - > 크기 비교를 정의하는 메서드.\n",
    "- __ge__(self, other)\n",
    "  - >= 크기 비교를 정의하는 메서드.\n",
    "- __bool__(self)\n",
    "  - 객체의 참/거짓을 반환하는 메서드. bool() 호출 시 사용."
   ]
  },
  {
   "cell_type": "code",
   "execution_count": null,
   "metadata": {},
   "outputs": [],
   "source": [
    "class MyString:\n",
    "    class_name = 'MyString'\n",
    "    maker = 'Schin' \n",
    "    \n",
    "    def __init__(self, datum = ''):\n",
    "        self.datum = datum\n",
    "    \n",
    "    # instance method\n",
    "    def get_first_letter(self):\n",
    "        return self.datum[0]\n",
    "    \n",
    "    def most_frequent_word(self):\n",
    "        bow = MyString._create_bow(self.datum)\n",
    "        res = ''\n",
    "        tmp = 0\n",
    "        for k in bow.keys():\n",
    "            if bow[k] > tmp:\n",
    "                res = k\n",
    "                tmp = bow[k]\n",
    "        return res\n",
    "    \n",
    "    # magic method     \n",
    "    def __add__(self, other):\n",
    "        if isinstance(other, self.__class__):\n",
    "            return MyString(datum = self.datum + other.datum)\n",
    "        return NotImplemented\n",
    "    \n",
    "    @classmethod\n",
    "    def assign_author(cls, author):\n",
    "        cls.author = author\n",
    "        \n",
    "    @staticmethod\n",
    "    def _create_bow(input_str):\n",
    "        res = {}\n",
    "        for elem in input_str.split():\n",
    "            if elem in res.keys():\n",
    "                res[elem] += 1\n",
    "            else:\n",
    "                res[elem] = 1\n",
    "        return res\n",
    "\n",
    "a = MyString('hello')\n",
    "b = MyString('world') \n",
    "\n",
    "print(a.get_first_letter())\n",
    "\n",
    "c = a+b # MyString('helloworld') \n",
    "print(c.datum)\n",
    "\n",
    "c.assign_author('Shin')\n",
    "print(c.author)\n",
    "print(a.author)\n",
    "\n",
    "d = MyString('hello world it is so nice to meet you how are you doing world')\n",
    "print(d.most_frequent_word())"
   ]
  },
  {
   "cell_type": "markdown",
   "metadata": {},
   "source": [
    "### 3. 클래스 상속"
   ]
  },
  {
   "cell_type": "code",
   "execution_count": null,
   "metadata": {},
   "outputs": [],
   "source": [
    "class Person:\n",
    "\n",
    "    def __init__(self, first, last):\n",
    "        self.firstname = first\n",
    "        self.lastname = last\n",
    "\n",
    "    def Name(self):\n",
    "        return self.firstname + \" \" + self.lastname\n",
    "\n",
    "class Employee(Person):\n",
    "\n",
    "    def __init__(self, first, last, staffnum):\n",
    "        Person.__init__(self,first, last)\n",
    "        self.staffnumber = staffnum\n",
    "\n",
    "    def GetEmployee(self):\n",
    "        return self.Name() + \", \" +  self.staffnumber\n",
    "\n",
    "x = Person(\"Marge\", \"Simpson\")\n",
    "y = Employee(\"Homer\", \"Simpson\", \"1007\")\n",
    "\n",
    "print(x.Name())\n",
    "print(y.GetEmployee())"
   ]
  },
  {
   "cell_type": "markdown",
   "metadata": {},
   "source": [
    "#### 1) 상속의 유형\n",
    "- 단일 상속(Single Inheritance):\n",
    " 한 클래스가 하나의 부모 클래스로부터만 상속  \n",
    "- 다중 상속(Multiple Inheritance):\n",
    " 한 클래스가 여러 부모 클래스를 상속  \n",
    "- 다단계 상속(Multilevel Inheritance):\n",
    " 클래스를 상속받은 클래스가 또 다른 클래스를 상속받는 구조.\n",
    "- 계층적 상속(Hierarchical Inheritance):\n",
    " 하나의 부모 클래스가 여러 자식 클래스로 상속\n",
    "- 혼합 상속(Hybrid Inheritance):\n",
    " 여러 상속 유형이 혼합된 구조\n",
    "\n",
    "\n",
    "\n",
    "- 상속의 개념\n",
    "- 부모 클래스와 자식 클래스\n",
    "- 상속 문법\n",
    "- 메서드 오버라이딩\n",
    "- 다중 상속\n",
    "\n",
    "2. 상속의 2가지 유형  \n",
    "  1) Super로 상속받아 유사한 유형의 수직관계의 상속  \n",
    "      (부모의 변경사항이 자동으로 반영)  \n",
    "  2) Super를 사용하지 않고 서브클래스로 받는 상속  \n",
    "     (부모의 변경사항을 자식클래스에 수동으로 반영)  \n",
    "3. 주요 차이점  \n",
    "\n",
    "코드 중복:  \n",
    "super() 미사용: 부모 클래스 코드를 반복 작성할 가능성 높음  \n",
    "super() 사용: 코드 중복 감소, 부모 클래스 로직 재사용  \n",
    "유지보수:  \n",
    "super() 미사용: 부모 클래스 변경 시 자식 클래스도 수동 수정 필요  \n",
    "super() 사용: 부모 클래스 변경사항 자동 반영, 유지보수 용이  \n",
    "다중 상속 처리:  \n",
    "super() 미사용: 복잡한 다중 상속 구조에서 관리 어려움  \n",
    "super() 사용: 다중 상속 시 메서드 해결 순서 자동 관리  \n",
    "명확성:  \n",
    "super() 미사용: 상속 관계가 명시적으로 보이지 않을 수 있음  \n",
    "super() 사용: 부모 클래스 메서드 호출이 명확히 보임  "
   ]
  },
  {
   "cell_type": "markdown",
   "metadata": {},
   "source": [
    "### 4. 클래스 설계 원칙(Design Principles)"
   ]
  },
  {
   "cell_type": "markdown",
   "metadata": {},
   "source": [
    "#### 4.1) 단일 책임 원칙(Single Responsibility Principle, SRP)\n",
    "정의: 클래스는 하나의 책임만 가져야 합니다."
   ]
  },
  {
   "cell_type": "markdown",
   "metadata": {},
   "source": [
    "#### 4.2) 개방-폐쇄 원칙(Open-Closed Principle, OCP)\n",
    "정의: 클래스는 확장에 열려 있고, 수정에는 닫혀 있어야 합니다."
   ]
  },
  {
   "cell_type": "markdown",
   "metadata": {},
   "source": [
    "#### 4.3) 리스코프 치환 원칙(Liskov Substitution Principle, LSP)\n",
    "정의: 자식 클래스는 부모 클래스와 호환되어야 합니다."
   ]
  },
  {
   "cell_type": "markdown",
   "metadata": {},
   "source": [
    "#### 4.4) 인터페이스 분리 원칙(Interface Segregation Principle, ISP)\n",
    "정의: 인터페이스는 클라이언트가 사용하지 않는 메서드에 의존하지 않도록 분리되어야 합니다."
   ]
  },
  {
   "cell_type": "markdown",
   "metadata": {},
   "source": [
    "#### 4.5) 의존 역전 원칙(Dependency Inversion Principle, DIP)\n",
    "정의: 고수준 모듈은 저수준 모듈에 의존해서는 안 되며, 둘 다 추상화에 의존해야 합니다."
   ]
  },
  {
   "cell_type": "markdown",
   "metadata": {},
   "source": [
    "### ---특수한 클래스 기능\n",
    "- 추상 클래스\n",
    "- 메타 클래스\n",
    "- 클래스와 예외 처리\n",
    "- 특정객체(인스턴스)와 연관된 메서드  \n",
    "객체의 상태(속성)를 변경 또는 관련동작을 수행  \n",
    "첫 번째 매개변수로 항상 self인자를 받는다. self인자는 메서드가 호출된 객체 자신을 참조"
   ]
  },
  {
   "cell_type": "markdown",
   "metadata": {
    "id": "_AQ8OwvP_ZLh"
   },
   "source": [
    "# 정규 표현식(Regular Expression, Regex)"
   ]
  },
  {
   "cell_type": "markdown",
   "metadata": {
    "id": "aDKdVAlj_d-c"
   },
   "source": [
    "문자열 패턴을 정의하고, 탐색/매칭/수정 등의 작업수행을 돕는 도구\n",
    "\n",
    "* 효율적인 문자열처리: 검색/변환 작업을 간단,효율적으로 수행  \n",
    "* 범용성: 모든 프로그래밍 언어에서 지원, 한 번 배우면 여러 환경에서 활용.  \n",
    "* 코드 간소화: 복잡한 문자열 처리 로직을 한두 줄의 정규 표현식으로 코드간결.  \n",
    "* 유연성: 다양한 패턴 매칭을 통해 유연하게 문자열을 처리 가능  \n",
    "* 시간절약: 반복적 문자열 처리작업을 자동화하여 시간절약"
   ]
  },
  {
   "cell_type": "markdown",
   "metadata": {
    "id": "bvxKw2FAKFq7"
   },
   "source": [
    "## 정규 표현식 문자 종류"
   ]
  },
  {
   "cell_type": "markdown",
   "metadata": {
    "id": "kNMwVTEbKJXC"
   },
   "source": [
    "- 리터럴 문자(Literal) : 일반 문자 그대로 매칭 (예: a, [, 3)  \n",
    "- 메타 문자(Meta) : 특별한 의미를 갖는 문자 (예: . , , *, +, ?, ^, $, [], (), {}, |)  \n",
    "- 문자 클래스(Class) : 특정 문자 집합을 나타냄 (예: \\d, \\w, \\s)  \n",
    "- 수량자(Quantifier) : 패턴이 반복되는 횟수 지정 (예: *, +, ?, {m,n})  \n",
    "- 앵커(Anchor) : 문자열의 시작 또는 끝 위치를 나타냄 (예: ^, $)  \n",
    "- 그룹(Group) : 부분 패턴을 그룹으로 묶음 (예: (ab+c))  "
   ]
  },
  {
   "cell_type": "markdown",
   "metadata": {
    "id": "uUsZ07sq6pjR"
   },
   "source": [
    "## 정규표현식 기초, 메타문자"
   ]
  },
  {
   "cell_type": "markdown",
   "metadata": {
    "id": "ylV7jGNCAmSZ"
   },
   "source": [
    "용례\n",
    "* 데이터검증 : 이메일주소,전화번호,우편번호 등의 형식을 검증시\n",
    "* 텍스트검색 : 문서나 로그 파일에서 특정 패턴을 검색할때.(error\\s\\d{3})\n",
    "* 데이터추출 : HTML문서나 로그 파일 등에서 특정 정보를 추출할 때.(<title>(.*?</title>))\n",
    "* 데이터치환 : 문자열 내 특정 패턴을 다른 문자열로 대체시. (s/old/new/g)\n",
    "* 로그분석 : 서버 로그 파일에서 IP주소나 특정 이벤트를 추출하여 분석할 때\n",
    "\\b\\d{1,3}\\.\\d{1,3}\\.\\d{1,3}\\.\\d{1,3}\\b\n",
    "* 형식변환 : 날짜 형식이나 전화번호 형식 등을 일관되게 변환시 ((\\d{4})-(\\d{2})-(\\d{2}))"
   ]
  },
  {
   "cell_type": "markdown",
   "metadata": {
    "id": "VPeLQohRBAmv"
   },
   "source": [
    "- 이메일 주소 검증: (^[a-zA-Z0-9._%+-]+@[a-zA-Z0-9.-]+\\.[a-zA-Z]{2,}$)  \n",
    "- ^:문자열의 시작을 나타냅니다.  \n",
    "- [a-zA-Z0-9._%+-]+: 알파벳 대소문자, 숫자, ._%+- 특수문자 중 하나 이상이 반복.  \n",
    "- @: '@' 문자.  \n",
    "- [a-zA-Z0-9.-]+: 알파벳 대소문자, 숫자, .- 중 하나 이상이 반복됩니다.  \n",
    "- \\.: '.' 문자.  \n",
    "- [a-zA-Z]{2,}: 알파벳 대소문자 2개 이상이 반복됩니다.  \n",
    "- $: 문자열의 끝을 나타냅니다.  \n",
    "- 설명: 이메일 주소의 형식검증 정규식"
   ]
  },
  {
   "cell_type": "markdown",
   "metadata": {
    "id": "4c-6sq98NmEH"
   },
   "source": [
    "- 에러 코드찾기: error\\s\\d{3}  \n",
    "  error:'error'문자열  \n",
    "  \\s:공백문자  \n",
    "  \\d{3}:숫자 3개  \n",
    "  설명: 'error'뒤에 공백이 있고, 그 뒤에 숫자 3개가 나오는 패턴을 찾습니다."
   ]
  },
  {
   "cell_type": "markdown",
   "metadata": {
    "id": "CucaNXbxOGFR"
   },
   "source": [
    "- HTML 제목 추출:<title>(.*?)</title>  \n",
    "  <title>: '<title>'태그  \n",
    "  (.*?):어떤 문자든지 0번 이상 반복(비탐욕적)  \n",
    "  </title>:'</title>'태그  \n",
    "  설명: HTML문서에서 <title>태그 안의 내용을 추출합니다"
   ]
  },
  {
   "cell_type": "markdown",
   "metadata": {
    "id": "lfz71HSSOtyf"
   },
   "source": [
    "- 문자열 치환:s/old/new/g  \n",
    "  s/:치환명령어의 시작  \n",
    "  old:치환될 문자열 패턴  \n",
    "  /new/:새 문자열  \n",
    "  g: 전역적으로 치환  \n",
    "  설명: 문자열에서 'old'를 'new'로 전역적으로 치환  "
   ]
  },
  {
   "cell_type": "markdown",
   "metadata": {
    "id": "OFN75IFNPITA"
   },
   "source": [
    "IPv4 주소 찾기: \\b\\d{1,3}\\.\\d{1,3}\\.\\d{1,3}\\.\\d{1,3}\\b  \n",
    "    \\b: 단어경계  \n",
    "    \\d{1,3}: 1~3자리 숫자  \n",
    "    \\.: '.'문자  "
   ]
  },
  {
   "cell_type": "markdown",
   "metadata": {
    "id": "pSTOCvvZCez4"
   },
   "source": [
    "- 슬래시 (/):    \n",
    "정규표현식에서 슬래시는 주로 패턴의 시작과 끝을 나타내는 구분자로 사용  \n",
    "예시: /abc/는 문자열 \"abc\"를 찾는 정규 표현식입니다  \n",
    "- 백슬레시 (\\): 이스케이프 문자  \n",
    "특별한 의미를 가지는 문자 앞에 사용하여 그 문자를 리터럴로 취급하게 하며, 또한 특별한 문자 클래스를 나타내는 데 사용  \n",
    "1. \\.는 마침표를 의미  \n",
    "2. \\\\는 백슬래시 자체를 의미  \n",
    "3. \\d는 숫자 (0-9)를 의미  digit  \n",
    "4. \\w는 단어문자 (알파벳 대소문자,숫자,밑줄)를 의미. word  \n",
    "5. \\s는 공백문자(스페이스,탭 등)를 의미 space  "
   ]
  },
  {
   "cell_type": "markdown",
   "metadata": {
    "id": "pDqewRj8P_2x"
   },
   "source": [
    "### ---정규표현식 : 기본 문법"
   ]
  },
  {
   "cell_type": "markdown",
   "metadata": {
    "id": "YPQ1IvY_P6Du"
   },
   "source": [
    ". 임의의 한 문자  \n",
    "^ 문자열의 시작  \n",
    "$ 문자열의 끝  \n",
    "\\b 단어 경계를 나타냄  \n",
    "\\B 단어 경계가 아닌 곳을 나타냄  \n",
    "* 0 회 이상 반복  \n",
    "+ 1 회 이상 반복  \n",
    "? 0 회 또는 1 회  \n",
    "{n} 정확히 n 회 반복  \n",
    "{n,} n 회 이상 반복  \n",
    "{n,m} n 회 이상, m 회 이하 반복  \n",
    "\\d 숫자 (0-9)  \n",
    "D 숫자가 아닌 문자  \n",
    "\\w 단어 문자 (알파벳, 숫자, 언더스코어)  \n",
    "\\W 단어 문자가 아닌 문자  \n",
    "\\s 공백 문자 (스페이스, 탭, 줄 바꿈 등)  \n",
    "\\S 공백 문자가 아닌 문자  \n",
    "[] 문자 클래스 (예  [a-z]는 소문자 알파벳을 의미)  \n",
    "[abc] 'a', 'b', 'c' 중 하나와 매칭  \n",
    "[A-Z] 대문자 알파벳 중 하나와 매칭  \n",
    "[0-9] 숫자 중 하나와 매칭  \n",
    "**.** 중 바꿈 문자를 제외한 모든 문자와 매칭  \n",
    "\\  OR 연산자 (예  a b는 ‘a’ 또는’b’ 를 의미)  \n",
    "() 그룹화 (서브 패턴을 그룹화하여 캡처)  "
   ]
  },
  {
   "cell_type": "markdown",
   "metadata": {
    "id": "3xLVJGc-QRRf"
   },
   "source": [
    "1. 리터럴 문자(Literal Characters)  \n",
    ": 일치하는 문자열을 찾습니다\n",
    "특별한 의미없이 문자 그대로 매칭  \n",
    "2. 메타 문자(Meta Characters)  \n",
    ": 특별한 의미를 가지며 정규표현식의 동작제어  \n",
    "  . :임의의 한문자와 일치  \n",
    "  \\ :이스케이프 문자  "
   ]
  },
  {
   "cell_type": "markdown",
   "metadata": {
    "id": "8fDibmdfQMX-"
   },
   "source": [
    "## 그룹(Group) : 부분 패턴을 그룹으로 묶음\n",
    "- 캡처 그룹 : 일치하는 부분을 캡처하여 나중에 참조할 수 있음\n",
    "ex) (abc)는 'abc'와 매칭되고, 캡처된 그룹 1로 저장\n",
    "- 비캡처 그룹 : (?:...) 형식으로, 캡처하지 않고 그룹화만 가능\n",
    "ex) (?:abc)는 'abc'와 매칭되지만 캡처되지 않음\n",
    "- 역참조 : \\1, \\2 등으로 이전에 캡처된 그룹을 참조\n",
    "ex) (abc)\\1은 'abcabc'와 매칭\n",
    "\n",
    "## 정규표현식 : 표현 방법\n",
    "- 정규표현식을 다룰 때 문자열 앞에 r을 붙이는 것이 일반적\n",
    "- 백슬래시 (\\)를 이스케이프 문자로 인식하지 않고 문자 그래도 처리하도록 사용\n",
    "- 일반 문자열에서는 백슬래시가 이스케이프 문자로 사용"
   ]
  },
  {
   "cell_type": "markdown",
   "metadata": {
    "id": "TevG1OKI6u2h"
   },
   "source": [
    "## re(Regular Expression) Library"
   ]
  },
  {
   "cell_type": "code",
   "execution_count": null,
   "metadata": {},
   "outputs": [],
   "source": [
    "import re\n",
    "# 정규식 패턴\n",
    "pattern = r\"Cookie\"\n",
    "sequence = \"Cookie\"\n",
    "if re.match(pattern, sequence):\n",
    "    print(\"Match!\")\n",
    "else:\n",
    "    print(\"Not a match!\")\n",
    "\n",
    "# 1. 패턴 매칭\n",
    "re.match(pattern, string)            # 문자열의 시작에서 패턴 매칭\n",
    "re.search(pattern, string)           # 문자열 전체에서 패턴 검색\n",
    "# 2. 패턴 찾기\n",
    "re.findall(pattern, string)          # 문자열에서 패턴에 일치하는 모든 항목 반환\n",
    "re.finditer(pattern, string)         # 문자열에서 패턴에 일치하는 모든 항목의 이터레이터 반환\n",
    "# 3. 패턴 대체\n",
    "re.sub(pattern, repl, string)        # 패턴에 일치하는 부분을 repl로 대체\n",
    "re.subn(pattern, repl, string)       # 패턴에 일치하는 부분을 repl로 대체하고 변경된 횟수 반환\n",
    "# 4. 패턴 분할\n",
    "re.split(pattern, string)            # 패턴에 따라 문자열 분할\n",
    "# 5. 컴파일된 패턴\n",
    "re.compile(pattern)                  # 패턴을 컴파일하여 재사용 가능하게 함\n",
    "# 6. 기타\n",
    "re.escape(string)                    # 문자열에 포함된 특수 문자를 이스케이프 처리\n",
    "# 7. 패턴 문자\n",
    "# . ^ $ * + ? { } [ ] \\ | ( )\n",
    "# 8. 패턴 문자\n",
    "# \\d : 숫자와 매치, [0-9]와 동일\n",
    "# \\D : 숫자가 아닌 것과 매치, [^0-9]와 동일\n",
    "# \\s : whitespace 문자와 매치, [ \\t\\n\\r\\f\\v]와 동일\n",
    "# \\S : whitespace 문자가 아닌 것과 매치, [^ \\t\\n\\r\\f\\v]와 동일\n",
    "# \\w : 문자+숫자(alphanumeric)와 매치, [a-zA-Z0-9_]와 동일\n",
    "# \\W : 문자+숫자(alphanumeric)가 아닌 문자와 매치, [^a-zA-Z0-9_]와 동일\n",
    "# \\b : 단어 경계(Word boundary) 표시, r'\\bword\\b'는 'word'로 둘러싸인 단어와 매치\n",
    "# \\B : 단어 경계가 아닌 경우 매치\n",
    "# 9. 반복\n",
    "# * : 0회 이상 반복\n",
    "# + : 1회 이상 반복\n",
    "# ? : 0회 또는 1회 반복\n",
    "# {m} : m회 반복\n",
    "# {m, n} : m회부터 n회까지 반복\n",
    "# 10. 그룹\n",
    "# ( ) : 그룹을 만들어주는 메타 문자\n",
    "# | : or 연산자 역할\n",
    "# (?P<name>...) : 그룹에 이름을 지정\n",
    "# (?P=name) : 지정한 이름을 가진 그룹과 매치\n",
    "# 11. 전방탐색\n",
    "# (?=...) : 긍정형 전방 탐색\n",
    "# (?!...) : 부정형 전방 탐색\n",
    "# (?<=...) : 긍정형 후방 탐색\n",
    "# (?<!...) : 부정형 후방 탐색\n",
    "# 12. 기타\n",
    "# ^ : 문자열의 시작\n",
    "# $ : 문자열의 끝\n",
    "# . : 임의의 한 문자\n",
    "# [ ] : 문자 클래스\n",
    "# [^ ] : 부정 문자 클래스\n",
    "# | : or 연산자\n",
    "# ( ) : 그룹화\n",
    "# \\ : 이스케이프 문자\n",
    "# 13. 플래그\n",
    "# re.IGNORECASE : 대소문자 구분 없이 매치\n",
    "# re.MULTILINE : 여러 줄과 매치\n",
    "# re.DOTALL : 모든 문자와 매치\n",
    "# re.VERBOSE : 정규식을 보기 편하게 만들고 주석 사용 가능\n",
    "# 14. 플래그\n",
    "# re.I : 대소문자 구분 없이 매치\n",
    "# re.M : 여러 줄과 매치\n",
    "# re.S : 모든 문자와 매치\n",
    "# re.X : 정규식을 보기 편하게 만들고 주석 사용 가능\n",
    "# 15. 플래그\n",
    "# re.A : \\w, \\W, \\b, \\B, \\d, \\D, \\s, \\S가 ASCII 문자만 매치\n",
    "# re.U : 유니코드 문자와 매치\n",
    "# re.L : \\w, \\W, \\b, \\B, \\d, \\D, \\s, \\S가 로케일 문자와 매치\n",
    "# re.X : 정규식을 보기 편하게 만들고 주석 사용 가능\n",
    "# 16. 플래그\n",
    "# re.ASCII : \\w, \\W, \\b, \\B, \\d, \\D, \\s, \\S가 ASCII 문자만 매치\n",
    "# re.UNICODE : 유니코드 문자와 매치\n",
    "# re.LOCALE : \\w, \\W, \\b, \\B, \\d, \\D, \\s, \\S가 로케일 문자와 매치\n",
    "# re.VERBOSE : 정규식을 보기 편하게 만들고 주석 사용 가능\n",
    "# 17. 플래그\n",
    "# re.DEBUG : 디버깅을 위한 정보 출력\n",
    "# re.A : ASCII\n",
    "# re.I : IGNORECASE\n",
    "# re.L : LOCALE\n",
    "# re.M : MULTILINE\n",
    "# re.S : DOTALL\n",
    "# re.X : VERBOSE\n",
    "# re.U : UNICODE\n",
    "# re.DEBUG : 디버깅을 위한 정보 출력"
   ]
  },
  {
   "cell_type": "markdown",
   "metadata": {
    "id": "l8p3eYD169g6"
   },
   "source": [
    "정규표현식을위한 파이썬 내장 라이브러리\n",
    "import re\n",
    "re.compile(pattern, flags=0)  \n",
    ":정규식패턴을 정규식개체로 컴파일, 개체는 메서드를 사용하여 일치하는 데 사용  \n",
    "\n",
    "r'문자열'  \n",
    ": raw string 규칙에 의해 \\ 2개대신 1개만 써도 동일의미를 가지게 된다  "
   ]
  },
  {
   "cell_type": "markdown",
   "metadata": {
    "id": "g6QFqQxIAJs_"
   },
   "source": [
    "### ---정규식을 이용한 문자열 검색"
   ]
  },
  {
   "cell_type": "markdown",
   "metadata": {
    "id": "t4m9TV8sAPAP"
   },
   "source": [
    "re.match()  \n",
    ":문자열의 처음부터 정규식과 매치되는지 조사. match객체 또는 None반환  \n",
    "re.search(pattern, t)   \n",
    ":문자열내 패턴검색,첫번째 매칭결과반환. 매칭패턴이 있을경우 매치객체(match)반환, 없을경우 None반환  \n",
    "re.findall()  \n",
    ":정규식과 매치되는 모든 문자열(substring)을 리스트로 반환  \n",
    "re.finditer()  \n",
    ":정규식과 매치되는 모든 문자열(substring)을 반복 가능한 객체로 반환  "
   ]
  },
  {
   "cell_type": "markdown",
   "metadata": {
    "id": "o1Fm4FxyAY6w"
   },
   "source": [
    "### ---match 객체의 메서드"
   ]
  },
  {
   "cell_type": "markdown",
   "metadata": {
    "id": "R5AGAvoxAWzu"
   },
   "source": [
    "match객체  \n",
    ":.match(),.search(),.finditer() 메서드에 의해 리턴된 매치객체(Match Object)의미  \n",
    ".group()  \n",
    ":매치된 전체문자열을 리턴  \n",
    ".groups()  \n",
    ":매치된 패턴의 그룹들을 튜플로 리턴\n",
    "start()  \n",
    ":매치된 문자열의 시작위치를 리턴  \n",
    "end()  \n",
    ":매치된 문자열의 끝 위치를 리턴  \n",
    "span()  \n",
    ":매치된 문자열의 (시작,끝)에 해당하는 인덱스 튜플을 리턴  "
   ]
  },
  {
   "cell_type": "code",
   "execution_count": null,
   "metadata": {
    "colab": {
     "base_uri": "https://localhost:8080/"
    },
    "executionInfo": {
     "elapsed": 473,
     "status": "ok",
     "timestamp": 1720587718916,
     "user": {
      "displayName": "감수",
      "userId": "03564591016025165141"
     },
     "user_tz": -540
    },
    "id": "98zA9SXgBOlM",
    "outputId": "d30429a5-a8ec-40b2-9c12-15da781aacd1"
   },
   "outputs": [],
   "source": [
    "import re\n",
    "data = \"\"\"\n",
    "park 800905-1049118\n",
    "kim  700905-1059119\n",
    "\"\"\"\n",
    "pat = re.compile(\"(\\d{6})[-]\\d{7}\")\n",
    "print(pat.sub(\"\\g<1>-*******\", data))"
   ]
  },
  {
   "cell_type": "markdown",
   "metadata": {
    "id": "C9hS3tsWCDT-"
   },
   "source": [
    "### ---내장 string 메소드 사용"
   ]
  },
  {
   "cell_type": "markdown",
   "metadata": {
    "id": "SOOQtkA_CIbe"
   },
   "source": [
    "일부 간단한 패턴 매칭의 경우, string객체의 내장 메소드를 사용가능  \n",
    "1.startswith()  \n",
    ":문자열이 특정 접두사로 시작하는지 확인  \n",
    "2.endwsith()  \n",
    ":  특정 접미사로 끝나는지 확인\n",
    "3.find()  \n",
    ":특정 부분 문자열의 첫 등장 위치 찾기  \n",
    "4.count()  \n",
    ":특정부분 문자열의 등장횟수 세기  \n",
    "5.replace()  \n",
    ":특정부분 문자열 교체하기  \n",
    "6.split()  \n",
    ":문자열을 특정 구분자로 나누기  \n",
    "7.strip()  \n",
    ":문자열의 앞뒤 공백제거  \n",
    "8.isdigit()  \n",
    ":문자열이 숫자로만 이루어졌는지 확인  "
   ]
  },
  {
   "cell_type": "code",
   "execution_count": null,
   "metadata": {
    "id": "7UdW-ZRdD1sc"
   },
   "outputs": [],
   "source": [
    "from os import replace\n",
    "text = '안녕하셍. 파이썬 프로그래밍은 재미있습니다. 파이썬은 강력합니다. 파이썬 수령님만세.'\n",
    "pirnt('1.안녕으로 시작하나요?', text.startswith('안녕'))\n",
    "print('2.\"수령님만세.\"로 끝나나요?', text.endswith('수령님만세.'))\n",
    "print(\"3.'파이썬'의 첫등장위치:\",text.find('파이썬'))\n",
    "print(\"4.'파이썬'의 등장횟수:\",text.count('파이썬'))\n",
    "new_text = text.replace('파이썬','자바')\n",
    "print('5.숙청된 문자열:',new_text)\n",
    "sentences = text.split('.')\n",
    "print('6.문장단위로 나눈 결과:', sentences)\n",
    "spaced_text = '  Hello, World!  '\n",
    "print('7.공백 제거 결과:', spaced_text.strip())\n",
    "number = '12345'\n",
    "print('8.숫자로만 이루어져 있나요?', number.isdigit())"
   ]
  },
  {
   "cell_type": "code",
   "execution_count": null,
   "metadata": {
    "colab": {
     "base_uri": "https://localhost:8080/"
    },
    "executionInfo": {
     "elapsed": 298,
     "status": "ok",
     "timestamp": 1719836961045,
     "user": {
      "displayName": "감수",
      "userId": "03564591016025165141"
     },
     "user_tz": -540
    },
    "id": "4Z6OzWfWnWlZ",
    "outputId": "5c983a1f-8ab2-4918-85f9-f2203a2bf5f6"
   },
   "outputs": [],
   "source": [
    "print ('hello world')\n",
    "with open(\"ontput.txt\", \"w\") as f:\n",
    "  print(\"Hello, file!\", file=f) # 파일생성해서 직접 위치 살펴보기\n",
    "\n",
    "# 여러줄 주석?"
   ]
  },
  {
   "cell_type": "code",
   "execution_count": null,
   "metadata": {
    "colab": {
     "base_uri": "https://localhost:8080/"
    },
    "executionInfo": {
     "elapsed": 278,
     "status": "ok",
     "timestamp": 1719838262711,
     "user": {
      "displayName": "감수",
      "userId": "03564591016025165141"
     },
     "user_tz": -540
    },
    "id": "xmQz57DZUDdI",
    "outputId": "67179e56-0583-4075-d452-8901a7811b73"
   },
   "outputs": [],
   "source": [
    "'''\n",
    "# 동시할당  \n",
    "여러변수에 값을 한번에 할당  \n",
    "a,b=b,a+b인경우 우변의 모든 표현식을 먼저 평가 후 결과가 좌변에 동시할당(일부 프로그래밍 언어에서 지원)\n",
    "\n",
    "# 순차적할당  \n",
    "변수에 한번에 하나씩 순서대로 값을 할당  \n",
    "a=b,b=a+b 이전할당의 결과가 다음 할당에 영향을 줌(대부분의 프로그래밍 언어에서 기본적으로 사용되는 방식)\n",
    "\n",
    "# 중간상태\n",
    "순차적할당에서는 각줄 실행후 변수 상태가 변화(할당문이 아니라 줄?)\n",
    "\n",
    "# help([x])  \n",
    "x:도움말을 얻을 함수명. 대괄호는 선택사항을 의미\n",
    "'''\n",
    "help(print)"
   ]
  },
  {
   "cell_type": "code",
   "execution_count": null,
   "metadata": {
    "id": "B9rMUk1YWh3T"
   },
   "outputs": [],
   "source": [
    "print(*objects, sep='',end='\\n',file=None, flush=False) # pdf 84P 오류\n",
    "print('h',end='')\n",
    "print('i')\n",
    "\n",
    "print('h','i',sep='-')\n",
    "\n",
    "print('hello', flush=True) # 즉시출력\n",
    "\n",
    "with open(\"output.txt\", \"w\") as f:\n",
    "  print(\"Hello, file!\", file=f) # 'Hello,file'을 output.txt 파일로 출력"
   ]
  },
  {
   "cell_type": "markdown",
   "metadata": {
    "id": "i4LXg8E4YJOG"
   },
   "source": [
    "# 함수:여러개의 리턴값\n",
    "응용실습) 앞선예시 활용 여러개 리턴값 있는 함수를 사용한 코드 작성 후 공유"
   ]
  },
  {
   "cell_type": "code",
   "execution_count": null,
   "metadata": {
    "id": "xf2L1kpjbWea"
   },
   "outputs": [],
   "source": [
    "# 조유경님 통계 계산기\n",
    "import numpy as np\n",
    "def statistics_calculator(numbers: list) -> tuple:\n",
    "    \"\"\"\n",
    "    통계 계산기 함수\n",
    "    이 함수는 숫자 리스트를 입력받아 평균, 중앙값, 분산, 표준 편차를 반환합니다.\n",
    "    Parameters:\n",
    "    numbers (list): 숫자 리스트입니다.\n",
    "    Returns:\n",
    "    tuple: 평균, 중앙값, 분산, 표준 편차를 포함한 튜플입니다.\n",
    "    \"\"\"\n",
    "    # 평균\n",
    "    mean_num = np.mean(numbers)\n",
    "    # 중앙값\n",
    "    median_num = np.median(numbers)\n",
    "      # 분산\n",
    "    variance_num = np.var(numbers)\n",
    "    # 표준 편차\n",
    "    deviation_num = np.std(numbers)\n",
    "\n",
    "    return mean_num, median_num, variance_num, deviation_num\n",
    "# 사용자 입력 받기\n",
    "input_str = input(\"통계 계산기를 적용할 숫자를 전부 띄어쓰기하여 입력해주세요: \")\n",
    "\n",
    "try:\n",
    "    list_num = list(map(int, input_str.split()))\n",
    "    result_mean, result_median, result_variance, result_deviation = statistics_calculator(list_num)\n",
    "    print(f\"평균: {result_mean}, 중앙값: {result_median}, 분산: {result_variance}, 표준 편차: {result_deviation}\")\n",
    "except ValueError:\n",
    "    print(\"입력값 중에 숫자가 아닌 값이 있습니다. 올바른 숫자를 입력해주세요.\")\n",
    "except TypeError as e:\n",
    "    print(f\"입력값 처리 중 오류가 발생했습니다: {e}\")"
   ]
  },
  {
   "cell_type": "markdown",
   "metadata": {
    "id": "QoJ63T9sjIcN"
   },
   "source": [
    "# +데이터 전처리"
   ]
  },
  {
   "cell_type": "markdown",
   "metadata": {
    "id": "XHNs5CN4jLst"
   },
   "source": [
    "## ++스탠다드 스케일링 (Standard Scaling)"
   ]
  },
  {
   "cell_type": "markdown",
   "metadata": {
    "id": "m0aQSuNxjNad"
   },
   "source": [
    "## ++로부스트 스케일링 (Robust Scaling)"
   ]
  },
  {
   "cell_type": "code",
   "execution_count": null,
   "metadata": {
    "colab": {
     "base_uri": "https://localhost:8080/"
    },
    "executionInfo": {
     "elapsed": 322,
     "status": "ok",
     "timestamp": 1720068304164,
     "user": {
      "displayName": "감수",
      "userId": "03564591016025165141"
     },
     "user_tz": -540
    },
    "id": "xiEm2cA_CHwT",
    "outputId": "7f10291c-d8dd-4688-fa56-2e86b633d1c4"
   },
   "outputs": [],
   "source": [
    "def print_person_info(name, age, **kwargs):\n",
    "  print(f'Name: {name}, Age: {age}')\n",
    "  for key, value in kwargs.items():\n",
    "    print('{key.capitalize()}: {value}')\n",
    "\n",
    "#사용예시\n",
    "print_person_info('Alice',25)\n",
    "print_person_info('Bob',30, occupation='Enginner', city='New York')\n",
    "print_person_info('Chairlie',35,  occupation='Manager', city='London', hobbies='Reading, Hiking')"
   ]
  },
  {
   "cell_type": "markdown",
   "metadata": {
    "id": "VdxhEp5wWEyX"
   },
   "source": [
    "# +변수(심화학습)"
   ]
  },
  {
   "cell_type": "markdown",
   "metadata": {
    "id": "9eG0Q0JlWHin"
   },
   "source": [
    "올바른 함수 선언  \n",
    "def calculate_accuracy(predictions, labels):  \n",
    "return sum(predictions == labels) / len(labels)  \n",
    "잘못된 함수 선언  \n",
    "def CalcAcc(pred, lab):  \n",
    "return sum(pred == lab) / len(lab) # 함수 이름이 직관적이지 않음  \n",
    "클래스작명법  \n",
    "소문자와 밑줄 사용: 함수 이름도 소문자와 밑줄(_)로 작성합니다.  \n",
    "의미 있는 이름: 함수 이름은 함수의 기능을 설명할 수 있도록 명확하게  \n",
    "올바른 함수 선언  \n",
    "def calculate_accuracy(predictions, labels):  \n",
    "return sum(predictions == labels) / len(labels)  \n",
    "잘못된 함수 선언  \n",
    "def CalcAcc(pred, lab):  \n",
    "return sum(pred == lab) / len(lab) # 함수 이름이 직관적이지 않음  \n",
    "\n",
    "코드의 가독성과 유지보수성을 높이기위해 특정한 작명관습\n",
    "1.변수이름\n",
    "데이터 변수: X_train, X_test, y_train, y_test 등으로 데이터셋을 명확히 구분  \n",
    "하이퍼파라미터: learning_rate, batch_size, num_epochs 등으로 모델의\n",
    "하이퍼파라미터를 명확히 표시  \n",
    "\n",
    "X_train, X_test, y_train, y_test = train_test_split(X, y, test_size=0.2)  \n",
    "learning_rate = 0.01  \n",
    "batch_size = 32  \n",
    "num_epochs = 100  \n",
    "\n",
    "2. 함수이름\n",
    "동사사용: 함수명은 동사로 시작해 함수의 목적을 명확히  \n",
    "데이터 전처리: load_data, preprocess_data  \n",
    "모델 학습: train_model, 모델 평가: evaluate_model  \n",
    "def load_data(file_path):  \n",
    "return pd.read_csv(file_path)  \n",
    "  \n",
    "def preprocess_data(df):  \n",
    " <!-- 데이터 전처리 코드 -->\n",
    "return df\n",
    "\n",
    "def evaluate_model(model, X_test, y_test):\n",
    "y_pred = model.predict(X_test)\n",
    "return accuracy_score(y_test, y_pred)"
   ]
  },
  {
   "cell_type": "markdown",
   "metadata": {
    "id": "ZxHk82FrXMzw"
   },
   "source": [
    "변수를 생각하거나_를 사용하는 주요 케이스\n",
    "_는 특정 값이나 변수를 무시하고자 할 때 자주 사용됩니다.\n",
    "이는 코드의 가독성을 높이고,해당 값이 필요하지 않다는 것을 명확히 나타내기 위해 사용\n",
    "1. 반복문에서 값무시\n",
    "  for루프에서 반복변수의 값을 사용하지 않을때_사용\n",
    "  <!-- 3번반복하지만 반복변수는 사용하지않음 -->  \n",
    "  for_in range(3):  \n",
    "    print('반복합니다.')  \n",
    "\n",
    "2. 튜플 언패킹에서 특정 값 무시하기\n",
    "  튜플 언패에서 특정 값을 무시하고 싶을 때_를 사용\n",
    "<!-- 좌표에서 y값은 무시하고x,z값만 사용-->\n",
    "x,_,z =(1,2,3)\n",
    "pirnt(f'x:{x},z:{z}')\n",
    "\n",
    "3. 여러 반환값 중 일부 무시하기\n",
    "  함수가 여러 값을 반환하지만 일부 값은 필요하지 않을 때_를 사용\n",
    "<!-- 함수가 여러 값을 반환하지만 일부 값은 사용하지 않음 -->\n",
    "def get_coordinates():  \n",
    "  return(10,20,30)  \n",
    "x,_,z = get_coordinates()\n",
    "print(f'x:{x},z:{z}')\n",
    "\n",
    "4. 인덱스가 필요없는 enumerate\n",
    "  enumerate를 사용할때 인덱스가 필요 없는 경우_를 사용합니다\n",
    "<!--인덱스를 사용하지 않고 리스트의 값만 사용-->\n",
    "fruits=['apple','banana','cherry']\n",
    "for_,fruit in enumerate(fruits):\n",
    "  print(fruit)\n",
    "\n",
    "5. 값 무시를 위한 자리 표시자\n",
    "\n",
    "6. 함수 정의에서 사용하지 않는 매개변수\n",
    "\n",
    "7. 리스트 컴프리헨션에서 값 무시하기\n"
   ]
  },
  {
   "cell_type": "markdown",
   "metadata": {
    "id": "rrAWTvxImmZG"
   },
   "source": [
    "변수는 객체에 대한 참조를 저장하는 이름\n",
    "  파이썬에서 변수는 객체 자체를 저장하는 것이 아니라, 객체에 대한 참조(refeence)를 저장합니다. 이 참조는 객체의 메모리 주소를 간접적으로 가리키지만, 파이썬 사용자에게는 이러한 세부사항이 추상화되어 있습니다. 사용자는 변수 이름을 통해 객체에 접근할 수 있습니다.  \n",
    "변수(variable)와 객체(object)의 차이  \n",
    "  1. 객체: 메모리에 저장된 데이터. 객체는 값과 관련된 속성(attribute)과 메서드(method)를 가질 수 있습니다. 팡썬의 모든 데이터는 객체입니다. 예를 들어, 숫자 ,문자열, 리스트, 함수 등 모두 객체입니다.\n",
    "  2. 변수: 객체를 참조하는 이름. 변수는 메모리 주소를 통해 객체를 가리킵니다.\n",
    "  즉, 변수는 객체 자체가 아니라 객체에 대한 참조(reference)입니다."
   ]
  },
  {
   "cell_type": "markdown",
   "metadata": {
    "id": "ErUsWiUGm7Hp"
   },
   "source": [
    "1. 데이터생성\n",
    "  X = np.random.rand(100,10)\n",
    "  y = np.random.randint(2,size=100)\n",
    "  X 변수:100개의 샘플과 각 샘플당 10개의 특성을 가진 랜덤 숫자로 구성된 2차원 배열입니다.\n",
    "y 변수:0또는 1의 값을 가지는 100개의 이진 레이블로 구성된 1차원 배열입니다.\n",
    "2. 데이터 분할\n",
    "  X_treain, X_test, y_train, y_test = train_test_split(X,y,test_size=0.2)\n",
    "  X_train 변수: 학습용 입력데이터로, 전체 입력데이터 x의 80%를 차지합니다.\n",
    "  X_test 변수: 테스트용 입력 데이터로, 전체 입력 데이터 x의20%를 차지합니다.\n",
    "  y_train 변수: 학습용 레이블 데이터로, 전체 레이블 데이터 y의 80%를 차지합니다.\n",
    "  y_test 변수: 테스트용 레이블 데이터로, 전체 레이블 데이터 y의20%를 차지합니다.\n",
    "\n",
    "x와 y는 각각 2차원 배열 객체, 1차원 배열 객체입니다.\n",
    "X_tain, X_test, y_train, y_test는 train_test_split 하수에 의해 분할된 해로운 배열 객체들입니다. 각각의 변수는 해당 객체들을 참조합니다.\n",
    "\n",
    "개념을 명확히 이해하고 사용할 때는\n",
    "\"변수X가 2차원 배열 객체를 참조한다\"와 같이 표현하는 것이 더 정확"
   ]
  },
  {
   "cell_type": "markdown",
   "metadata": {
    "id": "S7513VMij3gb"
   },
   "source": [
    "numpy.ndarray  \n",
    "NumPy 라이브러리의 핵심 데이터 구조로, 다차원 배열을 표현합니다.  \n",
    "\n",
    "1.배열 생성  \n",
    "1.1. 기본배열생성  \n",
    "import numpy as np  \n",
    "<!-- 1차원배열생성 -->  \n",
    "arr1=np.array([1,2,3,4,5])  \n",
    "<!--2차원 배열 생성-->  \n",
    "arr2=np.array([  \n",
    "  [1,2,3],  \n",
    "  [4,5,6]  \n",
    "])  \n",
    "<!--3차원배열생성-->  \n",
    "arr3 = np.array([  \n",
    "  [[1,2,3],[4,5,6]],  \n",
    "  [[7,8,9],[10,11,12]]  \n",
    "])  \n",
    "1.2. 특수 배열 생성  \n",
    "zeros = np.zeros((3,3)) # 0으로 채워진 배열  \n",
    "ones = np.ones((2,4))   # 1로 채워진 배열  \n",
    "identity = np.eye(3)    #단위행렬  \n",
    "full = np.full((2,3),7) #주어진값으로 채워진 배열  \n",
    "<!--연속된 수로 채워진 배열-->  \n",
    "arange = np.larange(10) # 0부터 9까지  \n",
    "lispace = np.linspace(0,1,5) # 0부터 1까지 5개의 균등 간격 수  "
   ]
  },
  {
   "cell_type": "markdown",
   "metadata": {
    "id": "rjZZlIpen193"
   },
   "source": [
    "넘파이(NumPy) 배열의 shape 속성  \n",
    "shape 속성은 배열형태를 나타내며, 배열 각 차원에서의 크기를 튜플형태로 반환"
   ]
  },
  {
   "cell_type": "code",
   "execution_count": null,
   "metadata": {
    "id": "Aral6vKaoL5x"
   },
   "outputs": [],
   "source": [
    "#1.1배열의 형태 확인\n",
    "import numpy as np\n",
    "#1차원 배열\n",
    "arr1=np.array([1,2,3,4,5])\n",
    "print(arr1.shape) # (5,)\n",
    "#2차원배열\n",
    "arr2=np.array([\n",
    "  [1,2,3],\n",
    "  [4,5,6]\n",
    "])\n",
    "print(arr2.shape) # (2,3)\n",
    "#3차원배열\n",
    "arr3 = np.array([\n",
    "  [[1,2,3],[4,5,6]],\n",
    "  [[7,8,9],[10,11,12]]\n",
    "])\n",
    "print(arr3.shape) # (2,2,3)\n",
    "\n",
    "#1.2.배열의 형태 변경\n",
    "#reshape 메소드를 사용하여 배열의 형태 변경가능\n",
    " #1차원배열을 2차원배열로 변경\n",
    " arr = np.array([1,2,3,4,5,6])\n",
    " reshaped = arr.reshape(2,3)\n",
    " print(reshaped)\n",
    " # [[1 2 3]\n",
    " #  [4 5 6]]\n",
    " # 형태가 변경된 배열의 shape확인\n",
    " print(reshaped.shape) # (2,3)"
   ]
  },
  {
   "cell_type": "markdown",
   "metadata": {
    "id": "twoOYyJ6pRQH"
   },
   "source": [
    "2.numpy.random 모듈  \n",
    " numpy.random 모듈은 무작위 배열을 생성하는 다양한 방법을 제공. 이는 데이터   증강, 샘플링, 시뮬레이션 드에 유용합니다.  \n",
    "2.1. 기본사용법\n",
    "고정된 시드 값 설정(재현가능성을 위해)\n",
    "0과 1사이 난수를 생성\n",
    "\n",
    "import numpy as np\n",
    "np.random.seed(42)\n",
    "random_float=cp.random.rand()\n",
    "print(random_float) # 예: 0.3745401188473625\n",
    "<!-- 0과 1사이 난수로 채워진 배열(형태3x3) -->\n",
    "random_array = np.random.rand(3,3)\n",
    "예:\n",
    "<!--[[0.37454012 0.95071431 0.73199394]-->\n",
    "<!-- [0.59865848 0.15601864 0.15599452]-->\n",
    "<!-- [0.05808361 0.86617615 0.60111501]]-->\n",
    "2.2. 정규분포를 따르는 난수생성  \n",
    "평균이 0, 표준편차가 1인 정규분포를 따르는 난수생성\n",
    "random_normal=np.random.normal(0,1,(2,3))\n",
    "print(random_normal)\n",
    "결과:\n",
    "[[0.1232132-0.14122213 0.6121232325]\n",
    " [1.5334314-0.23241421 0-.234123113]]\n",
    "P177"
   ]
  },
  {
   "cell_type": "markdown",
   "metadata": {
    "id": "z95VByx8_FCm"
   },
   "source": [
    "# +pdf코드"
   ]
  },
  {
   "cell_type": "markdown",
   "metadata": {
    "id": "dTlGmDCzpN53"
   },
   "source": [
    "##PDF1변수"
   ]
  },
  {
   "cell_type": "code",
   "execution_count": null,
   "metadata": {
    "id": "57pbfE145E_e"
   },
   "outputs": [],
   "source": [
    "from math import sqrt, pi # math 모듈에서 sqrt 함수와 pi 상수만 가져옴 : 모듈에서 특정함수나 변수 가져오기\n",
    "print(sqrt(16)) # sqrt 함수를 직접 사용 : 모듈명.함수명을 안해도 됨\n",
    "print(pi) # pi 상수를 직접 사용"
   ]
  },
  {
   "cell_type": "code",
   "execution_count": null,
   "metadata": {
    "id": "V_r76ZIZ5t-P"
   },
   "outputs": [],
   "source": [
    "import os.path # os 패키지의 path 서브모듈을 가져옴\n",
    "print(os.path.basename('/usr/local/bin/python')) # 파일명만 추출"
   ]
  },
  {
   "cell_type": "code",
   "execution_count": null,
   "metadata": {
    "id": "q4-rpGRb__EC"
   },
   "outputs": [],
   "source": [
    "a,b= 10.20\n",
    "print(a,b)\n",
    "a,b=10,20\n",
    "a,b=b,a+b\n",
    "print(a,b)\n",
    "a,b=10,20\n",
    "a=b\n",
    "b=a+b\n",
    "print(a,b)  #좌 동시실행 동시할당 우 순차실행 순차할당"
   ]
  },
  {
   "cell_type": "code",
   "execution_count": null,
   "metadata": {
    "id": "5O8gIr6kBR_H"
   },
   "outputs": [],
   "source": [
    "first_sumber=int(input('첫번째숫자'))\n",
    "second_number=int(input('두번째숫자'))\n",
    "print(first_sumber+second_number)"
   ]
  },
  {
   "cell_type": "code",
   "execution_count": null,
   "metadata": {
    "id": "E9-KQPInBxlw"
   },
   "outputs": [],
   "source": [
    "print('1 \\n 1 \\t 1 \\r 1 \\0 1 \\\\ 1 \\' 1 \\\" 1 ')"
   ]
  },
  {
   "cell_type": "code",
   "execution_count": null,
   "metadata": {
    "id": "Jfk8VezvCKO1"
   },
   "outputs": [],
   "source": [
    "'Helo'+'World'"
   ]
  },
  {
   "cell_type": "code",
   "execution_count": null,
   "metadata": {
    "id": "-4shJorECTqW"
   },
   "outputs": [],
   "source": [
    "'Hello' 'Wlorld'"
   ]
  },
  {
   "cell_type": "code",
   "execution_count": null,
   "metadata": {
    "id": "JsRKge3gCQbW"
   },
   "outputs": [],
   "source": [
    "'Hello'*3"
   ]
  },
  {
   "cell_type": "code",
   "execution_count": null,
   "metadata": {
    "id": "GR8oUJCOCXZ8"
   },
   "outputs": [],
   "source": [
    "S = \"Today fine\"\n",
    "print(S[0])\n",
    "print(S[2])\n",
    "print(S[7])\n",
    "print(S[:])\n",
    "print(S[2:])\n",
    "print(S[:5])\n",
    "print(S[::])\n",
    "print(S[-2:-5:-2])"
   ]
  },
  {
   "cell_type": "code",
   "execution_count": null,
   "metadata": {
    "id": "Bps5gDBOCsbn"
   },
   "outputs": [],
   "source": [
    "if 0:\n",
    "  print('True')\n",
    "else:\n",
    "  print('False')\n",
    "if 0+0:\n",
    "  print('True')\n",
    "else:\n",
    "  print('False')\n",
    "if 0.0:\n",
    "  print('True')\n",
    "else:\n",
    "  print('False')\n",
    "if'':\n",
    "  print('True')\n",
    "else:\n",
    "  print('False')\n",
    "if None:\n",
    "  print('True')\n",
    "else:\n",
    "  print('False')"
   ]
  },
  {
   "cell_type": "code",
   "execution_count": null,
   "metadata": {
    "id": "rgKqnN2tC92V"
   },
   "outputs": [],
   "source": [
    "type(120)\n",
    "type(1231241)\n",
    "type(3.141592)\n",
    "type(1.23456e3)\n",
    "type('Hello')\n",
    "type(True)\n",
    "type(False)\n",
    "int()\n",
    "float()\n",
    "str()\n",
    "bool()"
   ]
  },
  {
   "cell_type": "code",
   "execution_count": null,
   "metadata": {
    "id": "bdvVbmYUDZSc"
   },
   "outputs": [],
   "source": [
    "my_list=[]\n",
    "if not bool(my_list):\n",
    "  print('The list is empty.')\n",
    "else:\n",
    "  print('The list is not empty.')"
   ]
  },
  {
   "cell_type": "code",
   "execution_count": null,
   "metadata": {
    "id": "j6I--jplDLhE"
   },
   "outputs": [],
   "source": [
    "fruits=['banana','apple','orange','grape']\n",
    "print(fruits)\n",
    "numbers=[1,2,3,4,5]\n",
    "print(numbers)\n",
    "list(range(-10,10,2))"
   ]
  },
  {
   "cell_type": "code",
   "execution_count": null,
   "metadata": {
    "id": "dVH-jPgLD9fG"
   },
   "outputs": [],
   "source": [
    "numbers_2d=[[1,2,3,4,5],[10,20,30,40,50],[1,3,5,7,9],[2,4,6,8,10]]\n",
    "print(numbers_2d)\n",
    "print(numbers_2d[1][1:4])"
   ]
  },
  {
   "cell_type": "code",
   "execution_count": null,
   "metadata": {
    "id": "LsLbim0VEQ43"
   },
   "outputs": [],
   "source": [
    "numbers=[1,2,3,4,5]\n",
    "numbers_2d=[[1,2,3,4,5],[10,20,30,40,50],[1,3,5,7,9],[2,4,6,8,10]]\n",
    "len(numbers)\n",
    "len(numbers_2d)\n",
    "len(numbers_2d[0])\n",
    "min(numbers)\n",
    "max(numbers)\n",
    "max(numbers_2d)\n",
    "new_numbers=numbers+numbers\n",
    "print(new_numbers)\n",
    "print(numbers*3)"
   ]
  },
  {
   "cell_type": "code",
   "execution_count": null,
   "metadata": {
    "id": "RFnUlopbEuwV"
   },
   "outputs": [],
   "source": [
    "numbers.append(10)\n",
    "numbers"
   ]
  },
  {
   "cell_type": "code",
   "execution_count": null,
   "metadata": {
    "id": "LrKyQ8cVE6_s"
   },
   "outputs": [],
   "source": [
    "numbers.append([20,30,40,50])\n",
    "numers"
   ]
  },
  {
   "cell_type": "code",
   "execution_count": null,
   "metadata": {
    "id": "5AVIC59OE_Op"
   },
   "outputs": [],
   "source": [
    "numbers=[1,2,3,4,5]\n",
    "numbers.extend([10,20,30,40,50])\n",
    "numbers"
   ]
  },
  {
   "cell_type": "code",
   "execution_count": null,
   "metadata": {
    "id": "CNxdrnJ5FE7D"
   },
   "outputs": [],
   "source": [
    "numbers.insert(5,100)\n",
    "numbers"
   ]
  },
  {
   "cell_type": "code",
   "execution_count": null,
   "metadata": {
    "id": "0pB5YJwQFOL3"
   },
   "outputs": [],
   "source": [
    "numbers=[1,3,5,7,9]\n",
    "numbers.index(5)"
   ]
  },
  {
   "cell_type": "code",
   "execution_count": null,
   "metadata": {
    "id": "rD3M54ASFWiZ"
   },
   "outputs": [],
   "source": [
    "numbers=[1,3,5,7,9,1,2,3,4,5]\n",
    "numbers.index(6,3)"
   ]
  },
  {
   "cell_type": "code",
   "execution_count": null,
   "metadata": {
    "id": "A8Q3jbZmFePJ"
   },
   "outputs": [],
   "source": [
    "numbers=[1,3,5,7,9,1,2,3,4,5]\n",
    "numbers.index(5,3)"
   ]
  },
  {
   "cell_type": "code",
   "execution_count": null,
   "metadata": {
    "id": "8OnN8m3bFqu6"
   },
   "outputs": [],
   "source": [
    "numbers=[1,3,5,7,9,1,2,3,4,5]\n",
    "numbers.index(6,3)"
   ]
  },
  {
   "cell_type": "code",
   "execution_count": null,
   "metadata": {
    "id": "avbkxNWVFw7j"
   },
   "outputs": [],
   "source": [
    "numbers=[1,3,5,7,9,1,2,3,4,5]\n",
    "numbers[0], numbers[2]"
   ]
  },
  {
   "cell_type": "code",
   "execution_count": null,
   "metadata": {
    "id": "zMvTg6bOF7zX"
   },
   "outputs": [],
   "source": [
    "numbers=[1,3,5,7,9,1,2,3,4,5]\n",
    "numbers[20]"
   ]
  },
  {
   "cell_type": "code",
   "execution_count": null,
   "metadata": {
    "id": "NHi7nzuFF-n4"
   },
   "outputs": [],
   "source": [
    "a=[1,2,['a','b',['Hello','World']]]\n",
    "print(a[2][2][0])\n",
    "print(a[2][2][1])"
   ]
  },
  {
   "cell_type": "code",
   "execution_count": null,
   "metadata": {
    "id": "j7aUSHabMXiF"
   },
   "outputs": [],
   "source": [
    "numbers=[1,2,3,4,5,6,7,8,9,10]\n",
    "numbers_2d =[[1,2,3,4,5],[10,20,30,40,50],[1,3,5,7,9],[2,4,6,8,10]]\n",
    "numbers[2:4]"
   ]
  },
  {
   "cell_type": "code",
   "execution_count": null,
   "metadata": {
    "id": "vvtoGKO_Mm-T"
   },
   "outputs": [],
   "source": [
    "numbers[2:]\n",
    "numbers[:4]\n",
    "numbers[:]\n",
    "numbers[-5:-1]\n",
    "numbers[-1]\n",
    "numbers[-1:-5]\n",
    "numbers_2d[1:3]\n",
    "numbers_2d[1][1:4]"
   ]
  },
  {
   "cell_type": "code",
   "execution_count": null,
   "metadata": {
    "id": "XY7xRtR5M-AA"
   },
   "outputs": [],
   "source": [
    "numbers=[1,2,3,4,5,6,7,8,9,10]\n",
    "numbers_2d=[[1,2,3,4,5],[10,20,30,40,50],[1,3,5,7,9],[2,4,6,8,10]]\n",
    "numbers[::2]\n",
    "numbers[::-1]\n",
    "numbers[-5::-1]"
   ]
  },
  {
   "cell_type": "code",
   "execution_count": null,
   "metadata": {
    "colab": {
     "base_uri": "https://localhost:8080/"
    },
    "executionInfo": {
     "elapsed": 334,
     "status": "ok",
     "timestamp": 1720439905438,
     "user": {
      "displayName": "감수",
      "userId": "03564591016025165141"
     },
     "user_tz": -540
    },
    "id": "ROULl9MyNGXG",
    "outputId": "20b8a28e-889c-480b-d184-f62addae0abf"
   },
   "outputs": [],
   "source": [
    "numbers1=(1,2,3,4,5)\n",
    "type(numbers1)\n",
    "numbers2=1,2,3,4,5\n",
    "type(numbers2)\n",
    "numbers3=(1)\n",
    "type(numbers3)\n",
    "numbers4=(1,)\n",
    "type(numbers4)\n",
    "numbers_2d=([1,2,3,4,5],[10,20,30,40,50],[1,3,5,7,9],[2,4,6,8,10])\n",
    "print(numbers_2d)"
   ]
  },
  {
   "cell_type": "code",
   "execution_count": null,
   "metadata": {
    "id": "hRjIodK5Nb31"
   },
   "outputs": [],
   "source": [
    "#딕셔너리 생성\n",
    "example_dict={'name':'Alice','age':25,'city':'New York'}\n",
    "print(example_dict['name'])\n",
    "print(example_dict['age'])\n",
    "print(example_dict['city'])\n",
    "#items()메서드 사용 딕셔너리의 모든 키-값 쌍을 튜플형태로 반환\n",
    "print('\\n Items:')\n",
    "for key,value in example_dict.items():\n",
    "  print(f'Key:{key},Value:{value}')\n",
    "#keys()메서드 사용 딕셔너리의 모든 키를 반환\n",
    "print('\\n Keys:')\n",
    "for key in example_dict.keys():\n",
    "  print(f'Key:{key}')\n",
    "#values()메서드 사용 딕셔너리의 모든 값을 반환\n",
    "print('\\n Values:')\n",
    "for value in example_dict.values():\n",
    "  print(f'Value:{value}')"
   ]
  },
  {
   "cell_type": "markdown",
   "metadata": {
    "id": "c8tlRHD0ov_A"
   },
   "source": [
    "## PDF2 연산자"
   ]
  },
  {
   "cell_type": "code",
   "execution_count": null,
   "metadata": {
    "id": "iw36byrypDfA"
   },
   "outputs": [],
   "source": [
    "#p11"
   ]
  },
  {
   "cell_type": "markdown",
   "metadata": {
    "id": "GhMEmiqPHNDF"
   },
   "source": [
    "# +예제코드"
   ]
  },
  {
   "cell_type": "markdown",
   "metadata": {
    "id": "6a177PiSHVlI"
   },
   "source": [
    "## 1 PDF 변수(예제)"
   ]
  },
  {
   "cell_type": "code",
   "execution_count": null,
   "metadata": {
    "id": "0_-IYMlZHZjd"
   },
   "outputs": [],
   "source": [
    "# 문제1)사용자의 이름을 변수에 저장하고, 저장된이름을 출력\n",
    "user_name=input('이름:')\n",
    "print(user_name)\n",
    "# 문제2)3개의 변수로 사용자의 이름,나이,성별을 저장,출력\n",
    "name,age,gender = input('이름:'), input('나이:'), input('성별:')\n",
    "print(f'이름:{name}나이:{age}성별:{gender}')\n",
    "# 문제3)두 변수값을 교환,교환된 변수의 값을 출력\n",
    "a,b = 5,10\n",
    "a,b=b,a\n",
    "print(a,b)\n",
    "# 문제5)사용자로부터 입력받은 두 수의 합과 곱을 출력\n",
    "num1,num2 = int(input('숫자1:')), int(input('숫자2:'))\n",
    "sum = num1 + num2\n",
    "result = num1*num2\n",
    "print('합계:', sum, result)\n",
    "# 문제6)다음 불리언값을 변수에 저장하고 출력\n",
    "bool1,bool2 = True,False\n",
    "print(bool1,bool2)\n",
    "# 문제7)리스트를 변수에 저장하고 출력\n",
    "list1=[1,2,3,4,5]\n",
    "print(list1)\n",
    "# 문제8)두 변수에 각각'Hello'와'World'를 저장하고, 두변수 합쳐서 출력\n",
    "str1,str2 = 'Hello', 'World'\n",
    "print(str1+str2)"
   ]
  },
  {
   "cell_type": "code",
   "execution_count": null,
   "metadata": {
    "id": "D-zj2d-6HTNn"
   },
   "outputs": [],
   "source": [
    "# 변수(예제)\n",
    "# 1)기본변수\n",
    "# 정수,실수,문자열\n",
    "# 2)리스트와 배열\n",
    "# 여러값을 저장하는데 사용, 머신러닝과 딥러닝에서는 Numpy의 배열을 많이 사용\n",
    "# 리스트\n",
    "layers=[64,128,256]\n",
    "# Numpy배열\n",
    "import numpy as np\n",
    "weights=np.array([0.1,0.2,0.3])\n",
    "# 3)딕셔너리\n",
    "# 키-값 쌍을 저장. 모델의 하이퍼파라미터를 저장할때 유용\n",
    "# 파이썬 딕셔너리\n",
    "model_params={\n",
    "    'learning_rate':0.01,\n",
    "    'num_eposhs':100,\n",
    "    'batch_size':32,\n",
    "}\n",
    "# 4)Pandas DataFrame\n",
    "# Pandas DataFrame은 테이블 형식의 데이터를 저장하고 조작하는데 사용됩니다.\n",
    "# 머신러닝에서 데이터 전처리에자유 사용됩니다.\n",
    "import pandas as pd\n",
    "#데이터프레임 생성\n",
    "data = {\n",
    "    'featyre1':[1,2,3],\n",
    "    'feature2':[4,5,6],\n",
    "    'label':[0,1,0]\n",
    "}\n",
    "df=pd.DataFrame(data)\n",
    "# 5) TensorFlow와 Keras 변수\n",
    "# 딥러닝에서는 TensorFlow와 Keras를 사용하여 텐서를 정의하고 모델을 구성합니다.\n",
    "import tensorflow as tf\n",
    "from tensorflow.keras.models import Sequential\n",
    "from tensorflow.keras.layers import Dense\n",
    "#TensorFlow 변수\n",
    "a = tf.Variable([1.0,2.0,3.0],dtype=tf.float32)\n",
    "#Keras 모델\n",
    "model = Sequential([\n",
    "    Dense(64,activation='relu',input_shape=(10,)),\n",
    "    Dense(1,activation='sigmoid')\n",
    "])"
   ]
  },
  {
   "cell_type": "markdown",
   "metadata": {
    "id": "fMRUmFaE3AkA"
   },
   "source": [
    "### 코드"
   ]
  },
  {
   "cell_type": "code",
   "execution_count": null,
   "metadata": {
    "id": "WR1pdzOfcwB0"
   },
   "outputs": [],
   "source": [
    "id_dict={}\n",
    "ps_dict={}\n",
    "input('계정을 생성하시겠습니다?')\n",
    "input(\"당신은AI입니까?(예를 입력해주십시오):\")\n",
    "if Anser == '예':\n",
    "  id = input('id:')\n",
    "  ps = input('ps:')\n",
    "print(a)\n",
    "humanid = {a:}"
   ]
  },
  {
   "cell_type": "code",
   "execution_count": null,
   "metadata": {
    "colab": {
     "base_uri": "https://localhost:8080/"
    },
    "executionInfo": {
     "elapsed": 3177,
     "status": "ok",
     "timestamp": 1720428056499,
     "user": {
      "displayName": "감수",
      "userId": "03564591016025165141"
     },
     "user_tz": -540
    },
    "id": "Pxuquuy8ddug",
    "outputId": "de9c97b0-b367-4daa-8ee2-9de040a53f06"
   },
   "outputs": [],
   "source": [
    "\n",
    "id = input('id와 pswd를 입력\\nid:')\n",
    "ps = input('ps:')"
   ]
  },
  {
   "cell_type": "code",
   "execution_count": null,
   "metadata": {
    "colab": {
     "base_uri": "https://localhost:8080/"
    },
    "executionInfo": {
     "elapsed": 423,
     "status": "ok",
     "timestamp": 1720488513709,
     "user": {
      "displayName": "감수",
      "userId": "03564591016025165141"
     },
     "user_tz": -540
    },
    "id": "0fE1_qNTFI1Y",
    "outputId": "bdcea91d-7086-4226-ddbd-5cef16b9353f"
   },
   "outputs": [],
   "source": [
    "a=[1,'  ',3, 4,2]\n",
    "a\n",
    "print(a[:])"
   ]
  },
  {
   "cell_type": "markdown",
   "metadata": {
    "id": "u9hiRrP0priu"
   },
   "source": [
    "##  5 PDF자료형 1(예제)"
   ]
  },
  {
   "cell_type": "code",
   "execution_count": null,
   "metadata": {
    "id": "4o83b33Aqe4J"
   },
   "outputs": [],
   "source": [
    "# 5. 자료형1:List Comprehension\n",
    "# 예시1: 1부터 10까지의 숫자리스트 생성\n",
    "numbers = [x for x in range(1,11)]\n",
    "print(numbers) # 출력:[1,2,3,4,5,6,7,8,9,10]\n",
    "# 예시2: 리스트의 각 요소에 2를 곱하기\n",
    "numbers = [1,2,3,4,5]\n",
    "doubled = [x*2 for x in numbers]\n",
    "print(doubled) # 출력: [2,4,6,8,10]\n",
    "# 예시3: 문자열 리스트에서 길이가 5 이상인 단어만 필터링하기\n",
    "words = ['apple','banana','cherry']\n",
    "upper_words = [word.upper() for word in words]\n",
    "print(upper_words) #출력: ['APPLE','BNANA','CHERRY']\n",
    "# 예시4: 1부터 10까지의 제곱수를 계산하기\n",
    "\n",
    "# 예시5: 리스트에서 짝수만 필터링하기\n",
    "\n",
    "# 예시6: 문자열 리스트에서 길이가 5 이상인 단어만 필터링하기\n",
    "\n",
    "# 예시9: 문자열 조작을 위한 리스트 컴프리헨션\n",
    "\n",
    "# 예시10: 중첩 루프를 사용한 리스트 컴프리헨션\n",
    "\n",
    "# 예시7: 두 리스트의 곱셈 결과 생성\n",
    "\n",
    "# 예시8: 1부터 10까지의 숫자 중 홀수는 '홀수',짝수는 '짝수'로 변환\n",
    "\n",
    "#실습) List Comprehension 기능을 이해하고 변형/응용 코드를 작성하여 공유해봅시다.\n"
   ]
  },
  {
   "cell_type": "markdown",
   "metadata": {
    "id": "D_G02qpFsA1e"
   },
   "source": [
    "## 6 PDF자료형 2(예제)"
   ]
  },
  {
   "cell_type": "markdown",
   "metadata": {
    "id": "h-kLo4Uqh41H"
   },
   "source": [
    "## pdf111P부터"
   ]
  },
  {
   "cell_type": "code",
   "execution_count": null,
   "metadata": {
    "colab": {
     "base_uri": "https://localhost:8080/"
    },
    "executionInfo": {
     "elapsed": 5681,
     "status": "ok",
     "timestamp": 1720094702789,
     "user": {
      "displayName": "감수",
      "userId": "03564591016025165141"
     },
     "user_tz": -540
    },
    "id": "9_ZZhXxjodrZ",
    "outputId": "adabae54-a961-42c8-b237-0395a67ea152"
   },
   "outputs": [],
   "source": [
    "y=int(input())\n",
    "if (y%4 == 0)and((y%100 != 0) and (y%400 ==0)):\n",
    "    print('1')\n",
    "else:\n",
    "    print('0')"
   ]
  },
  {
   "cell_type": "code",
   "execution_count": null,
   "metadata": {
    "id": "V9saWxHOh6pW"
   },
   "outputs": [],
   "source": []
  },
  {
   "cell_type": "code",
   "execution_count": null,
   "metadata": {
    "id": "4sDuEwmynd2S"
   },
   "outputs": [],
   "source": [
    "from google.colab import drive\n",
    "drive.mount('/content/drive')"
   ]
  },
  {
   "cell_type": "code",
   "execution_count": null,
   "metadata": {
    "id": "UtHaUt0gyKFm"
   },
   "outputs": [],
   "source": [
    "name = \"홍길동\"\n",
    "age = 20"
   ]
  },
  {
   "cell_type": "code",
   "execution_count": null,
   "metadata": {
    "id": "K5VcW4dfyX63"
   },
   "outputs": [],
   "source": [
    "print(f\"{name}\"님의 나이는 {age}세입니다.\")"
   ]
  },
  {
   "cell_type": "code",
   "execution_count": null,
   "metadata": {
    "colab": {
     "base_uri": "https://localhost:8080/"
    },
    "executionInfo": {
     "elapsed": 4325,
     "status": "ok",
     "timestamp": 1719814563253,
     "user": {
      "displayName": "감수",
      "userId": "03564591016025165141"
     },
     "user_tz": -540
    },
    "id": "fBmJqlrUyw7m",
    "outputId": "4143dc03-3607-434e-cc1e-1ef1c3640652"
   },
   "outputs": [],
   "source": [
    "first_number = int(input(\"첫 번째 숫자:\"))\n",
    "second_number = int(input(\"두 번째 숫자:\"))\n",
    "print(first_number + second_number)\n",
    "# int를 빼면 문자열 float로 하면 소수점으로 나오나?\n",
    "# f스트링 문법오류 다시 수정해보기"
   ]
  },
  {
   "cell_type": "code",
   "execution_count": null,
   "metadata": {
    "colab": {
     "base_uri": "https://localhost:8080/"
    },
    "executionInfo": {
     "elapsed": 309,
     "status": "ok",
     "timestamp": 1719812876724,
     "user": {
      "displayName": "감수",
      "userId": "03564591016025165141"
     },
     "user_tz": -540
    },
    "id": "3w4JSIkA0XrG",
    "outputId": "ca5e16e3-4787-4048-a9ae-4569ed75ddbf"
   },
   "outputs": [],
   "source": [
    "한구거_변수=1\n",
    "print(한구거_변수)"
   ]
  },
  {
   "cell_type": "markdown",
   "metadata": {
    "id": "LIHpN9om5KHq"
   },
   "source": [
    "문자형\n",
    "\n",
    "단일문자와 문자열을 구분하지 않는다\n",
    "겹따옴표 또는 홑따옴표를 묶어서 사용"
   ]
  },
  {
   "cell_type": "code",
   "execution_count": null,
   "metadata": {
    "colab": {
     "base_uri": "https://localhost:8080/",
     "height": 240
    },
    "executionInfo": {
     "elapsed": 2494,
     "status": "error",
     "timestamp": 1719841170948,
     "user": {
      "displayName": "감수",
      "userId": "03564591016025165141"
     },
     "user_tz": -540
    },
    "id": "BIg-axi15ngX",
    "outputId": "3fe31456-284e-45cc-98bf-24487ca79e59"
   },
   "outputs": [],
   "source": [
    "text = \"이렇게 작성하면 어쩌고 저쩌고\"\n",
    "dd= \"1\"\n",
    "a+= text + input(dd)\n",
    "print(a)\n",
    "# 이거 왜 이렇게 되지?"
   ]
  },
  {
   "cell_type": "code",
   "execution_count": null,
   "metadata": {
    "colab": {
     "base_uri": "https://localhost:8080/"
    },
    "executionInfo": {
     "elapsed": 443,
     "status": "ok",
     "timestamp": 1719815951799,
     "user": {
      "displayName": "감수",
      "userId": "03564591016025165141"
     },
     "user_tz": -540
    },
    "id": "eF9eoHGr90Q4",
    "outputId": "f035ec8b-9df2-4967-dd42-3e4a9cd0cf08"
   },
   "outputs": [],
   "source": [
    "사원DB = [['이름','부서','분반'], ['김마인','마케팅','C']]\n",
    "print(사원DB[1][1:])"
   ]
  },
  {
   "cell_type": "code",
   "execution_count": null,
   "metadata": {
    "id": "Gs5GTiWh_tvI"
   },
   "outputs": [],
   "source": [
    "if a == 0:\n",
    "elif\n",
    "else\n",
    "while\n",
    "for"
   ]
  },
  {
   "cell_type": "code",
   "execution_count": null,
   "metadata": {
    "colab": {
     "base_uri": "https://localhost:8080/"
    },
    "executionInfo": {
     "elapsed": 321,
     "status": "ok",
     "timestamp": 1719817116390,
     "user": {
      "displayName": "감수",
      "userId": "03564591016025165141"
     },
     "user_tz": -540
    },
    "id": "KgIerJ9nFHuy",
    "outputId": "eb188460-c30b-442f-ab00-1bd375dcea86"
   },
   "outputs": [],
   "source": [
    "int(3.14)\n",
    "float(False)\n",
    "float('3.14')\n",
    "str(True)\n",
    "str(3.14)\n",
    "bool(3.6)\n",
    "bool('')\n",
    "bool(' ')"
   ]
  },
  {
   "cell_type": "code",
   "execution_count": null,
   "metadata": {
    "colab": {
     "base_uri": "https://localhost:8080/"
    },
    "executionInfo": {
     "elapsed": 1,
     "status": "ok",
     "timestamp": 1719985289926,
     "user": {
      "displayName": "감수",
      "userId": "03564591016025165141"
     },
     "user_tz": -540
    },
    "id": "9E4VNhEBFsv5",
    "outputId": "a5a513ea-6c4b-4fc0-9b81-39dafb40b0d3"
   },
   "outputs": [],
   "source": [
    "# 리스트\n",
    "my_리스트 = []\n",
    "if not bool(my_리스트):\n",
    "  print('The list is empty!')\n",
    "else:\n",
    "  print('The list is not empty!')"
   ]
  },
  {
   "cell_type": "code",
   "execution_count": null,
   "metadata": {
    "id": "2Xk76oo-HeY6"
   },
   "outputs": [],
   "source": [
    "다차원리스트 = [[1],[1,2],[1,2,3],[1,2,3,4,],[1,2,3,4,5]]\n",
    "# 다차원리스트 호출? list[][][]   list(range(?,?,?))"
   ]
  },
  {
   "cell_type": "code",
   "execution_count": null,
   "metadata": {
    "colab": {
     "base_uri": "https://localhost:8080/"
    },
    "executionInfo": {
     "elapsed": 300,
     "status": "ok",
     "timestamp": 1719819008465,
     "user": {
      "displayName": "감수",
      "userId": "03564591016025165141"
     },
     "user_tz": -540
    },
    "id": "IRfcxe48KTHD",
    "outputId": "55c45eb3-0993-4534-df41-79caddd167b9"
   },
   "outputs": [],
   "source": [
    "fruits=['banana','apple','orange','grape']\n",
    "print(fruits)\n",
    "numbers = [1,2,3,4,5]\n",
    "print(numbers)\n",
    "list(range(-10,10,2))\n",
    "list(range(-5,0,-2))\n",
    "# ㅇㅇ\n",
    "## ㅇㅇ\n",
    "### ㅇㅇ\n",
    "#### ㅇㅇ\n",
    "# ## ### ㅇㅇ"
   ]
  },
  {
   "cell_type": "code",
   "execution_count": null,
   "metadata": {
    "colab": {
     "base_uri": "https://localhost:8080/"
    },
    "executionInfo": {
     "elapsed": 320,
     "status": "ok",
     "timestamp": 1719881444456,
     "user": {
      "displayName": "감수",
      "userId": "03564591016025165141"
     },
     "user_tz": -540
    },
    "id": "HCOKoUOKUr9b",
    "outputId": "2e525fb6-9f1a-4f39-a61e-63dc156e2391"
   },
   "outputs": [],
   "source": [
    "n1=(1,2,3,4,5)\n",
    "print(type(n1))\n",
    "n2=1,2,3,4,5\n",
    "print(type(n2))\n",
    "n=[1,2,3,5]\n",
    "print(type(n),'\\n')\n",
    "\n",
    "a=1\n",
    "print(type(a))\n",
    "b=(1)\n",
    "print(type(b))\n",
    "c=(1,)\n",
    "print(type(c),'\\n')\n",
    "\n",
    "numbers_2d=((1,2,3,),(4,5,6))\n",
    "numbers_2d"
   ]
  },
  {
   "cell_type": "code",
   "execution_count": null,
   "metadata": {
    "colab": {
     "base_uri": "https://localhost:8080/"
    },
    "executionInfo": {
     "elapsed": 273,
     "status": "ok",
     "timestamp": 1719820109796,
     "user": {
      "displayName": "감수",
      "userId": "03564591016025165141"
     },
     "user_tz": -540
    },
    "id": "sS_8qQuzQfjb",
    "outputId": "39e5cef1-c799-479d-9c3c-5fde08269352"
   },
   "outputs": [],
   "source": [
    "numbers = [1,2,3,4,5,6,7,8,9,10]\n",
    "numbers_2d a= [[1,2,3,4,5],[10,20,30,40,50],[1,3,5,7,9],[2,4,6,8,10]]\n",
    "print(numbers[2:4])"
   ]
  },
  {
   "cell_type": "code",
   "execution_count": null,
   "metadata": {
    "colab": {
     "base_uri": "https://localhost:8080/"
    },
    "executionInfo": {
     "elapsed": 278,
     "status": "ok",
     "timestamp": 1719819954783,
     "user": {
      "displayName": "감수",
      "userId": "03564591016025165141"
     },
     "user_tz": -540
    },
    "id": "NiTn9mFrPItr",
    "outputId": "233d53e3-2250-43b6-b492-4b77d588fcb5"
   },
   "outputs": [],
   "source": [
    "print(numbers[2:])\n",
    "print(numbers[:4])\n",
    "print(numbers[:])\n",
    "print(numbers[-5:-1])\n",
    "print(numbers[:1])\n",
    "print(numbers[-1:-5])\n",
    "print(numbers_2d[1:3])\n",
    "print(numbers_2d[1][1:4])"
   ]
  },
  {
   "cell_type": "code",
   "execution_count": null,
   "metadata": {
    "colab": {
     "base_uri": "https://localhost:8080/"
    },
    "executionInfo": {
     "elapsed": 312,
     "status": "ok",
     "timestamp": 1719819576146,
     "user": {
      "displayName": "감수",
      "userId": "03564591016025165141"
     },
     "user_tz": -540
    },
    "id": "dGU7nt7wKox6",
    "outputId": "c3c25bd5-b8d3-44a4-ce4d-c7e7e4e26ec8"
   },
   "outputs": [],
   "source": [
    "numbers = [1,2,3,4,5,6,7,8,9,10]\n",
    "numbers_2d = [[1,2,3,4,5],[10,20,30,40,50],[1,3,5,7,9],[2,4,6,8,10]]\n",
    "print(numbers_2d[1][0])\n",
    "print(numbers[::2])\n",
    "print(numbers[::-1])\n",
    "print(numbers[-5::-1])"
   ]
  },
  {
   "cell_type": "code",
   "execution_count": null,
   "metadata": {
    "id": "R_6OEzHtRGuf"
   },
   "outputs": [],
   "source": [
    "a=a[1,2,['a','b','',]]"
   ]
  },
  {
   "cell_type": "code",
   "execution_count": null,
   "metadata": {
    "colab": {
     "base_uri": "https://localhost:8080/"
    },
    "executionInfo": {
     "elapsed": 325,
     "status": "ok",
     "timestamp": 1719888748305,
     "user": {
      "displayName": "감수",
      "userId": "03564591016025165141"
     },
     "user_tz": -540
    },
    "id": "n2EXruuhU1sV",
    "outputId": "727d7798-58f2-42db-9590-514fd52bf784"
   },
   "outputs": [],
   "source": [
    "from re import X\n",
    "import numpy as np\n",
    "# numpy 모듈을 np라는 이름으로 사용\n",
    "from sklearn.model_selection import train_test_split\n",
    "# sklearn 이라는 ai? 함수모델 라이브러리 내부의 모듈을 선택\n",
    "# .model_selection 이 명령어인지 명칭인지는 잘 모르겠습니다.\n",
    "from sklearn.linear_model import LogisticRegression\n",
    "from sklearn.metrics import accuracy_score\n",
    "\n",
    "# 데이터 생성\n",
    "X=np.array([[1,2],[2,3],[3,4],[4,5]])\n",
    "y=np.array([0,0,1,1])\n",
    "# 데이터 분할\n",
    "X_train,X_test,y_train,y_test=train_test_split(X,y,test_size=0.25)\n",
    "# 모델 생성 및 학습\n",
    "model=LogisticRegression()\n",
    "model.fit(X_train,y_train)\n",
    "# 예측 및 평가\n",
    "y_pred=model.predict(X_test)\n",
    "accuracy=accuracy_score(y_test,y_pred)\n",
    "print(f'Accuracy: {accuracy}')"
   ]
  },
  {
   "cell_type": "markdown",
   "metadata": {
    "id": "CApqR8-vWYr8"
   },
   "source": [
    "np.random.randint(1,20) vs  random.randint(1,20)\n",
    "\n",
    "모듈:\n",
    "np.random.randint():NumPy 라이브러리의 일부\n",
    "random.randint(): Python 표준 라이브러리의 일부\n",
    "\n",
    "반환범위:\n",
    "np.random.randint(1,20):1 이상 20 미만의 정수 (1~19)\n",
    "random.randint(1,20): 1 이상 20 이하의 정수 (1~20)\n",
    "\n",
    "배열생성:\n",
    "np.random.randint(): 단일 값 또는 배열 생성 가능\n",
    "random.randint(): 항상 단일 값만 반환"
   ]
  },
  {
   "cell_type": "code",
   "execution_count": null,
   "metadata": {
    "colab": {
     "base_uri": "https://localhost:8080/"
    },
    "executionInfo": {
     "elapsed": 80956,
     "status": "ok",
     "timestamp": 1719974519958,
     "user": {
      "displayName": "감수",
      "userId": "03564591016025165141"
     },
     "user_tz": -540
    },
    "id": "jhfJyjapXHfm",
    "outputId": "c4079cb1-611b-4e99-884b-2a845a6263b1"
   },
   "outputs": [],
   "source": [
    "# 제어문:실습 응용실습) 숫자맞추기 코드응용하여 간단 스무고개 게임 코딩 후 공유\n",
    "#1단계)범위를 바꿔보기\n",
    "import random\n",
    "\n",
    "target = random.randint(1,40000)\n",
    "guess=None\n",
    "attempts=0\n",
    "\n",
    "while guess != target:\n",
    "  guess = int(input('1부터 4만까지 번호를 맞춰보세요 : '))\n",
    "  attempts += 1\n",
    "  if guess < 1 or guess > 40000:\n",
    "    print('1부터 4만까지인데...')\n",
    "  elif guess < target:\n",
    "    print('보다 크구먼유')\n",
    "  elif guess > target:\n",
    "    print('보다 작구먼유')\n",
    "  else:\n",
    "    break\n",
    "print('정답!')\n",
    "print(f'시도횟수: {attempts}')\n",
    "#2단계)표현을 바꿔보기\n",
    "\n",
    "#3단계)사람과 동물 구분하기, 식물명 구분하기 등 자유로운 응용"
   ]
  },
  {
   "cell_type": "code",
   "execution_count": null,
   "metadata": {
    "colab": {
     "base_uri": "https://localhost:8080/"
    },
    "executionInfo": {
     "elapsed": 3071,
     "status": "ok",
     "timestamp": 1719985357504,
     "user": {
      "displayName": "감수",
      "userId": "03564591016025165141"
     },
     "user_tz": -540
    },
    "id": "RcoIeLwQcob7",
    "outputId": "3f0a3e0e-a7ae-4029-e6a4-c8bfbac53764"
   },
   "outputs": [],
   "source": [
    "# 문자사용모양찍기\n",
    "# 1단계)문자바꿔보기\n",
    "# 2단계)range범위바꿔보기\n",
    "# 3단계)응용(코드컨셉을 주석으로)\n",
    "print('신용카드쌓기!')\n",
    "floor=int(input('몇층? '))\n",
    "print(f'{floor}층이면...')\n",
    "i=0\n",
    "for i in range(floor):\n",
    "  for j in range(floor - i - 1):\n",
    "    print(' ',end='')\n",
    "  for j in range(i+1):\n",
    "    print('/\\\\',end='')\n",
    "  print()"
   ]
  },
  {
   "cell_type": "code",
   "execution_count": null,
   "metadata": {
    "colab": {
     "base_uri": "https://localhost:8080/"
    },
    "executionInfo": {
     "elapsed": 15909,
     "status": "ok",
     "timestamp": 1719987184538,
     "user": {
      "displayName": "감수",
      "userId": "03564591016025165141"
     },
     "user_tz": -540
    },
    "id": "L-VlnxQnE88q",
    "outputId": "2b267c87-121a-4846-ca7e-03043cb24791"
   },
   "outputs": [],
   "source": [
    "#1)게임의 규칙 정리\n",
    "#2)필요한 변수 설정 및 초기화(가위, 바위, 보 : 문자열 또는 숫자로 변경)\n",
    "#3)게임의 시작 및 종료 조건(while true, break)\n",
    "#4)게임의 점수 조건(변수 설정과 복합연산자)\n",
    "#5)적절한디버깅\n",
    "import random\n",
    "손모양 = ['가위','바위','보']\n",
    "컴퓨터 = random.choice(손모양)\n",
    "\n",
    "사용자라이프,AI라이프 =3,3\n",
    "a=0\n",
    "while a==0:\n",
    "  if 사용자라이프 == 0:\n",
    "    print('AI 승리')\n",
    "    break\n",
    "  elif AI라이프 == 0:\n",
    "    print('사용자 승리')\n",
    "    break\n",
    "  elif 사용자라이프>0 and AI라이프>0:\n",
    "    사용자 = input('가위바위보! : ')\n",
    "    if 사용자 == 컴퓨터:\n",
    "      print('비긴어게인')\n",
    "    elif 사용자 == '가위' and 컴퓨터 == '바위':\n",
    "      print('패배')\n",
    "      사용자라이프 -= 1\n",
    "    elif 사용자 == '가위' and 컴퓨터 == '보':\n",
    "     print('승리')\n",
    "     AI라이프 = 1\n",
    "    elif 사용자 == '바위' and 컴퓨터 == '보':\n",
    "      print('패배')\n",
    "      사용자라이프 -= 1\n",
    "    elif 사용자 == '바위' and 컴퓨터 == '가위':\n",
    "     print('승리')\n",
    "     AI라이프 -= 1\n",
    "    elif 사용자 == '보' and 컴퓨터 == '가위':\n",
    "     print('패배')\n",
    "     사용자라이프 -= 1\n",
    "     a+=1\n",
    "    elif 사용자 == '보' and 컴퓨터 == '바위':\n",
    "     print('승리')\n",
    "     AI라이프 -= 1\n",
    "     a+=1\n",
    "    else:\n",
    "       print('손의 흔적')"
   ]
  },
  {
   "cell_type": "code",
   "execution_count": null,
   "metadata": {
    "colab": {
     "base_uri": "https://localhost:8080/"
    },
    "executionInfo": {
     "elapsed": 4,
     "status": "ok",
     "timestamp": 1720053638588,
     "user": {
      "displayName": "감수",
      "userId": "03564591016025165141"
     },
     "user_tz": -540
    },
    "id": "IodRqkTsLx-A",
    "outputId": "774e420e-6b98-4efd-8cb3-6270d13ade49"
   },
   "outputs": [],
   "source": [
    "def fibonacci2(n):\n",
    "  '''n값 미만까지 피보나치수열을 출력합니다'''\n",
    "  result = []\n",
    "  a,b=0,1\n",
    "  while a < n:\n",
    "    result.append(a)\n",
    "    a,b=b,a+b\n",
    "  return result\n",
    "\n",
    "f100=fibonacci2(100)\n",
    "f100\n",
    "print(fibonacci2(100))\n",
    "print(f100)"
   ]
  },
  {
   "cell_type": "code",
   "execution_count": null,
   "metadata": {
    "colab": {
     "base_uri": "https://localhost:8080/"
    },
    "executionInfo": {
     "elapsed": 318,
     "status": "ok",
     "timestamp": 1720056884635,
     "user": {
      "displayName": "감수",
      "userId": "03564591016025165141"
     },
     "user_tz": -540
    },
    "id": "VhiEGm8oLaJZ",
    "outputId": "810b68d2-6f36-4493-ae5d-31605f809762"
   },
   "outputs": [],
   "source": [
    "# 함수: 여러개의 return value\n",
    "#return구문에 여러개 값을 콤마로 구분해 하나의 변수로 받는 경우 튜플유형으로 지정되어 반환\n",
    "def swap(a,b):\n",
    "  return b,a\n",
    "a = swap(1,2)\n",
    "type(a) #반환값튜플\n",
    "print(a)\n",
    "\n",
    "x,y=swap(1,2) # 반환값개수만큼 변수선언해 받을 수 있음\n",
    "print(x,y)"
   ]
  },
  {
   "cell_type": "code",
   "execution_count": null,
   "metadata": {
    "colab": {
     "base_uri": "https://localhost:8080/"
    },
    "executionInfo": {
     "elapsed": 321,
     "status": "ok",
     "timestamp": 1720057620327,
     "user": {
      "displayName": "감수",
      "userId": "03564591016025165141"
     },
     "user_tz": -540
    },
    "id": "b7Hv29G6YyvJ",
    "outputId": "b3fe76b1-53b5-4ea1-a57a-9c164a326216"
   },
   "outputs": [],
   "source": [
    "#리스트의 첫번째 요소와 마지막 요소를 반환하는 함수\n",
    "def first_and_last_element(lst):\n",
    "    first_element = lst[0]\n",
    "    last_element = lst[-1]\n",
    "    return first_element,last_element\n",
    "\n",
    "first_elem, last_elem = first_and_last_element([10,20,30,40,50])\n",
    "print('첫째요소',first_elem)\n",
    "print('두번째요소',last_elem)"
   ]
  },
  {
   "cell_type": "code",
   "execution_count": null,
   "metadata": {
    "colab": {
     "base_uri": "https://localhost:8080/"
    },
    "executionInfo": {
     "elapsed": 297,
     "status": "ok",
     "timestamp": 1720140082345,
     "user": {
      "displayName": "감수",
      "userId": "03564591016025165141"
     },
     "user_tz": -540
    },
    "id": "nHVX8QujUmRZ",
    "outputId": "0ca9c751-e3e7-448a-b91e-356601d5d984"
   },
   "outputs": [],
   "source": [
    "#문자열길이\n",
    "my_string=\"Hello, World!\"\n",
    "print(len(my_string))\n",
    "#리스트길이\n",
    "my_list=[1,2,3,4,5]\n",
    "print(len(my_list))\n",
    "#딕셔너리길이\n",
    "my_dict={'a':1,'b':2,'c':3}\n",
    "print(len(my_dict))\n",
    "#튜플길이\n",
    "my_tuple=(1,2,3,4)\n",
    "print(len(my_tuple))"
   ]
  },
  {
   "cell_type": "code",
   "execution_count": null,
   "metadata": {
    "colab": {
     "base_uri": "https://localhost:8080/"
    },
    "executionInfo": {
     "elapsed": 7070,
     "status": "ok",
     "timestamp": 1720143408753,
     "user": {
      "displayName": "감수",
      "userId": "03564591016025165141"
     },
     "user_tz": -540
    },
    "id": "5TnK4mjabnD9",
    "outputId": "1c3e379f-14ce-4564-bf7f-2355c7a412ec"
   },
   "outputs": [],
   "source": [
    "A,B = map(int,input().split())\n",
    "def cooking_time(A,B):\n",
    "    M = int(input())\n",
    "    if B+M < 60:\n",
    "        M += B\n",
    "    elif B+M >= 60:\n",
    "        M += B-60\n",
    "        if A < 23:\n",
    "            A += 1\n",
    "        elif A == 23:\n",
    "            A = 0\n",
    "    return f'{A} {M}'\n",
    "print(cooking_time(A,B))"
   ]
  },
  {
   "cell_type": "code",
   "execution_count": null,
   "metadata": {
    "id": "RMmPTc1aUPTN"
   },
   "outputs": [],
   "source": [
    "def s( ):\n",
    "\n",
    "  return\n",
    "\n",
    "desk=0\n",
    "chair=0\n",
    "table=0\n",
    "closet=0\n",
    "sopa = 0\n",
    "dp=0\n",
    "cp=0\n",
    "tp=0\n",
    "clp=0\n",
    "sp=0\n",
    "desk,chair,table,closet,sopa,dp,cp,tp,clp,sp = map(int,input().split())\n",
    "a=[desk,chair,table,closet,sopa]\n",
    "b=[dp,cp,tp,clp,sp]"
   ]
  },
  {
   "cell_type": "code",
   "execution_count": null,
   "metadata": {
    "id": "d-ZbsSU5Zhut"
   },
   "outputs": [],
   "source": [
    "import Random,Math\n",
    "def refraction():\n",
    "  N2=[n1/sin()=n2/sin()]\n",
    "  return N\n",
    "#매질의 굴절률 진공은 1.0 1~1800 = n1,n2\n",
    "# 매질에서의 입사각 r1,r2\n",
    "# [ n1 /sin(r1) = n2 /sin(r2) ]"
   ]
  },
  {
   "cell_type": "code",
   "execution_count": null,
   "metadata": {
    "colab": {
     "base_uri": "https://localhost:8080/"
    },
    "executionInfo": {
     "elapsed": 396,
     "status": "ok",
     "timestamp": 1720159717607,
     "user": {
      "displayName": "감수",
      "userId": "03564591016025165141"
     },
     "user_tz": -540
    },
    "id": "fYsaSJbHgeaB",
    "outputId": "321773e1-e9ba-4359-f517-36481dcc0ec6"
   },
   "outputs": [],
   "source": [
    "import random\n",
    "random.uniform(1,5)"
   ]
  },
  {
   "cell_type": "code",
   "execution_count": null,
   "metadata": {
    "id": "NUraSskZ9Llf"
   },
   "outputs": [],
   "source": []
  },
  {
   "cell_type": "code",
   "execution_count": null,
   "metadata": {
    "colab": {
     "base_uri": "https://localhost:8080/"
    },
    "executionInfo": {
     "elapsed": 7241,
     "status": "ok",
     "timestamp": 1720166899465,
     "user": {
      "displayName": "감수",
      "userId": "03564591016025165141"
     },
     "user_tz": -540
    },
    "id": "VUIk8lN_77c4",
    "outputId": "14f01c9e-3062-42c7-c1fa-ad89d0748d15"
   },
   "outputs": [],
   "source": [
    "# 달력 출력기 박창현.ver\n",
    "# import calendar 사용하지 않고 만들어보기\n",
    "\n",
    "def is_leap_year(y):  # 윤년 계산 함수\n",
    "  if y % 4 == 0:\n",
    "    if y % 100 == 0:\n",
    "      if y % 400 == 0:\n",
    "        return True\n",
    "      else:\n",
    "        return False\n",
    "    else:\n",
    "      return True\n",
    "  else:\n",
    "    return False\n",
    "\n",
    "\n",
    "def calendar(year,month):\n",
    "  if month in [1,3,5,7,8,10,12] :\n",
    "    day = 31\n",
    "  elif month in [4,6,9,11]:\n",
    "    day = 30\n",
    "  elif month == 2:\n",
    "    if is_leap_year(year) == True:\n",
    "      day = 29\n",
    "    else:\n",
    "      day = 28\n",
    "\n",
    "  days_1990_01_01 = 0\n",
    "\n",
    "  for y in range(1990, year):\n",
    "    if is_leap_year(y):\n",
    "      days_1990_01_01 += 366\n",
    "    else:\n",
    "      days_1990_01_01 += 365     # 1990년 01월 01일 부터 입력한 년도까지의 일을 더함(윤년 고려)\n",
    "\n",
    "  for m in range(1,month):\n",
    "    if m in [1,3,5,7,8,10,12] :\n",
    "      days_in_month = 31\n",
    "    elif m in [4,6,9,11]:\n",
    "      days_in_month = 30\n",
    "    elif m == 2:\n",
    "      if is_leap_year(year) == True:\n",
    "        days_in_month = 29\n",
    "      else:\n",
    "        days_in_month = 28\n",
    "\n",
    "    days_1990_01_01 += days_in_month    # 해당하는 년도에 입력한 월까지의 일을 더함(한 달의 일수 고려)\n",
    "\n",
    "  # 1990년 1월 1일 월요일을 기준으로 해당하는 달의 시작 날짜의 요일 계산\n",
    "  start_day = days_1990_01_01 % 7 +1\n",
    "      # days_1990_01_01 % 7 -> 1990년 1월 1일부터 해당 월과 연도가 시작될때까지 경과된 일 수를\n",
    "      #                        7로 나눈 나머지를 계산하여 요일 인덱스 제공\n",
    "      #                        일 0 / 월 1 / ... / 토 6\n",
    "      # +1 -> 편의상 월요일을 1로 시작하기 위해 +1을 해줌\n",
    "\n",
    "  # 달력 출력\n",
    "  print(f\"\\n\\t\\t{year}년\\t{month:02}월\\n\") # 1~9일을 01~09로 표시하기 위해 format\n",
    "  print(\"일\\t월\\t화\\t수\\t목\\t금\\t토\\n\")\n",
    "  print(\"\\t\" * start_day, end='') # tab과 start_day를 반복 출력\n",
    "\n",
    "  for d in range(1, day + 1):\n",
    "    print(f\"{d:02}\\t\", end=\"\") # 일을 두 자리 수로 format\n",
    "    if (start_day + d) % 7 == 0: # 한 주가 끝나는걸 계산\n",
    "      print(\"\\n\")\n",
    "  print()\n",
    "\n",
    "year = int(input(\"년도를 입력하세요: \"))\n",
    "month = int(input(\"월을 입력하세요: \"))\n",
    "\n",
    "calendar(year,month)"
   ]
  },
  {
   "cell_type": "markdown",
   "metadata": {
    "id": "4lb5Qspx8_Ii"
   },
   "source": [
    "## ++심화예제"
   ]
  },
  {
   "cell_type": "markdown",
   "metadata": {
    "id": "z7reVrxwMuwN"
   },
   "source": [
    "### PDF1 변수(심화예제)"
   ]
  },
  {
   "cell_type": "code",
   "execution_count": null,
   "metadata": {
    "id": "oT3NGrRa8-zR"
   },
   "outputs": [],
   "source": [
    "import numpy as np\n",
    "from sklearn.model_selection import train_test_split\n",
    "from sklearn.linear_model import LogisticRegression\n",
    "from sklearn.metrics import accuracy_score\n",
    "# 데이터 생성\n",
    "X = np.array([[1, 2], [2, 3], [3, 4], [4, 5]])\n",
    "y = np.array([0, 0, 1, 1])\n",
    "# 데이터 분할\n",
    "X_train, X_test, y_train, y_test = train_test_split(X, y, test_size=0.25)\n",
    "# 모델 생성 및 학습\n",
    "model = LogisticRegression()\n",
    "model.fit(X_train, y_train)\n",
    "# 예측 및 평가\n",
    "y_pred = model.predict(X_test)\n",
    "accuracy = accuracy_score(y_test, y_pred)\n",
    "print(f'Accuracy: {accuracy}')\n",
    "'''\n",
    "1. 데이터 생성\n",
    "X = np.array([[1, 2], [2, 3], [3, 4], [4, 5]])\n",
    "y = np.array([0, 0, 1, 1])\n",
    "X 변수: 입력 데이터로, 4개의 샘플과 각 샘플당 2개의 특성을 가진 2차원 배열입니다.\n",
    "y 변수: 레이블 데이터로, 각 샘플에 대한 클래스(label)를 나타내는 1차원 배열입니다.\n",
    "여기서는 이진 분류(0 또는 1)로 구성되어 있습니다.\n",
    "\n",
    "2. 데이터 분할\n",
    "X_train, X_test, y_train, y_test = train_test_split(X, y, test_size=0.25)\n",
    "X_train 변수: 학습용 입력 데이터로, 전체 입력 데이터 X의 75%가 할당됩니다.\n",
    "X_test 변수: 테스트용 입력 데이터로, 전체 입력 데이터 X의 25%가 할당됩니다.\n",
    "y_train 변수: 학습용 레이블 데이터로, 전체 레이블 데이터 y의 75%가 할당됩니다.\n",
    "y_test 변수: 테스트용 레이블 데이터로, 전체 레이블 데이터 y의 25%가 할당됩니다.\n",
    "\n",
    "3. 모델 생성 및 학습\n",
    "model = LogisticRegression()\n",
    "model.fit(X_train, y_train)\n",
    "model 변수: 로지스틱 회귀 모델 객체 변수에 할당되었습니다.\n",
    "model.fit(X_train, y_train) 메서드: 학습용 데이터(X_train, y_train)를 사용하여 모델을 학습시킵니다.\n",
    "4. 예측 및 평가\n",
    "y_pred = model.predict(X_test)\n",
    "accuracy = accuracy_score(y_test, y_pred)\n",
    "print(f'Accuracy: {accuracy}’)\n",
    "y_pred 변수: 테스트용 입력 데이터(X_test)에 대한 모델의 예측 결과입니다.\n",
    "accuracy 변수: 테스트용 레이블 데이터(y_test)와 예측 결과(y_pred)를 비교하여 계산한 모델의 정확도입니다.\n",
    "print(f'Accuracy: {accuracy}'): 모델의 정확도를 출력합니다.\n",
    "'''"
   ]
  },
  {
   "cell_type": "code",
   "execution_count": null,
   "metadata": {
    "id": "K7qKkQf_NG-j"
   },
   "outputs": [],
   "source": [
    "import tensorflow as tf\n",
    "from tensorflow.keras.models import Sequential\n",
    "from tensorflow.keras.layers import Dense\n",
    "from sklearn.model_selection import train_test_split\n",
    "import numpy as np\n",
    "# 데이터 생성\n",
    "X = np.random.rand(100, 10) # 100개의 샘플과 각 샘플당 10개의 특성을 가진 랜덤 숫자로 구성된 2차원 배열\n",
    "y = np.random.randint(2, size=100) #0 또는 1의 값을 가지는 100개의 이진 레이블로 구성된 1차원 배열\n",
    "# 데이터 분할\n",
    "X_train, X_test, y_train, y_test = train_test_split(X, y, test_size=0.2)\n",
    "# 모델 생성\n",
    "model = Sequential([\n",
    "Dense(64, activation='relu', input_shape=(10,)),\n",
    "Dense(1, activation='sigmoid')\n",
    "])\n",
    "# 모델 컴파일\n",
    "model.compile(optimizer='adam', loss='binary_crossentropy', metrics=['accuracy'])\n",
    "# 모델 학습\n",
    "model.fit(X_train, y_train, epochs=10, batch_size=32)\n",
    "# 모델 평가\n",
    "loss, accuracy = model.evaluate(X_test, y_test)\n",
    "print(f'Accuracy: {accuracy}')\n",
    "'''\n",
    "1. 데이터 생성\n",
    "X = np.random.rand(100, 10)\n",
    "y = np.random.randint(2, size=100)\n",
    "X 변수: 100개의 샘플과 각 샘플당 10개의 특성을 가진 랜덤 숫자로 구성된 2차원 배열입니다.\n",
    "y 변수: 0 또는 1의 값을 가지는 100개의 이진 레이블로 구성된 1차원 배열입니다.\n",
    "2. 데이터 분할\n",
    "X_train, X_test, y_train, y_test = train_test_split(X, y, test_size=0.2)\n",
    "X_train 변수: 학습용 입력 데이터로, 전체 입력 데이터 X의 80%를 차지합니다.\n",
    "X_test 변수: 테스트용 입력 데이터로, 전체 입력 데이터 X의 20%를 차지합니다.\n",
    "y_train 변수: 학습용 레이블 데이터로, 전체 레이블 데이터 y의 80%를 차지합니다.\n",
    "y_test 변수: 테스트용 레이블 데이터로, 전체 레이블 데이터 y의 20%를 차지합니다.\n",
    "3. 모델 생성\n",
    "model = Sequential([\n",
    "Dense(64, activation='relu', input_shape=(10,)),\n",
    "Dense(1, activation='sigmoid')\n",
    "])\n",
    "model 변수: 순차적으로 레이어를 쌓아 올리는 Sequential 모델 객체 변수입니다.\n",
    "Dense 레이어: 각 레이어의 노드 수와 활성화 함수, 입력 형태를 정의합니다.\n",
    "첫 번째 Dense 레이어: 입력 형태가 (10,)이고, 64개의 노드를 가지며, ReLU 활성화 함수를 사용합니다.\n",
    "두 번째 Dense 레이어: 1개의 노드를 가지며, 시그모이드 활성화 함수를 사용합니다.\n",
    "\n",
    "4. 모델 컴파일\n",
    "model.compile(optimizer='adam', loss='binary_crossentropy', metrics=['accuracy'])\n",
    "optimizer: 모델 최적화 방법을 정의하는 변수로, 여기서는 'adam' 옵티마이저를 사용합니다.\n",
    "loss: 손실 함수를 정의하는 변수로, 이진 분류 문제를 위해 'binary_crossentropy'를 사용합니다.\n",
    "metrics: 모델의 성능을 평가하기 위한 지표를 정의하는 변수로, 여기서는 'accuracy'를 사용합니다.\n",
    "5. 모델 학습\n",
    "model.fit(X_train, y_train, epochs=10, batch_size=32)\n",
    "model.fit() 메서드: 학습용 데이터(X_train, y_train)를 사용하여 모델을 학습시킵니다.\n",
    "epochs 변수: 모델이 학습 데이터를 반복할 횟수로, 여기서는 10번 반복합니다.\n",
    "batch_size 변수: 한 번의 업데이트에 사용할 샘플 수로, 여기서는 32개씩 사용합니다.\n",
    "6. 모델 평가\n",
    "loss, accuracy = model.evaluate(X_test, y_test)\n",
    "print(f'Accuracy: {accuracy}')\n",
    "loss 변수: 테스트 데이터에 대한 손실 값을 저장하는 변수입니다.\n",
    "accuracy 변수: 테스트 데이터에 대한 정확도를 저장하는 변수입니다.\n",
    "model.evaluate() 메서드: 테스트용 데이터(X_test, y_test)를 사용하여 모델의 성능을 평가합니다.\n",
    "print(f'Accuracy: {accuracy}'): 모델의 정확도를 출력합니다.\n",
    "'''"
   ]
  },
  {
   "cell_type": "markdown",
   "metadata": {
    "id": "bhxOmC2HNAmZ"
   },
   "source": [
    "변수(심화예제)실습  \n",
    "실습2) 제시된 심화예제에 대해 최대한 자세한 해설을 정리하여 공유해 봅시다.  \n",
    "1) 머신러닝 예시와 변수  \n",
    "2) 딥러닝 예시와 변수  \n",
    "3) 기타 새롭게 마주친 메서드 또는 용어  "
   ]
  },
  {
   "cell_type": "markdown",
   "metadata": {
    "id": "o9ZyNLk68T79"
   },
   "source": [
    "## ++클래스룸"
   ]
  },
  {
   "cell_type": "markdown",
   "metadata": {
    "id": "-FQJdDuJ8lOH"
   },
   "source": [
    "### +++타인의 클래스룸 코드"
   ]
  },
  {
   "cell_type": "markdown",
   "metadata": {
    "id": "bdfZTD2EUeBI"
   },
   "source": [
    "주어진 예시를 활용하여 튜플과 딕셔너리, 리스트가 혼재된(?) 예시코드를 작성하여 공유해 주세요"
   ]
  },
  {
   "cell_type": "code",
   "execution_count": null,
   "metadata": {
    "id": "I2etgQql9T_n"
   },
   "outputs": [],
   "source": [
    "# 김태진\n",
    "# 사용자 정보를 저장할 리스트와 딕셔너리\n",
    "\n",
    "users = []  # 사용자 정보를 리스트로 저장 (user_id, pwd, nickname)\n",
    "logged_in_user = None\n",
    "# 사용자 추가 정보 저장 (user_id: {\"nickname\": nickname, \"favorites\": phoneNum})\n",
    "user_info = {}\n",
    "\n",
    "def create():\n",
    "    user_id = input(\"사용할 아이디 입력: \")\n",
    "    for user in users:\n",
    "        if user[0] == user_id:\n",
    "            print(\"\\n이미 존재하는 아이디\")\n",
    "            return\n",
    "    pwd = input(\"비밀번호 입력: \")\n",
    "    nickname = input(\"닉네임 입력: \")\n",
    "    users.append((user_id, pwd, nickname))  # users리스트 안에 튜플로 사용자 정보 저장\n",
    "                                            # 저장되어 있는 형태\n",
    "                                            # users = [(\"user1\", \"password1\", \"nickname1\"), (\"user2\", \"password2\", \"nickname2\")]\n",
    "    while True:\n",
    "        try:\n",
    "            phoneNum = int(input(\"핸드폰 번호: \"))\n",
    "            break  # 숫자로 변환이 성공하면 반복문을 탈출합니다.\n",
    "        except ValueError:\n",
    "            print(\"숫자로 입력해주세요.\")\n",
    "\n",
    "    user_info[user_id] = {\"nickname\": nickname, \"phone\": phoneNum}\n",
    "    print(\"★☆★☆회원가입 성공★☆★☆\")\n",
    "\n",
    "def login():\n",
    "    global logged_in_user\n",
    "    user_id = input(\"아이디 입력: \")\n",
    "    for user in users:\n",
    "        if user[0] == user_id:\n",
    "            pwd = input(\"비밀번호 입력: \")\n",
    "            if user[1] == pwd:\n",
    "                logged_in_user = user\n",
    "                print(\"★☆★☆로그인 성공★☆★☆\")\n",
    "                # 로그인 성공 시 사용자 정보 출력\n",
    "                print(f\"\\n\\t환영합니다!!!\\n\\t-{user_info[user_id]['nickname']}- 님\")\n",
    "                print(\"\\n사용자 정보:\")\n",
    "                print({\n",
    "                    \"아이디\": user_id,\n",
    "                    \"닉네임\": user_info[user_id]['nickname'],\n",
    "                    \"핸드폰\": user_info[user_id]['phone'],\n",
    "                })#딕셔너리 저장되어있는 형태\n",
    "                  # user_info = {\n",
    "                  #   \"user1\": {\"nickname\": \"nickname1\", \"phone\": 1234567890},\n",
    "                  #   \"user2\": {\"nickname\": \"nickname2\", \"phone\": 2345678901}\n",
    "                  # }\n",
    "\n",
    "                return\n",
    "            else:\n",
    "                print(\"비밀번호가 틀렸습니다.\")\n",
    "                return\n",
    "    print(\"\\n존재하지 않는 아이디\")\n",
    "\n",
    "def logout():\n",
    "    global logged_in_user\n",
    "    logged_in_user = None\n",
    "    print(\"로그아웃 되었습니다.\")\n",
    "\n",
    "def main():\n",
    "    global logged_in_user\n",
    "    while True:\n",
    "        if logged_in_user:\n",
    "            print(\"1. 로그아웃\")\n",
    "            print(\"2. 종료\")\n",
    "            choice = input(\"선택하세요: \")\n",
    "\n",
    "            if choice == '1':\n",
    "                logout()\n",
    "            elif choice == '2':\n",
    "                print(\"프로그램을 종료합니다.\")\n",
    "                break\n",
    "            else:\n",
    "                print(\"잘못된 선택입니다. 다시 시도하세요.\")\n",
    "        else:\n",
    "            print(\"***반드시 회원가입 먼저 해주세여***\")\n",
    "            print(\"\\n1. 회원가입\")\n",
    "            print(\"2. 로그인\")\n",
    "            print(\"3. 종료\")\n",
    "            choice = input(\"선택하세요: \")\n",
    "\n",
    "            if choice == '1':\n",
    "                create()\n",
    "            elif choice == '2':\n",
    "                login()\n",
    "            elif choice == '3':\n",
    "                print(\"프로그램을 종료합니다.\")\n",
    "                break\n",
    "            else:\n",
    "                print(\"잘못된 선택입니다. 다시 시도하세요.\")\n",
    "\n",
    "# 메인 함수 실행\n",
    "main()"
   ]
  },
  {
   "cell_type": "code",
   "execution_count": null,
   "metadata": {
    "id": "RpR0wMK5VCQZ"
   },
   "outputs": [],
   "source": [
    "#리스트, 튜플, 딕셔너리 한꺼번에 사용해보기\n",
    "#환자 관리 시스템 (환자 조회 및 추가, 증상 관리, 차트번호 관리, 정보 수정 및 삭제)\n",
    "import random\n",
    "\n",
    "patients = {\n",
    "    \"홍길동\" : {\n",
    "        \"증상\" : [\"미열\", \"복통\", \"설사\"],\n",
    "        \"차트번호\" : (1502)\n",
    "    },\n",
    "    \"앨리스\" : {\n",
    "        \"증상\" : [\"두통\", \"미열\", \"기침\"],\n",
    "        \"차트번호\" : (2304)\n",
    "    },\n",
    "    \"나나\" : {\n",
    "        \"증상\" : [\"고열\", \"기침\", \"호흡곤란\"],\n",
    "        \"차트번호\" : (4101)\n",
    "    },\n",
    "    \"쉐리\" : {\n",
    "        \"증상\" : [\"이통\", \"두통\", \"어지럼증\"],\n",
    "        \"차트번호\" : (2950)\n",
    "    },\n",
    "    \"나비\" : {\n",
    "        \"증상\" : [\"어지럼증\", \"두통\", \"이명\"],\n",
    "        \"차트번호\" : (5892)\n",
    "    }\n",
    "}\n",
    "\n",
    "def printPatients():\n",
    "  \"\"\"전체 환자 정보 출력\"\"\"\n",
    "  for name, info in patients.items():\n",
    "    symptoms = \", \".join(info[\"증상\"])\n",
    "    chart_number = info[\"차트번호\"]\n",
    "    print(f\"환자 이름: {name}, 증상: {symptoms}, 차트번호: {chart_number}\")\n",
    "\n",
    "def generateUniqueChartNumber():\n",
    "    \"\"\"차트번호 중복 체크 후 랜덤으로 생성\"\"\"\n",
    "    existing_chart_numbers = [info[\"차트번호\"] for info in patients.values()]\n",
    "    while True:\n",
    "        new_chart_number = random.randint(1000, 9999)\n",
    "        if new_chart_number not in existing_chart_numbers:\n",
    "            return new_chart_number\n",
    "\n",
    "def printPatientsInfo(name):\n",
    "    \"\"\"특정 환자 정보 출력\"\"\"\n",
    "    if name in patients:\n",
    "        info = patients[name]\n",
    "        symptoms = \", \".join(info[\"증상\"])\n",
    "        chart_number = info[\"차트번호\"]\n",
    "        print(f\"환자 이름: {name}, 증상: {symptoms}, 차트번호: {chart_number}\")\n",
    "    else:\n",
    "        print(f\"{name}님께서는 본 의원에서 진료받으신 기록이 없으십니다.\")\n",
    "\n",
    "while True:\n",
    "    print(\"🌱 새싹 이비인후과 입니다. 원하시는 메뉴를 클릭해주세요! 🌱\")\n",
    "    print(\"1. 환자 조회\")\n",
    "    print(\"2. 신환 등록\")\n",
    "    print(\"3. 증상 관리\")\n",
    "    print(\"4. 차트 수정\")\n",
    "    print(\"5. 종료\")\n",
    "\n",
    "    try:\n",
    "        menu = int(input(\"메뉴를 선택하세요:\"))\n",
    "        if menu == 1:\n",
    "            print(\"🌱환자 조회🌱\")\n",
    "            detailsMenu = input(\"전체 환자 조회는 1번, 특정 환자 조회는 2번: \")\n",
    "            if detailsMenu == \"1\" or detailsMenu == \"1번\":\n",
    "                printPatients()\n",
    "            elif detailsMenu == \"2\" or detailsMenu == \"2번\":\n",
    "                searchPatient = input(\"환자 성함을 입력해주세요: \")\n",
    "                printPatientsInfo(searchPatient)\n",
    "            else:\n",
    "                print(\"유효하지 않은 입력입니다.\")\n",
    "\n",
    "        elif menu == 2:\n",
    "            print(\"🌱신환 등록🌱\")\n",
    "            newPatientsName = input(\"등록하실 환자 성함을 입력하세요: \")\n",
    "            newPatientsSymptoms = input(\"주 증상을 입력하세요 (쉼표로 구분): \")\n",
    "            newPatientsSymptoms2 = [name.strip() for name in newPatientsSymptoms.split(\",\")]\n",
    "            newPatientsNumber = generateUniqueChartNumber()\n",
    "\n",
    "            patients[newPatientsName] = {\n",
    "                \"증상\" : newPatientsSymptoms2,\n",
    "                \"차트번호\" : newPatientsNumber\n",
    "            }\n",
    "\n",
    "            print(\"신환 등록 성공!\")\n",
    "\n",
    "        elif menu == 3:\n",
    "            print(\"🌱증상 관리🌱\")\n",
    "            SymptomAdmin = input(\"증상을 변경 혹은 삭제할 환자 이름을 입력하세요: \")\n",
    "            if SymptomAdmin in patients:\n",
    "                detailsSymptomAdmin = input(\"증상 변경은 변경, 추가는 추가, 삭제는 삭제를 입력하세요: \")\n",
    "                if detailsSymptomAdmin == \"추가\":\n",
    "                    inputSymptom = input(\"추가하려는 증상을 입력하세요 (여러 개는 쉼표로 구분): \")\n",
    "                    inputSymptom2 = [name.strip() for name in inputSymptom.split(\",\")]\n",
    "                    patients[SymptomAdmin][\"증상\"].extend(inputSymptom2)\n",
    "                    print(\"증상 추가 완료!\")\n",
    "                elif detailsSymptomAdmin == \"변경\":\n",
    "                    print(f\"현재 {SymptomAdmin}님의 증상: {patients[SymptomAdmin][\"증상\"]}\")\n",
    "                    changeIndex = int(input(\"변경할 증상의 번호를 선택하세요 (앞에서 부터 1번): \")) - 1\n",
    "                    changeSymptom = input(\"변경할 증상을 입력하세요: \")\n",
    "                    patients[SymptomAdmin][\"증상\"][changeIndex] = changeSymptom\n",
    "                    print(\"증상 변경 완료!\")\n",
    "                elif detailsSymptomAdmin == \"삭제\":\n",
    "                    print(f\"현재 {SymptomAdmin}님의 증상: {patients[SymptomAdmin][\"증상\"]}\")\n",
    "                    deleteSymptom = input(\"삭제할 증상을 입력하세요: \")\n",
    "                    if deleteSymptom in patients[SymptomAdmin][\"증상\"]:\n",
    "                        patients[SymptomAdmin][\"증상\"].remove(deleteSymptom)\n",
    "                        print(\"증상 삭제 완료!\")\n",
    "                    else:\n",
    "                        print(\"입력한 증상이 존재하지 않습니다.\")\n",
    "                else:\n",
    "                    print(\"유효하지 않은 서비스 입니다.\")\n",
    "            else:\n",
    "                print(f\"{SymptomAdmin}님께서는 본 의원에서 진료 받으신 기록이 없습니다.\")\n",
    "\n",
    "        elif menu == 4:\n",
    "            print(\"🌱차트 수정🌱\")\n",
    "            patientAdmin = input(\"이름 변경을 원하시는 환자 성함을 입력해주세요 (증상 관리는 3번으로): \")\n",
    "            if patientAdmin in patients:\n",
    "                detailsAdmin = input(\"환자 성함을 변경하시겠습니까? (네, 아니요): \")\n",
    "                if detailsAdmin == \"네\":\n",
    "                    changeName = input(\"변경 원하시는 성함을 입력해주세요: \")\n",
    "                    patients[changeName] = patients.pop(patientAdmin)\n",
    "                    print(f\"{patientAdmin}님의 성함이 {changeName}으로 변경되었습니다.\")\n",
    "                elif detailsAdmin == \"아니요\":\n",
    "                    print(\"증상에 관한 수정은 3번으로 가주세요. 차트 번호는 수정이 불가능 합니다.\")\n",
    "                else:\n",
    "                    print(\"유효하지 않은 서비스 입니다.\")\n",
    "            else:\n",
    "                print(f\"{patientAdmin}님께서는 본 의원에서 진료 받으신 기록이 없습니다.\")\n",
    "\n",
    "        elif menu == 5:\n",
    "            print(\" 🌱 새싹 이비인후과를 이용해주셔서 감사합니다. 🌱 \")\n",
    "            break\n",
    "\n",
    "        else:\n",
    "            print(\"유효하지 않는 서비스 입니다.\")\n",
    "\n",
    "    except ValueError:\n",
    "        print(\"숫자를 입력해주세요.\")"
   ]
  },
  {
   "cell_type": "code",
   "execution_count": null,
   "metadata": {
    "id": "fbNFqk_qVIg9"
   },
   "outputs": [],
   "source": [
    "# 재고 현황 및 가격 현황 시각화\n",
    "import matplotlib.pyplot as plt\n",
    "import numpy as np\n",
    "\n",
    "# 재고 목록 딕셔너리로 선언\n",
    "inventory = {\n",
    "    \"apple\": {\n",
    "        \"price\": 1.5,  # 실수형으로 선언\n",
    "        \"stock\": 100    # 정수형으로 선언\n",
    "    },\n",
    "    \"banana\": {\n",
    "        \"price\": 0.75,\n",
    "        \"stock\": 150\n",
    "    },\n",
    "    \"orange\": {\n",
    "        \"price\": 1.2,\n",
    "        \"stock\": 80\n",
    "    }\n",
    "}\n",
    "# 바나나 재고 50개 증가\n",
    "inventory['banana']['stock'] += 50\n",
    "# 오렌지의 가격 출력\n",
    "print(f\"Price of orange: ${inventory['orange']['price']}\\n\")\n",
    "# 보조  y축 사용하여 재고와 가격 막대그래프로 시각화\n",
    "def visualize_inventory():\n",
    "    products = list(inventory.keys())\n",
    "    prices = [inventory[product]['price'] for product in products]\n",
    "    stocks = [inventory[product]['stock'] for product in products]\n",
    "\n",
    "    fig, ax1 = plt.subplots(figsize=(10, 6))\n",
    "\n",
    "    bar_width = 0.35\n",
    "    index = np.arange(len(products))\n",
    "\n",
    "    rects1 = ax1.bar(index - bar_width/2, stocks, bar_width, label='Stock', color='g')\n",
    "    ax1.set_xlabel('Products')\n",
    "    ax1.set_ylabel('Stock', color='g')\n",
    "    ax1.tick_params(axis='y', labelcolor='g')\n",
    "\n",
    "    ax2 = ax1.twinx()\n",
    "    rects2 = ax2.bar(index + bar_width/2, prices, bar_width, label='Price', color='b')\n",
    "    ax2.set_ylabel('Price ($)', color='b')\n",
    "    ax2.tick_params(axis='y', labelcolor='b')\n",
    "    ax2.set_ylim(0, 2.0)  # y축의 값 범위 0~ 2.0으로 설정 (보기 좋게 Scaling)\n",
    "\n",
    "    ax1.set_xticks(index)\n",
    "    ax1.set_xticklabels(products)\n",
    "    ax1.legend(loc='upper left')\n",
    "    ax2.legend(loc='upper right')\n",
    "\n",
    "    def autolabel(rects, ax):\n",
    "        for rect in rects:\n",
    "            height = rect.get_height()\n",
    "            ax.annotate(f'{height}',\n",
    "                        xy=(rect.get_x() + rect.get_width() / 2, height),\n",
    "                        xytext=(0, 3),\n",
    "                        textcoords=\"offset points\",\n",
    "                        ha='center', va='bottom')\n",
    "\n",
    "    autolabel(rects1, ax1)\n",
    "    autolabel(rects2, ax2)\n",
    "\n",
    "    plt.title('Product Inventory')\n",
    "    plt.tight_layout()\n",
    "    plt.show()\n",
    "\n",
    "visualize_inventory()"
   ]
  },
  {
   "cell_type": "markdown",
   "metadata": {
    "id": "4TGcmAgNIUL1"
   },
   "source": [
    "# +낙서장"
   ]
  },
  {
   "cell_type": "code",
   "execution_count": null,
   "metadata": {},
   "outputs": [],
   "source": [
    "import ipywidgets as widgets\n",
    "from IPython.display import display\n",
    "\n",
    "def read_input():\n",
    "    text = widgets.Text(\n",
    "        value='',\n",
    "        placeholder='Type something',\n",
    "        description='Input:',\n",
    "        disabled=False\n",
    "    )\n",
    "    display(text)\n",
    "\n",
    "    def on_submit(change):\n",
    "        print(f\"Read line: {text.value}\")\n",
    "        text.close()\n",
    "        button.close()\n",
    "\n",
    "    button = widgets.Button(description=\"Submit\")\n",
    "    button.on_click(on_submit)\n",
    "    display(button)\n",
    "\n",
    "read_input()"
   ]
  },
  {
   "cell_type": "markdown",
   "metadata": {
    "id": "gtyEzM7gHS8i"
   },
   "source": [
    "타이타닉 데이터셋에서 직업을 탐색할 수 있는 정규표현식((' ([A-Za-z]+)\\.')을  해석 후 댓글로 공유해 주세요  \n",
    "\n",
    "테스트용 샘플 데이터:   \n",
    "        'Braund, Mr.Owen Harris',       \n",
    "'Cumings, Mrs. John Bradley (Florence Briggs Thayer)',  \n",
    "'Heikkinen, Miss. Laina',    \n",
    "'Futrelle, Mrs. Jacques Heath (Lily May Peel)',       \n",
    "'Allen, Mr. William Henry'  \n",
    "(정규표현식을 도와주는 사이트 참조 : https://regexr.com/)  \n",
    "\n",
    "\n",
    "조유경오후 2:22  \n",
    "'([A-Za-z]+)\\.'  \n",
    " 문자열 내에서 알파벳 대문자 또는 소문자로만 이루어진 단어와 그 뒤에 점('.')이\n",
    " 오는 패턴을 찾는 정규표현식  \n",
    " ([A-Za-z]+)  \n",
    " [] 대괄호 안의 문자들 중 하나와 일치  \n",
    " [A-Za-z] 알파벡 대문자(A-Z) 또는 소문자(a-z)와 일치  \n",
    " \\.  \n",
    " \\ 특수문자를 문자로 인식하도록 이스케이프 처리  \n",
    " . 임의의 한 문자를 의미  \n",
    " 따라서, \\.는 점('.')문자와 일치  \n",
    "\n",
    "김태진오후 2:30\n",
    "- ' ' : 공백 문자.\n",
    "- ([A-Za-z]+) : 알파벳 대문자와 소문자로 이루어진 하나 이상의 문자.\n",
    "- '\\.' : 마침표(.) 문자.\n",
    "'Braund, Mr.Owen Harris'\n",
    "1) Mr\n",
    "'Cumings, Mrs. John Bradley (Florence Briggs Thayer)'\n",
    "2) Mrs\n",
    "'Heikkinen, Miss. Laina'\n",
    "3) Miss\n",
    "'Futrelle, Mrs. Jacques Heath (Lily May Peel)'\n",
    "4) Mrs\n",
    "'Allen, Mr. William Henry'\n",
    "5) Mr\n",
    "\n",
    "-추출데이터\n",
    "Mr\n",
    "Mrs\n",
    "Miss\n",
    "Mrs\n",
    "Mr"
   ]
  },
  {
   "cell_type": "code",
   "execution_count": null,
   "metadata": {
    "id": "LZWpK3y3HSQz"
   },
   "outputs": [],
   "source": [
    "import pandas as pd\n",
    "import re\n",
    "import numpy as np\n",
    "\n",
    "file_url = 'https://media.githubusercontent.com/media/musthave-ML10/data_source/main/insurance.csv'\n",
    "data = pd.read_csv(file_url) # 데이터셋 읽기"
   ]
  },
  {
   "cell_type": "markdown",
   "metadata": {},
   "source": [
    "# 소프트웨어 구성요소"
   ]
  },
  {
   "cell_type": "markdown",
   "metadata": {},
   "source": [
    "- 라이브러리\n",
    "  - 패키지\n",
    "    - 모듈\n",
    "      - 클래스\n",
    "      - 메서드(함수)\n",
    "- 프레임워크"
   ]
  },
  {
   "cell_type": "markdown",
   "metadata": {},
   "source": [
    "## 1. `라이브러리`"
   ]
  },
  {
   "cell_type": "markdown",
   "metadata": {},
   "source": [
    "일반연산이나 작업수행에 재사용가능한 코드모음을 통칭  \n",
    "- `개념`\n",
    "- 라이브러리 구성형태\n",
    "  - 패키지(폴더): 모듈과 클래스를 논리적으로 구조화하여 모아높은 디렉토리(폴더)\n",
    "    - 서브패키지 : 패키지 내부 패키지\n",
    "      - 모듈(파일) (클래스/함수/변수)등 무언가를 정의된 하나의 코드파일\n",
    "        - 클래스 : (메서드(함수)/변수) 들을 묶은 설계도구\n",
    "          - 메서드 : 클래스의 내부함수  - 클래스.메서드로 호출\n",
    "          - 인스턴스 : 클래스로 생성된 객체 - 클래스.인스턴스로 호출\n",
    "        - 함수, 상수\n",
    "- 표준(내장)라이브러리 : 파이썬 설치 시 기본 설치&제공  \n",
    "  - [https://docs.python.org/ko/3/library/]\n",
    "- 외부 라이브러리 : 개발자가 필요해 제작,적용한 라이브러리  \n",
    "Python pip로 설치필요  \n",
    "(numpy, matplotlib,  seaborn, pandas, sklean, pytorch, tensorflow, beautifulsoup 등등)"
   ]
  },
  {
   "cell_type": "markdown",
   "metadata": {},
   "source": [
    "### 1.2. 모듈(module)"
   ]
  },
  {
   "cell_type": "markdown",
   "metadata": {},
   "source": [
    "단일파일 단위로 구성된 (클래스,함수,변수)등 무언가가 정의된 코드묶음"
   ]
  },
  {
   "cell_type": "markdown",
   "metadata": {},
   "source": [
    "- 외부모듈: 커뮤니티에서 개발된 외부모듈 : 특정분야 기능확장, 편의성 추가용\n",
    "필수 단일 모듈  \n",
    "1. requests: HTTP 요청을 간편하게 처리.  \n",
    "2. beautifulsoup4: HTML/XML 파싱을 위한 웹 스크래핑 도구  \n",
    "유용한 단일 모듈  \n",
    "1. tqdm: 프로그레스 바를 쉽게 추가.\n",
    "2. pyperclip: 클립보드에 접근하여 텍스트 복사 및 붙여넣기.\n",
    "3. pyinstaller: 파이썬 프로그램을 실행 파일로 변환.\n",
    "4. click: 커맨드라인 인터페이스를 쉽게 생성.  "
   ]
  },
  {
   "cell_type": "markdown",
   "metadata": {},
   "source": [
    "### 1.1. 패키지"
   ]
  },
  {
   "cell_type": "markdown",
   "metadata": {},
   "source": [
    "모듈과 클래스를 논리적으로 구조화하여, 모아 놓은 디렉토리(폴더)라고 할 수 있다. 모듈이 하나의 파이썬 파일이라면 패키지는 이러한 파일들을 포함하는 디렉터리(폴더)를 의미  \n",
    "파이썬은 일반 디렉터리와 구분하기 위해 디렉터리 내부에 _init_.py 파일을 포함한다. _init_.py 파일을 가지고 있지 않다면 일반 디렉터리(최신버전은 작동하나 버전간의 문제를 없애기위해 하는듯한?)  \n",
    "__init__.py 파일을 통해 패키지를 정의합니다.  \n",
    "이와 같이 파이썬 모듈은 다양한 종류와 용도로 구분되며, 개발 상황에 맞게 적절한 모듈을 선택하여 사용할 수 있습니다.  \n",
    "큰 규모의 프로젝트를 진행할 때 여러 모듈이 생성될 수 있는데 서로 관련 있는 모듈&클래스를 패키징 함으로써 관리 및 편의성이 증가시킬 수 있다.  \n",
    "numpy, pandas, matplotlib, flask, django 등이 대표적  "
   ]
  },
  {
   "cell_type": "markdown",
   "metadata": {},
   "source": [
    "## `import lib` (library 호출)"
   ]
  },
  {
   "cell_type": "markdown",
   "metadata": {},
   "source": [
    "외부 라이브러리를 현재 스크립트에 포함 : 해당 모듈/패키지에 정의된 (함수,클래스,변수) 사용가능.  "
   ]
  },
  {
   "cell_type": "markdown",
   "metadata": {},
   "source": [
    "import 모듈  \n",
    "-전체라이브러리 수입, 모듈.변수 형식으로 내부변수 사용  \n",
    "\n",
    "from 모듈명 import 이름  \n",
    "-라이브러리에서 필요한 (클래스/함수/상수 )를 골라서 호출  \n",
    "\n",
    "from 라이브러리명 import *  \n",
    "-라이브러리에 있는것을 모두(*)수입 :  \n",
    " 내부 함수나 변수 사용시 앞에 모듈명. 을 붙이지 않고 메서드이름만 치면 함수호출 - 호출시 출처를 명시하지 않아도 되는점이 혼동을 줄 수 있어 권장되지 않음\n",
    "\n",
    "#### `모듈에서 특정함수나 변수 가져오기`\n",
    "모듈전체가 아닌 특정 부분만 가져올 수 있다.  \n",
    "ex)  \n",
    "from math import sqrt, pi # math모듈에서 sqrt함수와 pi 상수만 임포트\n",
    "print(sqrt(16)) # sqrt 함수를 직접 사용\n",
    "print(pi) # pi 상수를 직접 사용  \n",
    "\n",
    "#### `모듈에 별칭(alias)붙이기  `\n",
    " 모듈명이 길거나 자주 쓰일때 별칭붙여 사용가능  \n",
    " import numpy as np # numpy 모듈을 np라는 이름으로 사용  \n",
    "\n",
    " arry=np.array([1,2,3,4])  \n",
    " print(array)  \n",
    "  \n",
    "### `서브모듈 가져오기  `\n",
    "패키지내 서브모듈 가져오기  \n",
    "import os.path # os패키지(=폴더) 내부의 path 서브모듈(=파일) 가져옴  \n",
    "print(os.path.basename('/usr/local/bin/python')) #   파일명만 추출  "
   ]
  },
  {
   "cell_type": "markdown",
   "metadata": {},
   "source": [
    "### ---`import importlib`\n",
    "python의 모듈 import 및 관리를 도와주는 내장 라이브러리 https://velog.io/@changwoo7463/%ED%8C%8C%EC%9D%B4%EC%8D%AC-3.-importlib  \n",
    "```\n",
    "import importlib\n",
    "# 모듈 import\n",
    "# 사용할명 = importlib.import_module(모듈명기입)\n",
    "np = importlib.import_module('numpy')\n",
    "print(np.array([1,2])\n",
    "\n",
    ">> array([1, 2])\n",
    "```"
   ]
  },
  {
   "cell_type": "markdown",
   "metadata": {},
   "source": [
    "### `!pip (python 패키지 관리자)`"
   ]
  },
  {
   "cell_type": "markdown",
   "metadata": {},
   "source": [
    "패키지 관리 및 가상환경 설정\n",
    "- ! 셸 명령어를 실행하기 위한 접두사\n",
    "- python.exe # 현재 사용 중인 Python 실행 파일을 지정 # 운영체제에 따라 'python' 또는 'python3'로 변환가능\n",
    "- m # 모듈을 스크립트처럼 실행할 수 있게 해주는 옵션\n",
    "1. 설치: pip install [패키지명] !pip install matplotlib\n",
    "2. 업데이트: pip install --upgrade [패키지명] !pip install --upgrade pip\n",
    "3. 삭제: pip uninstall [패키지명] !pip uninstall matplotlib\n",
    "4. 목록 확인: pip list !pip list\n",
    "5. 정보 확인: pip show [패키지명] !pip show matplotlib\n",
    "6. 가상 환경 생성: python -m venv [환경명] !python -m venv myenv\n",
    "7. 활성화 (Windows): myenv\\Scripts\\activate\n",
    "8. 활성화 (Mac/Linux): source myenv/bin/activate\n",
    "9. 비활성화: deactivate"
   ]
  },
  {
   "cell_type": "code",
   "execution_count": null,
   "metadata": {},
   "outputs": [],
   "source": [
    "python -m <module>            # 모듈 실행\n",
    "python -i <script.py>         # 스크립트 후 인터랙티브 모드\n",
    "python -c \"<command>\"         # 코드 실행\n",
    "python -h                      # 도움말 출력\n",
    "python -V                      # 버전 확인\n",
    "python -O <script.py>         # 최적화 모드 실행\n",
    "python -B <script.py>         # 바이트코드 생성 안 함"
   ]
  },
  {
   "cell_type": "code",
   "execution_count": null,
   "metadata": {},
   "outputs": [],
   "source": [
    "# pip 업데이트 명령어 설명\n",
    "# ! python.exe -m pip install --upgrade pip # pip를 최신 버전으로 업데이트하는 명령어\n",
    "# 1. !  # Jupyter Notebook에서 셸 명령어를 실행하기 위한 접두사입니다.\n",
    "# 2. python.exe # 현재 사용 중인 Python 실행 파일을 지정합니다.\n",
    "# 운영체제에 따라 'python' 또는 'python3'로 바꿀 수 있습니다.\n",
    "# 3. -m # 모듈을 스크립트처럼 실행할 수 있게 해주는 옵션입니다. # 여기서는 pip 모듈을 실행하도록 지시합니다.\n",
    "# 4. pip # 파이썬의 패키지 관리 도구로, 외부 라이브러리를 설치하고 관리하는 데 사용됩니다.\n",
    "# 5. install # pip 명령어의 하위 명령어로, 패키지를 설치하는 기능을 수행합니다.\n",
    "# 6. --upgrade # 이미 설치된 패키지를 최신 버전으로 업데이트하라는 옵션입니다.\n",
    "# 7. pip (마지막) # 업데이트할 패키지의 이름입니다. 여기서는 pip 자체를 업데이트하고 있습니다."
   ]
  },
  {
   "cell_type": "markdown",
   "metadata": {},
   "source": [
    "### ---import문의 작동"
   ]
  },
  {
   "cell_type": "markdown",
   "metadata": {},
   "source": [
    "1. 라이브러리 탐색 순서\n",
    "   - import준비 -> sys.modules -> built-in 모듈 확인 -> sys.path\n",
    "   - 탐색에 실패하면, ModuleNotFoundError 리턴\n",
    "   1. sys.modules\n",
    "      - 파이썬이 모듈이나 패키지를 찾기 위해 가장 먼저 확인하는 곳\n",
    "      - sys.modules의 타입은 dictionary\n",
    "      - sys/modules/ 폴더에 이미 import된 모듈과 패키지들이 저장되어 있다\n",
    "      - 한번 import된 라이브러리를 다시 찾지 않도록 한다\n",
    "      - 새로import하는 모듈은 찾을 수 없다.\n",
    "   2. sys.path\n",
    "      - 파이썬이 모듈이나 패키지를 찾기 위해 가장 마지막에 확인하는 곳\n",
    "      - sys.path의 타입은 string을 요소들로 가진 list : [\"string\"]\n",
    "      - 경로를 나타내는 string 요소들\n",
    "      - 파이썬은 각 경로를 하나 하나 확인하면서 해당 경로에 import하고자 하는 패키지가 위치해 있는지 확인\n",
    "2. 파이썬에서sys모듈의 위치를 찾는법\n",
    "   - library를 찾는 방법으로 sys모듈을 사용\n",
    "   - 모듈을 찾는 순서 2번째로 built-in 모듈을 확인하고, 이때 파이썬에 내장된 sys모듈파일속 modules 모듈을 먼저 돌게된다.\n",
    "3. Absolute path(절대경로)\n",
    "   - import를 하는 파일이나 호출 경로에 상관없이 정해진 pc내 경로\n",
    "   - python에서 from import 문을 사용하면, 어떤 경로의 파일에서 import 하여도 경로가 해당 프로젝트 파일부터 시작하기 absolute path라고 한다.\n",
    "4. relative path(상대경로)\n",
    "   - import하는 실행위치를 기준으로 경로를 정의한다.\n",
    "   - 앞에. 나 ..붙여서 import가 실행되는 파일의 현재위치로 시작함을 경로에 명시하면 된다."
   ]
  },
  {
   "cell_type": "markdown",
   "metadata": {},
   "source": [
    "## 2. 내장 라이브러리"
   ]
  },
  {
   "cell_type": "markdown",
   "metadata": {},
   "source": [
    "파이썬 기본 내장 라이브러리 - 개발에 필수적인 기능들을 제공 "
   ]
  },
  {
   "cell_type": "markdown",
   "metadata": {},
   "source": [
    "### 시스템 및 운영체제"
   ]
  },
  {
   "cell_type": "markdown",
   "metadata": {},
   "source": [
    "#### 1. ``os`` (운영체제와 상호작용)"
   ]
  },
  {
   "cell_type": "code",
   "execution_count": null,
   "metadata": {},
   "outputs": [],
   "source": [
    "import os # 운영체제 인터페이스 라이브러리, 파일시스템조작, 프로세스 관리\n",
    "# os.path\n",
    "# 1. 경로 조작\n",
    "path = os.path.join(\"folder\", \"file.txt\")  # join(path, *paths)    # 경로 결합\n",
    "dirname = os.path.dirname(path)              # dirname(path)       # 디렉토리명 추출\n",
    "basename = os.path.basename(path)            # basename(path)      # 파일명 추출\n",
    "absolute_path = os.path.abspath(path)        # abspath(path)       # 절대 경로 반환\n",
    "normalized_path = os.path.normpath(path)     # normpath(path)      # 정규화된 경로 반환\n",
    "\n",
    "# 2. 존재 여부 확인\n",
    "exists = os.path.exists(path)                 # exists(path)       # 존재 여부 확인\n",
    "is_file = os.path.isfile(path)                # isfile(path)       # 파일 여부 확인\n",
    "is_dir = os.path.isdir(path)                  # isdir(path)        # 디렉토리 여부 확인\n",
    "is_link = os.path.islink(path)                # islink(path)       # 심볼릭 링크 여부 확인\n",
    "\n",
    "# 3. 경로 관련 정보\n",
    "size = os.path.getsize(path)                  # getsize(path)      # 파일 크기 반환\n",
    "mtime = os.path.getmtime(path)                # getmtime(path)     # 마지막 수정 시간 반환\n",
    "atime = os.path.getatime(path)                # getatime(path)     # 마지막 접근 시간 반환\n",
    "common_prefix = os.path.commonprefix([\"folder/file1.txt\", \"folder/file2.txt\"])  # commonprefix(list)\n",
    "\n",
    "# os.environ\n",
    "# 환경 변수 접근\n",
    "env_value = os.environ.get(\"PATH\")             # get(key)          # 환경 변수 값 가져오기\n",
    "default_value = os.environ.setdefault(\"MY_VAR\", \"default\")  # setdefault(key, default)\n",
    "env_keys = os.environ.keys()                   # keys()            # 키 목록 반환\n",
    "env_items = os.environ.items()                 # items()           # 환경 변수 쌍 반환\n",
    "\n",
    "# os 시스템 관련\n",
    "os.system(\"echo Hello World\")                  # system(command)   # 시스템 명령 실행\n",
    "pid = os.getpid()                              # getpid()          # 현재 프로세스 ID 반환\n",
    "ppid = os.getppid()                            # getppid()         # 부모 프로세스 ID 반환\n",
    "# os.kill(pid, signal)                         # kill(pid, sig)    # 프로세스 종료\n",
    "# system_info = os.uname()                     # uname()           # 시스템 정보 반환\n",
    "# os.execl(path, *args)                       # execl(path, *args) # 새로운 프로그램 실행\n",
    "\n",
    "# 파일 및 디렉토리 작업\n",
    "os.mkdir(\"new_folder\")                        # mkdir(path)        # 단일 폴더 생성\n",
    "os.makedirs('a/b/c/d', mode=511,exist_ok=True)# 여러 폴더를 한번에 경로대로 생성, exist_ok=True 이미 파일이존재할때 에러방지\n",
    "os.rmdir(\"new_folder\")                        # rmdir(path)        # 디렉토리 삭제\n",
    "os.remove(path)                               # remove(path)       # 파일 삭제\n",
    "os.rename(\"old_name.txt\", \"new_name.txt\")     # rename(src, dst)   # 이름 변경\n",
    "file_list = os.listdir(\".\")                   # listdir(path)      # 파일 목록 반환\n",
    "# os.chown(path, uid, gid)                    # chown(path, uid, gid) # 소유자 변경\n",
    "# os.chmod(path, mode)                        # chmod(path, mode)     # 권한 변경\n",
    "# os.walk(top, topdown=True)                  # walk(top, ...)        # 디렉토리 탐색\n",
    "\n",
    "# 현재 작업 디렉토리\n",
    "current_dir = os.getcwd()                     # getcwd()              # 현재 작업 디렉토리 경로 반환(파일이 속한 폴더까지의 경로)\n",
    "os.chdir(\"..\")                                # chdir(path)           # 작업 디렉토리 변경\n",
    "\n",
    "# 기타\n",
    "path_separator = os.sep                        # sep                  # 경로 구분자 반환\n",
    "line_separator = os.linesep                    # linesep              # 줄 바꿈 문자 반환\n",
    "parent_dir = os.pardir                         # pardir               # 부모 디렉토리 반환\n"
   ]
  },
  {
   "cell_type": "code",
   "execution_count": null,
   "metadata": {},
   "outputs": [],
   "source": [
    "import os\n",
    "from pathlib import Path\n",
    "import shutil # 파일 및 디렉토리 작업 라이브러리\n",
    "\n",
    "# shutil 라이브러리 사용법\n",
    "# 파일 및 디렉토리 작업\n",
    "shutil.copy(\"source.txt\", \"destination.txt\")  # 파일 복사\n",
    "shutil.copy2(\"source.txt\", \"destination.txt\") # 메타데이터 포함 파일 복사\n",
    "shutil.copytree(\"source_folder\", \"destination_folder\")  # 디렉토리 복사\n",
    "shutil.move(\"source.txt\", \"destination.txt\")  # 파일 이동\n",
    "shutil.rmtree(\"folder\")  # 디렉토리 삭제\n",
    "\n",
    "# 디스크 사용량 확인\n",
    "total, used, free = shutil.disk_usage(\"/\")  # 전체, 사용, 남은 디스크 용량\n",
    "\n",
    "# 압축 및 압축 해제\n",
    "shutil.make_archive(\"archive_name\", \"zip\", \"source_folder\")  # 디렉토리 압축\n",
    "shutil.unpack_archive(\"archive_name.zip\", \"destination_folder\")  # 압축 해제\n",
    "\n",
    "# os 라이브러리 사용법\n",
    "# 경로 조작\n",
    "path = os.path.join(\"folder\", \"file.txt\")  # 경로 결합\n",
    "dirname = os.path.dirname(path)  # 디렉토리명 추출\n",
    "basename = os.path.basename(path)  # 파일명 추출\n",
    "absolute_path = os.path.abspath(path)  # 절대 경로 반환\n",
    "normalized_path = os.path.normpath(path)  # 정규화된 경로 반환\n",
    "\n",
    "# 존재 여부 확인\n",
    "exists = os.path.exists(path)  # 존재 여부 확인\n",
    "is_file = os.path.isfile(path)  # 파일 여부 확인\n",
    "is_dir = os.path.isdir(path)  # 디렉토리 여부 확인\n",
    "is_link = os.path.islink(path)  # 심볼릭 링크 여부 확인\n",
    "\n",
    "# 경로 관련 정보\n",
    "size = os.path.getsize(path)  # 파일 크기 반환\n",
    "mtime = os.path.getmtime(path)  # 마지막 수정 시간 반환\n",
    "atime = os.path.getatime(path)  # 마지막 접근 시간 반환\n",
    "common_prefix = os.path.commonprefix([\"folder/file1.txt\", \"folder/file2.txt\"])  # 공통 접두사 반환\n",
    "\n",
    "# 환경 변수 접근\n",
    "env_value = os.environ.get(\"PATH\")  # 환경 변수 값 가져오기\n",
    "default_value = os.environ.setdefault(\"MY_VAR\", \"default\")  # 환경 변수 기본값 설정\n",
    "env_keys = os.environ.keys()  # 키 목록 반환\n",
    "env_items = os.environ.items()  # 환경 변수 쌍 반환\n",
    "\n",
    "# 시스템 관련\n",
    "os.system(\"echo Hello World\")  # 시스템 명령 실행\n",
    "pid = os.getpid()  # 현재 프로세스 ID 반환\n",
    "ppid = os.getppid()  # 부모 프로세스 ID 반환\n",
    "\n",
    "# 파일 및 디렉토리 작업\n",
    "os.mkdir(\"new_folder\")  # 단일 폴더 생성\n",
    "os.makedirs(\"a/b/c/d\", exist_ok=True)  # 여러 폴더를 한번에 생성\n",
    "os.rmdir(\"new_folder\")  # 디렉토리 삭제\n",
    "os.remove(\"file.txt\")  # 파일 삭제\n",
    "os.rename(\"old_name.txt\", \"new_name.txt\")  # 이름 변경\n",
    "file_list = os.listdir(\".\")  # 파일 목록 반환\n",
    "\n",
    "# 현재 작업 디렉토리\n",
    "current_dir = os.getcwd()  # 현재 작업 디렉토리 경로 반환\n",
    "os.chdir(\"..\")  # 작업 디렉토리 변경\n",
    "\n",
    "# 기타\n",
    "path_separator = os.sep  # 경로 구분자 반환\n",
    "line_separator = os.linesep  # 줄 바꿈 문자 반환\n",
    "parent_dir = os.pardir  # 부모 디렉토리 반환\n",
    "\n",
    "# pathlib 라이브러리 사용법\n",
    "\n",
    "# 경로 객체 생성\n",
    "path = Path(\"folder/file.txt\")\n",
    "\n",
    "# 경로 조작\n",
    "parent = path.parent  # 부모 디렉토리 반환\n",
    "name = path.name  # 파일명 반환\n",
    "stem = path.stem  # 파일명 (확장자 제외) 반환\n",
    "suffix = path.suffix  # 파일 확장자 반환\n",
    "absolute_path = path.resolve()  # 절대 경로 반환\n",
    "\n",
    "# 존재 여부 확인\n",
    "exists = path.exists()  # 존재 여부 확인\n",
    "is_file = path.is_file()  # 파일 여부 확인\n",
    "is_dir = path.is_dir()  # 디렉토리 여부 확인\n",
    "\n",
    "# 파일 및 디렉토리 작업\n",
    "path.mkdir(parents=True, exist_ok=True)  # 디렉토리 생성\n",
    "path.rmdir()  # 디렉토리 삭제\n",
    "path.unlink()  # 파일 삭제\n",
    "new_path = path.with_name(\"new_file.txt\")  # 파일명 변경\n",
    "path.rename(new_path)  # 파일명 변경 적용\n",
    "\n",
    "# 파일 읽기 및 쓰기\n",
    "path.write_text(\"Hello, World!\")  # 텍스트 파일 쓰기\n",
    "content = path.read_text()  # 텍스트 파일 읽기\n",
    "path.write_bytes(b\"Hello, World!\")  # 바이너리 파일 쓰기\n",
    "content = path.read_bytes()  # 바이너리 파일 읽기\n",
    "\n",
    "# 파일 목록 반환\n",
    "for file in path.iterdir():\n",
    "    print(file)\n",
    "\n",
    "# glob 패턴 매칭\n",
    "for file in path.glob(\"*.txt\"):\n",
    "    print(file)"
   ]
  },
  {
   "cell_type": "code",
   "execution_count": null,
   "metadata": {},
   "outputs": [],
   "source": [
    "import os\n",
    "a = \"C:/Users/Username/Documents\"\n",
    "b = \"file.txt\"\n",
    "path = os.path.join(a, b)\n",
    "print(path)  # 결과: C:/Users/Username/Documents/file.txt\n",
    "# 파일 경로 결합\n",
    "from pathlib import Path\n",
    "path = Path(a) / b\n",
    "print(path)  # 결과: C:/Users/Username/Documents/file.txt"
   ]
  },
  {
   "cell_type": "markdown",
   "metadata": {},
   "source": [
    "#### 2. ``sys`` (인터프리터와 상호작용)"
   ]
  },
  {
   "cell_type": "code",
   "execution_count": null,
   "metadata": {},
   "outputs": [],
   "source": [
    "import sys # 인터프리터 라이브러리, 프로그램 인수처리, 시스템 정보\n",
    "# sys.exit([arg])               # 프로그램 종료. arg는 종료 코드.\n",
    "\n",
    "# 2. 시스템 정보\n",
    "sys.version                   # 현재 Python 버전 정보\n",
    "sys.platform                  # 운영 체제 플랫폼 정보\n",
    "sys.prefix                    # Python 설치 경로\n",
    "sys.executable                # Python 실행 파일 경로\n",
    "\n",
    "# 3. 입력 및 출력\n",
    "sys.stdin                     # 표준 입력 스트림\n",
    "sys.stdout                    # 표준 출력 스트림\n",
    "sys.stderr                    # 표준 에러 스트림\n",
    "\n",
    "# 4. 모듈 관련\n",
    "sys.modules                   # 현재 로드된 모듈 목록\n",
    "sys.builtin_module_names      # 내장 모듈 목록\n",
    "sys.path                      # 모듈 검색 경로\n",
    "\n",
    "# 5. 재귀 호출 관련\n",
    "sys.getrecursionlimit()      # 재귀 호출 한계 반환\n",
    "sys.setrecursionlimit(10000)  # 재귀 호출 한계 설정\n",
    "\n",
    "# 6. 경고 및 디버깅\n",
    "# sys.tracebacklimit =          # traceback의 깊이 제한\n",
    "# sys.settrace(function)       # 트레이스 함수 설정\n",
    "\n",
    "# 7. 기타\n",
    "sys.maxsize                   # 최대 정수 크기\n",
    "sys.float_info                # 부동 소수점 정보\n",
    "sys.getsizeof(object)         # 객체의 크기 반환\n"
   ]
  },
  {
   "cell_type": "markdown",
   "metadata": {},
   "source": [
    "### 3. ``logging`` (디버깅 및 모니터링)\n",
    "   - logging.handlers\n",
    "   - logging.config\n",
    "### 4. ``json`` (JSON 데이터 처리)\n",
    "   - json.encoder\n",
    "   - json.decoder"
   ]
  },
  {
   "cell_type": "markdown",
   "metadata": {},
   "source": [
    "### 시간 및 날짜 처리"
   ]
  },
  {
   "cell_type": "markdown",
   "metadata": {},
   "source": [
    "#### 5. ``datetime`` (날짜 및 시간 처리)\n",
    "   - datetime.date\n",
    "   - datetime.time\n",
    "   - datetime.timedelta"
   ]
  },
  {
   "cell_type": "code",
   "execution_count": null,
   "metadata": {},
   "outputs": [],
   "source": [
    "import datetime  # datetime 모듈 임포트"
   ]
  },
  {
   "cell_type": "code",
   "execution_count": null,
   "metadata": {},
   "outputs": [],
   "source": [
    "# datetime 클래스 메서드\n",
    "print(datetime.datetime.now())  # 현재 날짜와 시간 반환\n",
    "print(datetime.datetime.fromtimestamp(1633072800))  # 타임스탬프를 datetime으로 변환\n",
    "print(datetime.datetime.today())  # 현재 날짜 반환\n",
    "print(datetime.datetime.combine(datetime.date.today(), datetime.time(12, 0)))  # 날짜와 시간 결합\n",
    "print(datetime.datetime.strptime('2023-09-15', '%Y-%m-%d'))  # 문자열을 datetime으로 변환\n",
    "print(datetime.datetime(2023, 9, 15).strftime('%Y-%m-%d'))  # datetime을 문자열로 변환\n",
    "# datetime 클래스 상수\n",
    "print(datetime.datetime.min)  # 최소값 (0001-01-01 00:00:00)\n",
    "print(datetime.datetime.max)  # 최대값 (9999-12-31 23:59:59.999999)\n",
    "print(datetime.datetime.resolution)  # 최소 시간 단위 (1 마이크로초)\n",
    "# date 클래스 메서드\n",
    "print(datetime.date.today())  # 현재 날짜 반환\n",
    "print(datetime.date.fromtimestamp(1633072800))  # 타임스탬프를 date로 변환\n",
    "print(datetime.date.strptime('2023-09-15', '%Y-%m-%d'))  # 문자열을 date로 변환\n",
    "print(datetime.date(2023, 9, 15).replace(day=16))  # 날짜의 특정 부분 변경\n",
    "print(datetime.date(2023, 9, 15).isoformat())  # ISO 8601 형식으로 날짜 반환\n",
    "print(datetime.date(2023, 9, 15))  # 날짜 객체 생성\n",
    "# date 클래스 상수\n",
    "print(datetime.date.min)  # 최소값 (0001-01-01)\n",
    "print(datetime.date.max)  # 최대값 (9999-12-31)\n",
    "# time 클래스 메서드\n",
    "print(datetime.time(12, 0).isoformat())  # ISO 8601 형식으로 시간 반환\n",
    "# time 클래스 상수\n",
    "print(datetime.time.min)  # 최소값 (00:00:00)\n",
    "print(datetime.time.max)  # 최대값 (23:59:59.999999)\n",
    "# timedelta 클래스 메서드\n",
    "delta = datetime.timedelta(days=5)\n",
    "print(delta.total_seconds())  # 총 초 수 반환\n",
    "\n",
    "# tzinfo 클래스 메서드 (사용 예시 없음, 일반적으로 상속하여 사용)\n",
    "# class MyTimezone(datetime.tzinfo):  # 사용자 정의 타임존 클래스\n",
    "#     def utcoffset(self, dt): return datetime.timedelta(hours=9)  # UTC+9\n",
    "#     def dst(self, dt): return datetime.timedelta(hours=1)  # 여름 시간\n",
    "#     def tzname(self, dt): return \"KST\"  # 타임존 이름\n"
   ]
  },
  {
   "cell_type": "code",
   "execution_count": null,
   "metadata": {},
   "outputs": [],
   "source": [
    "addtime = datetime.timedelta(days = 10)\n",
    "datetime.datetime.now() + addtime    # 10일 후\n",
    "datetime.datetime.now() - addtime    # 10일 전\n",
    "\n",
    "The_date = datetime.datetime.now().replace(hour = 10, minute=0, second = 0)\\\n",
    "          + datetime.timedelta(days = 3) # 3일 후 10시 정각\n",
    "          \n",
    "hundred_after = datetime.datetime.now().replace(hour=9, minute=0, second=0) + datetime.timedelta(days = 100)\n",
    "\n",
    "print(\"{}/{}/{}  {}:{}:{}\".format(hundred_after.year,hundred_after.month,\n",
    "                                  hundred_after.day, hundred_after.hour,\n",
    "                                  hundred_after.minute, hundred_after.second))"
   ]
  },
  {
   "cell_type": "markdown",
   "metadata": {},
   "source": [
    "#### 17. time, calendar"
   ]
  },
  {
   "cell_type": "code",
   "execution_count": 30,
   "metadata": {},
   "outputs": [],
   "source": [
    "import time"
   ]
  },
  {
   "cell_type": "code",
   "execution_count": null,
   "metadata": {},
   "outputs": [],
   "source": [
    "# 주요 함수\n",
    "print(time.time())               # 현재 시간을 Unix 타임스탬프로 반환 (초 단위)(실수값)\n",
    "print(time.sleep(5))             # 주어진 초(1초) 동안 실행을 멈춤 (반환값 없음)\n",
    "print(time.localtime())          # 현재 로컬 시간을 struct_time 객체로 반환\n",
    "print(time.localtime(time.time())) # time.time()이 리턴한 실수값을 연월일시분초로 변환\n",
    "print(time.asctime(time.localtime(time.time()))) # 'Fri Apr 28 20:50:20 2023'\n",
    "print(time.ctime())              # 현재시간만을 'Fri Apr 28 20:50:20 2023'형식으로 반환\n",
    "print(time.gmtime())             # 현재 UTC 시간을 struct_time 객체로 반환\n",
    "# 형식에 맞춰 시간 문자열 반환\n",
    "print(time.strftime(\"%Y-%m-%d %H:%M:%S\", time.localtime()))\n",
    "# 문자열을 struct_time 객체로 변환\n",
    "print(time.strptime(\"2024-09-15\", \"%Y-%m-%d\"))\n",
    "print(time.perf_counter())     # 성능 카운터, 코드 실행 시간 측정에 유용\n",
    "print(time.process_time())     # CPU 시간을 반환 (프로세스 실행 시간)\n",
    "print(time.monotonic())        # 시스템 부팅 이후의 시간 (정확한 측정 가능)\n",
    "# 주요 상수\n",
    "print(time.altzone)            # 표준시와 UTC의 차이 (초 단위)\n",
    "print(time.daylight)           # 서머타임 적용 여부 (0 또는 1)\n",
    "print(time.tzname)             # 현재 설정된 타임존 이름 (튜플 형태)"
   ]
  },
  {
   "cell_type": "code",
   "execution_count": null,
   "metadata": {},
   "outputs": [],
   "source": [
    "import calendar"
   ]
  },
  {
   "cell_type": "code",
   "execution_count": null,
   "metadata": {},
   "outputs": [],
   "source": [
    "# 주요 함수\n",
    "print(calendar.calendar(2024))                  # 지정한 연도의 전체 달력 출력 (2024년)\n",
    "print(calendar.prcal(2024))                     # 지정한 연도의 전체 달력 출력 (프린트 형태)\n",
    "print(calendar.month(2024, 9))                  # 지정한 연도의 특정 월 출력 (2024년 9월)\n",
    "print(calendar.month_name[9])                   # 월 이름 반환 (9월: September)\n",
    "print(calendar.month_abbr[9])                   # 월 약어 반환 (9월: Sep)\n",
    "print(calendar.isleap(2024))                    # 윤년 여부 확인 (2024년: True)\n",
    "print(calendar.leapdays(2000, 2025))            # 주어진 기간의 윤년 수 반환 (2000~2025년)\n",
    "print(calendar.weekday(2024, 9, 15))            # 주어진 날짜의 요일 인덱스 반환 (2024년 9월 15일)\n",
    "print(calendar.isoweekday(2024, 9, 15))         # 주어진 날짜의 요일 순서 반환 (2024년 9월 15일)\n",
    "print(calendar.setfirstweekday(calendar.SUNDAY))# 첫 번째 요일 설정 (일요일로 설정)\n",
    "print(calendar.firstweekday())                  # 현재 설정된 첫 번째 요일 반환\n",
    "# 주요 클래스\n",
    "print(calendar.TextCalendar())                  # 텍스트 형태의 달력 생성\n",
    "print(calendar.HTMLCalendar())                  # HTML 형태의 달력 생성\n",
    "# 주요 상수\n",
    "print(calendar.SUNDAY)                          # 일요일 상수 (0)\n",
    "print(calendar.MONDAY)                          # 월요일 상수 (1)\n",
    "print(calendar.TUESDAY)                         # 화요일 상수 (2)\n",
    "print(calendar.WEDNESDAY)                       # 수요일 상수 (3)\n",
    "print(calendar.THURSDAY)                        # 목요일 상수 (4)\n",
    "print(calendar.FRIDAY)                          # 금요일 상수 (5)\n",
    "print(calendar.SATURDAY)                        # 토요일 상수 (6)"
   ]
  },
  {
   "cell_type": "markdown",
   "metadata": {},
   "source": [
    "### 6. ``re`` (정규표현식 처리)"
   ]
  },
  {
   "cell_type": "code",
   "execution_count": null,
   "metadata": {},
   "outputs": [],
   "source": [
    "import re # 정규 표현식을 사용하여 문자열 검색, 대체 및 분할 등의 작업을 수행\n",
    "# 1. 패턴 매칭\n",
    "re.match(pattern, string)            # 문자열의 시작에서 패턴 매칭\n",
    "re.search(pattern, string)           # 문자열 전체에서 패턴 검색\n",
    "# 2. 패턴 찾기\n",
    "re.findall(pattern, string)          # 문자열에서 패턴에 일치하는 모든 항목 반환\n",
    "re.finditer(pattern, string)         # 문자열에서 패턴에 일치하는 모든 항목의 이터레이터 반환\n",
    "# 3. 패턴 대체\n",
    "re.sub(pattern, repl, string)        # 패턴에 일치하는 부분을 repl로 대체\n",
    "re.subn(pattern, repl, string)       # 패턴에 일치하는 부분을 repl로 대체하고 변경된 횟수 반환\n",
    "# 4. 패턴 분할\n",
    "re.split(pattern, string)            # 패턴에 따라 문자열 분할\n",
    "# 5. 컴파일된 패턴\n",
    "re.compile(pattern)                  # 패턴을 컴파일하여 재사용 가능하게 함\n",
    "# 6. 기타\n",
    "re.escape(string)                    # 문자열에 포함된 특수 문자를 이스케이프 처리"
   ]
  },
  {
   "cell_type": "markdown",
   "metadata": {},
   "source": [
    "### 8. ``collections`` (고급 데이터 구조)\n",
    "   - collections.deque\n",
    "   - collections.defaultdict\n",
    "   - collections.Counter"
   ]
  },
  {
   "cell_type": "code",
   "execution_count": 10,
   "metadata": {},
   "outputs": [],
   "source": [
    "import collections as cl"
   ]
  },
  {
   "cell_type": "code",
   "execution_count": null,
   "metadata": {},
   "outputs": [],
   "source": [
    "# 카운터\n",
    "counter = cl.Counter(['a', 'b', 'c', 'a'])  # 각 요소의 등장횟수를 딕셔너리로 제공 (iterable) -> Counter\n",
    "counter_most_common = counter.most_common(2)  # 가장 일반적인 요소 반환 (n) -> list of (elem, count)\n",
    "counter_elements = counter.elements()  # 모든 요소를 반복 (none) -> iterator\n",
    "# 기본 딕셔너리\n",
    "default_dict = cl.defaultdict(int)  # 기본값을 가지는 딕셔너리 (default_factory) -> defaultdict\n",
    "default_dict['key'] += 1  # 기본값이 0으로 설정됨\n",
    "# 데크\n",
    "deque_obj = cl.deque(['a', 'b', 'c'])  # 더블 링크드 리스트 구조로 반환하는 클래스생성자 (iterable) -> deque\n",
    "deque_obj.append('d')  # 오른쪽에 추가\n",
    "deque_obj.appendleft('z')  # 왼쪽에 추가\n",
    "deque_obj.pop()  # 오른쪽에서 제거\n",
    "deque_obj.popleft()  # 왼쪽에서 제거\n",
    "# 이름 있는 튜플\n",
    "Point = cl.namedtuple('Point', ['x', 'y'])  # 이름 있는 튜플 정의 (typename, field_names)\n",
    "point = Point(1, 2)  # 이름 있는 튜플 생성 (x, y) -> Point\n",
    "x_coord = point.x  # x 좌표 접근\n",
    "point_repr = point._asdict()  # 딕셔너리로 변환 (none) -> dict\n",
    "# 정렬된 딕셔너리\n",
    "ordered_dict = cl.OrderedDict()  # 순서를 유지하는 딕셔너리\n",
    "ordered_dict['a'] = 1\n",
    "ordered_dict['b'] = 2  # 삽입 순서 유지\n",
    "ordered_dict_keys = list(ordered_dict.keys())  # 키 목록 (none) -> list\n",
    "# 체인 맵\n",
    "chain_map = cl.ChainMap(default_dict, ordered_dict)  # 여러 맵을 연결 (mapping, ...) -> ChainMap\n",
    "chain_map['key']  # 첫 번째 맵에서 키 검색\n",
    "# 사용자 정의 딕셔너리\n",
    "class MyDict(cl.UserDict):  # 사용자 정의 딕셔너리\n",
    "    def __setitem__(self, key, value):\n",
    "        print(f\"Setting {key} to {value}\")\n",
    "        super().__setitem__(key, value)\n",
    "user_dict = MyDict()  # 사용자 정의 딕셔너리 인스턴스 생성\n",
    "# 사용자 정의 리스트\n",
    "class MyList(cl.UserList):  # 사용자 정의 리스트\n",
    "    def append(self, value):\n",
    "        print(f\"Appending {value}\")\n",
    "        super().append(value)\n",
    "user_list = MyList()  # 사용자 정의 리스트 인스턴스 생성\n",
    "# 사용자 정의 문자열\n",
    "class MyString(cl.UserString):  # 사용자 정의 문자열\n",
    "    def __repr__(self):\n",
    "        return f\"MyString({self.data})\"\n",
    "user_string = MyString(\"Hello\")  # 사용자 정의 문자열 인스턴스 생성"
   ]
  },
  {
   "cell_type": "markdown",
   "metadata": {},
   "source": [
    "### . heapq (Heap)기능 제공 : 우선순위큐 구현에 사용"
   ]
  },
  {
   "cell_type": "markdown",
   "metadata": {},
   "source": [
    "### biset : 이진탐색(Binary Search)기능 제공"
   ]
  },
  {
   "cell_type": "markdown",
   "metadata": {},
   "source": [
    "### 9. ``itertools`` (반복 가능한 객체 조작)"
   ]
  },
  {
   "cell_type": "code",
   "execution_count": 12,
   "metadata": {},
   "outputs": [],
   "source": [
    "import itertools"
   ]
  },
  {
   "cell_type": "code",
   "execution_count": null,
   "metadata": {},
   "outputs": [],
   "source": [
    "# 무한 반복 생성\n",
    "count = itertools.count()  # 무한히 증가하는 숫자 생성 (start=0, step=1) -> iterable\n",
    "cycle = itertools.cycle(['A', 'B', 'C'])  # 주어진 iterable 무한 반복 (iterable) -> iterable\n",
    "repeat = itertools.repeat('X')  # 특정 값 무한 반복 (object, times=None) -> iterable\n",
    "# 연결 및 슬라이스\n",
    "chain = itertools.chain([1, 2], [3, 4])  # 여러 iterable 연결 (*iterables) -> iterable\n",
    "islice = itertools.islice(count, 5)  # 슬라이스 생성 (iterable, start, stop) -> iterable\n",
    "tee = itertools.tee(count, 2)  # iterable 복제 (iterable, n=2) -> tuple of iterators\n",
    "# 조합 및 순열\n",
    "combinations = itertools.combinations([1, 2, 3], 2)  # 조합 생성 (iterable, r) -> iterable\n",
    "permutations = itertools.permutations([1, 2, 3], )  # 순열 생성 (iterable, r=None) -> iterable : r개씩 조합한 순열\n",
    "combinations_with_replacement = itertools.combinations_with_replacement([1, 2, 3], 2)  # 중복 조합 (iterable, r) -> iterable\n",
    "# 카르테시안 곱\n",
    "product = itertools.product([1, 2], repeat=2)  # 카르테시안 곱 생성 (*iterables, repeat=1) -> iterable\n",
    "# 함수적 프로그래밍\n",
    "starmap = itertools.starmap(lambda x, y: x + y, [(1, 2), (3, 4)])  # 주어진 함수에 적용 (function, iterable) -> iterable\n",
    "accumulate = itertools.accumulate([1, 2, 3, 4])  # 누적합 계산 (iterable, func=None) -> iterable\n",
    "filterfalse = itertools.filterfalse(lambda x: x % 2 == 0, [1, 2, 3, 4])  # 조건에 맞지 않는 요소 필터링 (function, iterable) -> iterable\n",
    "# 짝지어 결합\n",
    "zip_longest = itertools.zip_longest([1, 2], [3, 4, 5], fillvalue=0)  # 짝지어 결합 (iter1, iter2, fillvalue=None) -> iterable"
   ]
  },
  {
   "cell_type": "code",
   "execution_count": 15,
   "metadata": {},
   "outputs": [
    {
     "data": {
      "text/plain": [
       "[3, 7]"
      ]
     },
     "execution_count": 15,
     "metadata": {},
     "output_type": "execute_result"
    }
   ],
   "source": [
    "starmap = itertools.starmap(lambda x, y: x + y, [(1, 2), (3, 4)])  # 주어진 함수에 적용 (function, iterable) -> iterable\n",
    "list(starmap)"
   ]
  },
  {
   "cell_type": "code",
   "execution_count": null,
   "metadata": {},
   "outputs": [],
   "source": [
    "import itertools\n",
    "dir(itertools)"
   ]
  },
  {
   "cell_type": "markdown",
   "metadata": {},
   "source": [
    "### 데이터 처리 및 분석"
   ]
  },
  {
   "cell_type": "markdown",
   "metadata": {},
   "source": [
    "#### 7. ``math`` (수학 함수 및 상수)"
   ]
  },
  {
   "cell_type": "code",
   "execution_count": null,
   "metadata": {},
   "outputs": [],
   "source": [
    "import math\n",
    "# 1. 상수\n",
    "math.e  # 자연상수 e (2.718)\n",
    "math.inf  # 무한대\n",
    "math.nan  # NaN (숫자가 아님)\n",
    "math.pi  # 원주율 (π)\n",
    "math.tau  # 2π (타우, 6.283)\n",
    "# 2. 기초 수학 함수\n",
    "math.sqrt(x)                       # x의 제곱근\n",
    "math.pow(x, y)                     # x의 y 제곱\n",
    "math.factorial(x)                  # x의 계승\n",
    "# 3. 삼각 함수\n",
    "math.sin(x)                        # x의 사인 (라디안 단위)\n",
    "math.cos(x)                        # x의 코사인 (라디안 단위)\n",
    "math.tan(x)                        # x의 탄젠트 (라디안 단위)\n",
    "math.sin                           # x의 사인 (라디안 단위)\n",
    "math.sin(math.pi / 2)              # 1.0\n",
    "math.cos                           # x의 코사인 (라디안 단위)\n",
    "math.cos(math.pi)                  # -1.0, π 라디안의 코사인 값\n",
    "math.tan                           # x의 탄젠트 (라디안 단위)\n",
    "math.tan(math.pi / 4)              # 1.0\n",
    "# 4. 역삼각 함수\n",
    "math.asin(x)                       # x의 아크사인\n",
    "math.asin(0)  # 0.0, 입력값이 -1에서 1 사이여야 함\n",
    "math.acos(x)                       # x의 아크코사인\n",
    "math.acos(1)  # 0.0, 입력값이 -1에서 1 사이여야 함\n",
    "math.atan(x)                       # x의 아크탄젠트\n",
    "math.atan(1)  # 0.7853981633974483, π/4 라디안\n",
    "# 5. 로그 함수\n",
    "math.log(x[, base])                # x의 자연 로그 (밑을 지정할 수 있음)\n",
    "math.log(10)  # 2.302585092994046\n",
    "math.log10  # 상용로그 (밑이 10인 로그)\n",
    "math.log10(1000)  # 3.0\n",
    "math.log1p  # (1 + x)의 로그\n",
    "math.log1p(1)  # 0.6931471805599453\n",
    "math.log2  # 밑이 2인 로그\n",
    "math.log2(16)  # 4.0\n",
    "# 6. 기타\n",
    "math.ceil(x)                       # x 이상의 최소 정수\n",
    "math.floor(x)                      # x 이하의 최대 정수\n",
    "math.fabs(x)                       # x의 절대값\n",
    "# 7. 하이퍼볼릭(쌍곡선) 함수\n",
    "math.sinh(x)                       # x의 하이퍼볼릭(쌍곡선) 사인\n",
    "math.sinh(0)  # 0.0\n",
    "math.cosh(x)                       # x의 하이퍼볼릭(쌍곡선) 코사인\n",
    "math.cosh(0)  # 1.0, 쌍곡선 코사인 값\n",
    "math.tanh(x)                       # x의 하이퍼볼릭(쌍곡선) 탄젠트\n",
    "math.tanh(0)  # 0.0\n",
    "# 8.역쌍곡선 삼각함수\n",
    "math.asinh  # 역쌍곡선 사인 함수\n",
    "math.asinh(0)  # 0.0, 실수 입력 가능\n",
    "math.acosh  # 역쌍곡선 코사인 함수\n",
    "math.acosh(1)  # 0.0, 입력값이 1 이상이어야 함\n",
    "math.atanh  # 역쌍곡선 탄젠트 함수\n",
    "math.atanh(0)  # 0.0, 입력값이 -1에서 1 사이여야 함\n",
    "math.atan2  # 두 좌표의 아크탄젠트 함수\n",
    "math.atan2(1, 1)  # 0.7853981633974483, π/4 라디안\n",
    "# 9. 올림, 내림, 반올림\n",
    "math.round(x, n)                   # x를 n번째 자리에서 반올림\n",
    "math.trunc(x)                      # x의 정수 부분 반환(소수점 버림)\n",
    "# 10. 조합 및 순열\n",
    "math.comb(n, k)                    # nCk (조합) n개 중 k개를 선택하는 조합의 수\n",
    "math.perm(n, k)                    # nPk (순열) n개 중 k개의 순열\n",
    "# 11. 기타\n",
    "math.degrees(x)                    # 라디안을 도로 변환\n",
    "math.radians(x)                    # 도를 라디안으로 변환\n",
    "math.isqrt(x)                      # x의 정수 제곱근\n",
    "\n",
    "math.prod  # 곱 계산\n",
    "math.prod([1, 2, 3, 4])  # 24\n",
    "math.remainder  # 나머지 계산\n",
    "math.remainder(10, 3)  # 1.0\n",
    "\n",
    "# 보너스 클래스\n",
    "class Complex: pass  # 복소수 처리를 위한 클래스 (Python 기본 내장)\n",
    "\n",
    "math.copysign  # 부호 복사 함수\n",
    "math.copysign(3, -1)  # -3, 3에 -1의 부호를 붙임\n",
    "math.dist  # 두 점 사이의 거리 계산\n",
    "math.dist([0, 0], [3, 4])  # 5.0, (0,0)과 (3,4) 사이 거리\n",
    "math.erf  # 오류 함수\n",
    "math.erf(1)  # 0.842700792949715, 오류 함수 값\n",
    "math.erfc  # 보완 오류 함수\n",
    "math.erfc(1)  # 0.157299207050285, 보완 오류 함수 값\n",
    "math.exp  # e의 거듭제곱\n",
    "math.exp(2)  # 7.38905609893065\n",
    "math.expm1  # (e^x - 1) 계산\n",
    "math.expm1(1)  # 1.718281828459045\n",
    "math.factorial  # 팩토리얼 : 계승 계산 함수\n",
    "math.factorial(5)  # 120, 5!\n",
    "\n",
    "math.fmod  # 나눗셈의 나머지\n",
    "math.fmod(20, 3)  # 2.0\n",
    "math.frexp  # 부동 소수점 분리\n",
    "math.frexp(8)  # (0.5, 4), 8 = 0.5 * 2^4\n",
    "math.fsum  # 정확한 부동 소수점 합 계산\n",
    "math.fsum([0.1, 0.2, 0.3])  # 0.6\n",
    "math.gamma  # 감마 함수\n",
    "math.gamma(5)  # 24.0\n",
    "math.lgamma  # 감마 함수의 로그값\n",
    "math.lgamma(5)  # 3.1780538303479458\n",
    "math.gcd  # 최대공약수\n",
    "math.gcd(48, 18)  # 6 # 3.9부터는 여러인수 입력가능\n",
    "math.lcm  # 최소공배수\n",
    "math.lcm(3, 5)  # 3.9부터 사용가능\n",
    "math.hypot  # 유클리드 거리\n",
    "math.hypot(3, 4)  # 5.0\n",
    "math.isclose  # 두 수가 가까운지 확인\n",
    "math.isclose(0.1 + 0.2, 0.3)  # True\n",
    "math.isfinite  # 유한한 수인지 확인\n",
    "math.isfinite(1000)  # True\n",
    "math.isinf  # 무한대인지 확인\n",
    "math.isinf(math.inf)  # True\n",
    "math.isnan  # NaN인지 확인\n",
    "math.isnan(math.nan)  # True\n",
    "math.ldexp  # 부동 소수점 재구성\n",
    "math.ldexp(0.5, 3)  # 4.0, 0.5 * 2^3\n",
    "\n"
   ]
  },
  {
   "cell_type": "markdown",
   "metadata": {},
   "source": [
    "#### 10. ``random`` (난수 생성)"
   ]
  },
  {
   "cell_type": "code",
   "execution_count": null,
   "metadata": {},
   "outputs": [],
   "source": [
    "import random\n",
    "# 1. 난수 생성\n",
    "random.random()                     # 0.0 이상 1.0 미만의 부동 소수점 난수 생성\n",
    "random.randint(a, b)                # a 이상 b 이하의 정수 난수 생성\n",
    "random.uniform(a, b)                # a 이상 b 이하의 부동 소수점 난수 생성\n",
    "random.randrange(start, stop[, step])  # start 이상 stop 미만의 정수 난수 생성 (step 간격)\n",
    "# 2. 시퀀스에서 샘플링\n",
    "random.choice(seq)                  # 시퀀스(seq)에서 무작위로 하나의 요소 선택\n",
    "random.sample(population, k)        # 모집단에서 k개의 고유한 요소 샘플링\n",
    "random.shuffle(x)                   # 리스트 x의 요소를 무작위로 섞기\n",
    "# 3. 정수 난수 생성\n",
    "random.getrandbits(k)               # k 비트의 난수 생성 (0과 2**k-1 사이의 정수)\n",
    "# 4. 시드 설정\n",
    "random.seed(a=None)                 # 난수 생성기의 시드 설정 (재현 가능한 난수 생성)\n",
    "# 5. 다양한 분포를 따르는 난수 생성\n",
    "random.normalvariate(mu, sigma)     # 평균 mu, 표준편차 sigma를 가지는 정규 분포 난수 생성\n",
    "random.uniform(a, b)                # 균등 분포에서 난수 생성\n",
    "random.triangular(low, high, mode)  # 삼각 분포에서 난수 생성\n",
    "# 6. 기타\n",
    "random.betavariate(alpha, beta)     # 베타 분포에서 난수 생성\n",
    "random.expovariate(lambd)           # 지수 분포에서 난수 생성\n",
    "random.gammavariate(alpha, beta)    # 감마 분포에서 난수 생성\n",
    "random.gauss(mu, sigma)              # 가우시안 분포에서 난수 생성\n",
    "random.lognormvariate(mu, sigma)    # 로그 정규 분포에서 난수 생성\n",
    "random.vonmisesvariate(mu, kappa)   # 폰 미제스 분포에서 난수 생성\n",
    "random.paretovariate(alpha)          # 파레토 분포에서 난수 생성\n",
    "random.weibullvariate(alpha, beta)   # 와이블 분포에서 난수 생성"
   ]
  },
  {
   "cell_type": "markdown",
   "metadata": {},
   "source": [
    "### 11. ``subprocess`` (외부 프로세스 실행)\n",
    "    - subprocess.run\n",
    "    - subprocess.Popen"
   ]
  },
  {
   "cell_type": "markdown",
   "metadata": {},
   "source": [
    "### 12. ``pickle`` (객체 직렬화(serialize) 및 역직렬화(deserialize))"
   ]
  },
  {
   "cell_type": "markdown",
   "metadata": {},
   "source": [
    "즉, 객체를 형태를 유지한채로 파일에 저장하거나 불러오거나 네트워크로 전송할 수 있도록 변환하는 기능을 제공"
   ]
  },
  {
   "cell_type": "code",
   "execution_count": null,
   "metadata": {},
   "outputs": [],
   "source": [
    "import pickle\n",
    "# 1. 객체 직렬화 (Serialization)\n",
    "# 객체 obj를 file에 직렬화하여 저장\n",
    "# protocol: 사용할 직렬화 프로토콜 버전 (기본값None:기본 프로토콜 사용)\n",
    "pickle.dump(obj, file, protocol=None)\n",
    "pickle.dumps(obj, protocol=None)     # 객체 obj를 바이트 스트림으로 직렬화하여 반환\n",
    "# 2. 객체 역직렬화 (Deserialization)\n",
    "pickle.load(file)                    # file에서 직렬화된 객체를 읽어 역직렬화하여 반환\n",
    "pickle.loads(byte_string)            # 바이트 스트림 byte_string에서 객체를 역직렬화하여 반환\n",
    "# 3. 프로토콜 설정\n",
    "pickle.HIGHEST_PROTOCOL              # 사용할 수 있는 가장 높은 프로토콜 버전\n",
    "pickle.DEFAULT_PROTOCOL              # 기본 프로토콜 버전\n",
    "\n",
    "# 1. 객체를 파일에 저장\n",
    "data = {'name': 'Alice', 'age': 30, 'is_student': False}\n",
    "with open('data.pkl', 'wb') as f:\n",
    "    pickle.dump(data, f)\n",
    "# 2. 파일에서 객체를 읽어오기 및 예외 처리\n",
    "try:\n",
    "    with open('data.pkl', 'rb') as f:\n",
    "        loaded_data = pickle.load(f)\n",
    "except FileNotFoundError:\n",
    "    print(\"파일이 존재하지 않습니다.\")  # 파일이 없을 경우 처리\n",
    "except pickle.UnpicklingError:\n",
    "    print(\"역직렬화 중 오류가 발생했습니다.\")  # 데이터 형식 오류 처리\n",
    "# 3. 주의사항\n",
    "# - 신뢰할 수 없는 소스에서 제공된 데이터는 역직렬화하지 말 것. \n",
    "# - 서로 다른 파이썬 버전 간의 호환성 주의.\n",
    "print(loaded_data)  # {'key': 'value', 'number': 42}\n"
   ]
  },
  {
   "cell_type": "markdown",
   "metadata": {},
   "source": [
    "### 13. ``argparse`` (명령행 인수 처리)\n",
    "    - argparse.ArgumentParser\n",
    "    - argparse.add_argument\n",
    "### 14. ``threading`` (스레드 처리)\n",
    "    - threading.Thread\n",
    "    - threading.Lock\n",
    "### 15. ``multiprocessing`` (다중 프로세스 처리)\n",
    "    - multiprocessing.Process\n",
    "    - multiprocessing.Queue"
   ]
  },
  {
   "cell_type": "code",
   "execution_count": null,
   "metadata": {},
   "outputs": [],
   "source": [
    "import functools  # 함수형 프로그래밍을 지원하는 유틸리티 제공\n",
    "# 1. 캐싱\n",
    "@functools.lru_cache(maxsize=None)  # 결과를 메모리에 저장하여 성능 향상\n",
    "def expensive_function(x):\n",
    "    return x * x  # 입력 x의 제곱을 계산\n",
    "# 2. 부분 적용\n",
    "add_five = functools.partial(lambda x, y: x + y, 5)  # 두 번째 인수 y를 고정하여 5를 더하는 함수 생성\n",
    "# 3. 누적\n",
    "result = functools.reduce(lambda x, y: x + y, [1, 2, 3, 4])  # 리스트의 모든 요소를 더하여 단일 값으로 변환\n",
    "# 4. 정렬 키 변환\n",
    "sorted_data = sorted([('apple', 2), ('banana', 1), ('cherry', 3)],\n",
    "                     key=functools.cmp_to_key(lambda x, y: x[1] - y[1]))  # 두 번째 요소(숫자)를 기준으로 정렬\n",
    "# 5. 전체 주문 생성\n",
    "@functools.total_ordering  # 일부 비교 연산만으로 나머지 연산 자동 생성\n",
    "class MyNumber:\n",
    "    def __init__(self, value):\n",
    "        self.value = value  # 값 초기화\n",
    "    def __eq__(self, other):\n",
    "        return self.value == other.value  # 동등 비교\n",
    "    def __lt__(self, other):\n",
    "        return self.value < other.value  # 크기 비교"
   ]
  },
  {
   "cell_type": "markdown",
   "metadata": {},
   "source": [
    "### 16. ``urllib.request`` (웹 스크래핑)"
   ]
  },
  {
   "cell_type": "code",
   "execution_count": null,
   "metadata": {},
   "outputs": [],
   "source": [
    "import requests  # HTTP 요청을 위한 라이브러리\n",
    "\n",
    "# 1. 기본 요청\n",
    "response = requests.get(\"https://example.com\")  # GET 요청\n",
    "response = requests.post(\"https://example.com\", data={\"key\": \"value\"})  # POST 요청\n",
    "response = requests.put(\"https://example.com\", data={\"key\": \"value\"})  # PUT 요청\n",
    "response = requests.delete(\"https://example.com\")  # DELETE 요청\n",
    "\n",
    "# 2. 응답 처리\n",
    "status_code = response.status_code  # 응답 상태 코드\n",
    "text = response.text  # 응답 본문 (텍스트)\n",
    "json_data = response.json()  # 응답 본문 (JSON)으로 변환\n",
    "headers = response.headers  # 응답 헤더\n",
    "\n",
    "# 3. 요청 파라미터\n",
    "params = {'param1': 'value1', 'param2': 'value2'}  # URL 쿼리 파라미터\n",
    "response = requests.get(\"https://example.com\", params=params)  # GET 요청에 파라미터 추가\n",
    "\n",
    "# 4. 헤더 설정\n",
    "headers = {'User-Agent': 'my-app'}  # 사용자 정의 헤더\n",
    "response = requests.get(\"https://example.com\", headers=headers)  # 사용자 정의 헤더 추가\n",
    "\n",
    "# 5. 예외 처리\n",
    "try:\n",
    "    response = requests.get(\"https://example.com\")\n",
    "    response.raise_for_status()  # HTTP 오류 발생 시 예외 발생\n",
    "except requests.exceptions.RequestException as e:\n",
    "    print(\"요청 오류:\", e)\n",
    "\n",
    "# 6. 세션 관리\n",
    "session = requests.Session()  # 세션 시작\n",
    "response = session.get(\"https://example.com\")  # 세션을 통해 요청\n",
    "session.close()  # 세션 종료\n",
    "\n",
    "# 7. 타임아웃 설정\n",
    "response = requests.get(\"https://example.com\", timeout=5)  # 타임아웃 설정 (5초)\n",
    "\n",
    "# 8. 크롤링을 위한 반복 요청\n",
    "for i in range(1, 6):\n",
    "    response = requests.get(f\"https://example.com/page/{i}\")  # 여러 페이지 크롤링\n",
    "    print(response.text)  # 각 페이지의 응답 출력\n",
    "\n",
    "# 9. 인증\n",
    "response = requests.get(\"https://example.com\", auth=('username', 'password'))  # 기본 인증\n",
    "\n",
    "# 10. 파일 다운로드\n",
    "response = requests.get(\"https://example.com/file.zip\", stream=True)  # 파일 다운로드\n",
    "with open('file.zip', 'wb') as f:\n",
    "    f.write(response.content)  # 파일 저장\n",
    "\n",
    "# 11. JSON 데이터 전송\n",
    "json_data = {\"key\": \"value\"}\n",
    "response = requests.post(\"https://example.com\", json=json_data)  # JSON 데이터 POST 전송\n",
    "\n",
    "# 12. 쿠키 처리\n",
    "response = requests.get(\"https://example.com\")\n",
    "cookies = response.cookies  # 응답에서 쿠키 가져오기\n",
    "response = requests.get(\"https://example.com\", cookies=cookies)  # 쿠키를 사용한 요청\n",
    "\n",
    "# 13. 리다이렉션\n",
    "response = requests.get(\"https://example.com\", allow_redirects=True)  # 리다이렉션 허용\n",
    "\n",
    "# 14. SSL 검증 비활성화\n",
    "response = requests.get(\"https://example.com\", verify=False)  # SSL 검증 비활성화\n",
    "\n",
    "# 15. 파일 업로드\n",
    "files = {'file': open('file.txt', 'rb')}  # 업로드할 파일\n",
    "response = requests.post(\"https://example.com/upload\", files=files)  # 파일 업로드\n",
    "\n",
    "# 16. HTTP 메서드의 사용\n",
    "response = requests.request(\"GET\", \"https://example.com\")  # 일반적인 HTTP 메서드 사용\n",
    "\n",
    "# 17. 응답 스트림 처리\n",
    "response = requests.get(\"https://example.com\", stream=True)  # 응답을 스트림으로 처리\n",
    "for chunk in response.iter_content(chunk_size=1024):  # 청크 단위로 응답 본문 읽기\n",
    "    print(chunk)\n",
    "\n",
    "# 18. 사용자 정의 예외 처리\n",
    "class CustomRequestException(Exception):\n",
    "    pass\n",
    "\n",
    "try:\n",
    "    response = requests.get(\"https://example.com\")\n",
    "    if response.status_code != 200:\n",
    "        raise CustomRequestException(\"Custom error: Not a successful response\")\n",
    "except CustomRequestException as e:\n",
    "    print(e)"
   ]
  },
  {
   "cell_type": "markdown",
   "metadata": {},
   "source": [
    "## 3. 외부 라이브러리"
   ]
  },
  {
   "cell_type": "markdown",
   "metadata": {},
   "source": [
    "파이썬 커뮤니티에서 개발된 라이브러리 : 특정분야 기능을 확장하거나 편의성 증대에 사용  \n",
    "pip를 통해 설치가능  "
   ]
  },
  {
   "cell_type": "markdown",
   "metadata": {},
   "source": [
    "## 4. 프레임워크"
   ]
  },
  {
   "cell_type": "markdown",
   "metadata": {},
   "source": [
    "응용프로그램 구현의 표준구조, 대규모 라이브러리 세트  \n",
    "애플리케이션 개발 시 필수코드, 알고리즘, DB연동 등 기능들을 위해 정해진 구조 제공  "
   ]
  },
  {
   "cell_type": "markdown",
   "metadata": {},
   "source": [
    "### Python 프레임워크의 종류"
   ]
  },
  {
   "cell_type": "markdown",
   "metadata": {},
   "source": [
    "1. 웹 개발  \n",
    "Django: 대규모 웹 애플리케이션 개발에 적합, 강력한 기능과 확장성 제공.  \n",
    "Flask: 마이크로 웹 프레임워크로, 유연하고 간단한 구조.  \n",
    "FastAPI: 비동기 웹 프레임워크로, 빠른 API 개발에 적합.  \n",
    "Tornado: 비동기 네트워크 라이브러리로, 실시간 웹 애플리케이션에 적합.  \n",
    "2. 데이터 과학  \n",
    "TensorFlow: 딥러닝 모델 개발에 가장 널리 사용되는 프레임워크.  \n",
    "하위 모듈: Keras, tf.data 등.  \n",
    "PyTorch: 유연하고 직관적인 딥러닝 모델 개발에 적합.  \n",
    "하위 모듈: torch.nn, torch.optim 등.  \n",
    "Scikit-learn: 다양한 머신러닝 알고리즘 제공, 분류/회귀/클러스터링 수행.  \n",
    "Pandas: 데이터 조작 및 분석을 위한 강력한 데이터 구조.  \n",
    "NumPy: 수치 계산 및 배열 처리의 기본 라이브러리.  \n",
    "Matplotlib: 2D 데이터 시각화 라이브러리.  \n",
    "Seaborn: 통계적 데이터 시각화를 위한 라이브러리.  \n",
    "3. GUI 프레임워크  \n",
    "Tkinter: 파이썬의 기본 GUI 라이브러리, 간단한 데스크탑 애플리케이션 제작.  \n",
    "PyQt / PySide: Qt 프레임워크 기반의 파이썬 바인딩, 복잡한 GUI 애플리케이션 제작 가능.  \n",
    "Kivy: 멀티터치 애플리케이션을 위한 오픈 소스 라이브러리, 크로스 플랫폼 지원.  \n",
    "wxPython: 다양한 플랫폼에서 사용할 수 있는 GUI 애플리케이션 개발을 위한 라이브러리.  \n",
    "4. 데이터베이스  \n",
    "SQLAlchemy: 파이썬 SQL 툴킷 및 객체 관계 매핑(ORM) 라이브러리.  \n",
    "Django ORM: Django 프레임워크 내장 ORM으로, 데이터베이스 작업을 간편하게 처리.  \n",
    "5. 네트워킹  \n",
    "Requests: HTTP 요청을 쉽게 처리할 수 있는 라이브러리.  \n",
    "Socket: 저수준 네트워킹 인터페이스를 제공하는 내장 라이브러리.  \n",
    "6. 웹 스크래핑  \n",
    "Beautiful Soup: HTML/XML 파싱을 위한 라이브러리.  \n",
    "Scrapy: 웹 크롤링 및 스크래핑을 위한 프레임워크.  \n",
    "7. 과학적 계산  \n",
    "SciPy: 과학적 계산을 위한 라이브러리로, 고급 수치 계산 기능 제공.  \n",
    "SymPy: 기호 수학을 위한 파이썬 라이브러리.  \n",
    "8. 자동화 및 스크립팅  \n",
    "Selenium: 웹 브라우저 자동화를 위한 라이브러리.  \n",
    "PyAutoGUI: GUI 자동화를 위한 라이브러리.  \n",
    "9. 게임 개발  \n",
    "Pygame: 게임 개발을 위한 라이브러리로, 2D 게임 제작에 유용.  \n",
    "10. 머신러닝 및 인공지능  \n",
    "XGBoost: 효율적이고 강력한 부스팅 알고리즘 구현.  \n",
    "LightGBM: 빠르고 효율적인 그라디언트 부스팅 프레임워크.  "
   ]
  },
  {
   "cell_type": "markdown",
   "metadata": {},
   "source": [
    "---\n",
    "# Numpy 라이브러리\n",
    "---"
   ]
  },
  {
   "cell_type": "markdown",
   "metadata": {},
   "source": [
    "- ndarray (다차원 배열)\n",
    "- linear algebra (선형대수 연산)\n",
    "- random (난수 생성)\n",
    "\n",
    "주요 기능: 수치 계산의 기반, 선형대수 연산, 난수 생성 등  \n",
    "활용 분야: 데이터 분석, 머신러닝, 과학 계산 등  "
   ]
  },
  {
   "cell_type": "markdown",
   "metadata": {},
   "source": [
    "# 판다스(pandas)"
   ]
  },
  {
   "cell_type": "markdown",
   "metadata": {},
   "source": [
    "- 핵심 모듈: Series (1차원 배열), DataFrame (2차원 테이블)\n",
    "- 주요 기능: 데이터 구조, 데이터 분석, 데이터 조작\n",
    "- 활용 분야: 데이터 분석, 데이터 전처리, 시계열 분석 등"
   ]
  },
  {
   "cell_type": "code",
   "execution_count": null,
   "metadata": {},
   "outputs": [],
   "source": [
    "pandas/\n",
    "├── pandas/                        # 1 - 주요 패키지 디렉토리\n",
    "│   ├── __init__.py                # 1.1 - 패키지 초기화, 필수 파일\n",
    "│   ├── _config.py                 # 1.2 - 구성 파일\n",
    "│   ├── _libs/                     # 2 - C 확장 모듈\n",
    "│   │   ├── __init__.py            # 2.1 - C 라이브러리 초기화\n",
    "│   │   ├── lib.cpython-*.so       # 2.2 - C 확장 모듈\n",
    "│   ├── _tslib.py                  # 2.3 - 타임스탬프 관련 C 확장 모듈\n",
    "│   ├── _typing.py                 # 2.4 - 타입 힌트 관련 기능\n",
    "│   ├── api/                       # 3 - 공개 API\n",
    "│   │   ├── __init__.py            # 3.1 - API 초기화\n",
    "│   │   ├── types.py               # 3.2 - 데이터 타입 관련\n",
    "│   ├── arrays/                    # 4 - 배열 관련\n",
    "│   │   ├── __init__.py            # 4.1 - 배열 초기화\n",
    "│   │   ├── categorical.py         # 4.2 - 범주형 데이터 배열\n",
    "│   │   └── extension.py           # 4.3 - 확장 배열\n",
    "│   ├── core/                      # 5 - 핵심 데이터 구조\n",
    "│   │   ├── __init__.py            # 5.1 - 코어 초기화\n",
    "│   │   ├── algorithms.py          # 5.2 - 알고리즘\n",
    "│   │   ├── construction.py        # 5.3 - 데이터 구조 생성\n",
    "│   │   ├── generic.py             # 5.4 - 일반적인 데이터 구조\n",
    "│   │   ├── internals/             # 5.5 - 내부 데이터 구조\n",
    "│   │   ├── ops/                   # 5.6 - 데이터 연산\n",
    "│   │   └── reshaping.py           # 5.7 - 데이터 변형\n",
    "│   ├── io/                        # 6 - 입력/출력 기능\n",
    "│   │   ├── __init__.py            # 6.1 - IO 초기화\n",
    "│   │   ├── excel.py               # 6.2 - Excel 파일 처리\n",
    "│   │   ├── feather_format.py      # 6.3 - Feather 파일 처리\n",
    "│   │   ├── json.py                # 6.4 - JSON 파일 처리\n",
    "│   │   ├── parquet.py             # 6.5 - Parquet 파일 처리\n",
    "│   │   ├── sql.py                 # 6.6 - SQL 데이터베이스 처리\n",
    "│   │   ├── clipboard.py           # 6.7 - 클립보드 데이터 처리\n",
    "│   │   └── html.py                # 6.8 - HTML 파일 처리\n",
    "│   ├── plotting/                  # 7 - 시각화 관련\n",
    "│   │   ├── __init__.py            # 7.1 - 시각화 초기화\n",
    "│   │   ├── _core.py               # 7.2 - 시각화 핵심\n",
    "│   │   ├── backend/               # 7.3 - 시각화 백엔드\n",
    "│   │   └── tools/                 # 7.4 - 시각화 도구\n",
    "│   ├── tseries/                   # 8 - 시계열 관련\n",
    "│   │   ├── __init__.py            # 8.1 - 시계열 초기화\n",
    "│   │   ├── offsets.py             # 8.2 - 시계열 오프셋\n",
    "│   │   └── periods.py             # 8.3 - 시계열 기간\n",
    "│   ├── util/                      # 9 - 유틸리티 함수\n",
    "│   │   ├── __init__.py            # 9.1 - 유틸리티 초기화\n",
    "│   │   ├── hash.py                # 9.2 - 해시 관련 기능\n",
    "│   │   └── testing.py             # 9.3 - 테스트 관련 유틸리티\n",
    "│   └── __init__.py                # 10 - 패키지 초기화\n",
    "└── tests/                         # 11 - 패키지 전체 테스트\n",
    "    ├── __init__.py                # 11.1 - 테스트 초기화\n",
    "    ├── test_api.py                # 11.2 - API 테스트\n",
    "    ├── test_arrays.py             # 11.3 - 배열 테스트\n",
    "    ├── test_core.py               # 11.4 - 코어 기능 테스트\n",
    "    ├── test_io.py                 # 11.5 - IO 기능 테스트\n",
    "    ├── test_plotting.py           # 11.6 - 시각화 테스트\n",
    "    └── test_tseries.py            # 11.7 - 시계열 테스트\n"
   ]
  },
  {
   "cell_type": "markdown",
   "metadata": {},
   "source": [
    "# Matplotlib"
   ]
  },
  {
   "cell_type": "code",
   "execution_count": 1,
   "metadata": {},
   "outputs": [],
   "source": [
    "import matplotlib.pyplot as plt\n",
    "import numpy as np"
   ]
  },
  {
   "cell_type": "code",
   "execution_count": null,
   "metadata": {},
   "outputs": [],
   "source": [
    "matplotlib/\n",
    "├── matplotlib/                     # 주요 패키지 디렉토리\n",
    "│   ├── __init__.py                 # 패키지 초기화, 필수 파일\n",
    "│   ├── pyplot.py                   # MATLAB 스타일의 플로팅 API\n",
    "│   ├── backend_bases.py            # 백엔드 관련 기본 클래스\n",
    "│   ├── backend_tools.py            # 백엔드 도구\n",
    "│   ├── backend_webagg.py           # 웹 백엔드\n",
    "│   ├── backends/                   # 다양한 백엔드 구현\n",
    "│   │   ├── __init__.py             # 백엔드 패키지 초기화\n",
    "│   │   ├── backend_gtk3.py         # GTK3 백엔드\n",
    "│   │   ├── backend_gtk3agg.py      # GTK3 백엔드와 Agg 렌더링\n",
    "│   │   └── backend_tkagg.py        # Tkinter 백엔드와 Agg 렌더링\n",
    "│   ├── axes.py                     # Axes 클래스 및 관련 기능\n",
    "│   ├── axes3d.py                   # 3D Axes 클래스\n",
    "│   ├── collections.py              # 컬렉션 관련 클래스\n",
    "│   ├── colors.py                   # 색상 관련 기능\n",
    "│   ├── cbook.py                    # 유틸리티 및 공통 기능\n",
    "│   ├── dates.py                    # 날짜 관련 기능\n",
    "│   ├── figure.py                   # Figure 클래스 및 관련 기능\n",
    "│   ├── gridspec.py                 # 그리드 스펙 기능\n",
    "│   ├── legend.py                   # 범례 관련 기능\n",
    "│   ├── lines.py                    # 선 관련 기능\n",
    "│   ├── markers.py                  # 마커 관련 기능\n",
    "│   ├── mathtext.py                 # 수학 텍스트 처리\n",
    "│   ├── patches.py                  # 패치 객체\n",
    "│   ├── text.py                     # 텍스트 관련 기능\n",
    "│   ├── style/                      # 스타일 관련 설정\n",
    "│   ├── stylelib/                   # 사용자 정의 스타일 시트\n",
    "│   ├── test/                       # 테스트 코드\n",
    "│   ├── _pylab_helpers.py           # pylab helpers\n",
    "│   └── _doc/                       # 문서 관련 파일\n",
    "└── tests/                          # 패키지 전체 테스트 디렉토리"
   ]
  },
  {
   "cell_type": "markdown",
   "metadata": {},
   "source": [
    "- 핵심 모듈: pyplot (플롯 생성), pylab (MATLAB 스타일 인터페이스)\n",
    "- 주요 기능: 데이터 시각화\n",
    "- 활용 분야: 데이터 분석, 결과 시각화, 발표 자료 제작 등"
   ]
  },
  {
   "cell_type": "markdown",
   "metadata": {},
   "source": [
    "### 1. 기본 구성 요소\n",
    "- **Figure**: 전체 플롯의 기반이 되는 객체. 여러개의 Axes를 포함하는 캔버스.\n",
    "- **Axes**: 데이터 시각화 영역, X축과 Y축을 포함\n",
    "- **Plot**: Axes내에서 데이터를 시각화하는 작업\n",
    "- **Artist**: 플롯의 모든 요소(선, 텍스트, 축 등)."
   ]
  },
  {
   "cell_type": "code",
   "execution_count": null,
   "metadata": {},
   "outputs": [],
   "source": [
    "# Figure 생성\n",
    "fig = plt.figure(figsize=(12, 10))\n",
    "\n",
    "# 데이터 생성\n",
    "x = np.linspace(0, 10, 100)\n",
    "y1 = np.sin(x)\n",
    "y2 = np.cos(x)\n",
    "y3 = np.tan(x)\n",
    "y4 = np.random.rand(10) * 10  # 무작위 데이터\n",
    "\n",
    "# 첫 번째 Axes (선 그래프)\n",
    "ax1 = fig.add_subplot(221)\n",
    "ax1.plot(x, y1, label='Sine', color='blue')\n",
    "ax1.plot(x, y2, label='Cosine', color='orange')\n",
    "ax1.set_title('Sine and Cosine Waves')\n",
    "ax1.set_xlabel('X-axis')\n",
    "ax1.set_ylabel('Y-axis')\n",
    "ax1.axhline(0, color='black', lw=0.5, ls='--')  # X축 기준선\n",
    "ax1.axvline(0, color='black', lw=0.5, ls='--')  # Y축 기준선\n",
    "ax1.legend()\n",
    "ax1.grid()\n",
    "\n",
    "# 두 번째 Axes (막대 그래프)\n",
    "ax2 = fig.add_subplot(222)\n",
    "categories = ['A', 'B', 'C', 'D']\n",
    "values = [3, 7, 2, 5]\n",
    "ax2.bar(categories, values, color='green')\n",
    "ax2.set_title('Bar Graph Example')\n",
    "ax2.set_xlabel('Categories')\n",
    "ax2.set_ylabel('Values')\n",
    "ax2.text(0, 3, '3', ha='center', va='bottom')  # 텍스트 추가\n",
    "ax2.text(1, 7, '7', ha='center', va='bottom')\n",
    "ax2.text(2, 2, '2', ha='center', va='bottom')\n",
    "ax2.text(3, 5, '5', ha='center', va='bottom')\n",
    "ax2.grid()\n",
    "\n",
    "# 세 번째 Axes (산점도)\n",
    "ax3 = fig.add_subplot(223)\n",
    "ax3.scatter(x, y1, label='Sine Points', color='red', alpha=0.5)\n",
    "ax3.scatter(x, y2, label='Cosine Points', color='purple', alpha=0.5)\n",
    "ax3.set_title('Scatter Plot Example')\n",
    "ax3.set_xlabel('X-axis')\n",
    "ax3.set_ylabel('Y-axis')\n",
    "ax3.legend(loc='upper right')\n",
    "ax3.grid()\n",
    "\n",
    "# 네 번째 Axes (히스토그램)\n",
    "ax4 = fig.add_subplot(224)\n",
    "ax4.hist(y4, bins=5, color='cyan', alpha=0.7)\n",
    "ax4.set_title('Histogram Example')\n",
    "ax4.set_xlabel('Value')\n",
    "ax4.set_ylabel('Frequency')\n",
    "ax4.grid()\n",
    "# Axes 생성: 데이터 시각화 영역, X축과 Y축을 포함 plot행렬\n",
    "ax = fig.add_subplot(111)  # 1행 1열의 첫 번째 Axes 생성\n",
    "# Artist: 플롯의 모든 요소\n",
    "line, = ax.plot([1, 2, 3], [4, 5, 6], label='Line')  # Line Artist\n",
    "# 축 레이블 및 제목 설정\n",
    "ax.set_xlabel('X-axis Label')  # X축 레이블\n",
    "ax.set_ylabel('Y-axis Label')  # Y축 레이블\n",
    "ax.set_title('Basic Components of Matplotlib')  # 제목\n",
    "# 텍스트 추가\n",
    "ax.text(2, 5, 'Point of Interest', fontsize=12)  # Text Artist\n",
    "# 범례 추가\n",
    "ax.legend()  # 범례 표시\n",
    "# 그래프 표시\n",
    "plt.show()"
   ]
  },
  {
   "cell_type": "markdown",
   "metadata": {},
   "source": [
    "### 2. 기본 플롯 만들기\n",
    "- **선 그래프**: `plt.plot(x, y)`로 생성.\n",
    "- **산점도**: `plt.scatter(x, y)`로 데이터 포인트 시각화.\n",
    "- **바 차트**: `plt.bar(x, height)`로 카테고리별 데이터 표현.\n",
    "- **히스토그램**: `plt.hist(data)`로 데이터 분포 시각화."
   ]
  },
  {
   "cell_type": "markdown",
   "metadata": {},
   "source": [
    "### 3. 플롯의 커스터마이징\n",
    "- **제목 설정**: `plt.title(\"제목\")`으로 제목 추가.\n",
    "- **축 레이블 설정**: `plt.xlabel(\"X축 이름\")`, `plt.ylabel(\"Y축 이름\")`으로 레이블 추가.\n",
    "- **범례 추가**: `plt.legend()`로 데이터 세트 구분.\n",
    "- **스타일 변경**:\n",
    "  - 색상: `color` 매개변수로 지정.\n",
    "  - 선 스타일: `linestyle` 매개변수로 지정.\n",
    "  - 마커 스타일: `marker` 매개변수로 지정."
   ]
  },
  {
   "cell_type": "markdown",
   "metadata": {},
   "source": [
    "### 4. 복합 그래프\n",
    "- **여러 Axes 사용하기**: 복합적인 시각화 가능.\n",
    "- **서브플롯 만들기**: `plt.subplots(nrows, ncols)`로 생성.\n",
    "- **다양한 그래프 결합하기**: 예를 들어, 선 그래프와 바 차트를 동시에 그리기."
   ]
  },
  {
   "cell_type": "markdown",
   "metadata": {},
   "source": [
    "### 5. 고급 기능\n",
    "- **애니메이션**: `FuncAnimation` 클래스를 사용하여 동적 시각화.\n",
    "- **3D 플롯**: `mpl_toolkits.mplot3d` 모듈로 3D 그래프 생성.\n",
    "- **이미지 표시**: `plt.imshow()`로 이미지 시각화."
   ]
  },
  {
   "cell_type": "markdown",
   "metadata": {},
   "source": [
    "### 6. 저장 및 출력\n",
    "- **파일로 저장하기**: `plt.savefig(\"파일이름.png\")`로 다양한 형식으로 저장.\n",
    "  - PNG, JPG, PDF 등 다양한 형식 지원.\n",
    "- **출력 옵션**: DPI, 크기 설정으로 출력 품질 조정."
   ]
  },
  {
   "cell_type": "markdown",
   "metadata": {},
   "source": [
    "- legend(범례): 라틴어 'legenda'읽혀져야 할 것들\n",
    "    그래프에 표시된 데이터 시리즈의 설명을 제공하는 작은 상자\n",
    "    각 데이터 시리즈에 대해 무슨 색/스타일이 사용되었는지 설명\n",
    "- label(레이블): 축 레이블(x/y축)과 그래프의 제목\n",
    "    그래프의 각 축에 표시된 데이터의 의미를 설명\n",
    "- annotate(어노테이트): 그래프의 특정 지점을 강조/설명하기 위해 텍스트를 추가\n",
    "- grid(그리드): 평행선이나 직교선, 그래프의 배경에 그리드를 추가\n",
    "\n",
    "- alpha(알파값): 그래프의 요소의 투명도를 조절하는 값. 0~1 사이값으로 0은 투명 1은 불투명\n",
    "- marker(마커): 각 데이터 포인트를 표시하는 기호 지정, (원,삼각형,사각형 등) 사용가능\n",
    "- dict(딕셔너리): 텍스트 주석을 추가할 때 arrowrops와 같은 옵션에 딕셔너리 사용가능\n",
    "    `추가적인 중요 정보나 설정 적용`할 때 딕셔너리 사용.\n",
    "     annotate()함수에서 화살표나 텍스트 스타일을 지정할 때 유용 "
   ]
  },
  {
   "cell_type": "markdown",
   "metadata": {},
   "source": [
    "### colab 한글폰트 설치/설정"
   ]
  },
  {
   "cell_type": "code",
   "execution_count": null,
   "metadata": {},
   "outputs": [],
   "source": [
    "# 나눔 글꼴 폰트 설치\n",
    "!apt -get --qq -y install fonts-nanum\n",
    "# 런타임 재시작(colab메뉴에서 런타임 재시작)\n",
    "import numpy as np\n",
    "import matplotlib.pyplot as plt\n",
    "import matplotlib.font_manager as fm\n",
    "# 나눔글꼴 경로 설정\n",
    "font_path = '/user/share/fonts/truetype/nanum/NanumBarunGothic.ttf' # 경로지정\n",
    "font_prop = fm.FontProperties(fname=font_path, size=12) #폰트속성설정 객체생성,한글폰트설정용?\n",
    "\n",
    "# 데이터 생성\n",
    "x = np.linspace(0, 10, 100) # np.linspace():0,10 사이를 100등분하여 x좌표 생성\n",
    "y = 2*x + 3 # 방정식대로 y좌표 계산\n",
    "\n",
    "# 그래프 그리기\n",
    "plt.figure(figsize = (10, 5)) # 그래프 크기 설정(기본인치, 화면마다 달라서 가로세로 비율)\n",
    "plt.plot(x, y, label = '직선 그래프', color='red', linestyle='--', linewidth=2, marker='o', markersize=8)\n",
    "# label: 범례 레이블 텍스트/color : 선 색상/linestyle : 선 스타일/linewidth : 선 두께/marker : 마커모양/markersize : 마커크기\n",
    "plt.title('빨간색 긴 직선 그래프', fontproperties=font_prop, fontsize=16, fontweight='bold')\n",
    "# 제목 설정, fontproperties : 한글폰트 적용/fontsize : 폰트크기/fontweight : 폰트굵기\n",
    "plt.xlabel('X축(매출 원가)', fontproperties=font_prop, font_size=14)\n",
    "# X축 라벨 설정, fontproperties: 한글폰트 적용, fontsize : 폰트크기\n",
    "plt.xlabel('Y축(매출 금액)', fontproperties=font_prop, font_size=14)\n",
    "# Y축 라벨 설정, fontproperties: 한글폰트 적용, fontsize : 폰트크기\n",
    "# Axes.plot(*args, scalex=True, scaley=True, data=None, **kwargs)\n",
    "plt.legend(loc='upper left', prop=font_prop, fontsize=12)\n",
    "# 범례 설정, loc: 범례 위치, prop: 한글 폰트 적용, fontsizeL폰트 크기\n",
    "plt.grid(True, linestyle='--', alpha=0.7)\n",
    "# 그리드 설정, linstyle: 그리드 스타일, alpha: 그리드 투명도\n",
    "plt.annotate('점 (5, 13)', xy=(5, 13), xytext=(6,15), arrowprops=dict(facecolor='black', arrowstyle='->')), fontproperties=font_prop, fontsize=12\n",
    "# -> 주석 추가, xy: 주석을 추가할 점의 좌표, xytext: 주석 텍스트 위치,\n",
    "# arrowprops: 화살 스타일, fontproperties: 한글 폰트 적용, fontsize: 폰트 크기\n",
    "plt.tight_layout() # 그래프 요소가 잘리지 않도록 레이아웃 조정\n",
    "plt.show()"
   ]
  },
  {
   "cell_type": "markdown",
   "metadata": {},
   "source": [
    "# Seaborn"
   ]
  },
  {
   "cell_type": "code",
   "execution_count": null,
   "metadata": {},
   "outputs": [],
   "source": [
    "import seaborn as sns\n",
    "import matplotlib.pyplot as plt\n",
    "# 1. 주요 상수\n",
    "# Seaborn의 스타일 옵션: 'darkgrid', 'whitegrid', 'dark', 'white', 'ticks'\n",
    "sns.set_style(\"whitegrid\")  # 배경 스타일 설정\n",
    "# Seaborn의 색상 팔레트\n",
    "# Seaborn은 다양한 색상 팔레트를 지원하며, 기본 팔레트와 커스터마이즈된 팔레트를 제공\n",
    "palette = sns.color_palette(\"husl\", 8)  # 'husl' 팔레트 사용, 8개의 색상\n",
    "# 2. 주요 메서드\n",
    "\n",
    "sns.get_dataset_names()  # 내장 데이터셋 이름을 리스트로 반환\n",
    "data = sns.load_dataset(\"iris\")  # iris 데이터셋 로드\n",
    "# 2.3. scatterplot: 산점도 플롯\n",
    "# 주요 인수: x, y, hue, style, size, palette, markers, data\n",
    "sns.scatterplot(\n",
    "    data=data, \n",
    "    x=\"sepal_length\", \n",
    "    y=\"sepal_width\", \n",
    "    hue=\"species\",  # 색상별 그룹화\n",
    "    palette=palette,  # 색상 팔레트\n",
    "    style=\"species\",  # 스타일별 그룹화\n",
    "    size=\"species\"  # 크기별 그룹화\n",
    ")\n",
    "plt.title(\"Scatterplot of Sepal Length vs Sepal Width\")  # 플롯 제목 추가\n",
    "plt.show()  # 플롯 출력\n",
    "\n",
    "# 2.4. lineplot: 선 그래프\n",
    "# 주요 인수: x, y, hue, style, size, palette, data\n",
    "sns.lineplot(\n",
    "    data=data, \n",
    "    x=\"sepal_length\", \n",
    "    y=\"sepal_width\", \n",
    "    hue=\"species\",  # 색상별 그룹화\n",
    "    palette=palette,  # 색상 팔레트\n",
    "    style=\"species\",  # 스타일별 그룹화\n",
    "    size=\"species\"  # 크기별 그룹화\n",
    ")\n",
    "plt.title(\"Lineplot of Sepal Length vs Sepal Width\")  # 플롯 제목 추가\n",
    "plt.show()  # 플롯 출력\n",
    "\n",
    "# 2.5. barplot: 막대 그래프\n",
    "# 주요 인수: x, y, hue, estimator, ci, palette, data\n",
    "sns.barplot(\n",
    "    data=data, \n",
    "    x=\"species\", \n",
    "    y=\"sepal_length\", \n",
    "    hue=\"species\",  # 색상별 그룹화\n",
    "    palette=palette,  # 색상 팔레트\n",
    "    estimator=sum,  # 집계 함수 (기본값은 평균)\n",
    "    ci=None  # 신뢰 구간 표시 여부\n",
    ")\n",
    "plt.title(\"Barplot of Sepal Length by Species\")  # 플롯 제목 추가\n",
    "plt.show()  # 플롯 출력\n",
    "\n",
    "# 2.6. histplot: 히스토그램\n",
    "# 주요 인수: x, y, hue, multiple, bins, kde, palette, data\n",
    "sns.histplot(\n",
    "    data=data, \n",
    "    x=\"sepal_length\", \n",
    "    hue=\"species\",  # 색상별 그룹화\n",
    "    palette=palette,  # 색상 팔레트\n",
    "    multiple=\"stack\",  # 히스토그램을 스택 형식으로 표시\n",
    "    bins=20,  # 히스토그램의 빈 개수\n",
    "    kde=True  # 커널 밀도 추정 추가\n",
    ")\n",
    "plt.title(\"Histogram of Sepal Length\")  # 플롯 제목 추가\n",
    "plt.show()  # 플롯 출력\n",
    "\n",
    "# 2.7. pairplot: 페어 플롯\n",
    "# 주요 인수: hue, palette, markers, diag_kind, plot_kws\n",
    "sns.pairplot(\n",
    "    data, \n",
    "    hue=\"species\",  # 색상별 그룹화\n",
    "    palette=palette,  # 색상 팔레트\n",
    "    markers=[\"o\", \"s\", \"D\"],  # 마커 스타일\n",
    "    diag_kind=\"kde\"  # 대각선 그래프 유형 ('hist' 또는 'kde')\n",
    ")\n",
    "plt.title(\"Pairplot of Iris Dataset\")  # 플롯 제목 추가\n",
    "plt.show()  # 플롯 출력\n",
    "\n",
    "# 2.8. heatmap: 히트맵\n",
    "# 주요 인수: data, annot, cmap, center, linewidths, linecolor\n",
    "sns.heatmap(\n",
    "    data.corr(),  # 상관 행렬\n",
    "    annot=True,  # 셀에 값 주석 추가\n",
    "    cmap=\"coolwarm\",  # 색상 맵\n",
    "    center=0,  # 중심값 설정\n",
    "    linewidths=0.5,  # 셀 간의 선 너비\n",
    "    linecolor='gray'  # 셀 간의 선 색상\n",
    ")\n",
    "plt.title(\"Heatmap of Correlation Matrix\")  # 플롯 제목 추가\n",
    "plt.show()  # 플롯 출력\n",
    "\n",
    "# 2.9. lmplot: 회귀 플롯\n",
    "# 주요 인수: x, y, hue, palette, markers, scatter, line_kws\n",
    "sns.lmplot(\n",
    "    data=data, \n",
    "    x=\"sepal_length\", \n",
    "    y=\"sepal_width\", \n",
    "    hue=\"species\",  # 색상별 그룹화\n",
    "    palette=palette,  # 색상 팔레트\n",
    "    markers=[\"o\", \"s\", \"D\"],  # 마커 스타일\n",
    "    scatter=True,  # 산점도 표시 여부\n",
    "    line_kws={\"color\": \"red\", \"linewidth\": 2}  # 회귀선 색상 및 두께\n",
    ")\n",
    "plt.title(\"Regression Plot of Sepal Length vs Sepal Width\")  # 플롯 제목 추가\n",
    "plt.show()  # 플롯 출력\n",
    "\n",
    "# 2.10. violinplot: 바이올린 플롯\n",
    "# 주요 인수: x, y, hue, palette, scale, inner\n",
    "sns.violinplot(\n",
    "    data=data, \n",
    "    x=\"species\", \n",
    "    y=\"sepal_length\", \n",
    "    hue=\"species\",  # 색상별 그룹화\n",
    "    palette=palette,  # 색상 팔레트\n",
    "    scale=\"area\",  # 스케일 옵션 ('area', 'count', 'width')\n",
    "    inner=\"quartile\"  # 내부 표시 ('box', 'quartile', 'point', 'stick')\n",
    ")\n",
    "plt.title(\"Violin Plot of Sepal Length by Species\")  # 플롯 제목 추가\n",
    "plt.show()  # 플롯 출력\n",
    "\n",
    "# 2.11. boxplot: 박스 플롯\n",
    "# 주요 인수: x, y, hue, palette, showfliers, notch\n",
    "sns.boxplot(\n",
    "    data=data, \n",
    "    x=\"species\", \n",
    "    y=\"sepal_length\", \n",
    "    hue=\"species\",  # 색상별 그룹화\n",
    "    palette=palette,  # 색상 팔레트\n",
    "    showfliers=True,  # 이상치 표시 여부\n",
    "    notch=False  # 박스의 노치 여부\n",
    ")\n",
    "plt.title(\"Box Plot of Sepal Length by Species\")  # 플롯 제목 추가\n",
    "plt.show()  # 플롯 출력"
   ]
  },
  {
   "cell_type": "code",
   "execution_count": null,
   "metadata": {},
   "outputs": [],
   "source": [
    "seaborn/ # 데이터 시각화 라이브러리 # matplotlib/pandas와 호환\n",
    "├── seaborn/                      # 1 - 주요 패키지 디렉토리\n",
    "│   ├── __init__.py               # 1.1 - 패키지 초기화, 필수 파일\n",
    "│   ├── api.py                    # 1.2 - 공개 API\n",
    "│   ├── axisgrid.py               # 1.3 - 축 그리드 관련 기능\n",
    "│   ├── catplot.py                # 1.4 - 카테고리형 플롯 관련 기능\n",
    "│   ├── color_palette.py          # 1.5 - 색상 팔레트 관련\n",
    "│   ├── constraints.py            # 1.6 - 플롯 제약조건 관련\n",
    "│   ├── displot.py                # 1.7 - 분포 플롯 관련\n",
    "│   ├── distribution.py           # 1.8 - 분포 관련 함수\n",
    "│   ├── ellipse.py                # 1.9 - 타원 관련\n",
    "│   ├── font.py                   # 1.10 - 폰트 설정 관련\n",
    "│   ├── histogram.py              # 1.11 - 히스토그램 관련\n",
    "│   ├── linearmodels.py           # 1.12 - 선형 모델 관련\n",
    "│   ├── map.py                    # 1.13 - 플로팅 맵 관련\n",
    "│   ├── palplot.py                # 1.14 - 팔레트 플롯 관련\n",
    "│   ├── pairplot.py               # 1.15 - 페어 플롯 관련\n",
    "│   ├── plot_utils.py             # 1.16 - 플롯 유틸리티\n",
    "│   ├── rcmod.py                  # 1.17 - Matplotlib rc 설정 수정\n",
    "│   ├── regression.py             # 1.18 - 회귀 분석 관련\n",
    "│   ├── scatterplot.py            # 1.19 - 산점도 플롯 관련\n",
    "│   ├── style.py                  # 1.20 - 스타일 관련 설정\n",
    "│   ├── swarmplot.py              # 1.21 - 스웜 플롯 관련\n",
    "│   └── utils.py                  # 1.22 - 유틸리티 함수\n",
    "├── examples/                    # 2 - 예제 코드\n",
    "│   ├── __init__.py              # 2.1 - 예제 초기화\n",
    "│   └── ...                      # 2.2 - 기타 예제 파일\n",
    "├── tests/                       # 3 - 테스트 코드\n",
    "│   ├── __init__.py              # 3.1 - 테스트 초기화\n",
    "│   ├── test_api.py              # 3.2 - API 테스트\n",
    "│   ├── test_color_palette.py    # 3.3 - 색상 팔레트 테스트\n",
    "│   ├── test_displot.py          # 3.4 - 분포 플롯 테스트\n",
    "│   └── ...                      # 3.5 - 기타 테스트 파일\n",
    "└── docs/                        # 4 - 문서\n",
    "    ├── __init__.py              # 4.1 - 문서 초기화\n",
    "    ├── conf.py                  # 4.2 - 문서 설정\n",
    "    └── index.rst                # 4.3 - 문서 시작 페이지\n"
   ]
  },
  {
   "cell_type": "markdown",
   "metadata": {},
   "source": [
    "# Scikit-learn"
   ]
  },
  {
   "cell_type": "code",
   "execution_count": null,
   "metadata": {},
   "outputs": [],
   "source": [
    "scikit-learn/                     # 머신러닝 라이브러리\n",
    "├── sklearn/                      # 1 - 주요 패키지 디렉토리\n",
    "│   ├── __init__.py               # 1.1 - 패키지 초기화, 필수 파일\n",
    "│   ├── base/                     # 1.2 - 기본 클래스 및 함수\n",
    "│   ├── cluster/                  # 1.3 - 군집화 알고리즘\n",
    "│   ├── compose/                  # 1.4 - 파이프라인 및 조합 기능\n",
    "│   ├── datasets/                 # 1.5 - 데이터셋 로딩 및 생성\n",
    "│   ├── decomposition/            # 1.6 - 차원 축소\n",
    "│   ├── ensemble/                 # 1.7 - 앙상블 학습\n",
    "│   ├── exceptions.py             # 1.8 - 예외 처리\n",
    "│   ├── feature_extraction/       # 1.9 - 특성 추출\n",
    "│   ├── feature_selection/        # 1.10 - 특성 선택\n",
    "│   ├── impute/                   # 1.11 - 결측값 처리\n",
    "│   ├── kernel_approximation/     # 1.12 - 커널 근사\n",
    "│   ├── linear_model/             # 1.13 - 선형 모델\n",
    "│   ├── metrics/                  # 1.14 - 성능 평가 지표\n",
    "│   ├── model_selection/          # 1.15 - 모델 선택 및 평가\n",
    "│   ├── multioutput/              # 1.16 - 다중 출력\n",
    "│   ├── neighbors/                # 1.17 - 이웃 기반 알고리즘\n",
    "│   ├── pipeline/                 # 1.18 - 파이프라인\n",
    "│   ├──.preprocessing/            # 1.19 - 데이터 전처리\n",
    "│   ├── random_projection/        # 1.20 - 랜덤 프로젝션\n",
    "│   ├── rigid_transform/          # 1.21 - 고정 변환\n",
    "│   ├── svm/                      # 1.22 - 서포트 벡터 머신\n",
    "│   ├── tree/                     # 1.23 - 트리 기반 알고리즘\n",
    "│   ├── __init__.py               # 1.24 - 패키지 초기화\n",
    "│   └── utils/                    # 1.25 - 유틸리티 함수\n",
    "├── examples/                    # 2 - 예제 코드\n",
    "│   ├── __init__.py              # 2.1 - 예제 초기화\n",
    "│   └── ...                      # 2.2 - 기타 예제 파일\n",
    "├── tests/                       # 3 - 테스트 코드\n",
    "│   ├── __init__.py              # 3.1 - 테스트 초기화\n",
    "│   ├── test_base.py             # 3.2 - 기본 클래스 테스트\n",
    "│   ├── test_cluster.py          # 3.3 - 군집화 알고리즘 테스트\n",
    "│   ├── test_model_selection.py  # 3.4 - 모델 선택 테스트\n",
    "│   └── ...                      # 3.5 - 기타 테스트 파일\n",
    "└── docs/                        # 4 - 문서\n",
    "    ├── __init__.py              # 4.1 - 문서 초기화\n",
    "    ├── conf.py                  # 4.2 - 문서 설정\n",
    "    └── index.rst                # 4.3 - 문서 시작 페이지\n"
   ]
  },
  {
   "cell_type": "markdown",
   "metadata": {},
   "source": [
    "머신러닝 알고리즘: 분류, 회귀, 군집화, 차원 축소, 모델 선택, 데이터 전처리 클러스터링 등 다양한 머신러닝 알고리즘을 제공합니다. 예를 들어, 선형 회귀, 로지스틱 회귀, 서포트 벡터 머신(SVM), 결정 트리, 랜덤 포레스트, K-평균 군집화 등이 있습니다.\n",
    "\n",
    "모델 선택 및 평가: 교차 검증, 하이퍼파라미터 조정, 성능 평가 지표 등 모델을 평가하고 선택할 수 있는 다양한 도구를 제공합니다.\n",
    "\n",
    "데이터 전처리: 데이터 정규화, 표준화, 특성 변환, 결측값 처리 등의 전처리 기능을 제공하여 모델 학습 전에 데이터를 준비할 수 있습니다.\n",
    "\n",
    "파이프라인: 데이터 전처리와 모델 학습 과정을 하나의 파이프라인으로 묶어 사용할 수 있어, 코드의 재사용성과 유지보수성 향상\n",
    "\n",
    "통계적 모델링: 통계적 모델링을 위한 다양한 기능을 제공하여, 통계적 가설 검정과 모델 적합성을 평가가능\n",
    "\n",
    "문서화 및 커뮤니티: 잘 문서화된 API와 넓은 커뮤니티 지원 덕분에, 학습 자료와 도움이 필요할 때 유용"
   ]
  },
  {
   "cell_type": "code",
   "execution_count": null,
   "metadata": {},
   "outputs": [],
   "source": [
    "# scikit-learn 코드 예제\n",
    "from sklearn import datasets # 데이터셋 불러오기용 \n",
    "from sklearn.model_selection import train_test_split # 데이터 분할용\n",
    "from sklearn.preprocessing import StandardScaler # 데이터 전처리(표준화)용\n",
    "from sklearn.linear_model import LogisticRegression # 로지스틱 회귀 모델\n",
    "from sklearn.metrics import accuracy_score, classification_report # 성능 평가 지표\n",
    "import numpy as np\n",
    "\n",
    "# 1. 데이터 로드\n",
    "iris = datasets.load_iris() # iris 데이터셋 로드\n",
    "X = iris.data # 특성 데이터\n",
    "y = iris.target # 타겟(레이블) 데이터\n",
    "\n",
    "# 2. 데이터 분할\n",
    "# train_test_split: 데이터를 학습용과 테스트용으로 분할\n",
    "# test_size=0.2: 전체 데이터의 20%를 테스트 데이터로 사용\n",
    "# random_state=42: 재현성을 위한 랜덤 시드 설정\n",
    "X_train, X_test, y_train, y_test = train_test_split(X, y, test_size=0.2, random_state=42)\n",
    "\n",
    "# 3. 데이터 전처리\n",
    "# StandardScaler: 데이터를 평균=0, 표준편차=1로 표준화\n",
    "scaler = StandardScaler()\n",
    "X_train_scaled = scaler.fit_transform(X_train) # 학습 데이터 표준화\n",
    "X_test_scaled = scaler.transform(X_test) # 테스트 데이터 표준화 \n",
    "\n",
    "# 4. 모델 생성 및 학습\n",
    "# LogisticRegression: 분류를 위한 로지스틱 회귀 모델\n",
    "# max_iter=200: 최대 반복 횟수 설정\n",
    "model = LogisticRegression(max_iter=200)\n",
    "model.fit(X_train_scaled, y_train) # 모델 학습\n",
    "\n",
    "# 5. 예측\n",
    "y_pred = model.predict(X_test_scaled) # 테스트 데이터로 예측 수행\n",
    "\n",
    "# 6. 모델 평가\n",
    "# accuracy_score: 정확도 계산 (정답률)\n",
    "accuracy = accuracy_score(y_test, y_pred)\n",
    "print(f'모델 정확도: {accuracy:.2f}')\n",
    "\n",
    "# classification_report: 분류 성능 평가 지표 출력\n",
    "# precision(정밀도), recall(재현율), f1-score 등을 보여줌\n",
    "print('\\n분류 리포트:')\n",
    "print(classification_report(y_test, y_pred, target_names=iris.target_names))"
   ]
  },
  {
   "cell_type": "code",
   "execution_count": 8,
   "metadata": {},
   "outputs": [
    {
     "data": {
      "text/plain": [
       "144"
      ]
     },
     "execution_count": 8,
     "metadata": {},
     "output_type": "execute_result"
    }
   ],
   "source": [
    "16*9"
   ]
  },
  {
   "cell_type": "markdown",
   "metadata": {},
   "source": [
    "---\n",
    "#  웹 애플리케이션 자동화 라이브러리\n",
    "---"
   ]
  },
  {
   "cell_type": "markdown",
   "metadata": {},
   "source": [
    "Selenium\n",
    "Puppeteer\n",
    "Playwright"
   ]
  },
  {
   "cell_type": "markdown",
   "metadata": {},
   "source": [
    "# Playwright"
   ]
  },
  {
   "cell_type": "markdown",
   "metadata": {},
   "source": [
    "1. **브라우저 자동화**:  Playwright는 Chrome, Firefox, Safari 등 여러 브라우저를 지원하여, 브라우저의 자동화 작업을 수행할 수 있습니다. \n",
    "2. **테스트 자동화**:  웹 애플리케이션의 기능을 자동으로 테스트할 수 있도록 지원합니다. 이를 통해 UI 테스트, 통합 테스트 등을 자동으로 수행할 수 있습니다.\n",
    "3. **다중 브라우저 지원**:  다양한 브라우저에서 동일한 테스트를 수행할 수 있어, 여러 브라우저에서의 호환성 문제를 검사할 수 있습니다.\n",
    "4. **헤드리스 모드**:  브라우저를 GUI 없이 백그라운드에서 실행할 수 있어, 서버 환경에서의 테스트나 자동화 작업에 유용합니다.\n",
    "5. **비동기 작업 지원**:  비동기적인 작업을 쉽게 처리할 수 있도록 설계되어 있어, 페이지 로딩이나 네트워크 요청 등의 비동기 작업을 쉽게 다룰 수 있습니다.\n",
    "6. **강력한 요소 선택**:  웹 페이지의 요소를 선택하고 조작하는 기능이 강력하여, 복잡한 DOM 구조를 가진 웹 페이지에서도 쉽게 테스트를 작성할 수 있습니다.  \n",
    "주로 웹 애플리케이션의 기능 테스트, 성능 테스트, 스크래핑 등을 위해 사용"
   ]
  },
  {
   "cell_type": "code",
   "execution_count": null,
   "metadata": {},
   "outputs": [],
   "source": [
    "## 예시"
   ]
  },
  {
   "cell_type": "markdown",
   "metadata": {},
   "source": [
    "---\n",
    "# 프레임워크\n",
    "---"
   ]
  },
  {
   "cell_type": "markdown",
   "metadata": {},
   "source": [
    "# TensorFlow"
   ]
  },
  {
   "cell_type": "markdown",
   "metadata": {},
   "source": [
    "딥러닝 프레임워크"
   ]
  },
  {
   "cell_type": "markdown",
   "metadata": {},
   "source": [
    "# PyTorch"
   ]
  },
  {
   "cell_type": "code",
   "execution_count": null,
   "metadata": {},
   "outputs": [],
   "source": [
    "# 딥러닝 프레임워크"
   ]
  },
  {
   "cell_type": "markdown",
   "metadata": {},
   "source": [
    "# QT"
   ]
  },
  {
   "cell_type": "markdown",
   "metadata": {},
   "source": [
    "---\n",
    "# \n",
    "---"
   ]
  },
  {
   "cell_type": "markdown",
   "metadata": {},
   "source": [
    "- 데이터분석\n",
    "- 머신러닝\n",
    "- 딥러닝\n",
    "- 웹개발"
   ]
  }
 ],
 "metadata": {
  "colab": {
   "authorship_tag": "ABX9TyMlOGrZWNz0UZU6GMIkFIt6",
   "collapsed_sections": [
    "ivr_61z32owo",
    "XeyNz7y5468P",
    "fjAq74C-VPfi",
    "KQ8vvhBvEOmf",
    "3lpR0BSQ1bHT",
    "RMUqZpZ3N_Xg",
    "10nNOB2Rag0j",
    "i4LXg8E4YJOG",
    "QoJ63T9sjIcN",
    "VdxhEp5wWEyX"
   ],
   "mount_file_id": "17YtNWL11JyexIF493tXq2bjllTgWGkRD",
   "provenance": [
    {
     "file_id": "1Id3bwSewdkpAKWwpxA86DXys6d7S-315",
     "timestamp": 1720231033601
    }
   ],
   "toc_visible": true
  },
  "kernelspec": {
   "display_name": "Python 3",
   "name": "python3"
  },
  "language_info": {
   "codemirror_mode": {
    "name": "ipython",
    "version": 3
   },
   "file_extension": ".py",
   "mimetype": "text/x-python",
   "name": "python",
   "nbconvert_exporter": "python",
   "pygments_lexer": "ipython3",
   "version": "3.11.8"
  }
 },
 "nbformat": 4,
 "nbformat_minor": 0
}
