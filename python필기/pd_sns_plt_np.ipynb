{
 "cells": [
  {
   "cell_type": "code",
   "execution_count": 1,
   "metadata": {},
   "outputs": [
    {
     "name": "stdout",
     "output_type": "stream",
     "text": [
      "Defaulting to user installation because normal site-packages is not writeable\n",
      "Requirement already satisfied: numpy in c:\\users\\user\\appdata\\roaming\\python\\python312\\site-packages (2.0.1)\n",
      "Note: you may need to restart the kernel to use updated packages.\n",
      "Defaulting to user installation because normal site-packages is not writeable\n",
      "Requirement already satisfied: pandas in c:\\users\\user\\appdata\\roaming\\python\\python312\\site-packages (2.2.2)\n",
      "Requirement already satisfied: numpy>=1.26.0 in c:\\users\\user\\appdata\\roaming\\python\\python312\\site-packages (from pandas) (2.0.1)\n",
      "Requirement already satisfied: python-dateutil>=2.8.2 in c:\\users\\user\\appdata\\roaming\\python\\python312\\site-packages (from pandas) (2.9.0.post0)\n",
      "Requirement already satisfied: pytz>=2020.1 in c:\\users\\user\\appdata\\roaming\\python\\python312\\site-packages (from pandas) (2024.1)\n",
      "Requirement already satisfied: tzdata>=2022.7 in c:\\users\\user\\appdata\\roaming\\python\\python312\\site-packages (from pandas) (2024.1)\n",
      "Requirement already satisfied: six>=1.5 in c:\\users\\user\\appdata\\roaming\\python\\python312\\site-packages (from python-dateutil>=2.8.2->pandas) (1.16.0)\n",
      "Note: you may need to restart the kernel to use updated packages.\n",
      "Defaulting to user installation because normal site-packages is not writeable\n",
      "Requirement already satisfied: matplotlib in c:\\users\\user\\appdata\\roaming\\python\\python312\\site-packages (3.9.1)\n",
      "Requirement already satisfied: contourpy>=1.0.1 in c:\\users\\user\\appdata\\roaming\\python\\python312\\site-packages (from matplotlib) (1.2.1)\n",
      "Requirement already satisfied: cycler>=0.10 in c:\\users\\user\\appdata\\roaming\\python\\python312\\site-packages (from matplotlib) (0.12.1)\n",
      "Requirement already satisfied: fonttools>=4.22.0 in c:\\users\\user\\appdata\\roaming\\python\\python312\\site-packages (from matplotlib) (4.53.1)\n",
      "Requirement already satisfied: kiwisolver>=1.3.1 in c:\\users\\user\\appdata\\roaming\\python\\python312\\site-packages (from matplotlib) (1.4.5)\n",
      "Requirement already satisfied: numpy>=1.23 in c:\\users\\user\\appdata\\roaming\\python\\python312\\site-packages (from matplotlib) (2.0.1)\n",
      "Requirement already satisfied: packaging>=20.0 in c:\\users\\user\\appdata\\roaming\\python\\python312\\site-packages (from matplotlib) (24.1)\n",
      "Requirement already satisfied: pillow>=8 in c:\\users\\user\\appdata\\roaming\\python\\python312\\site-packages (from matplotlib) (10.4.0)\n",
      "Requirement already satisfied: pyparsing>=2.3.1 in c:\\users\\user\\appdata\\roaming\\python\\python312\\site-packages (from matplotlib) (3.1.2)\n",
      "Requirement already satisfied: python-dateutil>=2.7 in c:\\users\\user\\appdata\\roaming\\python\\python312\\site-packages (from matplotlib) (2.9.0.post0)\n",
      "Requirement already satisfied: six>=1.5 in c:\\users\\user\\appdata\\roaming\\python\\python312\\site-packages (from python-dateutil>=2.7->matplotlib) (1.16.0)\n",
      "Note: you may need to restart the kernel to use updated packages.\n",
      "Defaulting to user installation because normal site-packages is not writeable\n",
      "Requirement already satisfied: seaborn in c:\\users\\user\\appdata\\roaming\\python\\python312\\site-packages (0.13.2)\n",
      "Requirement already satisfied: numpy!=1.24.0,>=1.20 in c:\\users\\user\\appdata\\roaming\\python\\python312\\site-packages (from seaborn) (2.0.1)\n",
      "Requirement already satisfied: pandas>=1.2 in c:\\users\\user\\appdata\\roaming\\python\\python312\\site-packages (from seaborn) (2.2.2)\n",
      "Requirement already satisfied: matplotlib!=3.6.1,>=3.4 in c:\\users\\user\\appdata\\roaming\\python\\python312\\site-packages (from seaborn) (3.9.1)\n",
      "Requirement already satisfied: contourpy>=1.0.1 in c:\\users\\user\\appdata\\roaming\\python\\python312\\site-packages (from matplotlib!=3.6.1,>=3.4->seaborn) (1.2.1)\n",
      "Requirement already satisfied: cycler>=0.10 in c:\\users\\user\\appdata\\roaming\\python\\python312\\site-packages (from matplotlib!=3.6.1,>=3.4->seaborn) (0.12.1)\n",
      "Requirement already satisfied: fonttools>=4.22.0 in c:\\users\\user\\appdata\\roaming\\python\\python312\\site-packages (from matplotlib!=3.6.1,>=3.4->seaborn) (4.53.1)\n",
      "Requirement already satisfied: kiwisolver>=1.3.1 in c:\\users\\user\\appdata\\roaming\\python\\python312\\site-packages (from matplotlib!=3.6.1,>=3.4->seaborn) (1.4.5)\n",
      "Requirement already satisfied: packaging>=20.0 in c:\\users\\user\\appdata\\roaming\\python\\python312\\site-packages (from matplotlib!=3.6.1,>=3.4->seaborn) (24.1)\n",
      "Requirement already satisfied: pillow>=8 in c:\\users\\user\\appdata\\roaming\\python\\python312\\site-packages (from matplotlib!=3.6.1,>=3.4->seaborn) (10.4.0)\n",
      "Requirement already satisfied: pyparsing>=2.3.1 in c:\\users\\user\\appdata\\roaming\\python\\python312\\site-packages (from matplotlib!=3.6.1,>=3.4->seaborn) (3.1.2)\n",
      "Requirement already satisfied: python-dateutil>=2.7 in c:\\users\\user\\appdata\\roaming\\python\\python312\\site-packages (from matplotlib!=3.6.1,>=3.4->seaborn) (2.9.0.post0)\n",
      "Requirement already satisfied: pytz>=2020.1 in c:\\users\\user\\appdata\\roaming\\python\\python312\\site-packages (from pandas>=1.2->seaborn) (2024.1)\n",
      "Requirement already satisfied: tzdata>=2022.7 in c:\\users\\user\\appdata\\roaming\\python\\python312\\site-packages (from pandas>=1.2->seaborn) (2024.1)\n",
      "Requirement already satisfied: six>=1.5 in c:\\users\\user\\appdata\\roaming\\python\\python312\\site-packages (from python-dateutil>=2.7->matplotlib!=3.6.1,>=3.4->seaborn) (1.16.0)\n",
      "Note: you may need to restart the kernel to use updated packages.\n"
     ]
    }
   ],
   "source": [
    "# pandas numpy matpltlib seaborn 라이브러리 설치\n",
    "%pip install numpy\n",
    "%pip install pandas\n",
    "%pip install matplotlib\n",
    "%pip install seaborn\n",
    "%pip install sklearn\n",
    "# 주피터노트북에서는 !pip 대신 %pip install 사용"
   ]
  },
  {
   "cell_type": "markdown",
   "metadata": {},
   "source": [
    "---\n",
    "# Numpy\n",
    "---"
   ]
  },
  {
   "cell_type": "markdown",
   "metadata": {},
   "source": [
    "데이터 과학 분야에서 방대한 데이터 처리, 딥러닝 운용의 기반이 되는 파이썬 라이브러리  \n",
    "대규모 다차원 배열, 행렬 데이터 처리를 위한 수치 연산을 지원  \n",
    "내부적으로 C언어로 구현이 되어있어 속도가 매우빠르고 메모리를 최소한으로 유지  "
   ]
  },
  {
   "cell_type": "code",
   "execution_count": 1,
   "metadata": {},
   "outputs": [],
   "source": [
    "import numpy as np"
   ]
  },
  {
   "cell_type": "code",
   "execution_count": 17,
   "metadata": {},
   "outputs": [
    {
     "name": "stdout",
     "output_type": "stream",
     "text": [
      "[1 2 3]\n",
      "[[1 2 3]\n",
      " [4 5 6]]\n",
      "[[[1 2 3]\n",
      "  [4 5 6]\n",
      "  [7 8 9]]]\n",
      "<class 'numpy.ndarray'>\n"
     ]
    }
   ],
   "source": [
    "# 1,2,3차원 배열 생성\n",
    "ar = [1,2,3],  [[1,2,3],[4,5,6]],  [[[1,2,3],[4,5,6],[7,8,9]]]\n",
    "for i in map(np.array, ar): print(i)\n",
    "\n",
    "# 배열 축 차원 행렬 텐서\n",
    "\n",
    "# 차원과 크기 변경\n",
    "# np.reshape()\n",
    "# 데이터 세트 선택 인덱싱\n",
    "# 행렬의 정렬\n",
    "# np.sort()\n",
    "# np.argsort()\n",
    "# 선형대수 연산 - 행렬 내적과 전치행렬\n",
    "# 배열 간 사칙연산\n",
    "# Broadcasting\n",
    "# 집계(Aggregation)\n",
    "    # 합계\n",
    "    # 평균\n",
    "    # 곱셈\n",
    "    # 최대값 최솟값\n",
    "    # 표준편차와 분산\n"
   ]
  },
  {
   "cell_type": "markdown",
   "metadata": {},
   "source": [
    "---\n",
    "# Pandas\n",
    "---"
   ]
  },
  {
   "cell_type": "code",
   "execution_count": 2,
   "metadata": {},
   "outputs": [],
   "source": [
    "import os\n",
    "import numpy as np\n",
    "import pandas as pd\n",
    "import matplotlib.pyplot as plt\n",
    "import seaborn as sns\n",
    "import sklearn\n",
    "# pyarrow 가 뭐였나 서치\n",
    "# pd\n",
    "# pd.__version__\n",
    "# np\n",
    "# np.__version__ㅌ\n",
    "# sns\n",
    "# sns.__version__\n",
    "# sklearn\n",
    "# sklearn.__version__\n",
    "# 설치 경로와 버전확인"
   ]
  },
  {
   "cell_type": "code",
   "execution_count": 3,
   "metadata": {},
   "outputs": [
    {
     "name": "stdout",
     "output_type": "stream",
     "text": [
      "a    1\n",
      "b    2\n",
      "c    3\n",
      "dtype: int64 <class 'pandas.core.series.Series'>\n"
     ]
    },
    {
     "data": {
      "text/plain": [
       "a    1\n",
       "b    2\n",
       "c    3\n",
       "dtype: int64"
      ]
     },
     "execution_count": 3,
     "metadata": {},
     "output_type": "execute_result"
    }
   ],
   "source": [
    "# dict Series 변환\n",
    "dict_data = {'a': 1, 'b': 2, 'c': 3}\n",
    "sr = pd.Series(dict_data)\n",
    "print(sr, type(sr))\n",
    "sr\n",
    "# 키값은 행인덱스 시리즈는 열이 된다."
   ]
  },
  {
   "cell_type": "code",
   "execution_count": 4,
   "metadata": {},
   "outputs": [
    {
     "name": "stdout",
     "output_type": "stream",
     "text": [
      "sr:\n",
      " 0    2024-09-09\n",
      "1          3.14\n",
      "2           ABC\n",
      "3           100\n",
      "4          True\n",
      "dtype: object\n",
      "sr.index: RangeIndex(start=0, stop=5, step=1) \n",
      "sr.values: ['2024-09-09' 3.14 'ABC' 100 True] \n",
      "sr.dtype: object \n",
      "len(sr): 5 \n",
      "sr.shape: (5,) \n",
      "sr.ndim: 1\n"
     ]
    }
   ],
   "source": [
    "# list Series 변환\n",
    "lst_data = ['2024-09-09', 3.14, 'ABC', 100, True]\n",
    "sr  = pd.Series(lst_data)\n",
    "print('sr:\\n',sr)\n",
    "print('sr.index:',sr.index, # 인덱스 배열\n",
    "      '\\nsr.values:', sr.values, # 데이터 값 배열\n",
    "      '\\nsr.dtype:', sr.dtype, # 구성 원소 자료형\n",
    "      '\\nlen(sr):', len(sr), # 배열의 크기\n",
    "      '\\nsr.shape:', sr.shape, # 배열의 형태 : (5, ) 1차원에 5개요소\n",
    "      '\\nsr.ndim:', sr.ndim, # 배열의 차원 : 1차원\n",
    "      )"
   ]
  },
  {
   "cell_type": "code",
   "execution_count": 5,
   "metadata": {},
   "outputs": [
    {
     "name": "stdout",
     "output_type": "stream",
     "text": [
      "np_array:\n",
      " ['2024-09-09' '3.14' 'ABC' '100' 'True']\n",
      "np_sr.index: Index(['생년월일', 'pi', '알파벳', '정수', '참'], dtype='object') \n",
      "sr.values: ['2024-09-09' '3.14' 'ABC' '100' 'True'] \n",
      "sr.dtype: object \n",
      "len(np_sr): 5 \n",
      "sr.shape: (5,) \n",
      "sr.ndim: 1\n"
     ]
    }
   ],
   "source": [
    "# numpy 배열 Series 변환\n",
    "np_array = np.array(lst_data)\n",
    "print('np_array:\\n',np_array)\n",
    "np_sr = pd.Series(np_array, index=['생년월일', 'pi', '알파벳', '정수', '참'])\n",
    "print('np_sr.index:',np_sr.index, # 인덱스 배열\n",
    "      '\\nsr.values:', np_sr.values, # 데이터 값 배열\n",
    "      '\\nsr.dtype:', np_sr.dtype, # 구성 원소 자료형\n",
    "      '\\nlen(np_sr):', len(np_sr), # 배열의 크기\n",
    "      '\\nsr.shape:', np_sr.shape, # 배열의 형태 : (5, ) 1차원에 5개요소\n",
    "      '\\nsr.ndim:', np_sr.ndim, # 배열의 차원 : 1차원\n",
    "      )"
   ]
  },
  {
   "cell_type": "code",
   "execution_count": 6,
   "metadata": {},
   "outputs": [
    {
     "name": "stdout",
     "output_type": "stream",
     "text": [
      "\n",
      "np_sr.iloc[0]:\n",
      " 2024-09-09\n",
      "\n",
      "np_sr.iloc[[1,3]]:\n",
      " pi    3.14\n",
      "정수     100\n",
      "dtype: object\n",
      "\n",
      "np_sr.loc['생년월일']:\n",
      " 2024-09-09\n",
      "\n",
      "np_sr.loc[['생년월일','정수']]:\n",
      " 생년월일    2024-09-09\n",
      "정수             100\n",
      "dtype: object\n",
      "\n",
      "np_sr.loc['생년월일':'정수']:\n",
      " 생년월일    2024-09-09\n",
      "pi            3.14\n",
      "알파벳            ABC\n",
      "정수             100\n",
      "dtype: object\n"
     ]
    }
   ],
   "source": [
    "# 원소 선택\n",
    "print('\\nnp_sr.iloc[0]:\\n',np_sr.iloc[0])\n",
    "print('\\nnp_sr.iloc[[1,3]]:\\n',np_sr.iloc[[1,3]])\n",
    "print(\"\\nnp_sr.loc['생년월일']:\\n\",np_sr.loc['생년월일'])\n",
    "print(\"\\nnp_sr.loc[['생년월일','정수']]:\\n\",np_sr.loc[['생년월일','정수']])\n",
    "\n",
    "print(\"\\nnp_sr.loc['생년월일':'정수']:\\n\",np_sr.loc['생년월일':'정수'])"
   ]
  }
 ],
 "metadata": {
  "kernelspec": {
   "display_name": "Python 3",
   "language": "python",
   "name": "python3"
  },
  "language_info": {
   "codemirror_mode": {
    "name": "ipython",
    "version": 3
   },
   "file_extension": ".py",
   "mimetype": "text/x-python",
   "name": "python",
   "nbconvert_exporter": "python",
   "pygments_lexer": "ipython3",
   "version": "3.12.4"
  }
 },
 "nbformat": 4,
 "nbformat_minor": 2
}
